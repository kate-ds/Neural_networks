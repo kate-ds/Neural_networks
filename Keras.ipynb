{
  "nbformat": 4,
  "nbformat_minor": 0,
  "metadata": {
    "colab": {
      "name": "Web2.ipynb",
      "provenance": [],
      "collapsed_sections": [],
      "toc_visible": true
    },
    "kernelspec": {
      "display_name": "Python 3",
      "language": "python",
      "name": "python3"
    },
    "language_info": {
      "codemirror_mode": {
        "name": "ipython",
        "version": 3
      },
      "file_extension": ".py",
      "mimetype": "text/x-python",
      "name": "python",
      "nbconvert_exporter": "python",
      "pygments_lexer": "ipython3",
      "version": "3.6.8"
    },
    "accelerator": "GPU"
  },
  "cells": [
    {
      "cell_type": "markdown",
      "metadata": {
        "id": "XvhEhpGm9U8z"
      },
      "source": [
        "# Введение в искусственные нейронные сети\n",
        "# Урок 2. Keras"
      ]
    },
    {
      "cell_type": "markdown",
      "metadata": {
        "id": "LmKjkEH-9U84"
      },
      "source": [
        "## Содержание методического пособия:\n",
        "\n",
        "\n",
        "<ol>\n",
        "<li>Способы создания нейросетей</li>\n",
        "<li>Что такое Keras</li>\n",
        "<li>Основы синтаксиса</li>\n",
        "<li>Простая нейросеть на Keras</li>\n",
        "<li>Оптимизаторы</li>\n",
        "<li>Callback'и</li>\n",
        "</ol>"
      ]
    },
    {
      "cell_type": "markdown",
      "metadata": {
        "id": "9gV6aaON9U86"
      },
      "source": [
        "## Способы создания нейросетей\n",
        "\n",
        "Нейросети это математические модели. Программируя на любом языке можно решать задачи, связанные с математикой. Однако встает вопрос, какой язык подойдет для этого больше? Не считая учебных нейросетей, нейросети как правило работают с большим количеством данных. Поэтому, чтобы обучение нейросетей происходило с приемлимой скоростью нужно использовать быстрый язык. Например Си. Но так как язык Си - это язык с низким уровнем абстракции, то программировать и модифицировать на нем нейросети было бы крайне затруднительно. \n",
        "\n",
        "Хорошо может подойти для этих целей язык Python. Так как он с одной стороны имеет высокий уровень абстракции, с другой стороны операции с массивами данных могут сделать его библиотеки, написанные на Си. Таким способом мы пользовались на первом уроке. Однако, если писать нейросети таким образом, то будет много повторяющегося кода, поскольку архитектуры нейросетей остаются одинаковыми и, зачастую, у них только меняются параметры. Кроме этого нам может понадобиться хорошо знать архитектуры самых разных нейронных сетей, чтобы реализовать их вручную. Работа таким образом затруднительна для людей, не имеющих достаточной подготовки, а для имеющих может быть наоборот рутиной.\n",
        "\n",
        "Существуют фреймворки для созданий нейронных сетей. Они являются, пожалуй основным рабочим способом создания нейронных сетей. Вот их неполный перечень:\n",
        "\n",
        "1. TensorFlow\n",
        "2. PyTorch\n",
        "3. Keras\n",
        "4. Microsoft Cognitive Toolkit (CNTK)\n",
        "5. Caffe\n",
        "\n",
        "<img src='https://drive.google.com/uc?export=view&id=1Udb8e5TQCRgaaiSje8sCks8M2Rw-UcpV'>"
      ]
    },
    {
      "cell_type": "markdown",
      "metadata": {
        "id": "lJzIJYo-JXOW"
      },
      "source": [
        "Все эти инструменты отранжированы в порядке возрастания уровня абстракции. Соответственно, говоря о плюсах и минусах того или иного инструмента, мы должны понимать, в принципе плюсы и минусы повышения уровня абстракции. Чем он выше, тем меньше производительность, и тем меньше его гибкость и, наоборот.\n",
        "\n",
        "Самый популярный фреймворк для создания нейросетей TensorFlow. Самый популярный для обучения - Keras. На этом уроке мы изучим с вами Keras, а на следующим TensorFlow. Также стоит отметить, что эти фреймворки взаимосвязаны - Keras как правило работает поверх TensorFlow, а сам TensorFlow позволяет пользовать средствами Keras при необходимости."
      ]
    },
    {
      "cell_type": "markdown",
      "metadata": {
        "id": "b1uUklH29U88"
      },
      "source": [
        "## Что такое Keras\n",
        "\n",
        "Keras появился относительно недавно - в 2015 г. Но за это время стал одним из самых популярных фреймворков для создания нейросетей и фактически стандартом для использования его начинающими.\n",
        "\n",
        "В чем причина его популярности? Keras позволяет создавать на высоком уровне абстракции. Т.е. не нужно вручную реализовать с помощью математикаподобного кода те или иные элементы нейронной сети. Мы можем оперировать слоями, количеством нейронов в них, выбором функции активации и т.д. В то же время keras содержит инструментарий для всего того, что может понадобиться для работы - например ряд встроенных датасетов, возможность обрабатывать изображения.\n",
        "\n",
        "В техническом плане Keras это оболочка над инструментами меньшей степени абстракции. На выбор он может работать поверх TensorFlow, Microsoft Cognitive Toolkit, Theano.\n",
        "\n",
        "Keras как и любой высокоабстрактный инструмент имеет изъяны в качестве меньшей гибкости и производительности, чем тот же tensorflow.\n",
        "\n",
        "Стоит также отметить, что Google официально поддерживает Keras, его автор François Chollet, является сотрудником Google. TensorFlow сам в свою очередь позволяет использовать возможности Keras, т.е. в нем заложена возможность переходить на более высокой уровень абстракции.\n",
        "\n",
        "В данном уроке мы с вами рассмотрим пример обучения нейронной сети с помощью Keras. Но прежде давайте посмотрим на основы синтаксиса Keras и стандартные задачи, которые нужно выполнить при обучении нейронной сети."
      ]
    },
    {
      "cell_type": "markdown",
      "metadata": {
        "id": "iRJ_I6hu9U8-"
      },
      "source": [
        "## Основы синтаксиса"
      ]
    },
    {
      "cell_type": "markdown",
      "metadata": {
        "id": "Sars-tTz9U9A"
      },
      "source": [
        "**Установка и работа с данными**"
      ]
    },
    {
      "cell_type": "markdown",
      "metadata": {
        "id": "8w3sHXOV9U9B"
      },
      "source": [
        "Для начала необходимо установить keras."
      ]
    },
    {
      "cell_type": "code",
      "metadata": {
        "id": "05hfRCv09U9D"
      },
      "source": [
        "# !pip install keras"
      ],
      "execution_count": null,
      "outputs": []
    },
    {
      "cell_type": "code",
      "metadata": {
        "colab": {
          "base_uri": "https://localhost:8080/",
          "height": 36
        },
        "id": "zR9dvBWLJdfa",
        "outputId": "d77401b0-5e5d-4c93-ca01-ed1bd5d48867"
      },
      "source": [
        "import keras\n",
        "keras.__version__"
      ],
      "execution_count": null,
      "outputs": [
        {
          "output_type": "execute_result",
          "data": {
            "application/vnd.google.colaboratory.intrinsic+json": {
              "type": "string"
            },
            "text/plain": [
              "'2.7.0'"
            ]
          },
          "metadata": {},
          "execution_count": 47
        }
      ]
    },
    {
      "cell_type": "code",
      "metadata": {
        "colab": {
          "base_uri": "https://localhost:8080/",
          "height": 36
        },
        "id": "3fwDFMMPJDFE",
        "outputId": "ea607472-67c4-41a9-c402-dacab1b41e6d"
      },
      "source": [
        "keras.backend.backend()"
      ],
      "execution_count": null,
      "outputs": [
        {
          "output_type": "execute_result",
          "data": {
            "application/vnd.google.colaboratory.intrinsic+json": {
              "type": "string"
            },
            "text/plain": [
              "'tensorflow'"
            ]
          },
          "metadata": {},
          "execution_count": 2
        }
      ]
    },
    {
      "cell_type": "markdown",
      "metadata": {
        "id": "EAwWzAS29U9F"
      },
      "source": [
        "Давайте попробуем получить датасет mnist и проанализировать его содержимое."
      ]
    },
    {
      "cell_type": "code",
      "metadata": {
        "colab": {
          "base_uri": "https://localhost:8080/"
        },
        "id": "p6MGnz8EJoaW",
        "outputId": "d240ac1a-b41f-44a8-fb79-e8f18f11db59"
      },
      "source": [
        "import matplotlib.pyplot as plt\n",
        "\n",
        "from keras.datasets import mnist\n",
        "import numpy as np\n",
        "\n",
        "\n",
        "(X_train, y_train_labels), (X_test, y_test_labels) = mnist.load_data()\n",
        "\n",
        "print(X_train.shape, X_test.shape)\n",
        "print(y_train_labels.shape)"
      ],
      "execution_count": null,
      "outputs": [
        {
          "output_type": "stream",
          "name": "stdout",
          "text": [
            "Downloading data from https://storage.googleapis.com/tensorflow/tf-keras-datasets/mnist.npz\n",
            "11493376/11490434 [==============================] - 0s 0us/step\n",
            "11501568/11490434 [==============================] - 0s 0us/step\n",
            "(60000, 28, 28) (10000, 28, 28)\n",
            "(60000,)\n"
          ]
        }
      ]
    },
    {
      "cell_type": "code",
      "metadata": {
        "colab": {
          "base_uri": "https://localhost:8080/",
          "height": 282
        },
        "id": "lMcBd9o8LmLH",
        "outputId": "4cafae1b-c02e-45e9-fb89-f71397b20cf6"
      },
      "source": [
        "ind = np.random.randint(0, X_train.shape[0])\n",
        "plt.imshow(X_train[ind], cmap='gray')\n",
        "print(f'Label is {y_train_labels[ind]}')"
      ],
      "execution_count": null,
      "outputs": [
        {
          "output_type": "stream",
          "name": "stdout",
          "text": [
            "Label is 3\n"
          ]
        },
        {
          "output_type": "display_data",
          "data": {
            "image/png": "[encoded data removed]",
            "text/plain": [
              "<Figure size 432x288 with 1 Axes>"
            ]
          },
          "metadata": {
            "needs_background": "light"
          }
        }
      ]
    },
    {
      "cell_type": "markdown",
      "metadata": {
        "id": "DZiKILQd9U9L"
      },
      "source": [
        "В нашем случае наш тренировочный датасет состоит из 60 000 изображений и тестовый из 10 000 и они поделены по умолчанию.\n",
        "\n",
        "Нам теперь нужно конверитировать значения пикселей из вида от 0 до 255 в набор значений от 0 до 1.\n",
        "\n",
        "<img src='https://slideplayer.com/slide/13293044/79/images/9/Data+Normalization+Normalizing+the+data+make+neural+network+easier+to+learn..jpg'>\n",
        "\n"
      ]
    },
    {
      "cell_type": "code",
      "metadata": {
        "colab": {
          "base_uri": "https://localhost:8080/"
        },
        "id": "WBuaTmSTKW-V",
        "outputId": "7032ad55-cd8f-4d0a-de35-7e5027f557bf"
      },
      "source": [
        "X_train.min(), X_train.max()"
      ],
      "execution_count": null,
      "outputs": [
        {
          "output_type": "execute_result",
          "data": {
            "text/plain": [
              "(0, 255)"
            ]
          },
          "metadata": {},
          "execution_count": 5
        }
      ]
    },
    {
      "cell_type": "code",
      "metadata": {
        "colab": {
          "base_uri": "https://localhost:8080/"
        },
        "id": "M6s8m-_8MEwx",
        "outputId": "25ddd62c-7a80-41af-93e1-bbbbb6464642"
      },
      "source": [
        "# Нормировка\n",
        "X_train = X_train / 255.0\n",
        "X_test = X_test / 255.0\n",
        "X_train.min(), X_train.max()"
      ],
      "execution_count": null,
      "outputs": [
        {
          "output_type": "execute_result",
          "data": {
            "text/plain": [
              "(0.0, 1.0)"
            ]
          },
          "metadata": {},
          "execution_count": 6
        }
      ]
    },
    {
      "cell_type": "code",
      "metadata": {
        "colab": {
          "base_uri": "https://localhost:8080/"
        },
        "id": "L4loJteUNIAp",
        "outputId": "04b5b278-82ec-4104-e68b-62557484bbd9"
      },
      "source": [
        "# Вытягивание признаков\n",
        "X_train = X_train.reshape((-1, 28 * 28))\n",
        "X_test = X_test.reshape((-1, 28 * 28))\n",
        "\n",
        "X_train.shape, X_test.shape"
      ],
      "execution_count": null,
      "outputs": [
        {
          "output_type": "execute_result",
          "data": {
            "text/plain": [
              "((60000, 784), (10000, 784))"
            ]
          },
          "metadata": {},
          "execution_count": 7
        }
      ]
    },
    {
      "cell_type": "code",
      "source": [
        "X_train"
      ],
      "metadata": {
        "colab": {
          "base_uri": "https://localhost:8080/"
        },
        "id": "8zjWkJsDbIR9",
        "outputId": "c9521e2b-6992-49c9-92f9-d57e1ca929c7"
      },
      "execution_count": null,
      "outputs": [
        {
          "output_type": "execute_result",
          "data": {
            "text/plain": [
              "array([[0., 0., 0., ..., 0., 0., 0.],\n",
              "       [0., 0., 0., ..., 0., 0., 0.],\n",
              "       [0., 0., 0., ..., 0., 0., 0.],\n",
              "       ...,\n",
              "       [0., 0., 0., ..., 0., 0., 0.],\n",
              "       [0., 0., 0., ..., 0., 0., 0.],\n",
              "       [0., 0., 0., ..., 0., 0., 0.]])"
            ]
          },
          "metadata": {},
          "execution_count": 48
        }
      ]
    },
    {
      "cell_type": "markdown",
      "metadata": {
        "id": "jnUt9U3_9U9x"
      },
      "source": [
        "## Простая нейросеть на Keras"
      ]
    },
    {
      "cell_type": "markdown",
      "metadata": {
        "id": "Y6btW5Oz9U9W"
      },
      "source": [
        "### **Создание модели**"
      ]
    },
    {
      "cell_type": "markdown",
      "metadata": {
        "id": "jgVdsO619U9Y"
      },
      "source": [
        "После первичной подготовки данных дальше как правило следует создание модели нейронной сети, которая будет учиться на этих данных.\n",
        "\n",
        "Ниже типичный код учебной нейросети."
      ]
    },
    {
      "cell_type": "code",
      "metadata": {
        "colab": {
          "base_uri": "https://localhost:8080/"
        },
        "id": "n4d7k7H6ScCz",
        "outputId": "3a74b8b8-4351-46e2-8db9-586efdf227f3"
      },
      "source": [
        "from keras.layers import Dense\n",
        "from keras.models import Sequential\n",
        "\n",
        "\n",
        "# define the keras model\n",
        "model = Sequential()\n",
        "model.add(Dense(5, input_shape=(10,), activation='relu'))\n",
        "model.add(Dense(1, activation='sigmoid'))\n",
        "\n",
        "model.summary()"
      ],
      "execution_count": null,
      "outputs": [
        {
          "output_type": "stream",
          "name": "stdout",
          "text": [
            "Model: \"sequential\"\n",
            "_________________________________________________________________\n",
            " Layer (type)                Output Shape              Param #   \n",
            "=================================================================\n",
            " dense (Dense)               (None, 5)                 55        \n",
            "                                                                 \n",
            " dense_1 (Dense)             (None, 1)                 6         \n",
            "                                                                 \n",
            "=================================================================\n",
            "Total params: 61\n",
            "Trainable params: 61\n",
            "Non-trainable params: 0\n",
            "_________________________________________________________________\n"
          ]
        }
      ]
    },
    {
      "cell_type": "markdown",
      "metadata": {
        "id": "lb6IkKpN9U9c"
      },
      "source": [
        "Давайте разберемся с теми командами, которые нам встетились в этом коде.\n",
        "\n",
        "Sequential - позволяет создать нейросети, где слои строятся последовательно. Сигнал в них передается от одного слоя к другому. В противовес этой разновидности есть нейросети, где сигнал может не сразу передаваться в следующий слой. Такие нейросети мы разберем в следующих уроках.\n",
        "\n",
        "Dense - позволяет каждому нейрону быть связанному с другим нейронном. В противовес этому может быть необходимость не делать так много связей. Неполносвязнные архитектуры мы также разберем на этом курсе, они основа компьютерного зрения.\n",
        "\n",
        "Цифры 5, 1 обозначают количество нейронов в каждом конкретном слое\n",
        "\n",
        "Activation - позволяет определить формулу по которой будет активироваться нейрон."
      ]
    },
    {
      "cell_type": "markdown",
      "metadata": {
        "id": "x-EtjCLMSijt"
      },
      "source": [
        "Давайте попробуем обучить нейросеть различать рукописные цифры."
      ]
    },
    {
      "cell_type": "code",
      "metadata": {
        "colab": {
          "base_uri": "https://localhost:8080/"
        },
        "id": "aB40PpZ5Nu7v",
        "outputId": "126d6960-6173-4f8a-e3ee-d14ce09f90bf"
      },
      "source": [
        "model = Sequential()\n",
        "model.add(Dense(64, input_shape=(28 * 28,), activation='relu'))\n",
        "model.add(Dense(32, activation='relu'))\n",
        "model.add(Dense(10, activation='sigmoid'))\n",
        "\n",
        "model.summary()"
      ],
      "execution_count": null,
      "outputs": [
        {
          "output_type": "stream",
          "name": "stdout",
          "text": [
            "Model: \"sequential_1\"\n",
            "_________________________________________________________________\n",
            " Layer (type)                Output Shape              Param #   \n",
            "=================================================================\n",
            " dense_2 (Dense)             (None, 64)                50240     \n",
            "                                                                 \n",
            " dense_3 (Dense)             (None, 32)                2080      \n",
            "                                                                 \n",
            " dense_4 (Dense)             (None, 10)                330       \n",
            "                                                                 \n",
            "=================================================================\n",
            "Total params: 52,650\n",
            "Trainable params: 52,650\n",
            "Non-trainable params: 0\n",
            "_________________________________________________________________\n"
          ]
        }
      ]
    },
    {
      "cell_type": "code",
      "metadata": {
        "colab": {
          "base_uri": "https://localhost:8080/"
        },
        "id": "krP76FRIRfnW",
        "outputId": "167f0891-f51d-45d8-b7f7-13371dbd3b04"
      },
      "source": [
        "# is the same\n",
        "model = Sequential([\n",
        "    Dense(64, input_shape=(28 * 28,), activation='relu'),\n",
        "    Dense(32, activation='relu'),\n",
        "    Dense(10, activation='sigmoid')\n",
        "])\n",
        "\n",
        "model.summary()"
      ],
      "execution_count": null,
      "outputs": [
        {
          "output_type": "stream",
          "name": "stdout",
          "text": [
            "Model: \"sequential_13\"\n",
            "_________________________________________________________________\n",
            " Layer (type)                Output Shape              Param #   \n",
            "=================================================================\n",
            " dense_37 (Dense)            (None, 64)                50240     \n",
            "                                                                 \n",
            " dense_38 (Dense)            (None, 32)                2080      \n",
            "                                                                 \n",
            " dense_39 (Dense)            (None, 10)                330       \n",
            "                                                                 \n",
            "=================================================================\n",
            "Total params: 52,650\n",
            "Trainable params: 52,650\n",
            "Non-trainable params: 0\n",
            "_________________________________________________________________\n"
          ]
        }
      ]
    },
    {
      "cell_type": "code",
      "metadata": {
        "colab": {
          "base_uri": "https://localhost:8080/",
          "height": 369
        },
        "id": "E3fc6f4tR0T2",
        "outputId": "be3b080b-b724-483b-bed3-f997abccb7e2"
      },
      "source": [
        "from keras.utils.vis_utils import plot_model\n",
        "\n",
        "plot_model(model)"
      ],
      "execution_count": null,
      "outputs": [
        {
          "output_type": "execute_result",
          "data": {
            "image/png": "[encoded data removed]",
            "text/plain": [
              "<IPython.core.display.Image object>"
            ]
          },
          "metadata": {},
          "execution_count": 51
        }
      ]
    },
    {
      "cell_type": "code",
      "metadata": {
        "colab": {
          "base_uri": "https://localhost:8080/"
        },
        "id": "nC-XItTxSB0p",
        "outputId": "5b33890c-df32-4b96-df24-59d0d21df4a5"
      },
      "source": [
        "config = model.get_config()\n",
        "config"
      ],
      "execution_count": null,
      "outputs": [
        {
          "output_type": "execute_result",
          "data": {
            "text/plain": [
              "{'layers': [{'class_name': 'InputLayer',\n",
              "   'config': {'batch_input_shape': (None, 784),\n",
              "    'dtype': 'float32',\n",
              "    'name': 'dense_5_input',\n",
              "    'ragged': False,\n",
              "    'sparse': False}},\n",
              "  {'class_name': 'Dense',\n",
              "   'config': {'activation': 'relu',\n",
              "    'activity_regularizer': None,\n",
              "    'batch_input_shape': (None, 784),\n",
              "    'bias_constraint': None,\n",
              "    'bias_initializer': {'class_name': 'Zeros', 'config': {}},\n",
              "    'bias_regularizer': None,\n",
              "    'dtype': 'float32',\n",
              "    'kernel_constraint': None,\n",
              "    'kernel_initializer': {'class_name': 'GlorotUniform',\n",
              "     'config': {'seed': None}},\n",
              "    'kernel_regularizer': None,\n",
              "    'name': 'dense_5',\n",
              "    'trainable': True,\n",
              "    'units': 64,\n",
              "    'use_bias': True}},\n",
              "  {'class_name': 'Dense',\n",
              "   'config': {'activation': 'relu',\n",
              "    'activity_regularizer': None,\n",
              "    'bias_constraint': None,\n",
              "    'bias_initializer': {'class_name': 'Zeros', 'config': {}},\n",
              "    'bias_regularizer': None,\n",
              "    'dtype': 'float32',\n",
              "    'kernel_constraint': None,\n",
              "    'kernel_initializer': {'class_name': 'GlorotUniform',\n",
              "     'config': {'seed': None}},\n",
              "    'kernel_regularizer': None,\n",
              "    'name': 'dense_6',\n",
              "    'trainable': True,\n",
              "    'units': 32,\n",
              "    'use_bias': True}},\n",
              "  {'class_name': 'Dense',\n",
              "   'config': {'activation': 'sigmoid',\n",
              "    'activity_regularizer': None,\n",
              "    'bias_constraint': None,\n",
              "    'bias_initializer': {'class_name': 'Zeros', 'config': {}},\n",
              "    'bias_regularizer': None,\n",
              "    'dtype': 'float32',\n",
              "    'kernel_constraint': None,\n",
              "    'kernel_initializer': {'class_name': 'GlorotUniform',\n",
              "     'config': {'seed': None}},\n",
              "    'kernel_regularizer': None,\n",
              "    'name': 'dense_7',\n",
              "    'trainable': True,\n",
              "    'units': 10,\n",
              "    'use_bias': True}}],\n",
              " 'name': 'sequential_2'}"
            ]
          },
          "metadata": {},
          "execution_count": 12
        }
      ]
    },
    {
      "cell_type": "code",
      "metadata": {
        "id": "W8AWxvh-JL2e",
        "colab": {
          "base_uri": "https://localhost:8080/"
        },
        "outputId": "78939173-ce6a-4712-fbc5-f6102c208f91"
      },
      "source": [
        "model = Sequential([\n",
        "    Dense(6, input_shape=(28 * 28,), activation='relu'),\n",
        "    Dense(1, activation='sigmoid')\n",
        "])\n",
        "\n",
        "model.summary()"
      ],
      "execution_count": null,
      "outputs": [
        {
          "output_type": "stream",
          "name": "stdout",
          "text": [
            "Model: \"sequential_3\"\n",
            "_________________________________________________________________\n",
            " Layer (type)                Output Shape              Param #   \n",
            "=================================================================\n",
            " dense_8 (Dense)             (None, 6)                 4710      \n",
            "                                                                 \n",
            " dense_9 (Dense)             (None, 1)                 7         \n",
            "                                                                 \n",
            "=================================================================\n",
            "Total params: 4,717\n",
            "Trainable params: 4,717\n",
            "Non-trainable params: 0\n",
            "_________________________________________________________________\n"
          ]
        }
      ]
    },
    {
      "cell_type": "code",
      "metadata": {
        "id": "shppTOWBJCrZ",
        "colab": {
          "base_uri": "https://localhost:8080/"
        },
        "outputId": "3c404e46-f6ac-4982-8afa-94ec79b0ed4a"
      },
      "source": [
        "model = model.from_config(config)\n",
        "model.summary()"
      ],
      "execution_count": null,
      "outputs": [
        {
          "output_type": "stream",
          "name": "stdout",
          "text": [
            "Model: \"sequential_2\"\n",
            "_________________________________________________________________\n",
            " Layer (type)                Output Shape              Param #   \n",
            "=================================================================\n",
            " dense_5 (Dense)             (None, 64)                50240     \n",
            "                                                                 \n",
            " dense_6 (Dense)             (None, 32)                2080      \n",
            "                                                                 \n",
            " dense_7 (Dense)             (None, 10)                330       \n",
            "                                                                 \n",
            "=================================================================\n",
            "Total params: 52,650\n",
            "Trainable params: 52,650\n",
            "Non-trainable params: 0\n",
            "_________________________________________________________________\n"
          ]
        }
      ]
    },
    {
      "cell_type": "markdown",
      "metadata": {
        "id": "iVWaIK2l9U9e"
      },
      "source": [
        "### **Компиляция модели**\n",
        "\n",
        "На этапе компиляции модель с заданными параметрами ранее создается. Вот типичный учебный пример:"
      ]
    },
    {
      "cell_type": "code",
      "metadata": {
        "id": "MInwRm_7OcYJ"
      },
      "source": [
        "model.compile(loss='categorical_crossentropy', optimizer='SGD', metrics=['accuracy'])"
      ],
      "execution_count": null,
      "outputs": []
    },
    {
      "cell_type": "markdown",
      "metadata": {
        "id": "IDbetrHA9U9i"
      },
      "source": [
        "Однако на этой стадии мы должны сделать еще некоторые настройки нейронной сети. Разберем команды из кода выше.\n",
        "\n",
        "- loss - позволяет задать формулу, по которой будет определяться степень ошибки нейронной сети.\n",
        "- optimizer - позволяет задать алгоритм, который будет осуществлять изменения весов по всей нейронной сети (backpropagation).\n",
        "- metrics - позволяет определить критерии, по которым будет оцениваться степень обученности нейросети.\n",
        "    "
      ]
    },
    {
      "cell_type": "markdown",
      "metadata": {
        "id": "KH-Cy6Iy9U9l"
      },
      "source": [
        "### **Передача данных для обучения нейросети**\n",
        "\n",
        "После того как нейросеть создана, можно передавать ей данные для обучения. Ниже типичный пример кода для этого.\n"
      ]
    },
    {
      "cell_type": "code",
      "metadata": {
        "colab": {
          "base_uri": "https://localhost:8080/"
        },
        "id": "t8wSpGUvSKYC",
        "outputId": "ccad662e-521a-41af-c8c5-fcb2f0b3b1a5"
      },
      "source": [
        "y_train_labels[:5]"
      ],
      "execution_count": null,
      "outputs": [
        {
          "output_type": "execute_result",
          "data": {
            "text/plain": [
              "array([5, 0, 4, 1, 9], dtype=uint8)"
            ]
          },
          "metadata": {},
          "execution_count": 16
        }
      ]
    },
    {
      "cell_type": "code",
      "metadata": {
        "colab": {
          "base_uri": "https://localhost:8080/"
        },
        "id": "7FVfRog_SMgT",
        "outputId": "80020821-5d38-4271-e9a4-130e355bd8d2"
      },
      "source": [
        "from keras.utils.np_utils import to_categorical\n",
        "\n",
        "\n",
        "y_train = to_categorical(y_train_labels)\n",
        "y_test = to_categorical(y_test_labels)\n",
        "\n",
        "y_train[:5]"
      ],
      "execution_count": null,
      "outputs": [
        {
          "output_type": "execute_result",
          "data": {
            "text/plain": [
              "array([[0., 0., 0., 0., 0., 1., 0., 0., 0., 0.],\n",
              "       [1., 0., 0., 0., 0., 0., 0., 0., 0., 0.],\n",
              "       [0., 0., 0., 0., 1., 0., 0., 0., 0., 0.],\n",
              "       [0., 1., 0., 0., 0., 0., 0., 0., 0., 0.],\n",
              "       [0., 0., 0., 0., 0., 0., 0., 0., 0., 1.]], dtype=float32)"
            ]
          },
          "metadata": {},
          "execution_count": 55
        }
      ]
    },
    {
      "cell_type": "markdown",
      "metadata": {
        "id": "fqBRW_s6ac0m"
      },
      "source": [
        "<img src='https://drive.google.com/uc?export=view&id=1j8SxKYEi12jzJXi_bPO28q5SV9emuu0Y'>"
      ]
    },
    {
      "cell_type": "code",
      "metadata": {
        "colab": {
          "base_uri": "https://localhost:8080/"
        },
        "id": "_v47tBDpZcEu",
        "outputId": "dbad7bea-5310-4ac9-93f9-e515017b8419"
      },
      "source": [
        "X_train.shape"
      ],
      "execution_count": null,
      "outputs": [
        {
          "output_type": "execute_result",
          "data": {
            "text/plain": [
              "(60000, 784)"
            ]
          },
          "metadata": {},
          "execution_count": 18
        }
      ]
    },
    {
      "cell_type": "code",
      "metadata": {
        "colab": {
          "base_uri": "https://localhost:8080/"
        },
        "id": "dgGt_UruOtFZ",
        "outputId": "bad7b035-a32e-455b-caa5-a55f32f4c266"
      },
      "source": [
        "# передача обучающего датасета keras модели\n",
        "\n",
        "# можно явно указать валидационный датасет\n",
        "# history = model.fit(X_train, y_train,\n",
        "#                     epochs=5,\n",
        "#                     batch_size=10,\n",
        "#                     verbose=1,\n",
        "#                     validation_data=(X_test, y_test)\n",
        "#                     )\n",
        "\n",
        "\n",
        "# либо можно указать разбиение на валидацию\n",
        "history = model.fit(X_train, y_train,\n",
        "                    epochs=5,\n",
        "                    batch_size=1000, \n",
        "                    verbose=1,\n",
        "                    validation_split=0.2)"
      ],
      "execution_count": null,
      "outputs": [
        {
          "output_type": "stream",
          "name": "stdout",
          "text": [
            "Epoch 1/5\n",
            "48/48 [==============================] - 0s 8ms/step - loss: 0.2142 - accuracy: 0.9334 - val_loss: 0.1968 - val_accuracy: 0.9379\n",
            "Epoch 2/5\n",
            "48/48 [==============================] - 0s 7ms/step - loss: 0.1803 - accuracy: 0.9451 - val_loss: 0.1798 - val_accuracy: 0.9444\n",
            "Epoch 3/5\n",
            "48/48 [==============================] - 0s 7ms/step - loss: 0.1665 - accuracy: 0.9497 - val_loss: 0.1706 - val_accuracy: 0.9494\n",
            "Epoch 4/5\n",
            "48/48 [==============================] - 0s 7ms/step - loss: 0.1582 - accuracy: 0.9525 - val_loss: 0.1644 - val_accuracy: 0.9509\n",
            "Epoch 5/5\n",
            "48/48 [==============================] - 0s 7ms/step - loss: 0.1523 - accuracy: 0.9547 - val_loss: 0.1598 - val_accuracy: 0.9517\n"
          ]
        }
      ]
    },
    {
      "cell_type": "markdown",
      "metadata": {
        "id": "tFt0A6m59U9q"
      },
      "source": [
        "Разберем команды из этого примера.\n",
        "\n",
        "- X_train, y_train - содержат все обучающие данные\n",
        "- epochs - определяет сколько раз через нейросеть должен пройти весь набор данных\n",
        "- bath_size - определяет количество обучающих примеров передающихся нейросети на каждой итерации обучения.\n",
        "- verbose - позволяет определять информацию, которую вы видите во время обучения нейронной сети.\n",
        "- validation data - содержат все валидационные данные"
      ]
    },
    {
      "cell_type": "code",
      "metadata": {
        "colab": {
          "base_uri": "https://localhost:8080/"
        },
        "id": "z-_BvJsjVOOY",
        "outputId": "99a1eaca-0805-4d00-925c-0bbcbefc87fa"
      },
      "source": [
        "history.history"
      ],
      "execution_count": null,
      "outputs": [
        {
          "output_type": "execute_result",
          "data": {
            "text/plain": [
              "{'accuracy': [0.9333541393280029,\n",
              "  0.9451249837875366,\n",
              "  0.9497083425521851,\n",
              "  0.9524791836738586,\n",
              "  0.9546874761581421],\n",
              " 'loss': [0.2142169326543808,\n",
              "  0.18026940524578094,\n",
              "  0.1664809286594391,\n",
              "  0.15816259384155273,\n",
              "  0.15228356420993805],\n",
              " 'val_accuracy': [0.9379166960716248,\n",
              "  0.9444166421890259,\n",
              "  0.9494166374206543,\n",
              "  0.9509166479110718,\n",
              "  0.9517499804496765],\n",
              " 'val_loss': [0.1968257576227188,\n",
              "  0.17976829409599304,\n",
              "  0.1705785095691681,\n",
              "  0.16442911326885223,\n",
              "  0.15984994173049927]}"
            ]
          },
          "metadata": {},
          "execution_count": 64
        }
      ]
    },
    {
      "cell_type": "code",
      "metadata": {
        "colab": {
          "base_uri": "https://localhost:8080/",
          "height": 265
        },
        "id": "xKpOPxNobbJ8",
        "outputId": "bd5ee70a-e663-470d-f831-4eb6869e0719"
      },
      "source": [
        "train_acc = history.history['accuracy']\n",
        "val_acc = history.history['val_accuracy']\n",
        "\n",
        "plt.plot(train_acc, label='train')\n",
        "plt.plot(val_acc, label='val')\n",
        "plt.legend();"
      ],
      "execution_count": null,
      "outputs": [
        {
          "output_type": "display_data",
          "data": {
            "image/png": "[encoded data removed]",
            "text/plain": [
              "<Figure size 432x288 with 1 Axes>"
            ]
          },
          "metadata": {
            "needs_background": "light"
          }
        }
      ]
    },
    {
      "cell_type": "code",
      "metadata": {
        "colab": {
          "base_uri": "https://localhost:8080/"
        },
        "id": "t26sY8YAXi1O",
        "outputId": "8e03deae-2b1c-414e-864b-742c1be2095a"
      },
      "source": [
        "# steps_per_epoch\n",
        "\n",
        "history = model.fit(X_train, y_train,\n",
        "                    epochs=5,\n",
        "                    batch_size=10,\n",
        "                    steps_per_epoch=100, \n",
        "                    verbose=1,\n",
        "                    validation_data=(X_test, y_test))"
      ],
      "execution_count": null,
      "outputs": [
        {
          "output_type": "stream",
          "name": "stdout",
          "text": [
            "Epoch 1/5\n",
            "100/100 [==============================] - 3s 32ms/step - loss: 0.1326 - accuracy: 0.9530 - val_loss: 0.1589 - val_accuracy: 0.9515\n",
            "Epoch 2/5\n",
            "100/100 [==============================] - 2s 23ms/step - loss: 0.1160 - accuracy: 0.9660 - val_loss: 0.1583 - val_accuracy: 0.9518\n",
            "Epoch 3/5\n",
            "100/100 [==============================] - 2s 24ms/step - loss: 0.1572 - accuracy: 0.9560 - val_loss: 0.1509 - val_accuracy: 0.9537\n",
            "Epoch 4/5\n",
            "100/100 [==============================] - 2s 24ms/step - loss: 0.1621 - accuracy: 0.9560 - val_loss: 0.1470 - val_accuracy: 0.9555\n",
            "Epoch 5/5\n",
            "100/100 [==============================] - 2s 23ms/step - loss: 0.1423 - accuracy: 0.9560 - val_loss: 0.1459 - val_accuracy: 0.9545\n"
          ]
        }
      ]
    },
    {
      "cell_type": "markdown",
      "metadata": {
        "id": "P7ERG-o79U9s"
      },
      "source": [
        "### **Оценка обученности нейронной сети**\n",
        "\n",
        "Следующей стадией может быть проверка обученности нейронной сети."
      ]
    },
    {
      "cell_type": "code",
      "metadata": {
        "colab": {
          "base_uri": "https://localhost:8080/"
        },
        "id": "Xy_ZHJLRPZu1",
        "outputId": "25ca7445-11ac-4287-d4a2-b2e9e0f7ace8"
      },
      "source": [
        "loss, metric = model.evaluate(X_test, y_test, batch_size=128)\n",
        "loss, metric"
      ],
      "execution_count": null,
      "outputs": [
        {
          "output_type": "stream",
          "name": "stdout",
          "text": [
            "79/79 [==============================] - 0s 4ms/step - loss: 0.1161 - accuracy: 0.9652\n"
          ]
        },
        {
          "output_type": "execute_result",
          "data": {
            "text/plain": [
              "(0.11607292294502258, 0.9652000069618225)"
            ]
          },
          "metadata": {},
          "execution_count": 23
        }
      ]
    },
    {
      "cell_type": "markdown",
      "metadata": {
        "id": "JEEb6PjLPerM"
      },
      "source": [
        "В данном случае мы просто указываем какую модель на каких данных мы хотим проверить."
      ]
    },
    {
      "cell_type": "markdown",
      "metadata": {
        "id": "UHT1j0AX9U9t"
      },
      "source": [
        "### **Запуск нейронной сети для выполнения работы**\n",
        "\n",
        "На этой стадии мы можем попробовать запустить нейронную сеть на данных которые мы хотели бы чтобы она оценила. Осуществить распознавания объекта на фотографии например.\n",
        "Вот код для этих целей.\n",
        "\n",
        "В качестве аргумента здесь указывается массив данных."
      ]
    },
    {
      "cell_type": "code",
      "metadata": {
        "colab": {
          "base_uri": "https://localhost:8080/"
        },
        "id": "LsCce3lEBVkh",
        "outputId": "9c2c8954-f903-4251-c0d4-022de9105224"
      },
      "source": [
        "X_test[0][None].shape"
      ],
      "execution_count": null,
      "outputs": [
        {
          "output_type": "execute_result",
          "data": {
            "text/plain": [
              "(1, 784)"
            ]
          },
          "metadata": {},
          "execution_count": 69
        }
      ]
    },
    {
      "cell_type": "code",
      "metadata": {
        "colab": {
          "base_uri": "https://localhost:8080/"
        },
        "id": "E12l3cq6P4_O",
        "outputId": "bfab7a52-2f0e-4edb-bc94-2c3152fce323"
      },
      "source": [
        "predictions = model.predict(X_test[0][None])\n",
        "predictions"
      ],
      "execution_count": null,
      "outputs": [
        {
          "output_type": "execute_result",
          "data": {
            "text/plain": [
              "array([[0.8099854 , 0.67365956, 0.96138257, 0.9867922 , 0.00163364,\n",
              "        0.2703302 , 0.00148949, 0.99999404, 0.5698352 , 0.6610501 ]],\n",
              "      dtype=float32)"
            ]
          },
          "metadata": {},
          "execution_count": 70
        }
      ]
    },
    {
      "cell_type": "code",
      "metadata": {
        "colab": {
          "base_uri": "https://localhost:8080/"
        },
        "id": "AasIPpL0TpgN",
        "outputId": "c5b6b8b8-6668-4ada-9178-6736aed155e3"
      },
      "source": [
        "pred_labels = np.argmax(predictions, axis=1)\n",
        "pred_labels"
      ],
      "execution_count": null,
      "outputs": [
        {
          "output_type": "execute_result",
          "data": {
            "text/plain": [
              "array([7])"
            ]
          },
          "metadata": {},
          "execution_count": 71
        }
      ]
    },
    {
      "cell_type": "code",
      "metadata": {
        "colab": {
          "base_uri": "https://localhost:8080/"
        },
        "id": "47wK4mK8T0dp",
        "outputId": "1373eae6-9dac-4055-c409-e21032c87d31"
      },
      "source": [
        "y_test_labels[:3]"
      ],
      "execution_count": null,
      "outputs": [
        {
          "output_type": "execute_result",
          "data": {
            "text/plain": [
              "array([7, 2, 1], dtype=uint8)"
            ]
          },
          "metadata": {},
          "execution_count": 27
        }
      ]
    },
    {
      "cell_type": "markdown",
      "metadata": {
        "id": "LoL6FC9I9U9v"
      },
      "source": [
        "Мы с вами рассмотрели основные стадии процесса обучения нейросети и команды Keras. Безусловно, здесь приведен далеко неполный перечень возможностей Keras. У Keras есть также возможность сохранять созданную нейросеть, запускать уже имеющиюся, различные средства для создания нейросетей разных архитектур и другое. С чем-то из арсенала Keras мы с вами познакомимся по ходу курса, а с остальным вы можете познакомиться на сайте Keras в разделе документация."
      ]
    },
    {
      "cell_type": "code",
      "metadata": {
        "id": "He1a5EemElpX"
      },
      "source": [
        "# Save the weights to disk\n",
        "model.save_weights('model_weights.h5')\n",
        "\n",
        "# Save the model to disk\n",
        "model.save('model.h5')"
      ],
      "execution_count": null,
      "outputs": []
    },
    {
      "cell_type": "code",
      "source": [
        "config_mnist = model.get_config()\n",
        "config_mnist"
      ],
      "metadata": {
        "colab": {
          "base_uri": "https://localhost:8080/"
        },
        "id": "o0EEzWXMFQR2",
        "outputId": "a672bce6-6692-4264-b574-9dd13d2efebb"
      },
      "execution_count": null,
      "outputs": [
        {
          "output_type": "execute_result",
          "data": {
            "text/plain": [
              "{'layers': [{'class_name': 'InputLayer',\n",
              "   'config': {'batch_input_shape': (None, 784),\n",
              "    'dtype': 'float32',\n",
              "    'name': 'dense_5_input',\n",
              "    'ragged': False,\n",
              "    'sparse': False}},\n",
              "  {'class_name': 'Dense',\n",
              "   'config': {'activation': 'relu',\n",
              "    'activity_regularizer': None,\n",
              "    'batch_input_shape': (None, 784),\n",
              "    'bias_constraint': None,\n",
              "    'bias_initializer': {'class_name': 'Zeros', 'config': {}},\n",
              "    'bias_regularizer': None,\n",
              "    'dtype': 'float32',\n",
              "    'kernel_constraint': None,\n",
              "    'kernel_initializer': {'class_name': 'GlorotUniform',\n",
              "     'config': {'seed': None}},\n",
              "    'kernel_regularizer': None,\n",
              "    'name': 'dense_5',\n",
              "    'trainable': True,\n",
              "    'units': 64,\n",
              "    'use_bias': True}},\n",
              "  {'class_name': 'Dense',\n",
              "   'config': {'activation': 'relu',\n",
              "    'activity_regularizer': None,\n",
              "    'bias_constraint': None,\n",
              "    'bias_initializer': {'class_name': 'Zeros', 'config': {}},\n",
              "    'bias_regularizer': None,\n",
              "    'dtype': 'float32',\n",
              "    'kernel_constraint': None,\n",
              "    'kernel_initializer': {'class_name': 'GlorotUniform',\n",
              "     'config': {'seed': None}},\n",
              "    'kernel_regularizer': None,\n",
              "    'name': 'dense_6',\n",
              "    'trainable': True,\n",
              "    'units': 32,\n",
              "    'use_bias': True}},\n",
              "  {'class_name': 'Dense',\n",
              "   'config': {'activation': 'sigmoid',\n",
              "    'activity_regularizer': None,\n",
              "    'bias_constraint': None,\n",
              "    'bias_initializer': {'class_name': 'Zeros', 'config': {}},\n",
              "    'bias_regularizer': None,\n",
              "    'dtype': 'float32',\n",
              "    'kernel_constraint': None,\n",
              "    'kernel_initializer': {'class_name': 'GlorotUniform',\n",
              "     'config': {'seed': None}},\n",
              "    'kernel_regularizer': None,\n",
              "    'name': 'dense_7',\n",
              "    'trainable': True,\n",
              "    'units': 10,\n",
              "    'use_bias': True}}],\n",
              " 'name': 'sequential_2'}"
            ]
          },
          "metadata": {},
          "execution_count": 29
        }
      ]
    },
    {
      "cell_type": "code",
      "metadata": {
        "colab": {
          "base_uri": "https://localhost:8080/"
        },
        "id": "KMZ55yhLUvK8",
        "outputId": "15ab0fd5-1acd-40c7-ecb1-a911656af261"
      },
      "source": [
        "from keras.models import load_model\n",
        "\n",
        "# Load the model from disk\n",
        "load_model('model.h5').summary()\n",
        "\n",
        "\n",
        "# load_model('model_weights.h5')  # ValueError: No model found in config file"
      ],
      "execution_count": null,
      "outputs": [
        {
          "output_type": "stream",
          "name": "stdout",
          "text": [
            "Model: \"sequential_2\"\n",
            "_________________________________________________________________\n",
            " Layer (type)                Output Shape              Param #   \n",
            "=================================================================\n",
            " dense_5 (Dense)             (None, 64)                50240     \n",
            "                                                                 \n",
            " dense_6 (Dense)             (None, 32)                2080      \n",
            "                                                                 \n",
            " dense_7 (Dense)             (None, 10)                330       \n",
            "                                                                 \n",
            "=================================================================\n",
            "Total params: 52,650\n",
            "Trainable params: 52,650\n",
            "Non-trainable params: 0\n",
            "_________________________________________________________________\n"
          ]
        }
      ]
    },
    {
      "cell_type": "code",
      "metadata": {
        "id": "tBcv2921UQWm"
      },
      "source": [
        "# Load the model weights from disk\n",
        "model.from_config(config_mnist)\n",
        "model.load_weights('model_weights.h5')"
      ],
      "execution_count": null,
      "outputs": []
    },
    {
      "cell_type": "markdown",
      "metadata": {
        "id": "a8zh5g-GBQIp"
      },
      "source": [
        "## Оптимизаторы"
      ]
    },
    {
      "cell_type": "markdown",
      "metadata": {
        "id": "kxsnVzGpcI3o"
      },
      "source": [
        "<img src='https://drive.google.com/uc?export=view&id=12D44wSjCypIi0O9N6Uj36w5tWkhW79pG'>\n"
      ]
    },
    {
      "cell_type": "markdown",
      "metadata": {
        "id": "6P0Cn9WIpXUN"
      },
      "source": [
        "Основные проблемы, которые могут возникнуть в процессе оптимизации:\n",
        "1. Застревание в локальных минимумах или седловых точках, коих может быть очень много.\n",
        "2. Сложный ландшафт целевой функции: плато чередуются с регионами сильной нелинейности. Производная на плато практически равна нулю, а внезапный обрыв, наоборот, может отправить нас слишком далеко.\n",
        "3. Слишком маленькая скорость обучения заставляет алгоритм сходиться очень долго и застревать в локальных минимумах, слишком большая — «пролетать» узкие глобальные минимумы или вовсе расходиться.\n",
        "\n",
        "<img src='https://drive.google.com/uc?export=view&id=13JItksqmvlEe7ponSpskIWEmAFdXD4CW' width=500>"
      ]
    },
    {
      "cell_type": "markdown",
      "metadata": {
        "id": "kyz4Zvsffeq4"
      },
      "source": [
        "### SGD (+ momentum)\n"
      ]
    },
    {
      "cell_type": "markdown",
      "metadata": {
        "id": "sqtk507kfVDI"
      },
      "source": [
        "\n",
        "<img src='https://drive.google.com/uc?export=view&id=1JMoY1y1oZUtiicvCuhxhliiLBLoNl7bA'>\n",
        "\n",
        "Правило обновления весов w с градиентом g, когда импульс == 0:\n",
        "\n",
        "$w^{k} = w^{k-1} - \\eta * {\\nabla Q(w^{k-1}, X)}$\n",
        "\n",
        "Правило обновления весов w с градиентом g, когда импульс > 0:\n",
        "\n",
        "$velocity = momentum * velocity - \\eta * {\\nabla Q(w^{k-1}, X)}$<br>\n",
        "$w^{k} = w^{k-1} + velocity$\n",
        "\n",
        "<img src='https://drive.google.com/uc?export=view&id=1h0u3hNo2cjDRoq0FVdXIScgRo6Iq687y'>"
      ]
    },
    {
      "cell_type": "markdown",
      "metadata": {
        "id": "QnMoeBWF3f8g"
      },
      "source": [
        "Объяснение, как работает SGB + Momentum [здесь](https://youtu.be/CKLwvuKWQjo).\n",
        "\n",
        "Засчет добавления импульса получается сглаживание оптимизации.\n",
        "\n",
        "|$t_1$|$t_2$|..|$t_n$|\n",
        "|--|--|--|--|\n",
        "|$g_1$|$g_2$|..|$g_n$|\n",
        "\n",
        "$\\gamma = 0.5$\n",
        "\n",
        "$v_1 = g_1$<br>\n",
        "$v_2 = \\gamma * v_1 + g_2 = 0.5 * g_1 + g_2$<br>\n",
        "$v_3 = \\gamma * v_2 + g_3 = \\gamma (\\gamma * v_1 + g_2) + g_3 = \\gamma^2 * g_1 + \\gamma * g_2 + g_3 = 0.25 * g_1 + 0.5 * g_2 + g_3$<br>"
      ]
    },
    {
      "cell_type": "code",
      "metadata": {
        "id": "_Tu3Q9bHf1ld",
        "colab": {
          "base_uri": "https://localhost:8080/"
        },
        "outputId": "e7198b5a-6fbe-4fe2-f913-eb9b1a35bb2f"
      },
      "source": [
        "from keras import optimizers\n",
        "\n",
        "optimizers.gradient_descent_v2.SGD(learning_rate=0.01, momentum=0.5)"
      ],
      "execution_count": null,
      "outputs": [
        {
          "output_type": "execute_result",
          "data": {
            "text/plain": [
              "<keras.optimizer_v2.gradient_descent.SGD at 0x7fe300dc5c10>"
            ]
          },
          "metadata": {},
          "execution_count": 32
        }
      ]
    },
    {
      "cell_type": "markdown",
      "metadata": {
        "id": "0M5994xKfjOb"
      },
      "source": [
        "### AdaGrad"
      ]
    },
    {
      "cell_type": "markdown",
      "metadata": {
        "id": "J25L4PhmfSRz"
      },
      "source": [
        "\n",
        "Объяснение, как работает Adagrad [здесь](https://youtu.be/GSmW59dM0-o).\n",
        "\n",
        "Gradient Descent:\n",
        "$ w^{k} = w^{k-1} - \\eta\\nabla Q(w^{k-1}, X)$.\n",
        "\n",
        "В Adagrad используются разные скорости обучения в зависимости от итерации:\n",
        "<h3>$ w^{k} = w^{k-1} - \\eta_{k}\\nabla Q(w^{k-1}, X) $</h3>\n",
        "\n",
        "<h2>$\\eta_{k} = \\frac{\\eta}{\\sqrt{\\alpha_k + \\epsilon}}$</h2>\n",
        "где  $\\epsilon$ - маленькое число, чтобы не было деления на ноль.\n",
        "<h4>$\\alpha_k = \\sum_{i=0}^k{\\nabla Q(w^{k-1}, X)}^2$</h4>\n",
        "\n",
        "Обновление весов:\n",
        "\n",
        "<h4>$ w^{k} = w^{k-1} - \\eta_k\\nabla Q(w^{k-1}, X)$</h4>\n",
        "\n",
        "Получается, что когда $\\alpha$ становится большим числом, то $\\eta_{k}$ становится меньше, то есть с увеличением итерации - уменьшается скорость обучения, а значит и уменьшается скорость изменения весов.\n",
        "\n",
        "Но есть одна очень большая проблема - чем больше итераций, тем $\\alpha$ больше, скорость обучения меньше, это приведет к тому, что изменение весов может стать совсем незаметным. Но это решаемо с помощью RMSProp."
      ]
    },
    {
      "cell_type": "code",
      "metadata": {
        "id": "zm7TVF096CEx",
        "colab": {
          "base_uri": "https://localhost:8080/"
        },
        "outputId": "3c5d492b-3491-4e93-bd8f-5759031dd8cc"
      },
      "source": [
        "optimizers.adagrad_v2.Adagrad(learning_rate=0.001, initial_accumulator_value=0.1, epsilon=1e-07)"
      ],
      "execution_count": null,
      "outputs": [
        {
          "output_type": "execute_result",
          "data": {
            "text/plain": [
              "<keras.optimizer_v2.adagrad.Adagrad at 0x7fe300e1d650>"
            ]
          },
          "metadata": {},
          "execution_count": 33
        }
      ]
    },
    {
      "cell_type": "markdown",
      "metadata": {
        "id": "foVu35djfmbo"
      },
      "source": [
        "### RMSProp (Leaky AdaGrad)"
      ]
    },
    {
      "cell_type": "markdown",
      "metadata": {
        "id": "25V9xgaiVPhf"
      },
      "source": [
        "Объяснение, как работает RMSprop [здесь](https://youtu.be/9wFBbAQixBM).\n",
        "\n",
        "Этот оптимизатор исправляет проблему с неизменяемыми весами в Adagrad засчет введения ограничения на градиенты весов.\n",
        "\n",
        "<h2>$\\eta_{k} = \\frac{\\eta}{\\sqrt{W_{avg_k} + \\epsilon}}$</h2>\n",
        "где  $\\epsilon$ - маленькое число, чтобы не было деления на ноль.\n",
        "\n",
        "$W_{avg_{0}} = 0$\n",
        "\n",
        "<h4>$W_{avg_k} = \\rho * W_{avg_{k-1}}+(1-\\rho){\\nabla Q(w^{k-1}, X)}^2$</h4>\n",
        "\n",
        "Обновление весов:\n",
        "\n",
        "<h4>$ w^{k} = w^{k-1} - \\eta_k\\nabla Q(w^{k-1}, X)$</h4>\n"
      ]
    },
    {
      "cell_type": "code",
      "metadata": {
        "id": "46PwnfPPVQiZ",
        "colab": {
          "base_uri": "https://localhost:8080/"
        },
        "outputId": "a1590f7f-e1fa-4fe4-86ec-a8e18bf9f961"
      },
      "source": [
        "optimizers.rmsprop_v2.RMSprop(learning_rate=0.001, rho=0.9, epsilon=1e-07)"
      ],
      "execution_count": null,
      "outputs": [
        {
          "output_type": "execute_result",
          "data": {
            "text/plain": [
              "<keras.optimizer_v2.rmsprop.RMSprop at 0x7fe300e13f90>"
            ]
          },
          "metadata": {},
          "execution_count": 34
        }
      ]
    },
    {
      "cell_type": "markdown",
      "metadata": {
        "id": "k7iOYaeOfqbS"
      },
      "source": [
        "### Adam"
      ]
    },
    {
      "cell_type": "markdown",
      "metadata": {
        "id": "O_VvTqscfgQN"
      },
      "source": [
        "Здесь соединились два плюса предыдущих оптимизаторов:\n",
        "1. Импульс (дает сглаживание оптимизации)\n",
        "2. Постепенное уменьшение скорости обучения\n",
        "\n",
        "<h4>$V_{k} = \\beta_1 * V_{k-1} + g_k$</h4>\n",
        "\n",
        "<h4>$W_{avg_k} = \\beta_2 * W_{avg_{k-1}}+(1-\\beta_2){\\nabla Q(w^{k-1}, X)}^2$</h4>\n",
        "\n",
        "Обновление весов:\n",
        "<h4>$ w^{k} = w^{k-1} - \\frac{\\eta * V_k}{\\sqrt{W_{avg_k} + \\epsilon}}$</h4>\n"
      ]
    },
    {
      "cell_type": "code",
      "metadata": {
        "id": "_NBYrY81fgrI",
        "colab": {
          "base_uri": "https://localhost:8080/"
        },
        "outputId": "f02b8aae-2799-4d1f-84a2-af6b59a50bf8"
      },
      "source": [
        "optimizers.adam_v2.Adam(learning_rate=0.001, beta_1=0.9, beta_2=0.999, epsilon=1e-07)"
      ],
      "execution_count": null,
      "outputs": [
        {
          "output_type": "execute_result",
          "data": {
            "text/plain": [
              "<keras.optimizer_v2.adam.Adam at 0x7fe300dd0b10>"
            ]
          },
          "metadata": {},
          "execution_count": 35
        }
      ]
    },
    {
      "cell_type": "markdown",
      "metadata": {
        "id": "dxH-XG1jcIKs"
      },
      "source": [
        "### Эксперимент с разными оптимизаторами для одной начальной модели\n",
        "\n",
        "1. создаем модель model\n",
        "2. сохраняем ее веса (это начальная точка) model.save_weights('model.h5')\n",
        "3.\\* создаем рабочую модель $model_i$, куда будем загружать эти веса (она должна быть идентичной структуры) \n",
        "4.\\* загружаем веса $model_i$.load_weights('model.h5')\n",
        "5.\\* компилируем $model_i$, с одним из оптимизаторов\n",
        "6. вычисляем ошибку для $model_i$, без обучения (т.к. все модели начинают с одной точки, то все ошибки должны быть одинаковые, но будем контролировать это и считаем каждый раз заново)\n",
        "7. проводим обучение модели и пишем ошибки в истории history\n",
        "8. выводим ошибки для 0-го момента и каждой эпохи обучения по тестовой и валидационной частям данных\n",
        "\n",
        "*Либо пункты сохранения воспроизводимости можно заменить фиксацией псевдо рандома:\n",
        "\n",
        "\n",
        "```\n",
        "# for reproducible weights initialization\n",
        "import tensorflow as tf\n",
        "tf.random.set_seed(1)\n",
        "\n",
        "# model.layers[0].weights\n",
        "```\n",
        "\n"
      ]
    },
    {
      "cell_type": "code",
      "metadata": {
        "id": "L2Frdm7VYNWh"
      },
      "source": [
        "# создаем модель model\n",
        "model = Sequential([\n",
        "    Dense(64, activation='relu', input_shape=(784,)),\n",
        "    Dense(32, activation='relu'),\n",
        "    Dense(10, activation='sigmoid'),\n",
        "])\n",
        "\n",
        "# сохраняем ее веса (это начальная точка) model.save_weights('model.h5')\n",
        "model.save_weights('model_weights.h5')"
      ],
      "execution_count": null,
      "outputs": []
    },
    {
      "cell_type": "code",
      "metadata": {
        "colab": {
          "base_uri": "https://localhost:8080/",
          "height": 1000
        },
        "id": "jaqCLGg3w_Nl",
        "outputId": "5a618f47-8c1f-4c29-d865-518b216f7911"
      },
      "source": [
        "%%time\n",
        "\n",
        "\n",
        "# будем сохранять модели в словарь\n",
        "models = {}\n",
        "\n",
        "\n",
        "plt.figure(figsize=(16, 7))\n",
        "colors = ['g', 'b', 'r', 'y']\n",
        "\n",
        "num_epochs = 4\n",
        "batch_size = 32\n",
        "\n",
        "# вектор для вывода результатов\n",
        "epoch = np.arange(num_epochs+1)\n",
        "\n",
        "# будем изменять оптимизаторы\n",
        "for i, i_optim in enumerate([keras.optimizers.gradient_descent_v2.SGD(),\n",
        "                             keras.optimizers.adagrad_v2.Adagrad(),\n",
        "                             keras.optimizers.rmsprop_v2.RMSprop(),\n",
        "                             keras.optimizers.adam_v2.Adam()]):\n",
        "    \n",
        "    # создаем рабочую модель  model_i, куда будем загружать эти веса (она должна быть идентичной структуры)\n",
        "    model_i = Sequential([\n",
        "        Dense(64, activation='relu', input_shape=(784,)),\n",
        "        Dense(32, activation='relu'),\n",
        "        Dense(10, activation='sigmoid'),\n",
        "    ])\n",
        "    \n",
        "    # загружаем веса model_i.load_weights('model.h5')\n",
        "    model_i.load_weights('model_weights.h5')\n",
        "    \n",
        "    # компилируем model_i с одним из оптимизаторов\n",
        "    model_i.compile(\n",
        "        optimizer=i_optim,\n",
        "        loss='categorical_crossentropy',\n",
        "        metrics=['accuracy'],\n",
        "        )\n",
        "    \n",
        "    # вычисляем ошибку для modeli без обучения\n",
        "    h0_train = model_i.evaluate(X_train, y_train, verbose=0)\n",
        "    h0_val = model_i.evaluate(X_test, y_test, verbose=0)\n",
        "\n",
        "    # проводим обучение модели \n",
        "    h = model_i.fit(X_train, y_train,\n",
        "                    epochs=num_epochs,\n",
        "                    batch_size=batch_size,\n",
        "                    validation_data=(X_test, y_test),\n",
        "                    verbose=1)\n",
        "    \n",
        "    # записываем обученную модель в словарь\n",
        "    models[i_optim.get_config()['name']] = model_i\n",
        "\n",
        "    # картинки\n",
        "    plt.plot(epoch, np.log([h0_train[0]] + h.history['loss']),\n",
        "             '-', c=colors[i],\n",
        "             label=model_i.optimizer.get_config()['name'] + ' train')\n",
        "    plt.plot(epoch, np.log([h0_val[0]] + h.history['val_loss']),\n",
        "             '--', c=colors[i],\n",
        "             label=model_i.optimizer.get_config()['name'] + ' val')\n",
        "    print('=' * 20)\n",
        "\n",
        "plt.legend()\n",
        "plt.title('нейросети от оптимизатора log(loss)')\n",
        "plt.xlabel('epoch')\n",
        "plt.ylabel('log(loss)')\n",
        "plt.show()"
      ],
      "execution_count": null,
      "outputs": [
        {
          "output_type": "stream",
          "name": "stdout",
          "text": [
            "Epoch 1/4\n",
            "1875/1875 [==============================] - 7s 4ms/step - loss: 0.7470 - accuracy: 0.7903 - val_loss: 0.3611 - val_accuracy: 0.8942\n",
            "Epoch 2/4\n",
            "1875/1875 [==============================] - 7s 4ms/step - loss: 0.3225 - accuracy: 0.9070 - val_loss: 0.2717 - val_accuracy: 0.9219\n",
            "Epoch 3/4\n",
            "1875/1875 [==============================] - 7s 4ms/step - loss: 0.2571 - accuracy: 0.9258 - val_loss: 0.2302 - val_accuracy: 0.9343\n",
            "Epoch 4/4\n",
            "1875/1875 [==============================] - 7s 4ms/step - loss: 0.2179 - accuracy: 0.9368 - val_loss: 0.2004 - val_accuracy: 0.9428\n",
            "====================\n",
            "Epoch 1/4\n",
            "1875/1875 [==============================] - 7s 4ms/step - loss: 1.5614 - accuracy: 0.5741 - val_loss: 0.9774 - val_accuracy: 0.7826\n",
            "Epoch 2/4\n",
            "1875/1875 [==============================] - 7s 4ms/step - loss: 0.8088 - accuracy: 0.8077 - val_loss: 0.6592 - val_accuracy: 0.8394\n",
            "Epoch 3/4\n",
            "1875/1875 [==============================] - 7s 4ms/step - loss: 0.6183 - accuracy: 0.8425 - val_loss: 0.5467 - val_accuracy: 0.8620\n",
            "Epoch 4/4\n",
            "1875/1875 [==============================] - 7s 4ms/step - loss: 0.5347 - accuracy: 0.8606 - val_loss: 0.4868 - val_accuracy: 0.8740\n",
            "====================\n",
            "Epoch 1/4\n",
            "1875/1875 [==============================] - 8s 4ms/step - loss: 0.3006 - accuracy: 0.9132 - val_loss: 0.1638 - val_accuracy: 0.9513\n",
            "Epoch 2/4\n",
            "1875/1875 [==============================] - 7s 4ms/step - loss: 0.1383 - accuracy: 0.9593 - val_loss: 0.1380 - val_accuracy: 0.9599\n",
            "Epoch 3/4\n",
            "1875/1875 [==============================] - 8s 4ms/step - loss: 0.1048 - accuracy: 0.9689 - val_loss: 0.1173 - val_accuracy: 0.9647\n",
            "Epoch 4/4\n",
            "1875/1875 [==============================] - 8s 4ms/step - loss: 0.0876 - accuracy: 0.9745 - val_loss: 0.1166 - val_accuracy: 0.9654\n",
            "====================\n",
            "Epoch 1/4\n",
            "1875/1875 [==============================] - 8s 4ms/step - loss: 0.2948 - accuracy: 0.9136 - val_loss: 0.1484 - val_accuracy: 0.9564\n",
            "Epoch 2/4\n",
            "1875/1875 [==============================] - 7s 4ms/step - loss: 0.1298 - accuracy: 0.9619 - val_loss: 0.1094 - val_accuracy: 0.9678\n",
            "Epoch 3/4\n",
            "1875/1875 [==============================] - 7s 4ms/step - loss: 0.0957 - accuracy: 0.9706 - val_loss: 0.1012 - val_accuracy: 0.9690\n",
            "Epoch 4/4\n",
            "1875/1875 [==============================] - 7s 4ms/step - loss: 0.0755 - accuracy: 0.9771 - val_loss: 0.1158 - val_accuracy: 0.9638\n",
            "====================\n"
          ]
        },
        {
          "output_type": "display_data",
          "data": {
            "image/png": "[encoded data removed]",
            "text/plain": [
              "<Figure size 1152x504 with 1 Axes>"
            ]
          },
          "metadata": {
            "needs_background": "light"
          }
        },
        {
          "output_type": "stream",
          "name": "stdout",
          "text": [
            "CPU times: user 2min 22s, sys: 24.7 s, total: 2min 47s\n",
            "Wall time: 2min 46s\n"
          ]
        }
      ]
    },
    {
      "cell_type": "code",
      "metadata": {
        "colab": {
          "base_uri": "https://localhost:8080/",
          "height": 1000
        },
        "id": "W5S9qdlubn7m",
        "outputId": "da6c049a-d302-4fe7-9483-11a3f0cfecd4"
      },
      "source": [
        "%%time\n",
        "\n",
        "# будем сохранять модели в словарь\n",
        "models = {}\n",
        "\n",
        "plt.figure(figsize=(16, 7))\n",
        "colors = ['g', 'b', 'r', 'y']\n",
        "\n",
        "num_epochs = 4\n",
        "batch_size = 32\n",
        "\n",
        "# вектор для вывода результатов\n",
        "epoch = np.arange(num_epochs+1)\n",
        "\n",
        "# будем изменять оптимизаторы\n",
        "for i, i_optim in enumerate([keras.optimizers.gradient_descent_v2.SGD(),\n",
        "                             keras.optimizers.adagrad_v2.Adagrad(),\n",
        "                             keras.optimizers.rmsprop_v2.RMSprop(),\n",
        "                             keras.optimizers.adam_v2.Adam()]):\n",
        "    \n",
        "    # создаем рабочую модель  model_i с зафиксированными весами\n",
        "    import tensorflow as tf\n",
        "    tf.random.set_seed(1)\n",
        "    \n",
        "    model_i = Sequential([\n",
        "        Dense(64, activation='relu', input_shape=(784,)),\n",
        "        Dense(32, activation='relu'),\n",
        "        Dense(10, activation='sigmoid'),\n",
        "    ])\n",
        "    \n",
        "    # компилируем model_i с одним из оптимизаторов\n",
        "    model_i.compile(\n",
        "        optimizer=i_optim,\n",
        "        loss='categorical_crossentropy',\n",
        "        metrics=['accuracy'],\n",
        "        )\n",
        "    \n",
        "    # вычисляем ошибку для modeli без обучения\n",
        "    h0_train = model_i.evaluate(X_train, y_train, verbose=0)\n",
        "    h0_val = model_i.evaluate(X_test, y_test, verbose=0)\n",
        "\n",
        "    # проводим обучение модели \n",
        "    h = model_i.fit(X_train, y_train,\n",
        "                    epochs=num_epochs,\n",
        "                    batch_size=batch_size,\n",
        "                    validation_data=(X_test, y_test),\n",
        "                    verbose=1)\n",
        "\n",
        "    # записываем обученную модель в словарь\n",
        "    models[i_optim.get_config()['name']] = model_i\n",
        "\n",
        "    # картинки\n",
        "    plt.plot(epoch, np.log([h0_train[0]] + h.history['loss']),\n",
        "             '-', c=colors[i],\n",
        "             label=model_i.optimizer.get_config()['name'] + ' train')\n",
        "    plt.plot(epoch, np.log([h0_val[0]] + h.history['val_loss']),\n",
        "             '--', c=colors[i],\n",
        "             label=model_i.optimizer.get_config()['name'] + ' val')\n",
        "    print('=' * 20)\n",
        "\n",
        "plt.legend()\n",
        "plt.title('нейросети от оптимизатора log(loss)')\n",
        "plt.xlabel('epoch')\n",
        "plt.ylabel('log(loss)')\n",
        "plt.show()"
      ],
      "execution_count": null,
      "outputs": [
        {
          "output_type": "stream",
          "name": "stdout",
          "text": [
            "Epoch 1/4\n",
            "1875/1875 [==============================] - 7s 4ms/step - loss: 0.6446 - accuracy: 0.8267 - val_loss: 0.3283 - val_accuracy: 0.9056\n",
            "Epoch 2/4\n",
            "1875/1875 [==============================] - 7s 4ms/step - loss: 0.3009 - accuracy: 0.9133 - val_loss: 0.2590 - val_accuracy: 0.9255\n",
            "Epoch 3/4\n",
            "1875/1875 [==============================] - 7s 4ms/step - loss: 0.2513 - accuracy: 0.9282 - val_loss: 0.2291 - val_accuracy: 0.9340\n",
            "Epoch 4/4\n",
            "1875/1875 [==============================] - 7s 4ms/step - loss: 0.2187 - accuracy: 0.9375 - val_loss: 0.2084 - val_accuracy: 0.9398\n",
            "====================\n",
            "Epoch 1/4\n",
            "1875/1875 [==============================] - 7s 4ms/step - loss: 1.3839 - accuracy: 0.6520 - val_loss: 0.8155 - val_accuracy: 0.8265\n",
            "Epoch 2/4\n",
            "1875/1875 [==============================] - 7s 4ms/step - loss: 0.6700 - accuracy: 0.8453 - val_loss: 0.5483 - val_accuracy: 0.8707\n",
            "Epoch 3/4\n",
            "1875/1875 [==============================] - 7s 4ms/step - loss: 0.5169 - accuracy: 0.8705 - val_loss: 0.4602 - val_accuracy: 0.8837\n",
            "Epoch 4/4\n",
            "1875/1875 [==============================] - 7s 4ms/step - loss: 0.4533 - accuracy: 0.8826 - val_loss: 0.4158 - val_accuracy: 0.8919\n",
            "====================\n",
            "Epoch 1/4\n",
            "1875/1875 [==============================] - 9s 4ms/step - loss: 0.2846 - accuracy: 0.9180 - val_loss: 0.1549 - val_accuracy: 0.9523\n",
            "Epoch 2/4\n",
            "1875/1875 [==============================] - 8s 4ms/step - loss: 0.1393 - accuracy: 0.9594 - val_loss: 0.1268 - val_accuracy: 0.9638\n",
            "Epoch 3/4\n",
            "1875/1875 [==============================] - 8s 4ms/step - loss: 0.1075 - accuracy: 0.9678 - val_loss: 0.1224 - val_accuracy: 0.9650\n",
            "Epoch 4/4\n",
            "1875/1875 [==============================] - 8s 4ms/step - loss: 0.0892 - accuracy: 0.9741 - val_loss: 0.1162 - val_accuracy: 0.9695\n",
            "====================\n",
            "Epoch 1/4\n",
            "1875/1875 [==============================] - 7s 4ms/step - loss: 0.2861 - accuracy: 0.9185 - val_loss: 0.1501 - val_accuracy: 0.9548\n",
            "Epoch 2/4\n",
            "1875/1875 [==============================] - 7s 4ms/step - loss: 0.1305 - accuracy: 0.9610 - val_loss: 0.1294 - val_accuracy: 0.9622\n",
            "Epoch 3/4\n",
            "1875/1875 [==============================] - 7s 4ms/step - loss: 0.0957 - accuracy: 0.9708 - val_loss: 0.1010 - val_accuracy: 0.9685\n",
            "Epoch 4/4\n",
            "1875/1875 [==============================] - 7s 4ms/step - loss: 0.0769 - accuracy: 0.9764 - val_loss: 0.0989 - val_accuracy: 0.9702\n",
            "====================\n"
          ]
        },
        {
          "output_type": "display_data",
          "data": {
            "image/png": "[encoded data removed]",
            "text/plain": [
              "<Figure size 1152x504 with 1 Axes>"
            ]
          },
          "metadata": {
            "needs_background": "light"
          }
        },
        {
          "output_type": "stream",
          "name": "stdout",
          "text": [
            "CPU times: user 2min 22s, sys: 25.2 s, total: 2min 48s\n",
            "Wall time: 2min 45s\n"
          ]
        }
      ]
    },
    {
      "cell_type": "code",
      "metadata": {
        "id": "dgbiKEaBdxvX"
      },
      "source": [
        "model_i = models['Adam']"
      ],
      "execution_count": null,
      "outputs": []
    },
    {
      "cell_type": "code",
      "metadata": {
        "id": "viS_E5s6z2UU",
        "colab": {
          "base_uri": "https://localhost:8080/"
        },
        "outputId": "9761294f-9d23-4f2d-d713-f3d82d564054"
      },
      "source": [
        "model_i.optimizer.get_config()"
      ],
      "execution_count": null,
      "outputs": [
        {
          "output_type": "execute_result",
          "data": {
            "text/plain": [
              "{'amsgrad': False,\n",
              " 'beta_1': 0.9,\n",
              " 'beta_2': 0.999,\n",
              " 'decay': 0.0,\n",
              " 'epsilon': 1e-07,\n",
              " 'learning_rate': 0.001,\n",
              " 'name': 'Adam'}"
            ]
          },
          "metadata": {},
          "execution_count": 40
        }
      ]
    },
    {
      "cell_type": "code",
      "metadata": {
        "id": "wj7fhqd3FKFe",
        "colab": {
          "base_uri": "https://localhost:8080/",
          "height": 208
        },
        "outputId": "32d6b1e9-f816-421f-f2dd-9b6456369f97"
      },
      "source": [
        "N = 5\n",
        "y_pred = model_i.predict(X_test[:N, :])\n",
        "y_pred_class = np.argmax(y_pred, axis=1)\n",
        "plt.figure(figsize=(3 * N, 5))\n",
        "\n",
        "for i in range(N):\n",
        "  plt.subplot(1, N, i+1)\n",
        "  plt.imshow(X_test[i,:].reshape(28, 28))\n",
        "  plt.xlabel(str(y_pred_class[i]))\n",
        "plt.show()  "
      ],
      "execution_count": null,
      "outputs": [
        {
          "output_type": "display_data",
          "data": {
            "image/png": "[encoded data removed]",
            "text/plain": [
              "<Figure size 1080x360 with 5 Axes>"
            ]
          },
          "metadata": {
            "needs_background": "light"
          }
        }
      ]
    },
    {
      "cell_type": "code",
      "metadata": {
        "id": "Q561c6eaGxcB",
        "colab": {
          "base_uri": "https://localhost:8080/"
        },
        "outputId": "c86c7e69-ea2a-42ee-dd13-af872d464566"
      },
      "source": [
        "y_pred_class"
      ],
      "execution_count": null,
      "outputs": [
        {
          "output_type": "execute_result",
          "data": {
            "text/plain": [
              "array([7, 2, 1, 0, 4])"
            ]
          },
          "metadata": {},
          "execution_count": 42
        }
      ]
    },
    {
      "cell_type": "markdown",
      "metadata": {
        "id": "GbNuvIG1PmZw"
      },
      "source": [
        "## Callbacks"
      ]
    },
    {
      "cell_type": "markdown",
      "metadata": {
        "id": "oYMQ6xrjQX62"
      },
      "source": [
        "Callback (обратные вызовы) – набор функций, применяемых в определенные моменты во время процедуры обучения. Вы можете использовать функции callback чтобы получить информацию о внутреннем состоянии модели в процессе обучения. Нужно передавать список callback’ов (именованным аргументом callbacks) методу .fit() модели. Подходящие методы callback будут вызваны на каждой стадии обучения.\n",
        "\n",
        "Рассмотрим основные callback'и, с остальными можете ознакомиться в [документации](https://ru-keras.com/callbacks/)."
      ]
    },
    {
      "cell_type": "markdown",
      "metadata": {
        "id": "JiZzcPnyVHd6"
      },
      "source": [
        "### ModelCheckpoint\n"
      ]
    },
    {
      "cell_type": "markdown",
      "metadata": {
        "id": "1MvJSJWqQwFy"
      },
      "source": [
        "Сохранение модели после каждой эпохи.\n",
        "\n",
        "Filepath может содержать именованные опции форматирования, заполняемые значениями epoch и ключами в logs (передаваемыми on_epoch_end).\n",
        "\n",
        "К примеру: если filepath назван weights.{epoch:02d}-{val_loss:.2f}.hdf5, тогда модель будет сохраняться с номером эпохи и validation_loss в имени файла.\n",
        "\n",
        "**Аргументы:**\n",
        "\n",
        "— filepath: строка, путь сохранения модели\n",
        "\n",
        "— monitor: параметр для мониторинга\n",
        "\n",
        "— verbose: режим отображения, 0 или 1\n",
        "\n",
        "— save_best_only: если save_best_only=True, если результат текущей эпохи хуже предыдущей, он не будет сохранен.\n",
        "\n",
        "— save_weights_only: если True, тогда будут сохраняться только веса модели (model.save_weights(filepath)), в противном случае будет сохраняться вся модель (model.save(filepath)).\n",
        "\n",
        "— mode: один из {auto, min, max}. Если save_best_only=True, решение о перезаписи текущего файла будет приниматься в зависимости от уменьшения/увеличения параметра мониторинга. Для val_acc, необходим max, для val_loss необходим min. В auto режиме, mode выбирается в зависимости от имени monitor.\n",
        "\n",
        "— period: Интервал (число эпох) между сохранениями."
      ]
    },
    {
      "cell_type": "code",
      "source": [
        "from keras import callbacks"
      ],
      "metadata": {
        "id": "nRBGe5uHxj2Q"
      },
      "execution_count": null,
      "outputs": []
    },
    {
      "cell_type": "code",
      "metadata": {
        "id": "mvE9-jJQPpJS",
        "colab": {
          "base_uri": "https://localhost:8080/"
        },
        "outputId": "31137960-2034-4ea5-d76d-11be8abae4cd"
      },
      "source": [
        "model_checkpoint = callbacks.ModelCheckpoint(filepath='model_best_{epoch}',\n",
        "                                   monitor='val_loss',\n",
        "                                   verbose=1,\n",
        "                                   save_best_only=True,\n",
        "                                   save_weights_only=False,\n",
        "                                   mode='auto',\n",
        "                                   period=1,\n",
        "                                #    save_freq=2\n",
        "                                   ) \n",
        "\n",
        "model.compile(optimizer=keras.optimizers.adam_v2.Adam(learning_rate=0.001),\n",
        "              loss='categorical_crossentropy',\n",
        "              metrics=['accuracy'])\n",
        "\n",
        "model.fit(X_train, y_train,\n",
        "          epochs=num_epochs,\n",
        "          steps_per_epoch=10,\n",
        "          validation_data=(X_test, y_test),\n",
        "          verbose=1,\n",
        "          callbacks=[model_checkpoint])"
      ],
      "execution_count": null,
      "outputs": [
        {
          "output_type": "stream",
          "name": "stdout",
          "text": [
            "WARNING:tensorflow:`period` argument is deprecated. Please use `save_freq` to specify the frequency in number of batches seen.\n",
            "Epoch 1/4\n",
            " 6/10 [=================>............] - ETA: 0s - loss: 0.0660 - accuracy: 0.9807\n",
            "Epoch 00001: val_loss improved from inf to 0.09564, saving model to model_best_1\n",
            "INFO:tensorflow:Assets written to: model_best_1/assets\n",
            "10/10 [==============================] - 3s 253ms/step - loss: 0.0694 - accuracy: 0.9796 - val_loss: 0.0956 - val_accuracy: 0.9712\n",
            "Epoch 2/4\n",
            " 9/10 [==========================>...] - ETA: 0s - loss: 0.0653 - accuracy: 0.9814\n",
            "Epoch 00002: val_loss improved from 0.09564 to 0.09379, saving model to model_best_2\n",
            "INFO:tensorflow:Assets written to: model_best_2/assets\n",
            "10/10 [==============================] - 2s 265ms/step - loss: 0.0646 - accuracy: 0.9815 - val_loss: 0.0938 - val_accuracy: 0.9727\n",
            "Epoch 3/4\n",
            " 9/10 [==========================>...] - ETA: 0s - loss: 0.0618 - accuracy: 0.9825\n",
            "Epoch 00003: val_loss improved from 0.09379 to 0.09136, saving model to model_best_3\n",
            "INFO:tensorflow:Assets written to: model_best_3/assets\n",
            "10/10 [==============================] - 2s 181ms/step - loss: 0.0613 - accuracy: 0.9827 - val_loss: 0.0914 - val_accuracy: 0.9731\n",
            "Epoch 4/4\n",
            " 6/10 [=================>............] - ETA: 0s - loss: 0.0568 - accuracy: 0.9837\n",
            "Epoch 00004: val_loss did not improve from 0.09136\n",
            "10/10 [==============================] - 1s 154ms/step - loss: 0.0584 - accuracy: 0.9834 - val_loss: 0.0916 - val_accuracy: 0.9734\n"
          ]
        },
        {
          "output_type": "execute_result",
          "data": {
            "text/plain": [
              "<keras.callbacks.History at 0x7fe20e91e050>"
            ]
          },
          "metadata": {},
          "execution_count": 77
        }
      ]
    },
    {
      "cell_type": "code",
      "source": [
        "from google.colab import files\n",
        "files.download('/content/model.h5')"
      ],
      "metadata": {
        "id": "T1S6-ujlvHhx"
      },
      "execution_count": null,
      "outputs": []
    },
    {
      "cell_type": "code",
      "source": [
        "from google.colab import drive\n",
        "drive.mount('/content/drive')"
      ],
      "metadata": {
        "colab": {
          "base_uri": "https://localhost:8080/"
        },
        "id": "BPJC0TZAv79F",
        "outputId": "2689bc16-f13a-49e3-d281-3b80cb93e829"
      },
      "execution_count": null,
      "outputs": [
        {
          "output_type": "stream",
          "name": "stdout",
          "text": [
            "Mounted at /content/drive\n"
          ]
        }
      ]
    },
    {
      "cell_type": "code",
      "source": [
        "'/content/drive/MyDrive/IMG_2017.jpg'"
      ],
      "metadata": {
        "id": "8UDgF1hFwJ74"
      },
      "execution_count": null,
      "outputs": []
    },
    {
      "cell_type": "markdown",
      "metadata": {
        "id": "6w0-iQxhQyPo"
      },
      "source": [
        "### EarlyStopping\n"
      ]
    },
    {
      "cell_type": "markdown",
      "metadata": {
        "id": "0EEE6-F0SRJM"
      },
      "source": [
        "Прекращение обучения, когда параметр monitor перестает улучшаться.\n",
        "\n",
        "**Аргументы**\n",
        "\n",
        "— monitor: параметр для мониторинга\n",
        "\n",
        "— min_delta: минимальное значение изменения величины monitor, расцениваемое как улучшение, то есть, если абсолютное изменение меньше min_delta, то улучшение не засчитывается\n",
        "\n",
        "— patience: число эпох, за которые величина monitor не улучшается, после которых обучение будет остановлено. Проверочные величины могут производиться не после каждой эпохи если validation_freq (model.fit(validation_freq=5)) больше единицы.\n",
        "\n",
        "— verbose: режим отображения, 0 или 1.\n",
        "\n",
        "— mode: один из {auto, min, max}. В режиме min, обучение остановится когда величина monitor перестанет уменьшаться; в режиме max, обучение остановится когда величина monitor перестанет увеличиваться; в режиме auto, mode выбирается в зависимости от имени monitor.\n",
        "\n",
        "— baseline: значение, которое должна достичь величина monitor. Обучение прекратится, если модель не достигла baseline.\n",
        "\n",
        "— restore_best_weights: восстанавливать ли веса модели с эпохи с лучшем значением параметра monitor. Если False, веса модели будут загружены из последней шага обучения."
      ]
    },
    {
      "cell_type": "code",
      "metadata": {
        "id": "lbEB2k-zSNl8",
        "colab": {
          "base_uri": "https://localhost:8080/"
        },
        "outputId": "92a0c41a-76c5-4a68-e01e-39a1124ec924"
      },
      "source": [
        "early_stop = callbacks.EarlyStopping(monitor='loss',\n",
        "                                     min_delta=0,\n",
        "                                     patience=1,\n",
        "                                     verbose=1,\n",
        "                                     mode='auto',\n",
        "                                     baseline=0.006,\n",
        "                                     restore_best_weights=False)\n",
        "\n",
        "\n",
        "model.fit(X_train, y_train,\n",
        "          epochs=num_epochs,\n",
        "          steps_per_epoch=100,\n",
        "          validation_data=(X_test, y_test),\n",
        "          verbose=1,\n",
        "          callbacks=[early_stop])"
      ],
      "execution_count": null,
      "outputs": [
        {
          "output_type": "stream",
          "name": "stdout",
          "text": [
            "Epoch 1/4\n",
            "100/100 [==============================] - 2s 22ms/step - loss: 0.0229 - accuracy: 0.9945 - val_loss: 0.0811 - val_accuracy: 0.9758\n",
            "Epoch 2/4\n",
            "100/100 [==============================] - 2s 18ms/step - loss: 0.0209 - accuracy: 0.9950 - val_loss: 0.0833 - val_accuracy: 0.9757\n",
            "Epoch 00002: early stopping\n"
          ]
        },
        {
          "output_type": "execute_result",
          "data": {
            "text/plain": [
              "<keras.callbacks.History at 0x7fe20e855190>"
            ]
          },
          "metadata": {},
          "execution_count": 82
        }
      ]
    },
    {
      "cell_type": "markdown",
      "metadata": {
        "id": "mO3P_Dg9Tytp"
      },
      "source": [
        "### ReduceLROnPlateau"
      ]
    },
    {
      "cell_type": "markdown",
      "metadata": {
        "id": "43m3Tyw2TyiI"
      },
      "source": [
        "Уменьшение скорости обучения, когда метрика перестала улучшаться.\n",
        "\n",
        "Модели зачастую работают лучше если уменьшать скорость обучения. Этот callback следит за параметром monitor и, если не происходит улучшения за patience эпох, уменьшает скорость обучения.\n",
        "\n",
        "\n",
        "**Аргументы**\n",
        "\n",
        "— monitor:  параметр для мониторинга\n",
        "\n",
        "— factor: коэффициент уменьшения скорости обучения. new_lr = lr * factor\n",
        "\n",
        "— patience: число эпох, за которые величина monitor не улучшается, после которых обучение будет остановлено. Проверочные величины могут производиться не после каждой эпохи если validation_freq (model.fit(validation_freq=5)) больше единицы.\n",
        "\n",
        "— verbose: int. 0: «тихий» режим, 1: выводить сообщения\n",
        "\n",
        "— mode: один из {auto, min, max}. В режиме min, скорость обучения уменьшится когда величина monitor перестанет уменьшаться; в режиме max, скорость обучения уменьшится когда величина monitor перестанет увеличиваться; в режиме auto, mode выбирается в зависимости от имени monitor.\n",
        "\n",
        "— min_delta: минимальное значение изменения величины monitor, расцениваемое как улучшение, то есть, если абсолютное изменение меньше min_delta, то улучшение не засчитывается\n",
        "\n",
        "— cooldown: число эпох после уменьшения скорости обучения, которые должны пройти, прежде чем стандартный процесс уменьшения возобновится.\n",
        "\n",
        "— min_lr: нижняя граница скорости обучения"
      ]
    },
    {
      "cell_type": "code",
      "metadata": {
        "id": "F0RUMg1mT6Y_",
        "colab": {
          "base_uri": "https://localhost:8080/"
        },
        "outputId": "0859d6f7-1f13-490f-c391-eb9a772717b9"
      },
      "source": [
        "reduce_lr = callbacks.ReduceLROnPlateau(monitor='val_accuracy',\n",
        "                                        factor=0.1,\n",
        "                                        patience=0,\n",
        "                                        verbose=1,\n",
        "                                        mode='auto',\n",
        "                                        min_delta=0.001,\n",
        "                                        cooldown=0,\n",
        "                                        min_lr=1e-10) \n",
        "\n",
        "model.fit(X_train, y_train,\n",
        "          epochs=num_epochs,\n",
        "          steps_per_epoch=100,\n",
        "          validation_data=(X_test, y_test),\n",
        "          verbose=1,\n",
        "          callbacks=[reduce_lr])"
      ],
      "execution_count": null,
      "outputs": [
        {
          "output_type": "stream",
          "name": "stdout",
          "text": [
            "Epoch 1/4\n",
            "100/100 [==============================] - 2s 18ms/step - loss: 0.1409 - accuracy: 0.9593 - val_loss: 0.1402 - val_accuracy: 0.9585 - lr: 0.0010\n",
            "Epoch 2/4\n",
            "100/100 [==============================] - 2s 18ms/step - loss: 0.1258 - accuracy: 0.9640 - val_loss: 0.1288 - val_accuracy: 0.9602 - lr: 0.0010\n",
            "Epoch 3/4\n",
            "100/100 [==============================] - 2s 18ms/step - loss: 0.1136 - accuracy: 0.9671 - val_loss: 0.1241 - val_accuracy: 0.9618 - lr: 0.0010\n",
            "Epoch 4/4\n",
            " 91/100 [==========================>...] - ETA: 0s - loss: 0.1019 - accuracy: 0.9709\n",
            "Epoch 00004: ReduceLROnPlateau reducing learning rate to 0.00010000000474974513.\n",
            "100/100 [==============================] - 1s 13ms/step - loss: 0.1024 - accuracy: 0.9706 - val_loss: 0.1206 - val_accuracy: 0.9626 - lr: 0.0010\n"
          ]
        },
        {
          "output_type": "execute_result",
          "data": {
            "text/plain": [
              "<keras.callbacks.History at 0x7fe300cf1850>"
            ]
          },
          "metadata": {},
          "execution_count": 46
        }
      ]
    },
    {
      "cell_type": "markdown",
      "metadata": {
        "id": "NRSQbmXD9U98"
      },
      "source": [
        "## Домашнее задание <a class='anchor' id='hw'>\n",
        "\n",
        "Используем набор примеров fashion-MNIST\n",
        "1. Опишите - какой результат нейросети получен в зависимости от:\n",
        "  - числа нейронов в слое (для 2-х слойной сети), \n",
        "  - числа слоев (2, 3, 5, 10) при близких размерах сети (близкое число тренируемых параметров).\n",
        "  - фиксируйте для тренировочного и тестового набора метрики accuracy.\n",
        "2.  Проверьте работу разных оптимизаторов (SGD, Adam, RMSProp) для одной из моделей п.1. Фиксируйте для тренировочного и тестового набора метрики accuracy.\n",
        "\n",
        "3. Сделайте вывод - что помогло вам улучшить качество классификации в нейросети на тестовом наборе? \n",
        "\n",
        "4. Для одного варианта сети сформируйте матрицу ошибок по классам. Оцените качество модели по каждому классу отдельно (полнота, точность)."
      ]
    },
    {
      "cell_type": "markdown",
      "metadata": {
        "id": "m2wW13WB9U99"
      },
      "source": [
        "## Дополнительные материалы\n",
        "\n",
        "\n",
        "1. [Документация Keras](https://keras.io/about/)\n",
        "2. [Документация Keras на русском](https://ru-keras.com/home/)\n",
        "3. [Топ-10 фреймворков для ИИ](https://vc.ru/ml/80391-top-10-freymvorkov-dlya-iskusstvennogo-intellekta-chast-pervaya)\n",
        "4. [Deep Learning-All Optimizers In One Video](https://www.youtube.com/watch?v=TudQZtgpoHk)"
      ]
    },
    {
      "cell_type": "markdown",
      "metadata": {
        "id": "v6h1K5ET9U9_"
      },
      "source": [
        "## Используемая литература \n",
        "\n",
        "Для подготовки данного методического пособия были использованы следующие ресурсы:\n",
        "<ol>\n",
        "    <li>https://keras.io/</li>\n",
        "    <li>Шакла Н. — Машинное обучение и TensorFlow 2019</li>\n",
        "    <li>Википедия</li>\n",
        "    \n",
        "</ol>"
      ]
    },
    {
      "cell_type": "markdown",
      "metadata": {
        "id": "v7megjGzaLge"
      },
      "source": [
        "## Определения\n",
        "\n",
        "**Keras** — открытая нейросетевая библиотека, написанная на языке Python. Она представляет собой надстройку над фреймворками Deeplearning4j, TensorFlow и Theano.\n",
        "\n",
        "\n",
        "**Порядок работы с нейронной сетью**:\n",
        "1. Подготовка данных (нормализация)\n",
        "2. Создание архитектуры модели\n",
        "3. Компиляция модели\n",
        "    - выбор функции потерь\n",
        "    - выбор метрики качества\n",
        "    - выбор оптимизатора\n",
        "4. Обучение модели\n",
        "5. Оценка её качества\n",
        "\n",
        "___________\n",
        "\n",
        "**Callback (обратные вызовы)** – набор функций, применяемых в определенные моменты во время процедуры обучения.\n"
      ]
    }
  ]
}