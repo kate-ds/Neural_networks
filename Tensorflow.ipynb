{
  "nbformat": 4,
  "nbformat_minor": 0,
  "metadata": {
    "colab": {
      "name": "Web3.ipynb",
      "provenance": [],
      "collapsed_sections": [],
      "toc_visible": true
    },
    "kernelspec": {
      "display_name": "Python 3",
      "language": "python",
      "name": "python3"
    },
    "language_info": {
      "codemirror_mode": {
        "name": "ipython",
        "version": 3
      },
      "file_extension": ".py",
      "mimetype": "text/x-python",
      "name": "python",
      "nbconvert_exporter": "python",
      "pygments_lexer": "ipython3",
      "version": "3.7.6"
    },
    "accelerator": "GPU"
  },
  "cells": [
    {
      "cell_type": "markdown",
      "metadata": {
        "id": "j9uRd98UFzPL"
      },
      "source": [
        "# Введение в искусственные нейронные сети\n",
        "# Урок 3. TensorFlow"
      ]
    },
    {
      "cell_type": "markdown",
      "metadata": {
        "id": "k3iOZn2wFzPQ"
      },
      "source": [
        "## Содержание методического пособия:\n",
        "\n",
        "\n",
        "<ol>\n",
        "<li>Что такое TensorFlow</li>\n",
        "<li>Основы синтаксиса TensorFlow</li>\n",
        "<li>Пример нейросети на TensorFlow</li>\n",
        "</ol>"
      ]
    },
    {
      "cell_type": "markdown",
      "metadata": {
        "id": "Sx3Su3u6FzPS"
      },
      "source": [
        "## Что такое TensorFlow\n",
        "\n",
        "TensorFlow - это фреймворк для создания ML моделей. TensorFlow предназначен в первую очередь для Deep Learning, т.е. создания современных нейросетей. Однако в TensorFlow также есть поддержка некоторых классических ML алгоритмов: K-means clustering, Random Forests, Support Vector Machines, Gaussian Mixture Model clustering, Linear/logistic regression.\n",
        "\n",
        "TensorFlow выпустила компания Google в 2015. TensorFlow - это opensource проект. На данный момент это один из основных инструментов для создания нейросетей в рабочих целях. TensorFlow позволяет создавать нейронные сети как для кластеров из большого количества вычислительных устройств, так и для устройств с относительно небольшой вычислитей мощностью, таких как смартфоны и одноплатные компьютеры.\n",
        "\n",
        "TensorFlow применяется самой компанией Google для ее поиска, почты, переводчика, распознования голоса, внутренних нужд наподобие мониторинга оборудования. TensorFlow используется различными компаниями для различных проектов, связанных с компьютерным зрением, решением задач ранжирования и т.д.\n",
        "\n",
        "\n",
        "<img src=\"https://drive.google.com/uc?export=view&id=1YSzD1P42f8aEjE7V6bKcu3kc2oLsOFaY\" width=600px />"
      ]
    },
    {
      "cell_type": "markdown",
      "metadata": {
        "id": "mBqyxNwdFzPU"
      },
      "source": [
        "## Основы синтаксиса TensorFlow\n",
        "\n",
        "Процесс создания нейросети на TensorFlow схож с разобранным нами процессом обучения нейросети на Keras. Отличее здесь в том, что здесь нам нужно прописать больше деталей в коде. \n",
        "\n",
        "Особенностью TensorFlow версии 1 является то, что сначала необходимо декларировать переменные и вычисления, которые будут совершены над ними, а потом уже непосредственно запускать работу над данными.\n",
        "Tf версии 1 менее дружественный к разработчикам."
      ]
    },
    {
      "cell_type": "markdown",
      "metadata": {
        "id": "NTDIFFhhFzPW"
      },
      "source": [
        "Давайте рассмотрим базовые вещи в синтаксисе Tensorflow 2."
      ]
    },
    {
      "cell_type": "markdown",
      "metadata": {
        "id": "BuAYrRxLFzPY"
      },
      "source": [
        "Выведем строку Hello world, а также версию tensorflow"
      ]
    },
    {
      "cell_type": "code",
      "metadata": {
        "id": "A4Hcl_IoHv7n"
      },
      "source": [
        "#!pip install tensorflow"
      ],
      "execution_count": null,
      "outputs": []
    },
    {
      "cell_type": "code",
      "metadata": {
        "id": "75BVCTdbFzPa",
        "colab": {
          "base_uri": "https://localhost:8080/"
        },
        "outputId": "e646ba82-3ed8-4a6c-b28a-c4f698052010"
      },
      "source": [
        "import tensorflow as tf\n",
        "import numpy as np\n",
        "\n",
        "print(tf.__version__)"
      ],
      "execution_count": 2,
      "outputs": [
        {
          "output_type": "stream",
          "name": "stdout",
          "text": [
            "2.7.0\n"
          ]
        }
      ]
    },
    {
      "cell_type": "code",
      "metadata": {
        "id": "CGsyoNWj6oZj",
        "colab": {
          "base_uri": "https://localhost:8080/"
        },
        "outputId": "9c9ef812-476a-498d-bdc8-ca15456ad0c0"
      },
      "source": [
        "tf.config.list_physical_devices('GPU')"
      ],
      "execution_count": 4,
      "outputs": [
        {
          "output_type": "execute_result",
          "data": {
            "text/plain": [
              "[PhysicalDevice(name='/physical_device:GPU:0', device_type='GPU')]"
            ]
          },
          "metadata": {},
          "execution_count": 4
        }
      ]
    },
    {
      "cell_type": "code",
      "metadata": {
        "colab": {
          "base_uri": "https://localhost:8080/"
        },
        "id": "5JL0-iQ4lbIM",
        "outputId": "26a57c77-d47b-4cd7-a78f-3bfa07fa1e93"
      },
      "source": [
        "!nvidia-smi"
      ],
      "execution_count": 5,
      "outputs": [
        {
          "output_type": "stream",
          "name": "stdout",
          "text": [
            "Wed Feb  9 13:16:01 2022       \n",
            "+-----------------------------------------------------------------------------+\n",
            "| NVIDIA-SMI 460.32.03    Driver Version: 460.32.03    CUDA Version: 11.2     |\n",
            "|-------------------------------+----------------------+----------------------+\n",
            "| GPU  Name        Persistence-M| Bus-Id        Disp.A | Volatile Uncorr. ECC |\n",
            "| Fan  Temp  Perf  Pwr:Usage/Cap|         Memory-Usage | GPU-Util  Compute M. |\n",
            "|                               |                      |               MIG M. |\n",
            "|===============================+======================+======================|\n",
            "|   0  Tesla K80           Off  | 00000000:00:04.0 Off |                    0 |\n",
            "| N/A   41C    P8    27W / 149W |      3MiB / 11441MiB |      0%      Default |\n",
            "|                               |                      |                  N/A |\n",
            "+-------------------------------+----------------------+----------------------+\n",
            "                                                                               \n",
            "+-----------------------------------------------------------------------------+\n",
            "| Processes:                                                                  |\n",
            "|  GPU   GI   CI        PID   Type   Process name                  GPU Memory |\n",
            "|        ID   ID                                                   Usage      |\n",
            "|=============================================================================|\n",
            "|  No running processes found                                                 |\n",
            "+-----------------------------------------------------------------------------+\n"
          ]
        }
      ]
    },
    {
      "cell_type": "markdown",
      "metadata": {
        "id": "JZzcooQUe83I"
      },
      "source": [
        "\n",
        "Название TensorFlow означает поток тензоров. Тензоры - это массивы. Данные в компьютере представлены часто в виде массивах и работа с этими массивами подразумевает их преобразования. Преобразования осуществляются через, к примеру, математические операции. Работа TensorFlow складывается из цепочки преобразований тензоров, т.е. данных. Сами операции осуществляющие преобразование данных представлены в TensorFlow в виде графов.\n",
        "\n",
        "<img src='https://drive.google.com/uc?export=view&id=1pDiSoBIL8IBpIFq3R4OKGRW3YseBRvFm'>\n",
        "\n",
        "\n",
        "Визуализизация тензора с более чем двумя осями:\n",
        "\n",
        "<img src='https://drive.google.com/uc?Export=view&id=1C6pu0iDx1Ugz2OMyE9d6KZH9IcN3-STG'>\n",
        "<img src='https://drive.google.com/uc?export=view&id=1cmVLwGNLc8fkDpmNZreTecMNCXgD6zGl'>\n",
        "<img src='https://drive.google.com/uc?export=view&id=1XiGSZVsVQrlH279eu2IK1bekSvccX6aT'>\n",
        "\n",
        "Все тензоры неизменны, как числа и строки Python: вы никогда не можете обновить содержимое тензора, только создать новый."
      ]
    },
    {
      "cell_type": "markdown",
      "metadata": {
        "id": "S4ZN0rdqFzPh"
      },
      "source": [
        "Пример создания тензора «скаляра» или «ранга 0». Скаляр содержит одно значение и не содержит «осей».\n",
        "\n"
      ]
    },
    {
      "cell_type": "code",
      "metadata": {
        "colab": {
          "base_uri": "https://localhost:8080/"
        },
        "id": "ok8XBconl8yA",
        "outputId": "b5cbca9d-4ffe-47ff-847a-cd3142ec8d43"
      },
      "source": [
        "tf.constant(3)"
      ],
      "execution_count": 6,
      "outputs": [
        {
          "output_type": "execute_result",
          "data": {
            "text/plain": [
              "<tf.Tensor: shape=(), dtype=int32, numpy=3>"
            ]
          },
          "metadata": {},
          "execution_count": 6
        }
      ]
    },
    {
      "cell_type": "markdown",
      "metadata": {
        "id": "POx5-AKumIq-"
      },
      "source": [
        "Тензор «вектора» или «ранга 1» подобен списку значений. Вектор имеет одну ось.\n",
        "\n"
      ]
    },
    {
      "cell_type": "code",
      "metadata": {
        "colab": {
          "base_uri": "https://localhost:8080/"
        },
        "id": "Tu0MLmb8mJfW",
        "outputId": "b81e6480-0356-49ad-a888-e10d74f27329"
      },
      "source": [
        "tf.constant([2.0, 3.0, 4.0])"
      ],
      "execution_count": 7,
      "outputs": [
        {
          "output_type": "execute_result",
          "data": {
            "text/plain": [
              "<tf.Tensor: shape=(3,), dtype=float32, numpy=array([2., 3., 4.], dtype=float32)>"
            ]
          },
          "metadata": {},
          "execution_count": 7
        }
      ]
    },
    {
      "cell_type": "markdown",
      "metadata": {
        "id": "edImEJJ2mRVG"
      },
      "source": [
        "Тензор «матрицы» или «ранга 2» имеет две оси.\n",
        "\n"
      ]
    },
    {
      "cell_type": "code",
      "metadata": {
        "id": "VATG0L6IFzPj",
        "colab": {
          "base_uri": "https://localhost:8080/"
        },
        "outputId": "0b5650fa-d7f3-404c-b78b-1f5669db7971"
      },
      "source": [
        "A = tf.constant([[3, 2], \n",
        "                 [5, 2]])\n",
        "\n",
        "A"
      ],
      "execution_count": 8,
      "outputs": [
        {
          "output_type": "execute_result",
          "data": {
            "text/plain": [
              "<tf.Tensor: shape=(2, 2), dtype=int32, numpy=\n",
              "array([[3, 2],\n",
              "       [5, 2]], dtype=int32)>"
            ]
          },
          "metadata": {},
          "execution_count": 8
        }
      ]
    },
    {
      "cell_type": "markdown",
      "metadata": {
        "id": "svJkkz1om4uc"
      },
      "source": [
        "Вы можете преобразовать тензор в массив NumPy либо с помощью np.array либо с tensor.numpy метода tensor.numpy."
      ]
    },
    {
      "cell_type": "code",
      "metadata": {
        "colab": {
          "base_uri": "https://localhost:8080/",
          "height": 85
        },
        "id": "13w3RsEkm7wI",
        "outputId": "3f228d1b-bb7d-4cda-e811-d4ec34dfe364"
      },
      "source": [
        "display(np.array(A), A.numpy())"
      ],
      "execution_count": 9,
      "outputs": [
        {
          "output_type": "display_data",
          "data": {
            "text/plain": [
              "array([[3, 2],\n",
              "       [5, 2]], dtype=int32)"
            ]
          },
          "metadata": {}
        },
        {
          "output_type": "display_data",
          "data": {
            "text/plain": [
              "array([[3, 2],\n",
              "       [5, 2]], dtype=int32)"
            ]
          },
          "metadata": {}
        }
      ]
    },
    {
      "cell_type": "markdown",
      "metadata": {
        "id": "van47kdAFzPp"
      },
      "source": [
        "Пример сложения и поэлементного умножения тензоров."
      ]
    },
    {
      "cell_type": "code",
      "metadata": {
        "id": "wYwJYGSvFzPr",
        "colab": {
          "base_uri": "https://localhost:8080/"
        },
        "outputId": "bcc56f8b-ef99-468f-966a-5be5530c4dc1"
      },
      "source": [
        "B = tf.constant([[9, 5], \n",
        "                 [1, 3]])\n",
        "\n",
        "\n",
        "print(tf.add(A, B), \"\\n\")\n",
        "print(A + B, \"\\n\")\n",
        "\n",
        "\n",
        "print(tf.multiply(A, B), \"\\n\")\n",
        "print(A * B, \"\\n\")\n",
        "\n",
        "\n",
        "AB = tf.concat(values=[A, B], axis=0)\n",
        "print(AB.numpy())"
      ],
      "execution_count": 10,
      "outputs": [
        {
          "output_type": "stream",
          "name": "stdout",
          "text": [
            "tf.Tensor(\n",
            "[[12  7]\n",
            " [ 6  5]], shape=(2, 2), dtype=int32) \n",
            "\n",
            "tf.Tensor(\n",
            "[[12  7]\n",
            " [ 6  5]], shape=(2, 2), dtype=int32) \n",
            "\n",
            "tf.Tensor(\n",
            "[[27 10]\n",
            " [ 5  6]], shape=(2, 2), dtype=int32) \n",
            "\n",
            "tf.Tensor(\n",
            "[[27 10]\n",
            " [ 5  6]], shape=(2, 2), dtype=int32) \n",
            "\n",
            "[[3 2]\n",
            " [5 2]\n",
            " [9 5]\n",
            " [1 3]]\n"
          ]
        }
      ]
    },
    {
      "cell_type": "markdown",
      "metadata": {
        "id": "XTfjbLKLFzPx"
      },
      "source": [
        "Пример изменения размерности тензора. "
      ]
    },
    {
      "cell_type": "code",
      "metadata": {
        "id": "Yk_mB4qGFzPz",
        "colab": {
          "base_uri": "https://localhost:8080/"
        },
        "outputId": "3e23c408-0f8c-4745-be58-1eb329d3c1ee"
      },
      "source": [
        "tensor = tf.constant([[3, 2], \n",
        "                      [5, 2], \n",
        "                      [9, 5], \n",
        "                      [1, 3]])\n",
        "\n",
        "resh_tensor = tf.reshape(tensor=tensor, shape=(1, 8)) \n",
        "\n",
        "print(f'BEFORE {tensor.numpy()}')\n",
        "print(f'AFTER {resh_tensor.numpy()}')"
      ],
      "execution_count": 11,
      "outputs": [
        {
          "output_type": "stream",
          "name": "stdout",
          "text": [
            "BEFORE [[3 2]\n",
            " [5 2]\n",
            " [9 5]\n",
            " [1 3]]\n",
            "AFTER [[3 2 5 2 9 5 1 3]]\n"
          ]
        }
      ]
    },
    {
      "cell_type": "markdown",
      "metadata": {
        "id": "txp4OBMXFzP6"
      },
      "source": [
        "Пример матричного умножения."
      ]
    },
    {
      "cell_type": "code",
      "metadata": {
        "id": "2VM7TqHlFzP8",
        "colab": {
          "base_uri": "https://localhost:8080/"
        },
        "outputId": "25819968-11cd-4c5e-c552-2a02cacbb71b"
      },
      "source": [
        "A = tf.constant([[3, 7], \n",
        "                 [1, 9],\n",
        "                 [1, 2]])\n",
        "\n",
        "\n",
        "B = tf.constant([[10, 10],\n",
        "                 [1, 1]])\n",
        "\n",
        "print(A.shape, B.shape, \"\\n\")\n",
        "\n",
        "print(tf.matmul(A, B), \"\\n\")\n",
        "print(A @ B, \"\\n\")"
      ],
      "execution_count": 12,
      "outputs": [
        {
          "output_type": "stream",
          "name": "stdout",
          "text": [
            "(3, 2) (2, 2) \n",
            "\n",
            "tf.Tensor(\n",
            "[[37 37]\n",
            " [19 19]\n",
            " [12 12]], shape=(3, 2), dtype=int32) \n",
            "\n",
            "tf.Tensor(\n",
            "[[37 37]\n",
            " [19 19]\n",
            " [12 12]], shape=(3, 2), dtype=int32) \n",
            "\n"
          ]
        }
      ]
    },
    {
      "cell_type": "code",
      "metadata": {
        "id": "iwFVgO3t_Ghj",
        "colab": {
          "base_uri": "https://localhost:8080/"
        },
        "outputId": "67a53e9d-fa62-4598-a864-b6b82ff3e2b9"
      },
      "source": [
        "x = tf.random.uniform([3, 3])\n",
        "\n",
        "print(\"есть ли доступные GPU:\"),\n",
        "print(tf.config.list_physical_devices(\"GPU\"))\n",
        "\n",
        "print(\"\\nгде находится тензор\")\n",
        "print(x.device)"
      ],
      "execution_count": 13,
      "outputs": [
        {
          "output_type": "stream",
          "name": "stdout",
          "text": [
            "есть ли доступные GPU:\n",
            "[PhysicalDevice(name='/physical_device:GPU:0', device_type='GPU')]\n",
            "\n",
            "где находится тензор\n",
            "/job:localhost/replica:0/task:0/device:GPU:0\n"
          ]
        }
      ]
    },
    {
      "cell_type": "code",
      "metadata": {
        "id": "oajro_Ip_hap",
        "colab": {
          "base_uri": "https://localhost:8080/"
        },
        "outputId": "20dd5353-10a0-4e1f-affe-8ed4803be983"
      },
      "source": [
        "import time\n",
        "\n",
        "def time_matmul(x):\n",
        "  start = time.time()\n",
        "  for loop in range(10):\n",
        "    tf.matmul(x, x)\n",
        "\n",
        "  result = time.time() - start\n",
        "\n",
        "  print(\"10 циклов: {:0.2f}ms\".format(1000 * result))\n",
        "\n",
        "# исполнение CPU\n",
        "print(\"CPU:\")\n",
        "with tf.device(\"CPU:0\"):\n",
        "  x = tf.random.uniform([1000, 1000])\n",
        "  assert x.device.endswith(\"CPU:0\")\n",
        "  time_matmul(x)\n",
        "\n",
        "# исполнение на GPU #0 , если доступен\n",
        "if tf.config.list_physical_devices(\"GPU\"):\n",
        "  print(\"GPU:\")\n",
        "  with tf.device(\"GPU:0\"): # или GPU:1 , для 2х GPU, GPU:2 для 3х  и т.д.\n",
        "    x = tf.random.uniform([1000, 1000])\n",
        "    assert x.device.endswith(\"GPU:0\")\n",
        "    time_matmul(x)"
      ],
      "execution_count": 16,
      "outputs": [
        {
          "output_type": "stream",
          "name": "stdout",
          "text": [
            "CPU:\n",
            "10 циклов: 357.88ms\n",
            "GPU:\n",
            "10 циклов: 2.02ms\n"
          ]
        }
      ]
    },
    {
      "cell_type": "markdown",
      "metadata": {
        "id": "Tc9NTP1_FzQC"
      },
      "source": [
        "Функции tensorflow призваны ускорить вычисления, давайте посмотрим на следующий пример - "
      ]
    },
    {
      "cell_type": "code",
      "metadata": {
        "id": "qBUSq3dWHUjF",
        "colab": {
          "base_uri": "https://localhost:8080/"
        },
        "outputId": "1d9debd5-1473-4f5c-90cc-796ad6d9d4fa"
      },
      "source": [
        "from tensorflow.keras.datasets import mnist\n",
        "\n",
        "\n",
        "(X_train, y_train_labels), (X_test, y_test_labels) = mnist.load_data()\n",
        "\n",
        "# Нормализация\n",
        "X_train = (X_train / 255.0)\n",
        "X_test = (X_test / 255.0)\n",
        "\n",
        "# Векторизация (вытягиваем картинку в один вектор)\n",
        "X_train = X_train.reshape((-1, 28 * 28))\n",
        "X_test = X_test.reshape((-1, 28 * 28))\n",
        "\n",
        "print(X_train.shape) # (60000, 784)\n",
        "print(X_test.shape)  # (10000, 784)"
      ],
      "execution_count": null,
      "outputs": [
        {
          "output_type": "stream",
          "name": "stdout",
          "text": [
            "Downloading data from https://storage.googleapis.com/tensorflow/tf-keras-datasets/mnist.npz\n",
            "11493376/11490434 [==============================] - 0s 0us/step\n",
            "11501568/11490434 [==============================] - 0s 0us/step\n",
            "(60000, 784)\n",
            "(10000, 784)\n"
          ]
        }
      ]
    },
    {
      "cell_type": "code",
      "metadata": {
        "id": "ozb2tTqNIBzX"
      },
      "source": [
        "from tensorflow.keras.models import Sequential\n",
        "from tensorflow.keras.layers import Dense\n",
        "from tensorflow.keras.utils import to_categorical"
      ],
      "execution_count": null,
      "outputs": []
    },
    {
      "cell_type": "code",
      "metadata": {
        "id": "NInsePV5QKs4"
      },
      "source": [
        "import matplotlib.pyplot as plt"
      ],
      "execution_count": null,
      "outputs": []
    },
    {
      "cell_type": "code",
      "metadata": {
        "id": "PIIwUIB_GWzd",
        "colab": {
          "base_uri": "https://localhost:8080/"
        },
        "outputId": "12c1a00a-c395-4cd7-a714-b5d7b66c31ef"
      },
      "source": [
        "model = Sequential([\n",
        "    Dense(64, activation='relu', input_shape=(784,)),\n",
        "    Dense(32, activation='linear'),\n",
        "    Dense(10, activation='sigmoid')\n",
        "])\n",
        "\n",
        "model.compile(optimizer='adam',\n",
        "              loss='categorical_crossentropy',\n",
        "              metrics=['accuracy'])\n",
        "\n",
        "model.summary()"
      ],
      "execution_count": null,
      "outputs": [
        {
          "output_type": "stream",
          "name": "stdout",
          "text": [
            "Model: \"sequential\"\n",
            "_________________________________________________________________\n",
            " Layer (type)                Output Shape              Param #   \n",
            "=================================================================\n",
            " dense (Dense)               (None, 64)                50240     \n",
            "                                                                 \n",
            " dense_1 (Dense)             (None, 32)                2080      \n",
            "                                                                 \n",
            " dense_2 (Dense)             (None, 10)                330       \n",
            "                                                                 \n",
            "=================================================================\n",
            "Total params: 52,650\n",
            "Trainable params: 52,650\n",
            "Non-trainable params: 0\n",
            "_________________________________________________________________\n"
          ]
        }
      ]
    },
    {
      "cell_type": "code",
      "metadata": {
        "id": "UmAqbArVIkl9",
        "colab": {
          "base_uri": "https://localhost:8080/"
        },
        "outputId": "3221330b-2977-4caf-ea7d-032d7b5dec4b"
      },
      "source": [
        "history = model.fit(X_train, to_categorical(y_train_labels),\n",
        "                    epochs=2,\n",
        "                    batch_size=2,\n",
        "                    validation_data=(X_test, to_categorical(y_test_labels)))"
      ],
      "execution_count": null,
      "outputs": [
        {
          "output_type": "stream",
          "name": "stdout",
          "text": [
            "Epoch 1/2\n",
            "30000/30000 [==============================] - 114s 4ms/step - loss: 0.2205 - accuracy: 0.9334 - val_loss: 0.1546 - val_accuracy: 0.9572\n",
            "Epoch 2/2\n",
            "30000/30000 [==============================] - 104s 3ms/step - loss: 0.1200 - accuracy: 0.9644 - val_loss: 0.1438 - val_accuracy: 0.9593\n"
          ]
        }
      ]
    },
    {
      "cell_type": "code",
      "metadata": {
        "id": "8RzpMwruRFdS",
        "colab": {
          "base_uri": "https://localhost:8080/",
          "height": 295
        },
        "outputId": "3b285e24-1c91-4268-dedb-4f34d86a1e3a"
      },
      "source": [
        "plt.plot(history.history['val_accuracy'], label='val')\n",
        "plt.plot(history.history['accuracy'], label='train')\n",
        "plt.legend()\n",
        "plt.xlabel('epoch')\n",
        "plt.ylabel('accuracy')\n",
        "plt.title('точность сети от эпох')\n",
        "plt.show()"
      ],
      "execution_count": null,
      "outputs": [
        {
          "output_type": "display_data",
          "data": {
            "image/png": "[encoded data removed]",
            "text/plain": [
              "<Figure size 432x288 with 1 Axes>"
            ]
          },
          "metadata": {
            "needs_background": "light"
          }
        }
      ]
    },
    {
      "cell_type": "markdown",
      "metadata": {
        "id": "3ryqbwOjgEVE"
      },
      "source": [
        "Из-за маленького значения batch_size обучение занимает очень много времени, попробуем увеличить его до 2000."
      ]
    },
    {
      "cell_type": "code",
      "metadata": {
        "id": "2Zm-TPIKO-Y_",
        "colab": {
          "base_uri": "https://localhost:8080/"
        },
        "outputId": "16658d54-9bf9-4311-a1ad-171eea30c1bc"
      },
      "source": [
        "model2 = Sequential([\n",
        "    Dense(64, activation='relu', input_shape=(784,)),\n",
        "    Dense(32, activation='linear'),\n",
        "    Dense(10, activation='sigmoid')\n",
        "])\n",
        "\n",
        "model2.compile(optimizer='adam',\n",
        "               loss='categorical_crossentropy',\n",
        "               metrics=['accuracy'])\n",
        "\n",
        "history2 = model2.fit(X_train, to_categorical(y_train_labels),\n",
        "                      epochs=5,\n",
        "                      batch_size=2000,\n",
        "                      validation_data=(X_test, to_categorical(y_test_labels)))"
      ],
      "execution_count": null,
      "outputs": [
        {
          "output_type": "stream",
          "name": "stdout",
          "text": [
            "Epoch 1/5\n",
            "30/30 [==============================] - 1s 13ms/step - loss: 1.2717 - accuracy: 0.6420 - val_loss: 0.6009 - val_accuracy: 0.8388\n",
            "Epoch 2/5\n",
            "30/30 [==============================] - 0s 7ms/step - loss: 0.4772 - accuracy: 0.8678 - val_loss: 0.3718 - val_accuracy: 0.8978\n",
            "Epoch 3/5\n",
            "30/30 [==============================] - 0s 8ms/step - loss: 0.3412 - accuracy: 0.9045 - val_loss: 0.2979 - val_accuracy: 0.9192\n",
            "Epoch 4/5\n",
            "30/30 [==============================] - 0s 7ms/step - loss: 0.2818 - accuracy: 0.9209 - val_loss: 0.2565 - val_accuracy: 0.9273\n",
            "Epoch 5/5\n",
            "30/30 [==============================] - 0s 9ms/step - loss: 0.2466 - accuracy: 0.9309 - val_loss: 0.2298 - val_accuracy: 0.9354\n"
          ]
        }
      ]
    },
    {
      "cell_type": "code",
      "metadata": {
        "id": "PhX7tQdBSOI5",
        "colab": {
          "base_uri": "https://localhost:8080/",
          "height": 295
        },
        "outputId": "76851e70-e0df-4d9a-c934-8e128a299001"
      },
      "source": [
        "plt.plot(history2.history['val_accuracy'], label='val')\n",
        "plt.plot(history2.history['accuracy'], label='train')\n",
        "plt.legend()\n",
        "plt.xlabel('epoch')\n",
        "plt.ylabel('accuracy')\n",
        "plt.title('точность сети от эпох')\n",
        "plt.show()"
      ],
      "execution_count": null,
      "outputs": [
        {
          "output_type": "display_data",
          "data": {
            "image/png": "[encoded data removed]",
            "text/plain": [
              "<Figure size 432x288 with 1 Axes>"
            ]
          },
          "metadata": {
            "needs_background": "light"
          }
        }
      ]
    },
    {
      "cell_type": "markdown",
      "metadata": {
        "id": "ubaqhSOiTj9R"
      },
      "source": [
        "### Оптимизаторы"
      ]
    },
    {
      "cell_type": "code",
      "metadata": {
        "id": "5g3px8aXXse6"
      },
      "source": [
        "from tensorflow.keras.optimizers import Adam, SGD"
      ],
      "execution_count": null,
      "outputs": []
    },
    {
      "cell_type": "code",
      "metadata": {
        "id": "51b163fhReiz",
        "colab": {
          "base_uri": "https://localhost:8080/",
          "height": 1000
        },
        "outputId": "9bc0aee7-5ec9-4a08-8d3a-bb0c565b9e25"
      },
      "source": [
        "colors = ['r', 'b', 'g']\n",
        "\n",
        "for i, optim in enumerate([Adam(),\n",
        "                           SGD()]):\n",
        "    model = Sequential([\n",
        "            Dense(64, activation='relu', input_shape=(784,)),\n",
        "            Dense(32, activation='linear'),\n",
        "            Dense(10, activation='sigmoid')\n",
        "        ])\n",
        "\n",
        "    model.compile(optimizer=optim,\n",
        "                    loss='categorical_crossentropy',\n",
        "                    metrics=['accuracy'])\n",
        "\n",
        "    history = model.fit(X_train, to_categorical(y_train_labels),\n",
        "                        epochs=25,\n",
        "                        batch_size=2000,\n",
        "                        validation_data=(X_test, to_categorical(y_test_labels)))\n",
        "    \n",
        "    plt.plot(history.history['val_accuracy'], '--', color=colors[i], label=f\"val {optim.get_config()['name']}\")\n",
        "    plt.plot(history.history['accuracy'], color=colors[i], label=f\"train {optim.get_config()['name']}\")\n",
        "    print('=' * 40)\n",
        "\n",
        "plt.legend()\n",
        "plt.xlabel('epoch')\n",
        "plt.ylabel('accuracy')\n",
        "plt.title('точность сети от эпох')\n",
        "plt.show()"
      ],
      "execution_count": null,
      "outputs": [
        {
          "output_type": "stream",
          "name": "stdout",
          "text": [
            "Epoch 1/25\n",
            "30/30 [==============================] - 1s 14ms/step - loss: 1.3346 - accuracy: 0.6447 - val_loss: 0.6195 - val_accuracy: 0.8465\n",
            "Epoch 2/25\n",
            "30/30 [==============================] - 0s 8ms/step - loss: 0.4785 - accuracy: 0.8712 - val_loss: 0.3610 - val_accuracy: 0.9002\n",
            "Epoch 3/25\n",
            "30/30 [==============================] - 0s 9ms/step - loss: 0.3373 - accuracy: 0.9057 - val_loss: 0.2946 - val_accuracy: 0.9182\n",
            "Epoch 4/25\n",
            "30/30 [==============================] - 0s 8ms/step - loss: 0.2835 - accuracy: 0.9199 - val_loss: 0.2582 - val_accuracy: 0.9277\n",
            "Epoch 5/25\n",
            "30/30 [==============================] - 0s 7ms/step - loss: 0.2477 - accuracy: 0.9306 - val_loss: 0.2322 - val_accuracy: 0.9343\n",
            "Epoch 6/25\n",
            "30/30 [==============================] - 0s 7ms/step - loss: 0.2221 - accuracy: 0.9377 - val_loss: 0.2123 - val_accuracy: 0.9399\n",
            "Epoch 7/25\n",
            "30/30 [==============================] - 0s 7ms/step - loss: 0.2023 - accuracy: 0.9426 - val_loss: 0.1970 - val_accuracy: 0.9427\n",
            "Epoch 8/25\n",
            "30/30 [==============================] - 0s 8ms/step - loss: 0.1870 - accuracy: 0.9472 - val_loss: 0.1837 - val_accuracy: 0.9458\n",
            "Epoch 9/25\n",
            "30/30 [==============================] - 0s 7ms/step - loss: 0.1733 - accuracy: 0.9510 - val_loss: 0.1759 - val_accuracy: 0.9491\n",
            "Epoch 10/25\n",
            "30/30 [==============================] - 0s 8ms/step - loss: 0.1618 - accuracy: 0.9541 - val_loss: 0.1688 - val_accuracy: 0.9513\n",
            "Epoch 11/25\n",
            "30/30 [==============================] - 0s 8ms/step - loss: 0.1515 - accuracy: 0.9573 - val_loss: 0.1587 - val_accuracy: 0.9529\n",
            "Epoch 12/25\n",
            "30/30 [==============================] - 0s 8ms/step - loss: 0.1426 - accuracy: 0.9601 - val_loss: 0.1522 - val_accuracy: 0.9534\n",
            "Epoch 13/25\n",
            "30/30 [==============================] - 0s 9ms/step - loss: 0.1350 - accuracy: 0.9620 - val_loss: 0.1465 - val_accuracy: 0.9575\n",
            "Epoch 14/25\n",
            "30/30 [==============================] - 0s 7ms/step - loss: 0.1278 - accuracy: 0.9632 - val_loss: 0.1424 - val_accuracy: 0.9568\n",
            "Epoch 15/25\n",
            "30/30 [==============================] - 0s 7ms/step - loss: 0.1220 - accuracy: 0.9656 - val_loss: 0.1375 - val_accuracy: 0.9582\n",
            "Epoch 16/25\n",
            "30/30 [==============================] - 0s 9ms/step - loss: 0.1152 - accuracy: 0.9673 - val_loss: 0.1328 - val_accuracy: 0.9604\n",
            "Epoch 17/25\n",
            "30/30 [==============================] - 0s 7ms/step - loss: 0.1092 - accuracy: 0.9692 - val_loss: 0.1300 - val_accuracy: 0.9609\n",
            "Epoch 18/25\n",
            "30/30 [==============================] - 0s 7ms/step - loss: 0.1043 - accuracy: 0.9704 - val_loss: 0.1273 - val_accuracy: 0.9620\n",
            "Epoch 19/25\n",
            "30/30 [==============================] - 0s 7ms/step - loss: 0.0989 - accuracy: 0.9719 - val_loss: 0.1226 - val_accuracy: 0.9629\n",
            "Epoch 20/25\n",
            "30/30 [==============================] - 0s 8ms/step - loss: 0.0946 - accuracy: 0.9732 - val_loss: 0.1199 - val_accuracy: 0.9630\n",
            "Epoch 21/25\n",
            "30/30 [==============================] - 0s 8ms/step - loss: 0.0903 - accuracy: 0.9747 - val_loss: 0.1179 - val_accuracy: 0.9647\n",
            "Epoch 22/25\n",
            "30/30 [==============================] - 0s 7ms/step - loss: 0.0859 - accuracy: 0.9758 - val_loss: 0.1158 - val_accuracy: 0.9631\n",
            "Epoch 23/25\n",
            "30/30 [==============================] - 0s 8ms/step - loss: 0.0818 - accuracy: 0.9770 - val_loss: 0.1129 - val_accuracy: 0.9642\n",
            "Epoch 24/25\n",
            "30/30 [==============================] - 0s 7ms/step - loss: 0.0784 - accuracy: 0.9778 - val_loss: 0.1105 - val_accuracy: 0.9662\n",
            "Epoch 25/25\n",
            "30/30 [==============================] - 0s 7ms/step - loss: 0.0745 - accuracy: 0.9788 - val_loss: 0.1105 - val_accuracy: 0.9654\n",
            "========================================\n",
            "Epoch 1/25\n",
            "30/30 [==============================] - 1s 13ms/step - loss: 2.1701 - accuracy: 0.2549 - val_loss: 2.0084 - val_accuracy: 0.3773\n",
            "Epoch 2/25\n",
            "30/30 [==============================] - 0s 8ms/step - loss: 1.8982 - accuracy: 0.4423 - val_loss: 1.7531 - val_accuracy: 0.5285\n",
            "Epoch 3/25\n",
            "30/30 [==============================] - 0s 7ms/step - loss: 1.6568 - accuracy: 0.5742 - val_loss: 1.5200 - val_accuracy: 0.6355\n",
            "Epoch 4/25\n",
            "30/30 [==============================] - 0s 9ms/step - loss: 1.4430 - accuracy: 0.6553 - val_loss: 1.3229 - val_accuracy: 0.6943\n",
            "Epoch 5/25\n",
            "30/30 [==============================] - 0s 7ms/step - loss: 1.2667 - accuracy: 0.7019 - val_loss: 1.1642 - val_accuracy: 0.7343\n",
            "Epoch 6/25\n",
            "30/30 [==============================] - 0s 7ms/step - loss: 1.1256 - accuracy: 0.7355 - val_loss: 1.0383 - val_accuracy: 0.7600\n",
            "Epoch 7/25\n",
            "30/30 [==============================] - 0s 7ms/step - loss: 1.0129 - accuracy: 0.7609 - val_loss: 0.9375 - val_accuracy: 0.7838\n",
            "Epoch 8/25\n",
            "30/30 [==============================] - 0s 9ms/step - loss: 0.9223 - accuracy: 0.7806 - val_loss: 0.8564 - val_accuracy: 0.8027\n",
            "Epoch 9/25\n",
            "30/30 [==============================] - 0s 8ms/step - loss: 0.8489 - accuracy: 0.7948 - val_loss: 0.7910 - val_accuracy: 0.8148\n",
            "Epoch 10/25\n",
            "30/30 [==============================] - 0s 7ms/step - loss: 0.7892 - accuracy: 0.8066 - val_loss: 0.7372 - val_accuracy: 0.8248\n",
            "Epoch 11/25\n",
            "30/30 [==============================] - 0s 9ms/step - loss: 0.7400 - accuracy: 0.8159 - val_loss: 0.6927 - val_accuracy: 0.8324\n",
            "Epoch 12/25\n",
            "30/30 [==============================] - 0s 7ms/step - loss: 0.6989 - accuracy: 0.8234 - val_loss: 0.6555 - val_accuracy: 0.8394\n",
            "Epoch 13/25\n",
            "30/30 [==============================] - 0s 8ms/step - loss: 0.6643 - accuracy: 0.8300 - val_loss: 0.6239 - val_accuracy: 0.8466\n",
            "Epoch 14/25\n",
            "30/30 [==============================] - 0s 7ms/step - loss: 0.6347 - accuracy: 0.8365 - val_loss: 0.5968 - val_accuracy: 0.8528\n",
            "Epoch 15/25\n",
            "30/30 [==============================] - 0s 7ms/step - loss: 0.6091 - accuracy: 0.8418 - val_loss: 0.5732 - val_accuracy: 0.8565\n",
            "Epoch 16/25\n",
            "30/30 [==============================] - 0s 7ms/step - loss: 0.5867 - accuracy: 0.8466 - val_loss: 0.5525 - val_accuracy: 0.8617\n",
            "Epoch 17/25\n",
            "30/30 [==============================] - 0s 7ms/step - loss: 0.5669 - accuracy: 0.8510 - val_loss: 0.5342 - val_accuracy: 0.8657\n",
            "Epoch 18/25\n",
            "30/30 [==============================] - 0s 7ms/step - loss: 0.5493 - accuracy: 0.8545 - val_loss: 0.5178 - val_accuracy: 0.8693\n",
            "Epoch 19/25\n",
            "30/30 [==============================] - 0s 7ms/step - loss: 0.5336 - accuracy: 0.8581 - val_loss: 0.5033 - val_accuracy: 0.8734\n",
            "Epoch 20/25\n",
            "30/30 [==============================] - 0s 9ms/step - loss: 0.5194 - accuracy: 0.8610 - val_loss: 0.4900 - val_accuracy: 0.8747\n",
            "Epoch 21/25\n",
            "30/30 [==============================] - 0s 9ms/step - loss: 0.5065 - accuracy: 0.8645 - val_loss: 0.4779 - val_accuracy: 0.8769\n",
            "Epoch 22/25\n",
            "30/30 [==============================] - 0s 7ms/step - loss: 0.4947 - accuracy: 0.8669 - val_loss: 0.4669 - val_accuracy: 0.8791\n",
            "Epoch 23/25\n",
            "30/30 [==============================] - 0s 8ms/step - loss: 0.4840 - accuracy: 0.8699 - val_loss: 0.4569 - val_accuracy: 0.8813\n",
            "Epoch 24/25\n",
            "30/30 [==============================] - 0s 8ms/step - loss: 0.4741 - accuracy: 0.8717 - val_loss: 0.4477 - val_accuracy: 0.8834\n",
            "Epoch 25/25\n",
            "30/30 [==============================] - 0s 7ms/step - loss: 0.4650 - accuracy: 0.8740 - val_loss: 0.4391 - val_accuracy: 0.8849\n",
            "========================================\n"
          ]
        },
        {
          "output_type": "display_data",
          "data": {
            "image/png": "[encoded data removed]",
            "text/plain": [
              "<Figure size 432x288 with 1 Axes>"
            ]
          },
          "metadata": {
            "needs_background": "light"
          }
        }
      ]
    },
    {
      "cell_type": "markdown",
      "metadata": {
        "id": "jYysdyb-CaWM"
      },
      "source": [
        "# Классификация изображений одежды"
      ]
    },
    {
      "cell_type": "markdown",
      "metadata": {
        "id": "FbVhjPpzn6BM"
      },
      "source": [
        "Давайте разберем использование tensorflow 2 на примере датасета с одеждой. В этом датасете будут находиться маленькие изображения на белом фоне, такие как кросовки, футболки и прочее.\n",
        "\n",
        "В данном случае мы будем использовать High API от TensorFlow"
      ]
    },
    {
      "cell_type": "code",
      "metadata": {
        "id": "dzLKpmZICaWN",
        "colab": {
          "base_uri": "https://localhost:8080/"
        },
        "outputId": "e1f66eea-0e78-4fc2-d8e1-60e8c7cb6b6d"
      },
      "source": [
        "import tensorflow as tf\n",
        "\n",
        "import numpy as np\n",
        "import matplotlib.pyplot as plt\n",
        "\n",
        "print(tf.__version__)"
      ],
      "execution_count": null,
      "outputs": [
        {
          "output_type": "stream",
          "name": "stdout",
          "text": [
            "2.7.0\n"
          ]
        }
      ]
    },
    {
      "cell_type": "markdown",
      "metadata": {
        "id": "DLdCchMdCaWQ"
      },
      "source": [
        "Мы будет использовать следующий датасет -  [Fashion MNIST](https://github.com/zalandoresearch/fashion-mnist) Этот датасет содержит 70.000 черно-белых изображений в 10 категориях. Изображения имеют разрешение 28x28 пикселей.\n",
        "\n",
        "<table>\n",
        "  <tr><td>\n",
        "    <img src=\"https://tensorflow.org/images/fashion-mnist-sprite.png\"\n",
        "         alt=\"Fashion MNIST sprite\"  width=\"600\">\n",
        "  </td></tr>\n",
        "  <tr><td align=\"center\">\n",
        "    <b>Figure 1.</b> <a href=\"https://github.com/zalandoresearch/fashion-mnist\">Fashion-MNIST samples</a> (by Zalando, MIT License).<br/>&nbsp;\n",
        "  </td></tr>\n",
        "</table>\n",
        "\n",
        "Долгое время в машинном обучение для программ Hello world использовался датасет MNIST с рукописными цифрами. Данный датасет призван несколько усложнить задачу распознования но также подходит в качестве программы Hello world.\n",
        "\n",
        "В этом датасете 60 000 тренировочных изображений и 10 000 тестовых."
      ]
    },
    {
      "cell_type": "code",
      "metadata": {
        "id": "7MqDQO0KCaWS",
        "colab": {
          "base_uri": "https://localhost:8080/"
        },
        "outputId": "c41a40f7-d58b-47e9-99a6-38cc1385e1aa"
      },
      "source": [
        "from keras.datasets import fashion_mnist\n",
        "\n",
        "(X_train, y_train_labels), (X_test, y_test_labels) = fashion_mnist.load_data()"
      ],
      "execution_count": null,
      "outputs": [
        {
          "output_type": "stream",
          "name": "stdout",
          "text": [
            "Downloading data from https://storage.googleapis.com/tensorflow/tf-keras-datasets/train-labels-idx1-ubyte.gz\n",
            "32768/29515 [=================================] - 0s 0us/step\n",
            "40960/29515 [=========================================] - 0s 0us/step\n",
            "Downloading data from https://storage.googleapis.com/tensorflow/tf-keras-datasets/train-images-idx3-ubyte.gz\n",
            "26427392/26421880 [==============================] - 0s 0us/step\n",
            "26435584/26421880 [==============================] - 0s 0us/step\n",
            "Downloading data from https://storage.googleapis.com/tensorflow/tf-keras-datasets/t10k-labels-idx1-ubyte.gz\n",
            "16384/5148 [===============================================================================================] - 0s 0us/step\n",
            "Downloading data from https://storage.googleapis.com/tensorflow/tf-keras-datasets/t10k-images-idx3-ubyte.gz\n",
            "4423680/4422102 [==============================] - 0s 0us/step\n",
            "4431872/4422102 [==============================] - 0s 0us/step\n"
          ]
        }
      ]
    },
    {
      "cell_type": "markdown",
      "metadata": {
        "id": "t9FDsUlxCaWW"
      },
      "source": [
        "Датасет содержит следующие классы:\n",
        "\n",
        "<table>\n",
        "  <tr>\n",
        "    <th>Label</th>\n",
        "    <th>Class</th>\n",
        "  </tr>\n",
        "  <tr>\n",
        "    <td>0</td>\n",
        "    <td>T-shirt/top</td>\n",
        "  </tr>\n",
        "  <tr>\n",
        "    <td>1</td>\n",
        "    <td>Trouser</td>\n",
        "  </tr>\n",
        "    <tr>\n",
        "    <td>2</td>\n",
        "    <td>Pullover</td>\n",
        "  </tr>\n",
        "    <tr>\n",
        "    <td>3</td>\n",
        "    <td>Dress</td>\n",
        "  </tr>\n",
        "    <tr>\n",
        "    <td>4</td>\n",
        "    <td>Coat</td>\n",
        "  </tr>\n",
        "    <tr>\n",
        "    <td>5</td>\n",
        "    <td>Sandal</td>\n",
        "  </tr>\n",
        "    <tr>\n",
        "    <td>6</td>\n",
        "    <td>Shirt</td>\n",
        "  </tr>\n",
        "    <tr>\n",
        "    <td>7</td>\n",
        "    <td>Sneaker</td>\n",
        "  </tr>\n",
        "    <tr>\n",
        "    <td>8</td>\n",
        "    <td>Bag</td>\n",
        "  </tr>\n",
        "    <tr>\n",
        "    <td>9</td>\n",
        "    <td>Ankle boot</td>\n",
        "  </tr>\n",
        "</table>\n",
        "\n",
        "Каждому классу обозначенному цифрой мы можем присвоить текстовое значение -"
      ]
    },
    {
      "cell_type": "code",
      "metadata": {
        "id": "IjnLH5S2CaWx"
      },
      "source": [
        "class_names = ['T-shirt/top',\n",
        "               'Trouser',\n",
        "               'Pullover',\n",
        "               'Dress',\n",
        "               'Coat',\n",
        "               'Sandal',\n",
        "               'Shirt',\n",
        "               'Sneaker',\n",
        "               'Bag',\n",
        "               'Ankle boot']"
      ],
      "execution_count": null,
      "outputs": []
    },
    {
      "cell_type": "markdown",
      "metadata": {
        "id": "Brm0b_KACaWX"
      },
      "source": [
        "Давайте посмотрим структуры полученного массива данных:"
      ]
    },
    {
      "cell_type": "code",
      "metadata": {
        "id": "zW5k_xz1CaWX",
        "colab": {
          "base_uri": "https://localhost:8080/"
        },
        "outputId": "43f1fabd-d21c-4912-e044-d1c398bd74c5"
      },
      "source": [
        "X_train.shape"
      ],
      "execution_count": null,
      "outputs": [
        {
          "output_type": "execute_result",
          "data": {
            "text/plain": [
              "(60000, 28, 28)"
            ]
          },
          "metadata": {},
          "execution_count": 26
        }
      ]
    },
    {
      "cell_type": "code",
      "metadata": {
        "id": "TRFYHB2mCaWb",
        "colab": {
          "base_uri": "https://localhost:8080/"
        },
        "outputId": "afc7584b-c21d-4215-cdb4-1a55e424c9e4"
      },
      "source": [
        "len(y_train_labels)"
      ],
      "execution_count": null,
      "outputs": [
        {
          "output_type": "execute_result",
          "data": {
            "text/plain": [
              "60000"
            ]
          },
          "metadata": {},
          "execution_count": 27
        }
      ]
    },
    {
      "cell_type": "code",
      "metadata": {
        "id": "XKnCTHz4CaWg",
        "colab": {
          "base_uri": "https://localhost:8080/"
        },
        "outputId": "eda68546-d5aa-4837-e0a0-38200d41fbad"
      },
      "source": [
        "y_train_labels"
      ],
      "execution_count": null,
      "outputs": [
        {
          "output_type": "execute_result",
          "data": {
            "text/plain": [
              "array([9, 0, 0, ..., 3, 0, 5], dtype=uint8)"
            ]
          },
          "metadata": {},
          "execution_count": 28
        }
      ]
    },
    {
      "cell_type": "markdown",
      "metadata": {
        "id": "TMPI88iZpO2T"
      },
      "source": [
        "Проанализируем тестовую выборку:"
      ]
    },
    {
      "cell_type": "code",
      "metadata": {
        "id": "2KFnYlcwCaWl",
        "colab": {
          "base_uri": "https://localhost:8080/"
        },
        "outputId": "74eaf991-dcde-4435-cf1e-89988903654c"
      },
      "source": [
        "X_test.shape"
      ],
      "execution_count": null,
      "outputs": [
        {
          "output_type": "execute_result",
          "data": {
            "text/plain": [
              "(10000, 28, 28)"
            ]
          },
          "metadata": {},
          "execution_count": 29
        }
      ]
    },
    {
      "cell_type": "code",
      "metadata": {
        "id": "iJmPr5-ACaWn",
        "colab": {
          "base_uri": "https://localhost:8080/"
        },
        "outputId": "4605c800-3838-4a1f-ea2e-7062fe3c0966"
      },
      "source": [
        "len(y_test_labels)"
      ],
      "execution_count": null,
      "outputs": [
        {
          "output_type": "execute_result",
          "data": {
            "text/plain": [
              "10000"
            ]
          },
          "metadata": {},
          "execution_count": 30
        }
      ]
    },
    {
      "cell_type": "code",
      "metadata": {
        "id": "1PHqiEKY8Ktu"
      },
      "source": [
        "y_train = to_categorical(y_train_labels)\n",
        "y_test = to_categorical(y_test_labels)"
      ],
      "execution_count": null,
      "outputs": []
    },
    {
      "cell_type": "markdown",
      "metadata": {
        "id": "ES6uQoLKCaWr"
      },
      "source": [
        "## Подготовка данных\n",
        "\n",
        "Давайте взглянем на конкретный пример изображений с помощью matplotlib:"
      ]
    },
    {
      "cell_type": "code",
      "metadata": {
        "id": "m4VEw8Ud9Quh",
        "colab": {
          "base_uri": "https://localhost:8080/",
          "height": 265
        },
        "outputId": "12c96a40-2659-4a2d-f28b-71d8fb29ae52"
      },
      "source": [
        "plt.figure()\n",
        "plt.imshow(X_train[0])\n",
        "plt.colorbar()\n",
        "plt.show()"
      ],
      "execution_count": null,
      "outputs": [
        {
          "output_type": "display_data",
          "data": {
            "image/png": "[encoded data removed]",
            "text/plain": [
              "<Figure size 432x288 with 2 Axes>"
            ]
          },
          "metadata": {
            "needs_background": "light"
          }
        }
      ]
    },
    {
      "cell_type": "markdown",
      "metadata": {
        "id": "Wz7l27Lz9S1P"
      },
      "source": [
        "Для процесса обучения нейронной сети нам важно перевести данные из диапазона от 0 до 255 в диапазон от 0 до 1:"
      ]
    },
    {
      "cell_type": "code",
      "metadata": {
        "id": "bW5WzIPlCaWv"
      },
      "source": [
        "X_train = X_train / 255.0\n",
        "X_test = X_test / 255.0"
      ],
      "execution_count": null,
      "outputs": []
    },
    {
      "cell_type": "markdown",
      "metadata": {
        "id": "Ee638AlnCaWz"
      },
      "source": [
        "Посмотрим первые 25 изображений:"
      ]
    },
    {
      "cell_type": "code",
      "metadata": {
        "id": "oZTImqg_CaW1",
        "colab": {
          "base_uri": "https://localhost:8080/",
          "height": 589
        },
        "outputId": "7f73a46e-3ebd-4066-a6de-3e9c0982bbaf"
      },
      "source": [
        "plt.figure(figsize=(10, 10))\n",
        "\n",
        "for i in range(25):\n",
        "    plt.subplot(5, 5, i+1)\n",
        "    plt.xticks([])\n",
        "    plt.yticks([])\n",
        "    plt.imshow(X_train[i], cmap=plt.cm.binary)\n",
        "    plt.xlabel(class_names[y_train_labels[i]])\n",
        "plt.show()"
      ],
      "execution_count": null,
      "outputs": [
        {
          "output_type": "display_data",
          "data": {
            "image/png": "[encoded data removed]",
            "text/plain": [
              "<Figure size 720x720 with 25 Axes>"
            ]
          },
          "metadata": {}
        }
      ]
    },
    {
      "cell_type": "markdown",
      "metadata": {
        "id": "59veuiEZCaW4"
      },
      "source": [
        "## Построение модели\n",
        "\n",
        "Построение нейронной сети подразумевает конфигурацию ее слоев и последующую компиляцию."
      ]
    },
    {
      "cell_type": "markdown",
      "metadata": {
        "id": "Gxg1XGm0eOBy"
      },
      "source": [
        "### Определение слоев\n",
        "\n",
        "Давайте создадим 3 слоя нейронной сети с помощью функционала Keras.layers"
      ]
    },
    {
      "cell_type": "code",
      "metadata": {
        "id": "UqVUwO9Px9iQ"
      },
      "source": [
        "from tensorflow.keras.layers import Input, Flatten, Dense\n",
        "from tensorflow.keras.models import Model"
      ],
      "execution_count": null,
      "outputs": []
    },
    {
      "cell_type": "markdown",
      "metadata": {
        "id": "SPGsEc5l4_8J"
      },
      "source": [
        "Соберем модель в функциональной форме (функциональное API Keras) \n",
        "\n",
        "Сеть собираем как последовательности соединей узлов:\n",
        " \n",
        " вход -> слой 1 -> слой 2 -> выход\n",
        "\n",
        " связь идет через тензоры"
      ]
    },
    {
      "cell_type": "code",
      "metadata": {
        "id": "9ODch-OFCaW4",
        "colab": {
          "base_uri": "https://localhost:8080/"
        },
        "outputId": "b2e438da-fa84-4a63-e3da-c455478212a6"
      },
      "source": [
        "model = Sequential([\n",
        "    Flatten(input_shape=(28, 28)),\n",
        "    Dense(128, activation='relu'),\n",
        "    Dense(10)\n",
        "])\n",
        "\n",
        "model.summary()"
      ],
      "execution_count": null,
      "outputs": [
        {
          "output_type": "stream",
          "name": "stdout",
          "text": [
            "Model: \"sequential_4\"\n",
            "_________________________________________________________________\n",
            " Layer (type)                Output Shape              Param #   \n",
            "=================================================================\n",
            " flatten (Flatten)           (None, 784)               0         \n",
            "                                                                 \n",
            " dense_12 (Dense)            (None, 128)               100480    \n",
            "                                                                 \n",
            " dense_13 (Dense)            (None, 10)                1290      \n",
            "                                                                 \n",
            "=================================================================\n",
            "Total params: 101,770\n",
            "Trainable params: 101,770\n",
            "Non-trainable params: 0\n",
            "_________________________________________________________________\n"
          ]
        }
      ]
    },
    {
      "cell_type": "markdown",
      "metadata": {
        "id": "gut8A_7rCaW6"
      },
      "source": [
        "Первый слой, `tf.keras.layers.Flatten`, трасформирует двумерный массив на входе в одномерный массив.\n",
        "\n",
        "Получившиеся 784 (28 x 28) входных нейрона присоединяем к полносвязному слою из 128 нейронов , которые будут использовать функцию активации relu. В выходном слое будет 10 нейронов, по числу классов, которые он должен предсказывать."
      ]
    },
    {
      "cell_type": "code",
      "metadata": {
        "id": "P9V7ENde4t1S",
        "colab": {
          "base_uri": "https://localhost:8080/"
        },
        "outputId": "e3873f06-d32b-4f9e-8f73-6114917e3dba"
      },
      "source": [
        "inputs = Input(shape=(28, 28))\n",
        "x_1 = Flatten()(inputs)\n",
        "x_2 = Dense(128, activation='relu')(x_1)\n",
        "outputs = Dense(10)(x_2)\n",
        "\n",
        "x_1, x_2, outputs"
      ],
      "execution_count": null,
      "outputs": [
        {
          "output_type": "execute_result",
          "data": {
            "text/plain": [
              "(<KerasTensor: shape=(None, 784) dtype=float32 (created by layer 'flatten_1')>,\n",
              " <KerasTensor: shape=(None, 128) dtype=float32 (created by layer 'dense_14')>,\n",
              " <KerasTensor: shape=(None, 10) dtype=float32 (created by layer 'dense_15')>)"
            ]
          },
          "metadata": {},
          "execution_count": 37
        }
      ]
    },
    {
      "cell_type": "code",
      "metadata": {
        "id": "prhavY9JioU-"
      },
      "source": [
        "model = Model(inputs, outputs)"
      ],
      "execution_count": null,
      "outputs": []
    },
    {
      "cell_type": "code",
      "metadata": {
        "colab": {
          "base_uri": "https://localhost:8080/"
        },
        "id": "Cu7Rm7zw6Una",
        "outputId": "b55e371b-6102-46f7-f088-784fc1d281d3"
      },
      "source": [
        "model.summary()"
      ],
      "execution_count": null,
      "outputs": [
        {
          "output_type": "stream",
          "name": "stdout",
          "text": [
            "Model: \"model\"\n",
            "_________________________________________________________________\n",
            " Layer (type)                Output Shape              Param #   \n",
            "=================================================================\n",
            " input_1 (InputLayer)        [(None, 28, 28)]          0         \n",
            "                                                                 \n",
            " flatten_1 (Flatten)         (None, 784)               0         \n",
            "                                                                 \n",
            " dense_14 (Dense)            (None, 128)               100480    \n",
            "                                                                 \n",
            " dense_15 (Dense)            (None, 10)                1290      \n",
            "                                                                 \n",
            "=================================================================\n",
            "Total params: 101,770\n",
            "Trainable params: 101,770\n",
            "Non-trainable params: 0\n",
            "_________________________________________________________________\n"
          ]
        }
      ]
    },
    {
      "cell_type": "markdown",
      "metadata": {
        "id": "n3SWLueHyQDU"
      },
      "source": [
        "\n",
        "### Компиляция модели\n",
        "\n",
        "Давайте вспомним ключевые понятия, которые нам понадобяться при компиляции:\n",
        "\n",
        "* *Loss function* — меряет как точно работает нейросеть.\n",
        "* *Optimizer* — определяет способ корректировки весов.\n",
        "* *Metrics* — определяет за какие характеристики будут отражаться в процессе обучения."
      ]
    },
    {
      "cell_type": "code",
      "metadata": {
        "id": "Lhan11blCaW7"
      },
      "source": [
        "from tensorflow.keras.losses import CategoricalCrossentropy, SparseCategoricalCrossentropy\n",
        "\n",
        "model.compile(optimizer=Adam(),\n",
        "              loss=CategoricalCrossentropy(from_logits=True),\n",
        "              metrics=['accuracy'])"
      ],
      "execution_count": null,
      "outputs": []
    },
    {
      "cell_type": "markdown",
      "metadata": {
        "id": "qKF6uW-BCaW-"
      },
      "source": [
        "## Тренировка модели\n",
        "\n",
        "Здесь все стандартно - данные передаются в нейросеть и сопоставляются изображения и лейблы.\n",
        "\n"
      ]
    },
    {
      "cell_type": "markdown",
      "metadata": {
        "id": "Z4P4zIV7E28Z"
      },
      "source": [
        "### Передача данных в модель\n",
        "\n",
        "Команда непосредственно запускающая процесс обучения называется - `model.fit`:"
      ]
    },
    {
      "cell_type": "code",
      "metadata": {
        "id": "xvwvpA64CaW_",
        "colab": {
          "base_uri": "https://localhost:8080/"
        },
        "outputId": "215c9ba0-ec07-44d0-9be7-274af0d3d4d6"
      },
      "source": [
        "model.fit(X_train, y_train,\n",
        "          epochs=5,\n",
        "          batch_size=256,\n",
        "          validation_data=(X_test, y_test))"
      ],
      "execution_count": null,
      "outputs": [
        {
          "output_type": "stream",
          "name": "stdout",
          "text": [
            "Epoch 1/5\n",
            "235/235 [==============================] - 2s 5ms/step - loss: 0.6131 - accuracy: 0.7915 - val_loss: 0.5055 - val_accuracy: 0.8265\n",
            "Epoch 2/5\n",
            "235/235 [==============================] - 1s 4ms/step - loss: 0.4321 - accuracy: 0.8494 - val_loss: 0.4309 - val_accuracy: 0.8504\n",
            "Epoch 3/5\n",
            "235/235 [==============================] - 1s 5ms/step - loss: 0.3913 - accuracy: 0.8630 - val_loss: 0.4310 - val_accuracy: 0.8439\n",
            "Epoch 4/5\n",
            "235/235 [==============================] - 1s 4ms/step - loss: 0.3631 - accuracy: 0.8723 - val_loss: 0.3867 - val_accuracy: 0.8681\n",
            "Epoch 5/5\n",
            "235/235 [==============================] - 1s 5ms/step - loss: 0.3420 - accuracy: 0.8786 - val_loss: 0.3745 - val_accuracy: 0.8697\n"
          ]
        },
        {
          "output_type": "execute_result",
          "data": {
            "text/plain": [
              "<keras.callbacks.History at 0x7f35da3fc3d0>"
            ]
          },
          "metadata": {},
          "execution_count": 41
        }
      ]
    },
    {
      "cell_type": "code",
      "metadata": {
        "id": "VflXLEeECaXC",
        "colab": {
          "base_uri": "https://localhost:8080/"
        },
        "outputId": "d67117ad-07d8-48a8-8d51-aec4a4639063"
      },
      "source": [
        "test_loss, test_acc = model.evaluate(X_test, y_test, verbose=2)\n",
        "\n",
        "print('\\nTest accuracy:', test_acc)"
      ],
      "execution_count": null,
      "outputs": [
        {
          "output_type": "stream",
          "name": "stdout",
          "text": [
            "313/313 - 1s - loss: 0.3745 - accuracy: 0.8697 - 732ms/epoch - 2ms/step\n",
            "\n",
            "Test accuracy: 0.869700014591217\n"
          ]
        }
      ]
    },
    {
      "cell_type": "markdown",
      "metadata": {
        "id": "ThiOOMngFzRw"
      },
      "source": [
        "В выводе выше мы следим за точностью в процессе обучения, проверяем точность на тестовых данных и меняем параметры нейросети если точность на тестовых данных нас не устраивает."
      ]
    },
    {
      "cell_type": "markdown",
      "metadata": {
        "id": "iZQu7LGtjVqk"
      },
      "source": [
        "На данный момент наша модель отвечает линейно:"
      ]
    },
    {
      "cell_type": "code",
      "metadata": {
        "colab": {
          "base_uri": "https://localhost:8080/"
        },
        "id": "nt_ZrOAwjOw4",
        "outputId": "ae03e654-deeb-4fb2-f8eb-10fd33a13e35"
      },
      "source": [
        "model.predict(X_test[:1])"
      ],
      "execution_count": null,
      "outputs": [
        {
          "output_type": "execute_result",
          "data": {
            "text/plain": [
              "array([[ -5.966562 , -11.100401 ,  -6.099769 ,  -7.277161 ,  -6.689217 ,\n",
              "          1.951359 ,  -4.032922 ,   2.5450883,  -1.4745876,   4.474369 ]],\n",
              "      dtype=float32)"
            ]
          },
          "metadata": {},
          "execution_count": 43
        }
      ]
    },
    {
      "cell_type": "code",
      "metadata": {
        "colab": {
          "base_uri": "https://localhost:8080/"
        },
        "id": "DGoZ49vKmf7v",
        "outputId": "e6af6174-f9e1-44a9-b6b6-35d61e12405d"
      },
      "source": [
        "y_test[:1]"
      ],
      "execution_count": null,
      "outputs": [
        {
          "output_type": "execute_result",
          "data": {
            "text/plain": [
              "array([[0., 0., 0., 0., 0., 0., 0., 0., 0., 1.]], dtype=float32)"
            ]
          },
          "metadata": {},
          "execution_count": 78
        }
      ]
    },
    {
      "cell_type": "markdown",
      "metadata": {
        "id": "v-PyD1SYE28q"
      },
      "source": [
        "### Предсказания нейросети\n",
        "\n",
        "Команды ниже позволяют проверить работу натренированной ранее нейросети. "
      ]
    },
    {
      "cell_type": "markdown",
      "metadata": {
        "id": "4prKqteTMZcd"
      },
      "source": [
        "**Softmax**\n",
        "\n",
        "<img src='https://drive.google.com/uc?export=view&id=1dW-Hk-qogTWG-x3bkzlM5aHsWhxe3juX'>"
      ]
    },
    {
      "cell_type": "code",
      "metadata": {
        "id": "DnfNA0CrQLSD"
      },
      "source": [
        "probability_model = Sequential([\n",
        "    model, \n",
        "    tf.keras.layers.Softmax()\n",
        "])"
      ],
      "execution_count": null,
      "outputs": []
    },
    {
      "cell_type": "code",
      "metadata": {
        "id": "Gl91RPhdCaXI"
      },
      "source": [
        "predictions = probability_model.predict(X_test)"
      ],
      "execution_count": null,
      "outputs": []
    },
    {
      "cell_type": "code",
      "metadata": {
        "id": "3DmJEUinCaXK",
        "colab": {
          "base_uri": "https://localhost:8080/"
        },
        "outputId": "aad1099a-6022-4dd9-c831-330eaae745b3"
      },
      "source": [
        "predictions[0]"
      ],
      "execution_count": null,
      "outputs": [
        {
          "output_type": "execute_result",
          "data": {
            "text/plain": [
              "array([2.37813729e-05, 1.40164573e-07, 2.08154852e-05, 6.41284123e-06,\n",
              "       1.15449957e-05, 6.53049201e-02, 1.64439407e-04, 1.18249595e-01,\n",
              "       2.12361780e-03, 8.14094722e-01], dtype=float32)"
            ]
          },
          "metadata": {},
          "execution_count": 47
        }
      ]
    },
    {
      "cell_type": "code",
      "metadata": {
        "id": "qsqenuPnCaXO",
        "colab": {
          "base_uri": "https://localhost:8080/"
        },
        "outputId": "843eb876-4d95-447e-b5c5-e4dbd74fd08a"
      },
      "source": [
        "np.argmax(predictions[0])"
      ],
      "execution_count": null,
      "outputs": [
        {
          "output_type": "execute_result",
          "data": {
            "text/plain": [
              "9"
            ]
          },
          "metadata": {},
          "execution_count": 48
        }
      ]
    },
    {
      "cell_type": "code",
      "metadata": {
        "id": "Sd7Pgsu6CaXP",
        "colab": {
          "base_uri": "https://localhost:8080/"
        },
        "outputId": "22761da6-ce2c-4828-9345-e57b4156fe34"
      },
      "source": [
        "y_test_labels[0]"
      ],
      "execution_count": null,
      "outputs": [
        {
          "output_type": "execute_result",
          "data": {
            "text/plain": [
              "9"
            ]
          },
          "metadata": {},
          "execution_count": 49
        }
      ]
    },
    {
      "cell_type": "code",
      "metadata": {
        "id": "DvYmmrpIy6Y1"
      },
      "source": [
        "def plot_image(i, predictions_array, true_label, img):\n",
        "    predictions_array, true_label, img = predictions_array[i], true_label[i], img[i]\n",
        "    plt.grid(False)\n",
        "    plt.xticks([])\n",
        "    plt.yticks([])\n",
        "\n",
        "    plt.imshow(img, cmap=plt.cm.binary)\n",
        "\n",
        "    predicted_label = np.argmax(predictions_array)\n",
        "    if predicted_label == true_label:\n",
        "        color = 'blue'\n",
        "    else:\n",
        "        color = 'red'\n",
        "\n",
        "    plt.xlabel(\"{} {:2.0f}% ({})\".format(class_names[predicted_label],\n",
        "                                         100*np.max(predictions_array),\n",
        "                                         class_names[true_label]),\n",
        "                                         color=color)\n",
        "\n",
        "def plot_value_array(i, predictions_array, true_label):\n",
        "    predictions_array, true_label = predictions_array[i], true_label[i]\n",
        "    plt.grid(False)\n",
        "    plt.xticks(range(10))\n",
        "    plt.yticks([])\n",
        "    thisplot = plt.bar(range(10), predictions_array, color=\"#777777\")\n",
        "    plt.ylim([0, 1])\n",
        "    predicted_label = np.argmax(predictions_array)\n",
        "\n",
        "    thisplot[predicted_label].set_color('red')\n",
        "    thisplot[true_label].set_color('blue')"
      ],
      "execution_count": null,
      "outputs": []
    },
    {
      "cell_type": "markdown",
      "metadata": {
        "id": "Zh9yABaME29S"
      },
      "source": [
        "### Проверка предсказаний\n",
        "\n",
        "Matplotlib нам дает возможность посмотреть наше предсказание графически:"
      ]
    },
    {
      "cell_type": "code",
      "metadata": {
        "id": "HV5jw-5HwSmO",
        "colab": {
          "base_uri": "https://localhost:8080/",
          "height": 211
        },
        "outputId": "7d712f46-ab9c-4328-c8e8-b8fe3402772e"
      },
      "source": [
        "i = 7\n",
        "plt.figure(figsize=(6,3))\n",
        "plt.subplot(1,2,1)\n",
        "plot_image(i, predictions, y_test_labels, X_test)\n",
        "plt.subplot(1,2,2)\n",
        "plot_value_array(i, predictions, y_test_labels)\n",
        "plt.show()"
      ],
      "execution_count": null,
      "outputs": [
        {
          "output_type": "display_data",
          "data": {
            "image/png": "[encoded data removed]",
            "text/plain": [
              "<Figure size 432x216 with 2 Axes>"
            ]
          },
          "metadata": {
            "needs_background": "light"
          }
        }
      ]
    },
    {
      "cell_type": "code",
      "metadata": {
        "id": "Ko-uzOufSCSe",
        "colab": {
          "base_uri": "https://localhost:8080/",
          "height": 211
        },
        "outputId": "5fea134a-03ea-4f08-ed58-0e71fa480209"
      },
      "source": [
        "i = 12\n",
        "plt.figure(figsize=(6,3))\n",
        "plt.subplot(1,2,1)\n",
        "plot_image(i, predictions, y_test_labels, X_test)\n",
        "plt.subplot(1,2,2)\n",
        "plot_value_array(i, predictions, y_test_labels)\n",
        "plt.show()"
      ],
      "execution_count": null,
      "outputs": [
        {
          "output_type": "display_data",
          "data": {
            "image/png": "[encoded data removed]",
            "text/plain": [
              "<Figure size 432x216 with 2 Axes>"
            ]
          },
          "metadata": {
            "needs_background": "light"
          }
        }
      ]
    },
    {
      "cell_type": "markdown",
      "metadata": {
        "id": "kgdvGD52CaXR"
      },
      "source": [
        "Давайте сделаем еще несколько предсказаний - "
      ]
    },
    {
      "cell_type": "code",
      "metadata": {
        "id": "hQlnbqaw2Qu_",
        "colab": {
          "base_uri": "https://localhost:8080/",
          "height": 729
        },
        "outputId": "8b7cc6b7-7df8-451a-c1ba-a13a26233dd1"
      },
      "source": [
        "num_rows = 5\n",
        "num_cols = 3\n",
        "num_images = num_rows * num_cols\n",
        "plt.figure(figsize=(2 * 2 * num_cols, 2 * num_rows))\n",
        "\n",
        "for i in range(num_images):\n",
        "    plt.subplot(num_rows, 2 * num_cols, 2 * i + 1)\n",
        "    plot_image(i, predictions, y_test_labels, X_test)\n",
        "    plt.subplot(num_rows, 2 * num_cols, 2 * i + 2)\n",
        "    plot_value_array(i, predictions, y_test_labels)\n",
        "\n",
        "plt.tight_layout()\n",
        "plt.show()"
      ],
      "execution_count": null,
      "outputs": [
        {
          "output_type": "display_data",
          "data": {
            "image/png": "[encoded data removed]",
            "text/plain": [
              "<Figure size 864x720 with 30 Axes>"
            ]
          },
          "metadata": {
            "needs_background": "light"
          }
        }
      ]
    },
    {
      "cell_type": "markdown",
      "metadata": {
        "id": "R32zteKHCaXT"
      },
      "source": [
        "## Использование полученной модели\n",
        "\n",
        "Давайте возьмем одно изображение из тестовой выборки и посмотрим предсказание нейронной сети."
      ]
    },
    {
      "cell_type": "code",
      "metadata": {
        "id": "yRJ7JU7JCaXT",
        "colab": {
          "base_uri": "https://localhost:8080/"
        },
        "outputId": "e7a8e038-009c-41ce-fab3-d123105b33ad"
      },
      "source": [
        "i = 0\n",
        "img = X_test[i]\n",
        "\n",
        "print(img.shape)"
      ],
      "execution_count": null,
      "outputs": [
        {
          "output_type": "stream",
          "name": "stdout",
          "text": [
            "(28, 28)\n"
          ]
        }
      ]
    },
    {
      "cell_type": "code",
      "metadata": {
        "id": "lDFh5yF_CaXW",
        "colab": {
          "base_uri": "https://localhost:8080/"
        },
        "outputId": "253e0eb4-e714-40d9-f3ac-9941726b75ca"
      },
      "source": [
        "# Add the image to a batch where it's the only member\n",
        "imgs = np.expand_dims(img, 0)\n",
        "\n",
        "print(imgs.shape)\n",
        "\n",
        "print(img.reshape((1, img.shape[0], img.shape[0])).shape)\n",
        "print(img[None].shape)"
      ],
      "execution_count": null,
      "outputs": [
        {
          "output_type": "stream",
          "name": "stdout",
          "text": [
            "(1, 28, 28)\n",
            "(1, 28, 28)\n",
            "(1, 28, 28)\n"
          ]
        }
      ]
    },
    {
      "cell_type": "code",
      "metadata": {
        "id": "o_rzNSdrCaXY",
        "colab": {
          "base_uri": "https://localhost:8080/"
        },
        "outputId": "aa932235-d33b-4156-dbe0-1a5006d5fdca"
      },
      "source": [
        "predictions_single = probability_model.predict(imgs)\n",
        "\n",
        "predictions_single"
      ],
      "execution_count": null,
      "outputs": [
        {
          "output_type": "execute_result",
          "data": {
            "text/plain": [
              "array([[2.3781335e-05, 1.4016462e-07, 2.0815412e-05, 6.4128430e-06,\n",
              "        1.1544933e-05, 6.5304898e-02, 1.6443931e-04, 1.1824944e-01,\n",
              "        2.1236166e-03, 8.1409496e-01]], dtype=float32)"
            ]
          },
          "metadata": {},
          "execution_count": 56
        }
      ]
    },
    {
      "cell_type": "code",
      "metadata": {
        "id": "6Ai-cpLjO-3A",
        "colab": {
          "base_uri": "https://localhost:8080/",
          "height": 545
        },
        "outputId": "4db9af59-b955-4ed1-d554-ca304f74d716"
      },
      "source": [
        "plot_image(i, predictions, y_test_labels, X_test)\n",
        "plt.show()\n",
        "plot_value_array(i, predictions_single, y_test_labels)\n",
        "plt.xticks(range(10), class_names, rotation=45);"
      ],
      "execution_count": null,
      "outputs": [
        {
          "output_type": "display_data",
          "data": {
            "image/png": "[encoded data removed]",
            "text/plain": [
              "<Figure size 432x288 with 1 Axes>"
            ]
          },
          "metadata": {}
        },
        {
          "output_type": "display_data",
          "data": {
            "image/png": "[encoded data removed]",
            "text/plain": [
              "<Figure size 432x288 with 1 Axes>"
            ]
          },
          "metadata": {
            "needs_background": "light"
          }
        }
      ]
    },
    {
      "cell_type": "markdown",
      "metadata": {
        "id": "cU1Y2OAMCaXb"
      },
      "source": [
        "`keras.Model.predict` возвращает список списков — по одному списку для каждого предсказания в батче. Нам нужны предсказания только для одного изображения:"
      ]
    },
    {
      "cell_type": "code",
      "metadata": {
        "id": "2tRmdq_8CaXb",
        "colab": {
          "base_uri": "https://localhost:8080/"
        },
        "outputId": "adb22d5a-6639-4770-d979-dc231dc0a893"
      },
      "source": [
        "np.argmax(predictions_single[0])"
      ],
      "execution_count": null,
      "outputs": [
        {
          "output_type": "execute_result",
          "data": {
            "text/plain": [
              "9"
            ]
          },
          "metadata": {},
          "execution_count": 58
        }
      ]
    },
    {
      "cell_type": "markdown",
      "metadata": {
        "id": "oiAdZfhLtMJ5"
      },
      "source": [
        "## **Проведем анализ работы модели по слоям**\n",
        "\n",
        "Состояние узлов в сети по эпохам (пакетам) и слоям можно оценить используя средства tensorflow через объект GradientTape() - исполняет шаг вычисления градиента для модели по ее loss для всех тренируемых весов модели (<имя модели>.trainable_weights) (см. https://www.tensorflow.org/guide/basic_training_loops, https://www.tensorflow.org/api_docs/python/tf/GradientTape)\n",
        "\n",
        "\n",
        "данные для обучения получим из tensorflow.data.Dataset (https://www.tensorflow.org/guide/data), куда передаем выборку , а на выходе получаем генератор пакетов заданного размера"
      ]
    },
    {
      "cell_type": "markdown",
      "metadata": {
        "id": "adqoo8fomCjR"
      },
      "source": [
        "Начнем с простого примера, который рассматривали на первом вебинаре, когда изучали граф вычислений.\n",
        "\n",
        "[Ссылка](https://docs.google.com/presentation/d/1Sfj8l91QFkFA6kMCe4CStCRDH5-pmfnZc8AEe8ujudg/edit) на презентацию."
      ]
    },
    {
      "cell_type": "code",
      "metadata": {
        "colab": {
          "base_uri": "https://localhost:8080/"
        },
        "id": "YHeKOSYSwj-m",
        "outputId": "54900de4-28c9-499e-ca80-600068b085d4"
      },
      "source": [
        "inputs = Input(shape=(1)) \n",
        "outputs = Dense(1, activation='sigmoid')(inputs)\n",
        "model_toy = Model(inputs=inputs, outputs=outputs)\n",
        "\n",
        "# Создадим экземпляр оптимизатора\n",
        "optimizer = Adam(learning_rate=0.01)\n",
        "\n",
        "# Создадим экспемпляр функции потерь\n",
        "loss_fn = tf.keras.losses.MeanSquaredError()\n",
        "\n",
        "model_toy.summary()"
      ],
      "execution_count": null,
      "outputs": [
        {
          "output_type": "stream",
          "name": "stdout",
          "text": [
            "Model: \"model_3\"\n",
            "_________________________________________________________________\n",
            " Layer (type)                Output Shape              Param #   \n",
            "=================================================================\n",
            " input_3 (InputLayer)        [(None, 1)]               0         \n",
            "                                                                 \n",
            " dense_17 (Dense)            (None, 1)                 2         \n",
            "                                                                 \n",
            "=================================================================\n",
            "Total params: 2\n",
            "Trainable params: 2\n",
            "Non-trainable params: 0\n",
            "_________________________________________________________________\n"
          ]
        }
      ]
    },
    {
      "cell_type": "code",
      "metadata": {
        "id": "HlcF27r-eoAC",
        "colab": {
          "base_uri": "https://localhost:8080/"
        },
        "outputId": "fef7fd90-d07e-44d7-d026-8550cd20040a"
      },
      "source": [
        "# зададим начальные значения весов\n",
        "params = [np.empty(shape = (1,1), dtype = np.float32), np.empty(shape = (1,), dtype = np.float32)]\n",
        "params[0][0] = 0.417\n",
        "params[1][0] = 0.72\n",
        "\n",
        "model_toy.set_weights(params)\n",
        "model_toy.get_weights()"
      ],
      "execution_count": null,
      "outputs": [
        {
          "output_type": "execute_result",
          "data": {
            "text/plain": [
              "[array([[0.417]], dtype=float32), array([0.72], dtype=float32)]"
            ]
          },
          "metadata": {},
          "execution_count": 80
        }
      ]
    },
    {
      "cell_type": "code",
      "metadata": {
        "colab": {
          "base_uri": "https://localhost:8080/"
        },
        "id": "4z69kC7OuVYz",
        "outputId": "2395df20-9089-4f16-867b-e2bfebc52a5b"
      },
      "source": [
        "# вычисление сигмоид функции\n",
        "def sigmoid(x):\n",
        "    return 1 / (1 + np.exp(-x))\n",
        "\n",
        "X_toy = tf.constant([1.0])\n",
        "y_toy = tf.constant([1.0])\n",
        "\n",
        "X_toy = tf.constant([0.0, 1.0])\n",
        "y_toy = tf.constant([0.0, 1.0])\n",
        "\n",
        "\n",
        "for epoch in range(100):     \n",
        "    # Откроем GradientTape чтобы записать операции\n",
        "    # выполняемые во время прямого прохода, включающего автодифференцирование\n",
        "    with tf.GradientTape() as tape: \n",
        "        # Запустим прямой проход слоя\n",
        "        pred = model_toy(X_toy)\n",
        "        print('Prediction is', pred.numpy())\n",
        "\n",
        "        # Вычислим значение потерь\n",
        "        loss_value = loss_fn(y_toy, pred)\n",
        "        print('Loss is', loss_value.numpy())\n",
        "\n",
        "        # Используем gradient tape для автоматического извлечения градиентов \n",
        "        # обучаемых переменных относительно потерь\n",
        "        grads = tape.gradient(loss_value, model_toy.trainable_weights) \n",
        "        print('Grad are', grads)\n",
        "        \n",
        "\n",
        "    # Выполним один шаг градиентного спуска,\n",
        "    # обновив значение переменных минимизирующих потери\n",
        "    optimizer.apply_gradients(zip(grads, model_toy.trainable_weights)) "
      ],
      "execution_count": null,
      "outputs": [
        {
          "output_type": "stream",
          "name": "stdout",
          "text": [
            "Prediction is [[0.7975761]\n",
            " [0.9197847]]\n",
            "Loss is 0.3212811\n",
            "Grad are [<tf.Tensor: shape=(1, 1), dtype=float32, numpy=array([[-0.00591835]], dtype=float32)>, <tf.Tensor: shape=(1,), dtype=float32, numpy=array([0.12284908], dtype=float32)>]\n",
            "Prediction is [[0.7975762]\n",
            " [0.9200265]]\n",
            "Loss is 0.32126176\n",
            "Grad are [<tf.Tensor: shape=(1, 1), dtype=float32, numpy=array([[-0.00588427]], dtype=float32)>, <tf.Tensor: shape=(1,), dtype=float32, numpy=array([0.12288313], dtype=float32)>]\n",
            "Prediction is [[0.7971128]\n",
            " [0.9200447]]\n",
            "Loss is 0.32089084\n",
            "Grad are [<tf.Tensor: shape=(1, 1), dtype=float32, numpy=array([[-0.00588171]], dtype=float32)>, <tf.Tensor: shape=(1,), dtype=float32, numpy=array([0.12303055], dtype=float32)>]\n",
            "Prediction is [[0.7962603]\n",
            " [0.9198758]]\n",
            "Loss is 0.32022518\n",
            "Grad are [<tf.Tensor: shape=(1, 1), dtype=float32, numpy=array([[-0.0059055]], dtype=float32)>, <tf.Tensor: shape=(1,), dtype=float32, numpy=array([0.12327168], dtype=float32)>]\n",
            "Prediction is [[0.7950778 ]\n",
            " [0.91954833]]\n",
            "Loss is 0.31931058\n",
            "Grad are [<tf.Tensor: shape=(1, 1), dtype=float32, numpy=array([[-0.00595175]], dtype=float32)>, <tf.Tensor: shape=(1,), dtype=float32, numpy=array([0.12358955], dtype=float32)>]\n",
            "Prediction is [[0.793613  ]\n",
            " [0.91908514]]\n",
            "Loss is 0.3181844\n",
            "Grad are [<tf.Tensor: shape=(1, 1), dtype=float32, numpy=array([[-0.00601745]], dtype=float32)>, <tf.Tensor: shape=(1,), dtype=float32, numpy=array([0.12396954], dtype=float32)>]\n",
            "Prediction is [[0.7919051]\n",
            " [0.9185049]]\n",
            "Loss is 0.31687757\n",
            "Grad are [<tf.Tensor: shape=(1, 1), dtype=float32, numpy=array([[-0.00610021]], dtype=float32)>, <tf.Tensor: shape=(1,), dtype=float32, numpy=array([0.12439895], dtype=float32)>]\n",
            "Prediction is [[0.7899861 ]\n",
            " [0.91782284]]\n",
            "Loss is 0.31541553\n",
            "Grad are [<tf.Tensor: shape=(1, 1), dtype=float32, numpy=array([[-0.00619814]], dtype=float32)>, <tf.Tensor: shape=(1,), dtype=float32, numpy=array([0.12486693], dtype=float32)>]\n",
            "Prediction is [[0.78788316]\n",
            " [0.9170517 ]]\n",
            "Loss is 0.31382015\n",
            "Grad are [<tf.Tensor: shape=(1, 1), dtype=float32, numpy=array([[-0.00630971]], dtype=float32)>, <tf.Tensor: shape=(1,), dtype=float32, numpy=array([0.12536393], dtype=float32)>]\n",
            "Prediction is [[0.7856188]\n",
            " [0.9162023]]\n",
            "Loss is 0.31210947\n",
            "Grad are [<tf.Tensor: shape=(1, 1), dtype=float32, numpy=array([[-0.00643362]], dtype=float32)>, <tf.Tensor: shape=(1,), dtype=float32, numpy=array([0.12588179], dtype=float32)>]\n",
            "Prediction is [[0.7832123]\n",
            " [0.9152836]]\n",
            "Loss is 0.3102992\n",
            "Grad are [<tf.Tensor: shape=(1, 1), dtype=float32, numpy=array([[-0.00656887]], dtype=float32)>, <tf.Tensor: shape=(1,), dtype=float32, numpy=array([0.12641338], dtype=float32)>]\n",
            "Prediction is [[0.7806801 ]\n",
            " [0.91430354]]\n",
            "Loss is 0.30840266\n",
            "Grad are [<tf.Tensor: shape=(1, 1), dtype=float32, numpy=array([[-0.00671454]], dtype=float32)>, <tf.Tensor: shape=(1,), dtype=float32, numpy=array([0.12695247], dtype=float32)>]\n",
            "Prediction is [[0.7780364 ]\n",
            " [0.91326874]]\n",
            "Loss is 0.30643147\n",
            "Grad are [<tf.Tensor: shape=(1, 1), dtype=float32, numpy=array([[-0.00686989]], dtype=float32)>, <tf.Tensor: shape=(1,), dtype=float32, numpy=array([0.12749368], dtype=float32)>]\n",
            "Prediction is [[0.7752932]\n",
            " [0.9121849]]\n",
            "Loss is 0.3043955\n",
            "Grad are [<tf.Tensor: shape=(1, 1), dtype=float32, numpy=array([[-0.00703431]], dtype=float32)>, <tf.Tensor: shape=(1,), dtype=float32, numpy=array([0.12803237], dtype=float32)>]\n",
            "Prediction is [[0.7724611]\n",
            " [0.9110572]]\n",
            "Loss is 0.30230352\n",
            "Grad are [<tf.Tensor: shape=(1, 1), dtype=float32, numpy=array([[-0.00720722]], dtype=float32)>, <tf.Tensor: shape=(1,), dtype=float32, numpy=array([0.12856437], dtype=float32)>]\n",
            "Prediction is [[0.7695493]\n",
            " [0.9098901]]\n",
            "Loss is 0.30016297\n",
            "Grad are [<tf.Tensor: shape=(1, 1), dtype=float32, numpy=array([[-0.00738812]], dtype=float32)>, <tf.Tensor: shape=(1,), dtype=float32, numpy=array([0.1290862], dtype=float32)>]\n",
            "Prediction is [[0.76656604]\n",
            " [0.9086874 ]]\n",
            "Loss is 0.29798073\n",
            "Grad are [<tf.Tensor: shape=(1, 1), dtype=float32, numpy=array([[-0.00757663]], dtype=float32)>, <tf.Tensor: shape=(1,), dtype=float32, numpy=array([0.12959465], dtype=float32)>]\n",
            "Prediction is [[0.7635182]\n",
            " [0.9074529]]\n",
            "Loss is 0.2957625\n",
            "Grad are [<tf.Tensor: shape=(1, 1), dtype=float32, numpy=array([[-0.00777231]], dtype=float32)>, <tf.Tensor: shape=(1,), dtype=float32, numpy=array([0.13008712], dtype=float32)>]\n",
            "Prediction is [[0.7604121]\n",
            " [0.9061894]]\n",
            "Loss is 0.2935135\n",
            "Grad are [<tf.Tensor: shape=(1, 1), dtype=float32, numpy=array([[-0.00797486]], dtype=float32)>, <tf.Tensor: shape=(1,), dtype=float32, numpy=array([0.13056123], dtype=float32)>]\n",
            "Prediction is [[0.7572534]\n",
            " [0.9048998]]\n",
            "Loss is 0.2912384\n",
            "Grad are [<tf.Tensor: shape=(1, 1), dtype=float32, numpy=array([[-0.00818396]], dtype=float32)>, <tf.Tensor: shape=(1,), dtype=float32, numpy=array([0.13101488], dtype=float32)>]\n",
            "Prediction is [[0.7540469]\n",
            " [0.9035867]]\n",
            "Loss is 0.28894114\n",
            "Grad are [<tf.Tensor: shape=(1, 1), dtype=float32, numpy=array([[-0.00839931]], dtype=float32)>, <tf.Tensor: shape=(1,), dtype=float32, numpy=array([0.13144636], dtype=float32)>]\n",
            "Prediction is [[0.75079703]\n",
            " [0.9022523 ]]\n",
            "Loss is 0.28662542\n",
            "Grad are [<tf.Tensor: shape=(1, 1), dtype=float32, numpy=array([[-0.00862067]], dtype=float32)>, <tf.Tensor: shape=(1,), dtype=float32, numpy=array([0.1318541], dtype=float32)>]\n",
            "Prediction is [[0.74750775]\n",
            " [0.9008989 ]]\n",
            "Loss is 0.28429446\n",
            "Grad are [<tf.Tensor: shape=(1, 1), dtype=float32, numpy=array([[-0.00884776]], dtype=float32)>, <tf.Tensor: shape=(1,), dtype=float32, numpy=array([0.1322368], dtype=float32)>]\n",
            "Prediction is [[0.7441826 ]\n",
            " [0.89952815]]\n",
            "Loss is 0.28195116\n",
            "Grad are [<tf.Tensor: shape=(1, 1), dtype=float32, numpy=array([[-0.00908037]], dtype=float32)>, <tf.Tensor: shape=(1,), dtype=float32, numpy=array([0.1325933], dtype=float32)>]\n",
            "Prediction is [[0.74082476]\n",
            " [0.8981419 ]]\n",
            "Loss is 0.2795982\n",
            "Grad are [<tf.Tensor: shape=(1, 1), dtype=float32, numpy=array([[-0.00931828]], dtype=float32)>, <tf.Tensor: shape=(1,), dtype=float32, numpy=array([0.13292262], dtype=float32)>]\n",
            "Prediction is [[0.73743725]\n",
            " [0.8967421 ]]\n",
            "Loss is 0.27723795\n",
            "Grad are [<tf.Tensor: shape=(1, 1), dtype=float32, numpy=array([[-0.00956124]], dtype=float32)>, <tf.Tensor: shape=(1,), dtype=float32, numpy=array([0.13322398], dtype=float32)>]\n",
            "Prediction is [[0.73402256]\n",
            " [0.89532995]]\n",
            "Loss is 0.27487245\n",
            "Grad are [<tf.Tensor: shape=(1, 1), dtype=float32, numpy=array([[-0.00980907]], dtype=float32)>, <tf.Tensor: shape=(1,), dtype=float32, numpy=array([0.13349667], dtype=float32)>]\n",
            "Prediction is [[0.73058313]\n",
            " [0.89390707]]\n",
            "Loss is 0.2725037\n",
            "Grad are [<tf.Tensor: shape=(1, 1), dtype=float32, numpy=array([[-0.01006156]], dtype=float32)>, <tf.Tensor: shape=(1,), dtype=float32, numpy=array([0.13374016], dtype=float32)>]\n",
            "Prediction is [[0.72712123]\n",
            " [0.8924747 ]]\n",
            "Loss is 0.2701335\n",
            "Grad are [<tf.Tensor: shape=(1, 1), dtype=float32, numpy=array([[-0.01031851]], dtype=float32)>, <tf.Tensor: shape=(1,), dtype=float32, numpy=array([0.13395393], dtype=float32)>]\n",
            "Prediction is [[0.7236389 ]\n",
            " [0.89103425]]\n",
            "Loss is 0.2677634\n",
            "Grad are [<tf.Tensor: shape=(1, 1), dtype=float32, numpy=array([[-0.01057973]], dtype=float32)>, <tf.Tensor: shape=(1,), dtype=float32, numpy=array([0.13413768], dtype=float32)>]\n",
            "Prediction is [[0.720138 ]\n",
            " [0.8895869]]\n",
            "Loss is 0.2653949\n",
            "Grad are [<tf.Tensor: shape=(1, 1), dtype=float32, numpy=array([[-0.010845]], dtype=float32)>, <tf.Tensor: shape=(1,), dtype=float32, numpy=array([0.13429108], dtype=float32)>]\n",
            "Prediction is [[0.7166202 ]\n",
            " [0.88813376]]\n",
            "Loss is 0.26302928\n",
            "Grad are [<tf.Tensor: shape=(1, 1), dtype=float32, numpy=array([[-0.01111415]], dtype=float32)>, <tf.Tensor: shape=(1,), dtype=float32, numpy=array([0.13441399], dtype=float32)>]\n",
            "Prediction is [[0.71308726]\n",
            " [0.8866761 ]]\n",
            "Loss is 0.26066786\n",
            "Grad are [<tf.Tensor: shape=(1, 1), dtype=float32, numpy=array([[-0.01138697]], dtype=float32)>, <tf.Tensor: shape=(1,), dtype=float32, numpy=array([0.13450627], dtype=float32)>]\n",
            "Prediction is [[0.7095406]\n",
            " [0.8852147]]\n",
            "Loss is 0.25831178\n",
            "Grad are [<tf.Tensor: shape=(1, 1), dtype=float32, numpy=array([[-0.0116633]], dtype=float32)>, <tf.Tensor: shape=(1,), dtype=float32, numpy=array([0.13456789], dtype=float32)>]\n",
            "Prediction is [[0.7059818]\n",
            " [0.8837509]]\n",
            "Loss is 0.25596207\n",
            "Grad are [<tf.Tensor: shape=(1, 1), dtype=float32, numpy=array([[-0.01194288]], dtype=float32)>, <tf.Tensor: shape=(1,), dtype=float32, numpy=array([0.13459882], dtype=float32)>]\n",
            "Prediction is [[0.7024121]\n",
            " [0.8822856]]\n",
            "Loss is 0.25361976\n",
            "Grad are [<tf.Tensor: shape=(1, 1), dtype=float32, numpy=array([[-0.01222555]], dtype=float32)>, <tf.Tensor: shape=(1,), dtype=float32, numpy=array([0.1345992], dtype=float32)>]\n",
            "Prediction is [[0.6988328]\n",
            " [0.8808198]]\n",
            "Loss is 0.2512856\n",
            "Grad are [<tf.Tensor: shape=(1, 1), dtype=float32, numpy=array([[-0.01251109]], dtype=float32)>, <tf.Tensor: shape=(1,), dtype=float32, numpy=array([0.13456911], dtype=float32)>]\n",
            "Prediction is [[0.69524515]\n",
            " [0.87935436]]\n",
            "Loss is 0.24896058\n",
            "Grad are [<tf.Tensor: shape=(1, 1), dtype=float32, numpy=array([[-0.01279933]], dtype=float32)>, <tf.Tensor: shape=(1,), dtype=float32, numpy=array([0.13450876], dtype=float32)>]\n",
            "Prediction is [[0.6916502]\n",
            " [0.8778903]]\n",
            "Loss is 0.2466454\n",
            "Grad are [<tf.Tensor: shape=(1, 1), dtype=float32, numpy=array([[-0.01309003]], dtype=float32)>, <tf.Tensor: shape=(1,), dtype=float32, numpy=array([0.13441835], dtype=float32)>]\n",
            "Prediction is [[0.68804926]\n",
            " [0.8764285 ]]\n",
            "Loss is 0.24434084\n",
            "Grad are [<tf.Tensor: shape=(1, 1), dtype=float32, numpy=array([[-0.01338299]], dtype=float32)>, <tf.Tensor: shape=(1,), dtype=float32, numpy=array([0.13429816], dtype=float32)>]\n",
            "Prediction is [[0.68444335]\n",
            " [0.8749698 ]]\n",
            "Loss is 0.24204764\n",
            "Grad are [<tf.Tensor: shape=(1, 1), dtype=float32, numpy=array([[-0.01367801]], dtype=float32)>, <tf.Tensor: shape=(1,), dtype=float32, numpy=array([0.13414851], dtype=float32)>]\n",
            "Prediction is [[0.6808334 ]\n",
            " [0.87351507]]\n",
            "Loss is 0.23976627\n",
            "Grad are [<tf.Tensor: shape=(1, 1), dtype=float32, numpy=array([[-0.01397488]], dtype=float32)>, <tf.Tensor: shape=(1,), dtype=float32, numpy=array([0.13396974], dtype=float32)>]\n",
            "Prediction is [[0.67722046]\n",
            " [0.8720653 ]]\n",
            "Loss is 0.23749742\n",
            "Grad are [<tf.Tensor: shape=(1, 1), dtype=float32, numpy=array([[-0.01427334]], dtype=float32)>, <tf.Tensor: shape=(1,), dtype=float32, numpy=array([0.13376224], dtype=float32)>]\n",
            "Prediction is [[0.6736055 ]\n",
            " [0.87062114]]\n",
            "Loss is 0.23524164\n",
            "Grad are [<tf.Tensor: shape=(1, 1), dtype=float32, numpy=array([[-0.01457323]], dtype=float32)>, <tf.Tensor: shape=(1,), dtype=float32, numpy=array([0.13352644], dtype=float32)>]\n",
            "Prediction is [[0.6699894]\n",
            " [0.8691836]]\n",
            "Loss is 0.23299937\n",
            "Grad are [<tf.Tensor: shape=(1, 1), dtype=float32, numpy=array([[-0.01487428]], dtype=float32)>, <tf.Tensor: shape=(1,), dtype=float32, numpy=array([0.13326278], dtype=float32)>]\n",
            "Prediction is [[0.66637325]\n",
            " [0.86775327]]\n",
            "Loss is 0.23077126\n",
            "Grad are [<tf.Tensor: shape=(1, 1), dtype=float32, numpy=array([[-0.01517631]], dtype=float32)>, <tf.Tensor: shape=(1,), dtype=float32, numpy=array([0.13297175], dtype=float32)>]\n",
            "Prediction is [[0.6627577 ]\n",
            " [0.86633104]]\n",
            "Loss is 0.22855757\n",
            "Grad are [<tf.Tensor: shape=(1, 1), dtype=float32, numpy=array([[-0.01547907]], dtype=float32)>, <tf.Tensor: shape=(1,), dtype=float32, numpy=array([0.13265385], dtype=float32)>]\n",
            "Prediction is [[0.65914387]\n",
            " [0.86491764]]\n",
            "Loss is 0.22635894\n",
            "Grad are [<tf.Tensor: shape=(1, 1), dtype=float32, numpy=array([[-0.01578236]], dtype=float32)>, <tf.Tensor: shape=(1,), dtype=float32, numpy=array([0.13230962], dtype=float32)>]\n",
            "Prediction is [[0.65553236]\n",
            " [0.86351395]]\n",
            "Loss is 0.22417556\n",
            "Grad are [<tf.Tensor: shape=(1, 1), dtype=float32, numpy=array([[-0.01608592]], dtype=float32)>, <tf.Tensor: shape=(1,), dtype=float32, numpy=array([0.13193963], dtype=float32)>]\n",
            "Prediction is [[0.65192413]\n",
            " [0.86212075]]\n",
            "Loss is 0.22200789\n",
            "Grad are [<tf.Tensor: shape=(1, 1), dtype=float32, numpy=array([[-0.01638951]], dtype=float32)>, <tf.Tensor: shape=(1,), dtype=float32, numpy=array([0.1315445], dtype=float32)>]\n",
            "Prediction is [[0.6483199]\n",
            " [0.8607385]]\n",
            "Loss is 0.21985623\n",
            "Grad are [<tf.Tensor: shape=(1, 1), dtype=float32, numpy=array([[-0.01669296]], dtype=float32)>, <tf.Tensor: shape=(1,), dtype=float32, numpy=array([0.13112476], dtype=float32)>]\n",
            "Prediction is [[0.6447205 ]\n",
            " [0.85936815]]\n",
            "Loss is 0.21772093\n",
            "Grad are [<tf.Tensor: shape=(1, 1), dtype=float32, numpy=array([[-0.016996]], dtype=float32)>, <tf.Tensor: shape=(1,), dtype=float32, numpy=array([0.1306811], dtype=float32)>]\n",
            "Prediction is [[0.64112675]\n",
            " [0.8580104 ]]\n",
            "Loss is 0.21560228\n",
            "Grad are [<tf.Tensor: shape=(1, 1), dtype=float32, numpy=array([[-0.01729839]], dtype=float32)>, <tf.Tensor: shape=(1,), dtype=float32, numpy=array([0.13021414], dtype=float32)>]\n",
            "Prediction is [[0.6375393 ]\n",
            " [0.85666573]]\n",
            "Loss is 0.21350054\n",
            "Grad are [<tf.Tensor: shape=(1, 1), dtype=float32, numpy=array([[-0.01759995]], dtype=float32)>, <tf.Tensor: shape=(1,), dtype=float32, numpy=array([0.1297245], dtype=float32)>]\n",
            "Prediction is [[0.633959  ]\n",
            " [0.85533506]]\n",
            "Loss is 0.21141598\n",
            "Grad are [<tf.Tensor: shape=(1, 1), dtype=float32, numpy=array([[-0.01790041]], dtype=float32)>, <tf.Tensor: shape=(1,), dtype=float32, numpy=array([0.12921295], dtype=float32)>]\n",
            "Prediction is [[0.6303865 ]\n",
            " [0.85401887]]\n",
            "Loss is 0.2093488\n",
            "Grad are [<tf.Tensor: shape=(1, 1), dtype=float32, numpy=array([[-0.01819956]], dtype=float32)>, <tf.Tensor: shape=(1,), dtype=float32, numpy=array([0.1286801], dtype=float32)>]\n",
            "Prediction is [[0.6268224]\n",
            " [0.8527178]]\n",
            "Loss is 0.20729919\n",
            "Grad are [<tf.Tensor: shape=(1, 1), dtype=float32, numpy=array([[-0.01849719]], dtype=float32)>, <tf.Tensor: shape=(1,), dtype=float32, numpy=array([0.12812665], dtype=float32)>]\n",
            "Prediction is [[0.6232676 ]\n",
            " [0.85143256]]\n",
            "Loss is 0.20526738\n",
            "Grad are [<tf.Tensor: shape=(1, 1), dtype=float32, numpy=array([[-0.01879306]], dtype=float32)>, <tf.Tensor: shape=(1,), dtype=float32, numpy=array([0.12755334], dtype=float32)>]\n",
            "Prediction is [[0.61972266]\n",
            " [0.8501637 ]]\n",
            "Loss is 0.20325355\n",
            "Grad are [<tf.Tensor: shape=(1, 1), dtype=float32, numpy=array([[-0.01908695]], dtype=float32)>, <tf.Tensor: shape=(1,), dtype=float32, numpy=array([0.1269609], dtype=float32)>]\n",
            "Prediction is [[0.6161882 ]\n",
            " [0.84891176]]\n",
            "Loss is 0.2012578\n",
            "Grad are [<tf.Tensor: shape=(1, 1), dtype=float32, numpy=array([[-0.01937867]], dtype=float32)>, <tf.Tensor: shape=(1,), dtype=float32, numpy=array([0.12635003], dtype=float32)>]\n",
            "Prediction is [[0.61266494]\n",
            " [0.84767735]]\n",
            "Loss is 0.19928025\n",
            "Grad are [<tf.Tensor: shape=(1, 1), dtype=float32, numpy=array([[-0.01966797]], dtype=float32)>, <tf.Tensor: shape=(1,), dtype=float32, numpy=array([0.12572147], dtype=float32)>]\n",
            "Prediction is [[0.6091535 ]\n",
            " [0.84646094]]\n",
            "Loss is 0.19732112\n",
            "Grad are [<tf.Tensor: shape=(1, 1), dtype=float32, numpy=array([[-0.01995468]], dtype=float32)>, <tf.Tensor: shape=(1,), dtype=float32, numpy=array([0.12507595], dtype=float32)>]\n",
            "Prediction is [[0.6056544]\n",
            " [0.845263 ]]\n",
            "Loss is 0.1953804\n",
            "Grad are [<tf.Tensor: shape=(1, 1), dtype=float32, numpy=array([[-0.02023859]], dtype=float32)>, <tf.Tensor: shape=(1,), dtype=float32, numpy=array([0.12441418], dtype=float32)>]\n",
            "Prediction is [[0.6021684 ]\n",
            " [0.84408414]]\n",
            "Loss is 0.19345826\n",
            "Grad are [<tf.Tensor: shape=(1, 1), dtype=float32, numpy=array([[-0.02051948]], dtype=float32)>, <tf.Tensor: shape=(1,), dtype=float32, numpy=array([0.12373696], dtype=float32)>]\n",
            "Prediction is [[0.5986958]\n",
            " [0.8429247]]\n",
            "Loss is 0.19155467\n",
            "Grad are [<tf.Tensor: shape=(1, 1), dtype=float32, numpy=array([[-0.02079718]], dtype=float32)>, <tf.Tensor: shape=(1,), dtype=float32, numpy=array([0.12304495], dtype=float32)>]\n",
            "Prediction is [[0.59523743]\n",
            " [0.84178525]]\n",
            "Loss is 0.18966974\n",
            "Grad are [<tf.Tensor: shape=(1, 1), dtype=float32, numpy=array([[-0.02107149]], dtype=float32)>, <tf.Tensor: shape=(1,), dtype=float32, numpy=array([0.12233895], dtype=float32)>]\n",
            "Prediction is [[0.5917937]\n",
            " [0.8406661]]\n",
            "Loss is 0.18780355\n",
            "Grad are [<tf.Tensor: shape=(1, 1), dtype=float32, numpy=array([[-0.02134223]], dtype=float32)>, <tf.Tensor: shape=(1,), dtype=float32, numpy=array([0.1216197], dtype=float32)>]\n",
            "Prediction is [[0.5883652]\n",
            " [0.8395677]]\n",
            "Loss is 0.18595606\n",
            "Grad are [<tf.Tensor: shape=(1, 1), dtype=float32, numpy=array([[-0.02160923]], dtype=float32)>, <tf.Tensor: shape=(1,), dtype=float32, numpy=array([0.12088788], dtype=float32)>]\n",
            "Prediction is [[0.58495235]\n",
            " [0.83849037]]\n",
            "Loss is 0.1841273\n",
            "Grad are [<tf.Tensor: shape=(1, 1), dtype=float32, numpy=array([[-0.02187232]], dtype=float32)>, <tf.Tensor: shape=(1,), dtype=float32, numpy=array([0.12014422], dtype=float32)>]\n",
            "Prediction is [[0.5815557]\n",
            " [0.8374345]]\n",
            "Loss is 0.18231732\n",
            "Grad are [<tf.Tensor: shape=(1, 1), dtype=float32, numpy=array([[-0.02213134]], dtype=float32)>, <tf.Tensor: shape=(1,), dtype=float32, numpy=array([0.11938947], dtype=float32)>]\n",
            "Prediction is [[0.5781758]\n",
            " [0.8364003]]\n",
            "Loss is 0.18052605\n",
            "Grad are [<tf.Tensor: shape=(1, 1), dtype=float32, numpy=array([[-0.02238615]], dtype=float32)>, <tf.Tensor: shape=(1,), dtype=float32, numpy=array([0.1186243], dtype=float32)>]\n",
            "Prediction is [[0.5748129 ]\n",
            " [0.83538824]]\n",
            "Loss is 0.17875344\n",
            "Grad are [<tf.Tensor: shape=(1, 1), dtype=float32, numpy=array([[-0.02263654]], dtype=float32)>, <tf.Tensor: shape=(1,), dtype=float32, numpy=array([0.11784948], dtype=float32)>]\n",
            "Prediction is [[0.57146764]\n",
            " [0.83439845]]\n",
            "Loss is 0.17699957\n",
            "Grad are [<tf.Tensor: shape=(1, 1), dtype=float32, numpy=array([[-0.02288244]], dtype=float32)>, <tf.Tensor: shape=(1,), dtype=float32, numpy=array([0.11706563], dtype=float32)>]\n",
            "Prediction is [[0.5681403]\n",
            " [0.8334312]]\n",
            "Loss is 0.1752643\n",
            "Grad are [<tf.Tensor: shape=(1, 1), dtype=float32, numpy=array([[-0.02312369]], dtype=float32)>, <tf.Tensor: shape=(1,), dtype=float32, numpy=array([0.11627346], dtype=float32)>]\n",
            "Prediction is [[0.56483144]\n",
            " [0.8324867 ]]\n",
            "Loss is 0.17354763\n",
            "Grad are [<tf.Tensor: shape=(1, 1), dtype=float32, numpy=array([[-0.02336017]], dtype=float32)>, <tf.Tensor: shape=(1,), dtype=float32, numpy=array([0.11547364], dtype=float32)>]\n",
            "Prediction is [[0.5615414 ]\n",
            " [0.83156514]]\n",
            "Loss is 0.1718495\n",
            "Grad are [<tf.Tensor: shape=(1, 1), dtype=float32, numpy=array([[-0.02359175]], dtype=float32)>, <tf.Tensor: shape=(1,), dtype=float32, numpy=array([0.11466683], dtype=float32)>]\n",
            "Prediction is [[0.55827034]\n",
            " [0.8306668 ]]\n",
            "Loss is 0.17016976\n",
            "Grad are [<tf.Tensor: shape=(1, 1), dtype=float32, numpy=array([[-0.02381832]], dtype=float32)>, <tf.Tensor: shape=(1,), dtype=float32, numpy=array([0.1138537], dtype=float32)>]\n",
            "Prediction is [[0.55501884]\n",
            " [0.82979167]]\n",
            "Loss is 0.1685084\n",
            "Grad are [<tf.Tensor: shape=(1, 1), dtype=float32, numpy=array([[-0.02403979]], dtype=float32)>, <tf.Tensor: shape=(1,), dtype=float32, numpy=array([0.11303484], dtype=float32)>]\n",
            "Prediction is [[0.5517872 ]\n",
            " [0.82893986]]\n",
            "Loss is 0.16686533\n",
            "Grad are [<tf.Tensor: shape=(1, 1), dtype=float32, numpy=array([[-0.02425608]], dtype=float32)>, <tf.Tensor: shape=(1,), dtype=float32, numpy=array([0.11221087], dtype=float32)>]\n",
            "Prediction is [[0.5485757 ]\n",
            " [0.82811165]]\n",
            "Loss is 0.16524045\n",
            "Grad are [<tf.Tensor: shape=(1, 1), dtype=float32, numpy=array([[-0.02446706]], dtype=float32)>, <tf.Tensor: shape=(1,), dtype=float32, numpy=array([0.11138245], dtype=float32)>]\n",
            "Prediction is [[0.5453846 ]\n",
            " [0.82730687]]\n",
            "Loss is 0.16363363\n",
            "Grad are [<tf.Tensor: shape=(1, 1), dtype=float32, numpy=array([[-0.02467271]], dtype=float32)>, <tf.Tensor: shape=(1,), dtype=float32, numpy=array([0.11055008], dtype=float32)>]\n",
            "Prediction is [[0.5422142 ]\n",
            " [0.82652575]]\n",
            "Loss is 0.16204478\n",
            "Grad are [<tf.Tensor: shape=(1, 1), dtype=float32, numpy=array([[-0.0248729]], dtype=float32)>, <tf.Tensor: shape=(1,), dtype=float32, numpy=array([0.1097144], dtype=float32)>]\n",
            "Prediction is [[0.5390648 ]\n",
            " [0.82576823]]\n",
            "Loss is 0.1604738\n",
            "Grad are [<tf.Tensor: shape=(1, 1), dtype=float32, numpy=array([[-0.02506761]], dtype=float32)>, <tf.Tensor: shape=(1,), dtype=float32, numpy=array([0.10887595], dtype=float32)>]\n",
            "Prediction is [[0.53593665]\n",
            " [0.8250343 ]]\n",
            "Loss is 0.15892054\n",
            "Grad are [<tf.Tensor: shape=(1, 1), dtype=float32, numpy=array([[-0.02525677]], dtype=float32)>, <tf.Tensor: shape=(1,), dtype=float32, numpy=array([0.10803527], dtype=float32)>]\n",
            "Prediction is [[0.53282994]\n",
            " [0.824324  ]]\n",
            "Loss is 0.1573849\n",
            "Grad are [<tf.Tensor: shape=(1, 1), dtype=float32, numpy=array([[-0.02544033]], dtype=float32)>, <tf.Tensor: shape=(1,), dtype=float32, numpy=array([0.10719286], dtype=float32)>]\n",
            "Prediction is [[0.5297449]\n",
            " [0.8236372]]\n",
            "Loss is 0.15586677\n",
            "Grad are [<tf.Tensor: shape=(1, 1), dtype=float32, numpy=array([[-0.02561828]], dtype=float32)>, <tf.Tensor: shape=(1,), dtype=float32, numpy=array([0.10634926], dtype=float32)>]\n",
            "Prediction is [[0.5266818]\n",
            " [0.8229738]]\n",
            "Loss is 0.15436599\n",
            "Grad are [<tf.Tensor: shape=(1, 1), dtype=float32, numpy=array([[-0.02579058]], dtype=float32)>, <tf.Tensor: shape=(1,), dtype=float32, numpy=array([0.1055049], dtype=float32)>]\n",
            "Prediction is [[0.52364063]\n",
            " [0.8223339 ]]\n",
            "Loss is 0.15288238\n",
            "Grad are [<tf.Tensor: shape=(1, 1), dtype=float32, numpy=array([[-0.02595718]], dtype=float32)>, <tf.Tensor: shape=(1,), dtype=float32, numpy=array([0.10466034], dtype=float32)>]\n",
            "Prediction is [[0.5206218]\n",
            " [0.8217172]]\n",
            "Loss is 0.15141588\n",
            "Grad are [<tf.Tensor: shape=(1, 1), dtype=float32, numpy=array([[-0.02611808]], dtype=float32)>, <tf.Tensor: shape=(1,), dtype=float32, numpy=array([0.10381596], dtype=float32)>]\n",
            "Prediction is [[0.5176252]\n",
            " [0.8211237]]\n",
            "Loss is 0.1499663\n",
            "Grad are [<tf.Tensor: shape=(1, 1), dtype=float32, numpy=array([[-0.02627327]], dtype=float32)>, <tf.Tensor: shape=(1,), dtype=float32, numpy=array([0.10297224], dtype=float32)>]\n",
            "Prediction is [[0.5146512 ]\n",
            " [0.82055324]]\n",
            "Loss is 0.1485335\n",
            "Grad are [<tf.Tensor: shape=(1, 1), dtype=float32, numpy=array([[-0.02642275]], dtype=float32)>, <tf.Tensor: shape=(1,), dtype=float32, numpy=array([0.10212959], dtype=float32)>]\n",
            "Prediction is [[0.5116997 ]\n",
            " [0.82000566]]\n",
            "Loss is 0.14711726\n",
            "Grad are [<tf.Tensor: shape=(1, 1), dtype=float32, numpy=array([[-0.02656651]], dtype=float32)>, <tf.Tensor: shape=(1,), dtype=float32, numpy=array([0.10128837], dtype=float32)>]\n",
            "Prediction is [[0.50877094]\n",
            " [0.8194807 ]]\n",
            "Loss is 0.14571753\n",
            "Grad are [<tf.Tensor: shape=(1, 1), dtype=float32, numpy=array([[-0.02670459]], dtype=float32)>, <tf.Tensor: shape=(1,), dtype=float32, numpy=array([0.100449], dtype=float32)>]\n",
            "Prediction is [[0.505865  ]\n",
            " [0.81897837]]\n",
            "Loss is 0.14433411\n",
            "Grad are [<tf.Tensor: shape=(1, 1), dtype=float32, numpy=array([[-0.02683696]], dtype=float32)>, <tf.Tensor: shape=(1,), dtype=float32, numpy=array([0.09961188], dtype=float32)>]\n",
            "Prediction is [[0.50298196]\n",
            " [0.8184982 ]]\n",
            "Loss is 0.14296687\n",
            "Grad are [<tf.Tensor: shape=(1, 1), dtype=float32, numpy=array([[-0.02696371]], dtype=float32)>, <tf.Tensor: shape=(1,), dtype=float32, numpy=array([0.09877729], dtype=float32)>]\n",
            "Prediction is [[0.5001218]\n",
            " [0.8180402]]\n",
            "Loss is 0.14161557\n",
            "Grad are [<tf.Tensor: shape=(1, 1), dtype=float32, numpy=array([[-0.0270848]], dtype=float32)>, <tf.Tensor: shape=(1,), dtype=float32, numpy=array([0.09794563], dtype=float32)>]\n",
            "Prediction is [[0.4972846]\n",
            " [0.817604 ]]\n",
            "Loss is 0.14028013\n",
            "Grad are [<tf.Tensor: shape=(1, 1), dtype=float32, numpy=array([[-0.02720029]], dtype=float32)>, <tf.Tensor: shape=(1,), dtype=float32, numpy=array([0.09711719], dtype=float32)>]\n",
            "Prediction is [[0.49447045]\n",
            " [0.81718934]]\n",
            "Loss is 0.13896038\n",
            "Grad are [<tf.Tensor: shape=(1, 1), dtype=float32, numpy=array([[-0.02731025]], dtype=float32)>, <tf.Tensor: shape=(1,), dtype=float32, numpy=array([0.09629223], dtype=float32)>]\n",
            "Prediction is [[0.49167934]\n",
            " [0.81679606]]\n",
            "Loss is 0.13765612\n",
            "Grad are [<tf.Tensor: shape=(1, 1), dtype=float32, numpy=array([[-0.02741468]], dtype=float32)>, <tf.Tensor: shape=(1,), dtype=float32, numpy=array([0.09547112], dtype=float32)>]\n",
            "Prediction is [[0.48891124]\n",
            " [0.81642383]]\n",
            "Loss is 0.1363672\n",
            "Grad are [<tf.Tensor: shape=(1, 1), dtype=float32, numpy=array([[-0.02751365]], dtype=float32)>, <tf.Tensor: shape=(1,), dtype=float32, numpy=array([0.09465404], dtype=float32)>]\n"
          ]
        }
      ]
    },
    {
      "cell_type": "code",
      "metadata": {
        "id": "mhdCwrGLldAb",
        "colab": {
          "base_uri": "https://localhost:8080/"
        },
        "outputId": "1e642282-8ed1-469f-f2ab-f465fe7937bf"
      },
      "source": [
        "model_toy.trainable_weights"
      ],
      "execution_count": null,
      "outputs": [
        {
          "output_type": "execute_result",
          "data": {
            "text/plain": [
              "[<tf.Variable 'dense_17/kernel:0' shape=(1, 1) dtype=float32, numpy=array([[1.5453104]], dtype=float32)>,\n",
              " <tf.Variable 'dense_17/bias:0' shape=(1,) dtype=float32, numpy=array([-0.05534929], dtype=float32)>]"
            ]
          },
          "metadata": {},
          "execution_count": 86
        }
      ]
    },
    {
      "cell_type": "code",
      "metadata": {
        "id": "8pvPjKb9-mxY",
        "colab": {
          "base_uri": "https://localhost:8080/"
        },
        "outputId": "dbfc94a0-6040-47d8-83f8-3ee9f8091b59"
      },
      "source": [
        "model_toy.predict([0.0, 1.0])"
      ],
      "execution_count": null,
      "outputs": [
        {
          "output_type": "execute_result",
          "data": {
            "text/plain": [
              "array([[0.48616624],\n",
              "       [0.8160724 ]], dtype=float32)"
            ]
          },
          "metadata": {},
          "execution_count": 87
        }
      ]
    },
    {
      "cell_type": "markdown",
      "metadata": {
        "id": "H94Am0OOmdk9"
      },
      "source": [
        "Теперь возвращаемся к примеру с картинками."
      ]
    },
    {
      "cell_type": "code",
      "metadata": {
        "id": "OCMo1w13mswi",
        "colab": {
          "base_uri": "https://localhost:8080/"
        },
        "outputId": "1a163896-6c53-4cb2-8c3b-248a583c7ad0"
      },
      "source": [
        "# собираем сеть\n",
        "level = 2\n",
        "level = 6\n",
        "\n",
        "inputs = Input(shape=(28, 28, 1), name='fashion') \n",
        "x = Flatten()(inputs)\n",
        "\n",
        "for i in range(level):\n",
        "    # x = Dense(64, activation='sigmoid', name=f'dense_{i}')(x)\n",
        "    x = Dense(64, activation='relu', name=f'dense_{i}')(x)\n",
        "\n",
        "\n",
        "outputs = Dense(10, activation='sigmoid', name='predictions')(x) \n",
        "modelg = Model(inputs=inputs, outputs=outputs) \n",
        "modelg.summary()"
      ],
      "execution_count": null,
      "outputs": [
        {
          "output_type": "stream",
          "name": "stdout",
          "text": [
            "Model: \"model_6\"\n",
            "_________________________________________________________________\n",
            " Layer (type)                Output Shape              Param #   \n",
            "=================================================================\n",
            " fashion (InputLayer)        [(None, 28, 28, 1)]       0         \n",
            "                                                                 \n",
            " flatten_5 (Flatten)         (None, 784)               0         \n",
            "                                                                 \n",
            " dense_0 (Dense)             (None, 64)                50240     \n",
            "                                                                 \n",
            " dense_1 (Dense)             (None, 64)                4160      \n",
            "                                                                 \n",
            " dense_2 (Dense)             (None, 64)                4160      \n",
            "                                                                 \n",
            " dense_3 (Dense)             (None, 64)                4160      \n",
            "                                                                 \n",
            " dense_4 (Dense)             (None, 64)                4160      \n",
            "                                                                 \n",
            " dense_5 (Dense)             (None, 64)                4160      \n",
            "                                                                 \n",
            " predictions (Dense)         (None, 10)                650       \n",
            "                                                                 \n",
            "=================================================================\n",
            "Total params: 71,690\n",
            "Trainable params: 71,690\n",
            "Non-trainable params: 0\n",
            "_________________________________________________________________\n"
          ]
        }
      ]
    },
    {
      "cell_type": "code",
      "metadata": {
        "id": "N_SOf1L5pLNw"
      },
      "source": [
        "# Создадим экземпляр оптимизатора\n",
        "optimizer = Adam(learning_rate=1e-3) \n",
        "\n",
        "# Создадим экспемпляр функции потерь\n",
        "loss_fn = tf.keras.losses.CategoricalCrossentropy()\n",
        "\n",
        "# Подготовим тренировочный датасет\n",
        "batch_size = 64\n",
        "train_dataset = tf.data.Dataset.from_tensor_slices((X_train, y_train)) \n",
        "train_dataset = train_dataset.shuffle(buffer_size=X_train.shape[0]).batch(batch_size) "
      ],
      "execution_count": null,
      "outputs": []
    },
    {
      "cell_type": "code",
      "metadata": {
        "id": "iVBfZM_0M6Ds",
        "colab": {
          "base_uri": "https://localhost:8080/"
        },
        "outputId": "00605263-6ab5-480d-8ab0-69f93677ff85"
      },
      "source": [
        "for batch in train_dataset:\n",
        "    print('Shape of images', batch[0].shape)\n",
        "    print('Shape of labels', batch[1].shape)\n",
        "    break"
      ],
      "execution_count": null,
      "outputs": [
        {
          "output_type": "stream",
          "name": "stdout",
          "text": [
            "Shape of images (64, 28, 28)\n",
            "Shape of labels (64, 10)\n"
          ]
        }
      ]
    },
    {
      "cell_type": "code",
      "metadata": {
        "colab": {
          "base_uri": "https://localhost:8080/"
        },
        "id": "MCylIliIpcSK",
        "outputId": "4e8fa53c-f475-4d57-a9bb-b6f6d2a04610"
      },
      "source": [
        "# Итерируем по эпохам\n",
        "grad_log = []\n",
        "\n",
        "epochs = 2  # учим немного, т.к. задача посмотреть , что происходит с градиентом\n",
        "\n",
        "for epoch in range(epochs): \n",
        "    print(f'\\nНачинаем эпоху {epoch}') \n",
        "\n",
        "    # Итерируем по батчам в датасете\n",
        "    for step, (x_batch_train, y_batch_train) in enumerate(train_dataset): \n",
        "        \n",
        "        # Откроем GradientTape чтобы записать операции\n",
        "        # выполняемые во время прямого прохода, включающего автодифференцирование\n",
        "        with tf.GradientTape() as tape: \n",
        "            # Запустим прямой проход слоя\n",
        "            preds = modelg(x_batch_train) \n",
        "\n",
        "            # Вычислим значение потерь для этого батча\n",
        "            loss_value = loss_fn(y_batch_train, preds)\n",
        "\n",
        "            # Используем gradient tape для автоматического извлечения градиентов \n",
        "            # обучаемых переменных относительно потерь\n",
        "            grads = tape.gradient(loss_value, modelg.trainable_weights) \n",
        "            g_g = []\n",
        "\n",
        "            # пишем логи для сохранения значений градиента и веса по одной цепи \n",
        "            for g_s in grads:\n",
        "                # допишем логи значений градиента в зависимости от размера тензора градиента\n",
        "                # if len(g_s.numpy().shape) == 1:\n",
        "                #     g_g.append(g_s.numpy()[0])\n",
        "                if len(g_s.numpy().shape) == 2:\n",
        "                    g_g.append(g_s.numpy()[0, 0]) \n",
        "\n",
        "                \n",
        "        # добавляем текущие логи по слоям к общей записи\n",
        "        grad_log.append(g_g)\n",
        "\n",
        "        # Выполним один шаг градиентного спуска,\n",
        "        # обновив значение переменных минимизирующих потери\n",
        "        optimizer.apply_gradients(zip(grads, modelg.trainable_weights)) \n",
        "\n",
        "        # Пишем лог каждые 200 шагов\n",
        "        if step % 200 == 0:\n",
        "            print(f'Эпоха {epoch + 1}/{epochs}', end='. ')\n",
        "            print(f'Шаг {step}. Лосс на обучении (для одного батча) на шаге: {loss_value}') \n",
        "            print(f'Уже увидели: {(step + 1) * batch_size} примеров')"
      ],
      "execution_count": null,
      "outputs": [
        {
          "output_type": "stream",
          "name": "stdout",
          "text": [
            "\n",
            "Начинаем эпоху 0\n",
            "Эпоха 1/2. Шаг 0. Лосс на обучении (для одного батча) на шаге: 2.332592010498047\n",
            "Уже увидели: 64 примеров\n",
            "Эпоха 1/2. Шаг 200. Лосс на обучении (для одного батча) на шаге: 0.4951224625110626\n",
            "Уже увидели: 12864 примеров\n",
            "Эпоха 1/2. Шаг 400. Лосс на обучении (для одного батча) на шаге: 0.5554700493812561\n",
            "Уже увидели: 25664 примеров\n",
            "Эпоха 1/2. Шаг 600. Лосс на обучении (для одного батча) на шаге: 0.444283664226532\n",
            "Уже увидели: 38464 примеров\n",
            "Эпоха 1/2. Шаг 800. Лосс на обучении (для одного батча) на шаге: 0.5682570934295654\n",
            "Уже увидели: 51264 примеров\n",
            "\n",
            "Начинаем эпоху 1\n",
            "Эпоха 2/2. Шаг 0. Лосс на обучении (для одного батча) на шаге: 0.45659953355789185\n",
            "Уже увидели: 64 примеров\n",
            "Эпоха 2/2. Шаг 200. Лосс на обучении (для одного батча) на шаге: 0.29735854268074036\n",
            "Уже увидели: 12864 примеров\n",
            "Эпоха 2/2. Шаг 400. Лосс на обучении (для одного батча) на шаге: 0.48427748680114746\n",
            "Уже увидели: 25664 примеров\n",
            "Эпоха 2/2. Шаг 600. Лосс на обучении (для одного батча) на шаге: 0.25499677658081055\n",
            "Уже увидели: 38464 примеров\n",
            "Эпоха 2/2. Шаг 800. Лосс на обучении (для одного батча) на шаге: 0.4652037024497986\n",
            "Уже увидели: 51264 примеров\n"
          ]
        }
      ]
    },
    {
      "cell_type": "code",
      "metadata": {
        "colab": {
          "base_uri": "https://localhost:8080/",
          "height": 350
        },
        "id": "PN7GXEPBri2u",
        "outputId": "41084bcb-6fc5-45a9-ce2d-4d5b6eca60b5"
      },
      "source": [
        "grad_log = np.array(grad_log)\n",
        "\n",
        "plt.figure(figsize=(16, 5))\n",
        "plt.title('Градиент по слоям')\n",
        "plt.xlabel('№ layer')\n",
        "plt.ylabel('grad')\n",
        "plt.grid()\n",
        "plt.plot(np.abs(grad_log[0, :]), label='step 0')\n",
        "plt.plot(np.abs(grad_log[10, :]), label='step 10')\n",
        "plt.plot(np.abs(grad_log[100, :]), label='step 100')\n",
        "plt.plot(np.abs(grad_log[700, :]), label='step 700')\n",
        "plt.legend()\n",
        "plt.show()"
      ],
      "execution_count": null,
      "outputs": [
        {
          "output_type": "display_data",
          "data": {
            "image/png": "[encoded data removed]",
            "text/plain": [
              "<Figure size 1152x360 with 1 Axes>"
            ]
          },
          "metadata": {
            "needs_background": "light"
          }
        }
      ]
    },
    {
      "cell_type": "markdown",
      "metadata": {
        "id": "t3U0Cng8tDQg"
      },
      "source": [
        "Видим, что чем дальше слой от функции потерь, чем он ближе к началу, тем градиент становится меньше.\n",
        "\n",
        "Итого, если хочется более детально и низкоуровнево следить за обучением модели, нужно сделать следующие шаги:\n",
        "1. Взять батч объектов\n",
        "2. Получить предсказания модель на объктах\n",
        "3. Посчитать ошибку предсказания\n",
        "4. Посчитать градиенты\n",
        "5. Сделать шаг оптимизации"
      ]
    },
    {
      "cell_type": "markdown",
      "metadata": {
        "id": "Eh-unHPRwe7M"
      },
      "source": [
        "### Сделаем анализ ошибок модели"
      ]
    },
    {
      "cell_type": "code",
      "metadata": {
        "id": "5c6MdztxalDc"
      },
      "source": [
        "from sklearn.metrics import confusion_matrix, ConfusionMatrixDisplay"
      ],
      "execution_count": null,
      "outputs": []
    },
    {
      "cell_type": "code",
      "metadata": {
        "colab": {
          "base_uri": "https://localhost:8080/"
        },
        "id": "ApcYAUE4dr8q",
        "outputId": "1cde586c-8802-43fe-f93e-0af8dcb075c9"
      },
      "source": [
        "y_pred = np.argmax(modelg.predict(X_test), axis=1)\n",
        "y_pred[:10]"
      ],
      "execution_count": null,
      "outputs": [
        {
          "output_type": "execute_result",
          "data": {
            "text/plain": [
              "array([9, 2, 1, 1, 6, 1, 4, 6, 5, 7])"
            ]
          },
          "metadata": {},
          "execution_count": 70
        }
      ]
    },
    {
      "cell_type": "code",
      "metadata": {
        "colab": {
          "base_uri": "https://localhost:8080/"
        },
        "id": "DG7c3AV9ekyg",
        "outputId": "2de22376-ee07-4912-f54e-484865a3d08c"
      },
      "source": [
        "CM = confusion_matrix(y_test_labels, y_pred)\n",
        "print(CM)"
      ],
      "execution_count": null,
      "outputs": [
        {
          "output_type": "stream",
          "name": "stdout",
          "text": [
            "[[832   2   5  57   3   2  86   0  13   0]\n",
            " [  1 955   6  30   3   0   3   0   2   0]\n",
            " [ 26   2 628  13 194   1 129   0   7   0]\n",
            " [ 26  15   0 880  32   1  42   0   4   0]\n",
            " [  0   2  59  40 794   0  98   0   7   0]\n",
            " [  0   0   0   1   0 920   0  54   3  22]\n",
            " [167   2  77  46  98   0 591   0  19   0]\n",
            " [  0   0   0   0   0  32   0 948   0  20]\n",
            " [  4   1   1   6   3   5  13   5 962   0]\n",
            " [  0   0   0   0   0  17   0  56   1 926]]\n"
          ]
        }
      ]
    },
    {
      "cell_type": "code",
      "metadata": {
        "colab": {
          "base_uri": "https://localhost:8080/",
          "height": 600
        },
        "id": "V2kt2VW0i82L",
        "outputId": "38c5ebc8-8095-414a-cac0-072387222098"
      },
      "source": [
        "disp = ConfusionMatrixDisplay(confusion_matrix=CM, display_labels=class_names)\n",
        "\n",
        "fig, ax = plt.subplots(figsize=(10, 10))\n",
        "disp.plot(values_format='.3g', ax=ax)\n",
        "plt.xticks(rotation=70)\n",
        "plt.show();"
      ],
      "execution_count": null,
      "outputs": [
        {
          "output_type": "display_data",
          "data": {
            "image/png": "[encoded data removed]",
            "text/plain": [
              "<Figure size 720x720 with 2 Axes>"
            ]
          },
          "metadata": {
            "needs_background": "light"
          }
        }
      ]
    },
    {
      "cell_type": "markdown",
      "metadata": {
        "id": "FEq8mmOM3knb"
      },
      "source": [
        "Сеть делает ошибки. Можно их попробовать исправить, если сделать комбинацию сетей (ансамбль) . Проверим вариант усреднения."
      ]
    },
    {
      "cell_type": "markdown",
      "metadata": {
        "id": "f_dWDPIIuE6e"
      },
      "source": [
        "## **Ансамбль сетей**\n",
        "\n",
        "Использование функционального API для построения сложных сетей"
      ]
    },
    {
      "cell_type": "markdown",
      "metadata": {
        "id": "hcSnl7L5FzTA"
      },
      "source": [
        "Нейросеть при хорошо подобранных параметрах должна была выдать корректное предсказание\n",
        "\n",
        "\n",
        "Реализуем одинаковые сети в разном стиле:\n",
        "- model1 - линейная модель через список\n",
        "- model2 - линейная модель через добавление слоев по очереди\n",
        "- model3 - модель через функциональное описание\n"
      ]
    },
    {
      "cell_type": "code",
      "metadata": {
        "id": "mubsCHw0p81r"
      },
      "source": [
        "# заполняем модель списком\n",
        "model1 = Sequential([\n",
        "    Flatten(input_shape=(28, 28)),\n",
        "    Dense(128, activation='relu'),\n",
        "    Dense(10, activation='softmax')\n",
        "])\n",
        "\n",
        "# заполняем модель, добавляя слои последовательно \n",
        "model2 = Sequential()\n",
        "model2.add(Flatten(input_shape=(28, 28)))\n",
        "model2.add(Dense(256, activation='relu'))\n",
        "model2.add(Dense(10, activation='softmax'))\n",
        "\n",
        "\n",
        "# Заполняем модель, формируя граф передачи тензоров\n",
        "input = Input(shape=(28, 28))\n",
        "x = Flatten()(input)\n",
        "x = Dense(256, activation='relu')(x)\n",
        "output = Dense(10, activation='softmax')(x)\n",
        "model3 = Model(input, output)"
      ],
      "execution_count": null,
      "outputs": []
    },
    {
      "cell_type": "markdown",
      "metadata": {
        "id": "c2yLQbLup-vN"
      },
      "source": [
        "### Функции потерь"
      ]
    },
    {
      "cell_type": "markdown",
      "metadata": {
        "id": "nMZjD7ubqLJL"
      },
      "source": [
        "1. Абсолютная\n",
        "$$L(y, \\hat{y}) = |y - \\hat{y}|$$\n",
        "2. Квадратичная\n",
        "$$L(y, \\hat{y}) = (y - \\hat{y})^2$$\n",
        "3. Бинарная кросс-энтропия (BinaryCrossentropy)\n",
        "$$L(y, \\hat{y}) = -\\frac{1}{N}(y\\log(\\hat{y}) + (1 - y)\\log(1-\\hat{y}))$$\n",
        "\n",
        "4. Категориальная кросс-энтропия (CategoricalCrossentropy, Softmax Loss)<br>\n",
        "Функция ожидает метки классов в формате One-hot-encoding.\n",
        "$$CE = - \\log \\frac{e_i}{\\sum_j^C{e_j}}$$\n",
        "\n",
        "5. Спарс категориальная кросс-энтропия (SparseCategoricalCrossentropy)<br>\n",
        "Функция ожидает метки классов в формате Label-encoding."
      ]
    },
    {
      "cell_type": "code",
      "metadata": {
        "id": "pyurjN_EJN9P",
        "colab": {
          "base_uri": "https://localhost:8080/"
        },
        "outputId": "63f29b15-e0f1-4a68-82ae-3d6a68187513"
      },
      "source": [
        "model1.compile(optimizer='sgd',\n",
        "               loss=SparseCategoricalCrossentropy(from_logits=True),\n",
        "               metrics=['accuracy'])\n",
        "model2.compile(optimizer='rmsprop',\n",
        "               loss=SparseCategoricalCrossentropy(from_logits=True),\n",
        "               metrics=['accuracy'])\n",
        "model3.compile(optimizer='adam',\n",
        "               loss=SparseCategoricalCrossentropy(from_logits=True),\n",
        "               metrics=['accuracy'])\n",
        "\n",
        "\n",
        "hist1 = model1.fit(X_train, y_train_labels,\n",
        "                   epochs=5,\n",
        "                   batch_size=256,\n",
        "                   validation_data=(X_test, y_test_labels))\n",
        "print()\n",
        "hist2 = model2.fit(X_train, y_train_labels,\n",
        "                   epochs=5,\n",
        "                   batch_size=256,\n",
        "                   validation_data=(X_test, y_test_labels))\n",
        "print()\n",
        "hist3 = model3.fit(X_train, y_train_labels,\n",
        "                   epochs=5,\n",
        "                   batch_size=256,\n",
        "                   validation_data=(X_test, y_test_labels))"
      ],
      "execution_count": null,
      "outputs": [
        {
          "output_type": "stream",
          "name": "stdout",
          "text": [
            "Epoch 1/5\n"
          ]
        },
        {
          "output_type": "stream",
          "name": "stderr",
          "text": [
            "/usr/local/lib/python3.7/dist-packages/tensorflow/python/util/dispatch.py:1096: UserWarning: \"`sparse_categorical_crossentropy` received `from_logits=True`, but the `output` argument was produced by a sigmoid or softmax activation and thus does not represent logits. Was this intended?\"\n",
            "  return dispatch_target(*args, **kwargs)\n"
          ]
        },
        {
          "output_type": "stream",
          "name": "stdout",
          "text": [
            "235/235 [==============================] - 2s 5ms/step - loss: 1.3269 - accuracy: 0.6014 - val_loss: 0.9579 - val_accuracy: 0.6849\n",
            "Epoch 2/5\n",
            "235/235 [==============================] - 1s 5ms/step - loss: 0.8410 - accuracy: 0.7288 - val_loss: 0.7858 - val_accuracy: 0.7378\n",
            "Epoch 3/5\n",
            "235/235 [==============================] - 1s 5ms/step - loss: 0.7247 - accuracy: 0.7637 - val_loss: 0.7073 - val_accuracy: 0.7627\n",
            "Epoch 4/5\n",
            "235/235 [==============================] - 1s 5ms/step - loss: 0.6619 - accuracy: 0.7829 - val_loss: 0.6603 - val_accuracy: 0.7789\n",
            "Epoch 5/5\n",
            "235/235 [==============================] - 1s 5ms/step - loss: 0.6206 - accuracy: 0.7970 - val_loss: 0.6280 - val_accuracy: 0.7870\n",
            "\n",
            "Epoch 1/5\n",
            "235/235 [==============================] - 2s 6ms/step - loss: 0.6328 - accuracy: 0.7797 - val_loss: 0.5246 - val_accuracy: 0.8131\n",
            "Epoch 2/5\n",
            "235/235 [==============================] - 1s 5ms/step - loss: 0.4344 - accuracy: 0.8438 - val_loss: 0.5065 - val_accuracy: 0.8088\n",
            "Epoch 3/5\n",
            "235/235 [==============================] - 1s 5ms/step - loss: 0.3760 - accuracy: 0.8633 - val_loss: 0.3968 - val_accuracy: 0.8549\n",
            "Epoch 4/5\n",
            "235/235 [==============================] - 1s 5ms/step - loss: 0.3433 - accuracy: 0.8750 - val_loss: 0.3850 - val_accuracy: 0.8582\n",
            "Epoch 5/5\n",
            "235/235 [==============================] - 1s 6ms/step - loss: 0.3200 - accuracy: 0.8844 - val_loss: 0.3938 - val_accuracy: 0.8594\n",
            "\n",
            "Epoch 1/5\n",
            "235/235 [==============================] - 3s 9ms/step - loss: 0.5700 - accuracy: 0.8031 - val_loss: 0.4661 - val_accuracy: 0.8328\n",
            "Epoch 2/5\n",
            "235/235 [==============================] - 2s 6ms/step - loss: 0.4056 - accuracy: 0.8581 - val_loss: 0.4150 - val_accuracy: 0.8542\n",
            "Epoch 3/5\n",
            "235/235 [==============================] - 2s 7ms/step - loss: 0.3603 - accuracy: 0.8724 - val_loss: 0.4019 - val_accuracy: 0.8540\n",
            "Epoch 4/5\n",
            "235/235 [==============================] - 1s 5ms/step - loss: 0.3371 - accuracy: 0.8804 - val_loss: 0.3730 - val_accuracy: 0.8669\n",
            "Epoch 5/5\n",
            "235/235 [==============================] - 1s 6ms/step - loss: 0.3142 - accuracy: 0.8875 - val_loss: 0.3757 - val_accuracy: 0.8647\n"
          ]
        }
      ]
    },
    {
      "cell_type": "code",
      "metadata": {
        "id": "N8SMebNEMi37",
        "colab": {
          "base_uri": "https://localhost:8080/",
          "height": 295
        },
        "outputId": "9051e4ad-2501-4b02-f8b6-18b8b0a54683"
      },
      "source": [
        "plt.plot(hist1.history['accuracy'], label='model1 acc sgd')\n",
        "plt.plot(hist2.history['accuracy'], label='model2 acc rmsprop')\n",
        "plt.plot(hist3.history['accuracy'], label='model3 acc adam')\n",
        "plt.title('точность сетей от эпох')\n",
        "plt.xlabel('эпоха')\n",
        "plt.legend()\n",
        "plt.show()"
      ],
      "execution_count": null,
      "outputs": [
        {
          "output_type": "display_data",
          "data": {
            "image/png": "[encoded data removed]",
            "text/plain": [
              "<Figure size 432x288 with 1 Axes>"
            ]
          },
          "metadata": {
            "needs_background": "light"
          }
        }
      ]
    },
    {
      "cell_type": "code",
      "metadata": {
        "id": "iD4oM4JhPHWn"
      },
      "source": [
        "y_pred1 = np.argmax(model1.predict(X_test), axis=1)\n",
        "y_pred2 = np.argmax(model2.predict(X_test), axis=1)\n",
        "y_pred3 = np.argmax(model3.predict(X_test), axis=1)\n",
        "\n",
        "CM1 = confusion_matrix(y_test_labels, y_pred1)\n",
        "CM2 = confusion_matrix(y_test_labels, y_pred2)\n",
        "CM3 = confusion_matrix(y_test_labels, y_pred3)"
      ],
      "execution_count": null,
      "outputs": []
    },
    {
      "cell_type": "code",
      "metadata": {
        "colab": {
          "base_uri": "https://localhost:8080/",
          "height": 400
        },
        "id": "_3DBsXLN-Q2T",
        "outputId": "0fe04d28-1ed4-438f-c359-dd534746370d"
      },
      "source": [
        "fig, (ax1, ax2, ax3) = plt.subplots(1, 3, figsize=(20, 6))\n",
        "\n",
        "disp1 = ConfusionMatrixDisplay(confusion_matrix=CM1, display_labels=class_names)\n",
        "disp1.plot(ax=ax1, values_format='.3g')\n",
        "plt.setp(ax1.xaxis.get_majorticklabels(), rotation=70)\n",
        "\n",
        "disp2 = ConfusionMatrixDisplay(confusion_matrix=CM2, display_labels=class_names)\n",
        "disp2.plot(ax=ax2, values_format='.3g')\n",
        "plt.setp(ax2.xaxis.get_majorticklabels(), rotation=70)\n",
        "\n",
        "disp3 = ConfusionMatrixDisplay(confusion_matrix=CM3, display_labels=class_names)\n",
        "disp3.plot(ax=ax3, values_format='.3g')\n",
        "plt.xticks(rotation=70)\n",
        "\n",
        "plt.show()"
      ],
      "execution_count": null,
      "outputs": [
        {
          "output_type": "display_data",
          "data": {
            "image/png": "[encoded data removed]",
            "text/plain": [
              "<Figure size 1440x432 with 6 Axes>"
            ]
          },
          "metadata": {
            "needs_background": "light"
          }
        }
      ]
    },
    {
      "cell_type": "code",
      "metadata": {
        "id": "stCJv8cZMQZf"
      },
      "source": [
        "# сохранить модели на диск.\n",
        "model1.save('model1.h5')\n",
        "model2.save('model2.h5')\n",
        "model3.save('model3.h5')\n",
        "\n",
        "# прочитать модели с диска\n",
        "# model = load_model('model.h5')"
      ],
      "execution_count": null,
      "outputs": []
    },
    {
      "cell_type": "markdown",
      "metadata": {
        "id": "RP9nm6V6qS7q"
      },
      "source": [
        "Сделаем предсказание на тестовом изображении"
      ]
    },
    {
      "cell_type": "code",
      "metadata": {
        "id": "QvkvodqxWmVn"
      },
      "source": [
        "y_pred_proba = model3.predict(X_test)\n",
        "y_pred = np.argmax(y_pred_proba, axis=1)"
      ],
      "execution_count": null,
      "outputs": []
    },
    {
      "cell_type": "markdown",
      "metadata": {
        "id": "b2WJFW5kqagU"
      },
      "source": [
        "Отобразим значения на выходах сети (10 выходов - 10 точек графика)"
      ]
    },
    {
      "cell_type": "code",
      "metadata": {
        "id": "EF18AOsTbsih",
        "colab": {
          "base_uri": "https://localhost:8080/",
          "height": 295
        },
        "outputId": "bdc17b40-24e1-4673-c983-8cbcb9218ff6"
      },
      "source": [
        "N = 10 \n",
        "plt.plot(y_pred_proba[N, :])\n",
        "plt.title(f'объект {class_names[y_test_labels[N]]} #{str(y_test_labels[N])}')\n",
        "plt.xlabel('номер выхода сети')\n",
        "plt.ylabel('значение на выходе')\n",
        "plt.show()"
      ],
      "execution_count": null,
      "outputs": [
        {
          "output_type": "display_data",
          "data": {
            "image/png": "[encoded data removed]",
            "text/plain": [
              "<Figure size 432x288 with 1 Axes>"
            ]
          },
          "metadata": {
            "needs_background": "light"
          }
        }
      ]
    },
    {
      "cell_type": "code",
      "metadata": {
        "id": "K0cGPgqBc-sb",
        "colab": {
          "base_uri": "https://localhost:8080/"
        },
        "outputId": "72f80079-8a1b-4d41-87b6-3902d8e685df"
      },
      "source": [
        "test_loss, test_acc = model1.evaluate(X_test, y_test_labels, verbose=2)\n",
        "test_loss, test_acc = model2.evaluate(X_test, y_test_labels, verbose=2)\n",
        "test_loss, test_acc = model3.evaluate(X_test, y_test_labels, verbose=2)"
      ],
      "execution_count": null,
      "outputs": [
        {
          "output_type": "stream",
          "name": "stdout",
          "text": [
            "313/313 - 1s - loss: 0.6280 - accuracy: 0.7870 - 705ms/epoch - 2ms/step\n",
            "313/313 - 1s - loss: 0.3938 - accuracy: 0.8594 - 722ms/epoch - 2ms/step\n",
            "313/313 - 1s - loss: 0.3757 - accuracy: 0.8647 - 702ms/epoch - 2ms/step\n"
          ]
        }
      ]
    },
    {
      "cell_type": "markdown",
      "metadata": {
        "id": "2TQpdoQi26b8"
      },
      "source": [
        "Усреднение моделей"
      ]
    },
    {
      "cell_type": "code",
      "metadata": {
        "id": "3cJ-0N8Es0gB"
      },
      "source": [
        "input = Input(shape=(28, 28))\n",
        "flat = Flatten()(input)\n",
        "\n",
        "x1 = Dense(128, activation='relu')(flat)\n",
        "x1 = Dense(10, activation='softmax')(x1)\n",
        "model1 = Model(inputs=input, outputs=x1)\n",
        "\n",
        "\n",
        "x2 = Dense(256, activation='relu')(flat)\n",
        "x2 = Dense(10, activation='softmax')(x2)\n",
        "model2 = Model(inputs=input, outputs=x2)\n",
        "\n",
        "\n",
        "x3 = Dense(256, activation='relu')(flat)\n",
        "x3 = Dense(10, activation='softmax')(x3)\n",
        "model3 = Model(inputs=input, outputs=x3)\n",
        "\n",
        "\n",
        "# усредняем выходы сетей\n",
        "out_all = tf.keras.layers.Average()([model1.output, model2.output, model3.output])\n",
        "out_all = tf.keras.layers.Softmax()(out_all)\n",
        "\n",
        "model_all = Model(inputs=[input], outputs=out_all)\n",
        "model_all.compile(optimizer='adam',\n",
        "                  loss=SparseCategoricalCrossentropy(from_logits=True),\n",
        "                  metrics=['accuracy'])\n",
        "\n",
        "\n",
        "model1.load_weights('model1.h5')\n",
        "model2.load_weights('model2.h5')\n",
        "model3.load_weights('model3.h5')"
      ],
      "execution_count": null,
      "outputs": []
    },
    {
      "cell_type": "code",
      "metadata": {
        "id": "uyUsa1Afs6cW",
        "colab": {
          "base_uri": "https://localhost:8080/"
        },
        "outputId": "23afeb53-6327-4bd7-cd7b-d7d1af653588"
      },
      "source": [
        "model_all.summary()"
      ],
      "execution_count": null,
      "outputs": [
        {
          "output_type": "stream",
          "name": "stdout",
          "text": [
            "Model: \"model_10\"\n",
            "__________________________________________________________________________________________________\n",
            " Layer (type)                   Output Shape         Param #     Connected to                     \n",
            "==================================================================================================\n",
            " input_4 (InputLayer)           [(None, 28, 28)]     0           []                               \n",
            "                                                                                                  \n",
            " flatten_9 (Flatten)            (None, 784)          0           ['input_4[0][0]']                \n",
            "                                                                                                  \n",
            " dense_23 (Dense)               (None, 128)          100480      ['flatten_9[0][0]']              \n",
            "                                                                                                  \n",
            " dense_25 (Dense)               (None, 256)          200960      ['flatten_9[0][0]']              \n",
            "                                                                                                  \n",
            " dense_27 (Dense)               (None, 256)          200960      ['flatten_9[0][0]']              \n",
            "                                                                                                  \n",
            " dense_24 (Dense)               (None, 10)           1290        ['dense_23[0][0]']               \n",
            "                                                                                                  \n",
            " dense_26 (Dense)               (None, 10)           2570        ['dense_25[0][0]']               \n",
            "                                                                                                  \n",
            " dense_28 (Dense)               (None, 10)           2570        ['dense_27[0][0]']               \n",
            "                                                                                                  \n",
            " average (Average)              (None, 10)           0           ['dense_24[0][0]',               \n",
            "                                                                  'dense_26[0][0]',               \n",
            "                                                                  'dense_28[0][0]']               \n",
            "                                                                                                  \n",
            " softmax_1 (Softmax)            (None, 10)           0           ['average[0][0]']                \n",
            "                                                                                                  \n",
            "==================================================================================================\n",
            "Total params: 508,830\n",
            "Trainable params: 508,830\n",
            "Non-trainable params: 0\n",
            "__________________________________________________________________________________________________\n"
          ]
        }
      ]
    },
    {
      "cell_type": "code",
      "metadata": {
        "id": "ET_usPF9ejrP",
        "colab": {
          "base_uri": "https://localhost:8080/",
          "height": 564
        },
        "outputId": "9e350e17-8046-48c0-da29-f0bfc01b20fc"
      },
      "source": [
        "from tensorflow.keras.utils import plot_model\n",
        "plot_model(model_all)"
      ],
      "execution_count": null,
      "outputs": [
        {
          "output_type": "execute_result",
          "data": {
            "image/png": "[encoded data removed]",
            "text/plain": [
              "<IPython.core.display.Image object>"
            ]
          },
          "metadata": {},
          "execution_count": 102
        }
      ]
    },
    {
      "cell_type": "code",
      "metadata": {
        "id": "9nqTRLVhts6i",
        "colab": {
          "base_uri": "https://localhost:8080/"
        },
        "outputId": "b5e3c7f1-1833-48bc-f0a6-f1d7ce044bd8"
      },
      "source": [
        "predictions_single = model_all.predict(imgs)\n",
        "predictions_single"
      ],
      "execution_count": null,
      "outputs": [
        {
          "output_type": "execute_result",
          "data": {
            "text/plain": [
              "array([[0.08797833, 0.08797449, 0.0879935 , 0.08798285, 0.08800811,\n",
              "        0.09693642, 0.08799095, 0.10325071, 0.08866411, 0.18322046]],\n",
              "      dtype=float32)"
            ]
          },
          "metadata": {},
          "execution_count": 103
        }
      ]
    },
    {
      "cell_type": "code",
      "metadata": {
        "id": "ZRejlxRetwpq",
        "colab": {
          "base_uri": "https://localhost:8080/",
          "height": 300
        },
        "outputId": "9f961d7a-f5df-484a-cc6f-876b4e8145a1"
      },
      "source": [
        "plot_value_array(0, predictions_single, y_test_labels)\n",
        "_ = plt.xticks(range(10), class_names, rotation=45)"
      ],
      "execution_count": null,
      "outputs": [
        {
          "output_type": "display_data",
          "data": {
            "image/png": "[encoded data removed]",
            "text/plain": [
              "<Figure size 432x288 with 1 Axes>"
            ]
          },
          "metadata": {
            "needs_background": "light"
          }
        }
      ]
    },
    {
      "cell_type": "code",
      "metadata": {
        "id": "OnUoZIIgt10d",
        "colab": {
          "base_uri": "https://localhost:8080/"
        },
        "outputId": "36407ec5-8fa7-4832-98e5-66a5e7bbb99c"
      },
      "source": [
        "test_loss, test_acc = model_all.evaluate(X_test, y_test_labels, verbose=2)"
      ],
      "execution_count": null,
      "outputs": [
        {
          "output_type": "stream",
          "name": "stdout",
          "text": [
            "313/313 - 1s - loss: 2.2121 - accuracy: 0.8650 - 1s/epoch - 4ms/step\n"
          ]
        }
      ]
    },
    {
      "cell_type": "code",
      "metadata": {
        "id": "IkT0L8D-Oi4x",
        "colab": {
          "base_uri": "https://localhost:8080/",
          "height": 279
        },
        "outputId": "5efc2980-7571-4471-f5ca-de28a0e5b003"
      },
      "source": [
        "y_pred_all = np.argmax(model_all.predict(X_test), axis=1)\n",
        "\n",
        "CM_all = confusion_matrix(y_test_labels, y_pred_all)\n",
        "disp_all = ConfusionMatrixDisplay(confusion_matrix=CM_all, display_labels=np.arange(10))\n",
        "disp_all.plot(values_format ='.3g')\n",
        "plt.show()"
      ],
      "execution_count": null,
      "outputs": [
        {
          "output_type": "display_data",
          "data": {
            "image/png": "[encoded data removed]",
            "text/plain": [
              "<Figure size 432x288 with 2 Axes>"
            ]
          },
          "metadata": {
            "needs_background": "light"
          }
        }
      ]
    },
    {
      "cell_type": "code",
      "metadata": {
        "colab": {
          "base_uri": "https://localhost:8080/"
        },
        "id": "ieChLpxhBicr",
        "outputId": "afa641e4-52f5-4784-eca1-248c3e187b6a"
      },
      "source": [
        "hist1 = model_all.fit(X_train, y_train_labels,\n",
        "                      epochs=5,\n",
        "                      batch_size=256,\n",
        "                      validation_data=(X_test, y_test_labels))"
      ],
      "execution_count": null,
      "outputs": [
        {
          "output_type": "stream",
          "name": "stdout",
          "text": [
            "Epoch 1/5\n",
            "235/235 [==============================] - 2s 6ms/step - loss: 2.1981 - accuracy: 0.8722 - val_loss: 2.1968 - val_accuracy: 0.8612\n",
            "Epoch 2/5\n",
            "235/235 [==============================] - 1s 6ms/step - loss: 2.1937 - accuracy: 0.8800 - val_loss: 2.1952 - val_accuracy: 0.8656\n",
            "Epoch 3/5\n",
            "235/235 [==============================] - 1s 6ms/step - loss: 2.1923 - accuracy: 0.8849 - val_loss: 2.1941 - val_accuracy: 0.8700\n",
            "Epoch 4/5\n",
            "235/235 [==============================] - 1s 6ms/step - loss: 2.1914 - accuracy: 0.8879 - val_loss: 2.1932 - val_accuracy: 0.8734\n",
            "Epoch 5/5\n",
            "235/235 [==============================] - 2s 7ms/step - loss: 2.1906 - accuracy: 0.8919 - val_loss: 2.1942 - val_accuracy: 0.8693\n"
          ]
        }
      ]
    },
    {
      "cell_type": "code",
      "metadata": {
        "colab": {
          "base_uri": "https://localhost:8080/",
          "height": 279
        },
        "id": "Z1O8A5dlBfq0",
        "outputId": "4acb69e2-80d6-48f0-c4d8-cd64c5dad9c4"
      },
      "source": [
        "y_pred_all = np.argmax(model_all.predict(X_test), axis=1)\n",
        "\n",
        "CM_all = confusion_matrix(y_test_labels, y_pred_all)\n",
        "disp_all = ConfusionMatrixDisplay(confusion_matrix=CM_all, display_labels=np.arange(10))\n",
        "disp_all.plot(values_format ='.3g')\n",
        "plt.show()"
      ],
      "execution_count": null,
      "outputs": [
        {
          "output_type": "display_data",
          "data": {
            "image/png": "[encoded data removed]",
            "text/plain": [
              "<Figure size 432x288 with 2 Axes>"
            ]
          },
          "metadata": {
            "needs_background": "light"
          }
        }
      ]
    },
    {
      "cell_type": "code",
      "metadata": {
        "id": "62dsQKqQ12tn",
        "colab": {
          "base_uri": "https://localhost:8080/"
        },
        "outputId": "2a757c59-627d-493e-8d56-9ceec51c1737"
      },
      "source": [
        "test_loss, test_acc = model_all.evaluate(X_test, y_test_labels, verbose=2)"
      ],
      "execution_count": null,
      "outputs": [
        {
          "output_type": "stream",
          "name": "stdout",
          "text": [
            "313/313 - 1s - loss: 2.1942 - accuracy: 0.8693 - 908ms/epoch - 3ms/step\n"
          ]
        }
      ]
    },
    {
      "cell_type": "markdown",
      "metadata": {
        "id": "bNM2ojaL3Ahr"
      },
      "source": [
        "Обучение только новых слоев. Старые слои моделей замораживаем и не обучаем."
      ]
    },
    {
      "cell_type": "code",
      "metadata": {
        "id": "eAJ0gHjr3Ekp",
        "colab": {
          "base_uri": "https://localhost:8080/"
        },
        "outputId": "6136a0cc-d48a-473b-bc76-3080618e94cd"
      },
      "source": [
        "input = Input(shape=(28, 28))\n",
        "flat = Flatten()(input)\n",
        "\n",
        "x1 = Dense(128, activation='relu')(flat)\n",
        "x1 = Dense(10, activation='softmax')(x1)\n",
        "model1 = Model(inputs=input, outputs=x1)\n",
        "# не обучаем слои модели\n",
        "for layer in model1.layers:\n",
        "    layer.trainable = False\n",
        "\n",
        "\n",
        "x2 = Dense(256, activation='relu')(flat)\n",
        "x2 = Dense(10, activation='softmax')(x2)\n",
        "model2 = Model(inputs=input, outputs=x2)\n",
        "# не обучаем слои модели\n",
        "for layer in model2.layers:\n",
        "    layer.trainable = False\n",
        "\n",
        "\n",
        "x3 = Dense(256, activation='relu')(flat)\n",
        "x3 = Dense(10, activation='softmax')(x3)\n",
        "model3 = Model(inputs=input, outputs=x3)\n",
        "# не обучаем слои модели\n",
        "for layer in model3.layers:\n",
        "    layer.trainable = False\n",
        "\n",
        "\n",
        "# усредняем выходы сетей\n",
        "out_all = tf.keras.layers.Average()([model1.output, model2.output, model3.output])\n",
        "# добавляем новый обучаемый слой\n",
        "# out_all = Dense(10, activation='relu')(out_all)\n",
        "\n",
        "out_all = tf.keras.layers.Softmax()(out_all)\n",
        "\n",
        "model_all = Model(inputs=[input], outputs=out_all)\n",
        "model_all.compile(optimizer='adam',\n",
        "                  loss=SparseCategoricalCrossentropy(from_logits=True),\n",
        "                  metrics=['accuracy'])\n",
        "\n",
        "\n",
        "model1.load_weights('model1.h5')\n",
        "model2.load_weights('model2.h5')\n",
        "model3.load_weights('model3.h5')\n",
        "\n",
        "model_all.summary()"
      ],
      "execution_count": null,
      "outputs": [
        {
          "output_type": "stream",
          "name": "stdout",
          "text": [
            "Model: \"model_18\"\n",
            "__________________________________________________________________________________________________\n",
            " Layer (type)                   Output Shape         Param #     Connected to                     \n",
            "==================================================================================================\n",
            " input_6 (InputLayer)           [(None, 28, 28)]     0           []                               \n",
            "                                                                                                  \n",
            " flatten_11 (Flatten)           (None, 784)          0           ['input_6[0][0]']                \n",
            "                                                                                                  \n",
            " dense_36 (Dense)               (None, 128)          100480      ['flatten_11[0][0]']             \n",
            "                                                                                                  \n",
            " dense_38 (Dense)               (None, 256)          200960      ['flatten_11[0][0]']             \n",
            "                                                                                                  \n",
            " dense_40 (Dense)               (None, 256)          200960      ['flatten_11[0][0]']             \n",
            "                                                                                                  \n",
            " dense_37 (Dense)               (None, 10)           1290        ['dense_36[0][0]']               \n",
            "                                                                                                  \n",
            " dense_39 (Dense)               (None, 10)           2570        ['dense_38[0][0]']               \n",
            "                                                                                                  \n",
            " dense_41 (Dense)               (None, 10)           2570        ['dense_40[0][0]']               \n",
            "                                                                                                  \n",
            " average_2 (Average)            (None, 10)           0           ['dense_37[0][0]',               \n",
            "                                                                  'dense_39[0][0]',               \n",
            "                                                                  'dense_41[0][0]']               \n",
            "                                                                                                  \n",
            " softmax_3 (Softmax)            (None, 10)           0           ['average_2[0][0]']              \n",
            "                                                                                                  \n",
            "==================================================================================================\n",
            "Total params: 508,830\n",
            "Trainable params: 0\n",
            "Non-trainable params: 508,830\n",
            "__________________________________________________________________________________________________\n"
          ]
        }
      ]
    },
    {
      "cell_type": "code",
      "metadata": {
        "id": "dwwrnJ1oLsiy",
        "colab": {
          "base_uri": "https://localhost:8080/"
        },
        "outputId": "df99d791-29fb-474e-ca33-a1ffecf36785"
      },
      "source": [
        "test_loss, test_acc = model_all.evaluate(X_test, y_test_labels, verbose=2)"
      ],
      "execution_count": null,
      "outputs": [
        {
          "output_type": "stream",
          "name": "stdout",
          "text": [
            "313/313 - 2s - loss: 2.2121 - accuracy: 0.8650 - 2s/epoch - 6ms/step\n"
          ]
        }
      ]
    },
    {
      "cell_type": "code",
      "metadata": {
        "id": "J0HcltPZ5St9",
        "colab": {
          "base_uri": "https://localhost:8080/"
        },
        "outputId": "871b6248-7e7b-46a4-9150-e318d492ef37"
      },
      "source": [
        "for layer in model_all.layers[:]:\n",
        "    layer.trainable = True\n",
        "\n",
        "model_all.summary()"
      ],
      "execution_count": null,
      "outputs": [
        {
          "output_type": "stream",
          "name": "stdout",
          "text": [
            "Model: \"model_18\"\n",
            "__________________________________________________________________________________________________\n",
            " Layer (type)                   Output Shape         Param #     Connected to                     \n",
            "==================================================================================================\n",
            " input_6 (InputLayer)           [(None, 28, 28)]     0           []                               \n",
            "                                                                                                  \n",
            " flatten_11 (Flatten)           (None, 784)          0           ['input_6[0][0]']                \n",
            "                                                                                                  \n",
            " dense_36 (Dense)               (None, 128)          100480      ['flatten_11[0][0]']             \n",
            "                                                                                                  \n",
            " dense_38 (Dense)               (None, 256)          200960      ['flatten_11[0][0]']             \n",
            "                                                                                                  \n",
            " dense_40 (Dense)               (None, 256)          200960      ['flatten_11[0][0]']             \n",
            "                                                                                                  \n",
            " dense_37 (Dense)               (None, 10)           1290        ['dense_36[0][0]']               \n",
            "                                                                                                  \n",
            " dense_39 (Dense)               (None, 10)           2570        ['dense_38[0][0]']               \n",
            "                                                                                                  \n",
            " dense_41 (Dense)               (None, 10)           2570        ['dense_40[0][0]']               \n",
            "                                                                                                  \n",
            " average_2 (Average)            (None, 10)           0           ['dense_37[0][0]',               \n",
            "                                                                  'dense_39[0][0]',               \n",
            "                                                                  'dense_41[0][0]']               \n",
            "                                                                                                  \n",
            " softmax_3 (Softmax)            (None, 10)           0           ['average_2[0][0]']              \n",
            "                                                                                                  \n",
            "==================================================================================================\n",
            "Total params: 508,830\n",
            "Trainable params: 508,830\n",
            "Non-trainable params: 0\n",
            "__________________________________________________________________________________________________\n"
          ]
        }
      ]
    },
    {
      "cell_type": "code",
      "metadata": {
        "id": "qeWqYkYU45wG",
        "colab": {
          "base_uri": "https://localhost:8080/"
        },
        "outputId": "9e909603-c46d-4ddf-ece4-9ed932b78d3b"
      },
      "source": [
        "hist1 = model_all.fit(X_train, y_train_labels,\n",
        "                      epochs=10,\n",
        "                      batch_size=512,\n",
        "                      validation_data=(X_test, y_test_labels))"
      ],
      "execution_count": null,
      "outputs": [
        {
          "output_type": "stream",
          "name": "stdout",
          "text": [
            "Epoch 1/10\n",
            "118/118 [==============================] - 2s 9ms/step - loss: 2.2100 - accuracy: 0.8852 - val_loss: 2.2121 - val_accuracy: 0.8650\n",
            "Epoch 2/10\n",
            "118/118 [==============================] - 1s 8ms/step - loss: 2.2100 - accuracy: 0.8852 - val_loss: 2.2121 - val_accuracy: 0.8650\n",
            "Epoch 3/10\n",
            "118/118 [==============================] - 1s 8ms/step - loss: 2.2100 - accuracy: 0.8852 - val_loss: 2.2121 - val_accuracy: 0.8650\n",
            "Epoch 4/10\n",
            "118/118 [==============================] - 1s 8ms/step - loss: 2.2100 - accuracy: 0.8852 - val_loss: 2.2121 - val_accuracy: 0.8650\n",
            "Epoch 5/10\n",
            "118/118 [==============================] - 1s 8ms/step - loss: 2.2100 - accuracy: 0.8852 - val_loss: 2.2121 - val_accuracy: 0.8650\n",
            "Epoch 6/10\n",
            "118/118 [==============================] - 1s 8ms/step - loss: 2.2100 - accuracy: 0.8852 - val_loss: 2.2121 - val_accuracy: 0.8650\n",
            "Epoch 7/10\n",
            "118/118 [==============================] - 1s 8ms/step - loss: 2.2100 - accuracy: 0.8852 - val_loss: 2.2121 - val_accuracy: 0.8650\n",
            "Epoch 8/10\n",
            "118/118 [==============================] - 1s 7ms/step - loss: 2.2100 - accuracy: 0.8852 - val_loss: 2.2121 - val_accuracy: 0.8650\n",
            "Epoch 9/10\n",
            "118/118 [==============================] - 1s 8ms/step - loss: 2.2100 - accuracy: 0.8852 - val_loss: 2.2121 - val_accuracy: 0.8650\n",
            "Epoch 10/10\n",
            "118/118 [==============================] - 1s 10ms/step - loss: 2.2100 - accuracy: 0.8852 - val_loss: 2.2121 - val_accuracy: 0.8650\n"
          ]
        }
      ]
    },
    {
      "cell_type": "code",
      "metadata": {
        "id": "s35vELls45nW",
        "colab": {
          "base_uri": "https://localhost:8080/"
        },
        "outputId": "9b2f2585-22a6-4edc-d595-2f237ff737a3"
      },
      "source": [
        "test_loss, test_acc = model_all.evaluate(X_test, y_test_labels, verbose=2)"
      ],
      "execution_count": null,
      "outputs": [
        {
          "output_type": "stream",
          "name": "stdout",
          "text": [
            "313/313 - 1s - loss: 2.2121 - accuracy: 0.8650 - 1s/epoch - 4ms/step\n"
          ]
        }
      ]
    },
    {
      "cell_type": "code",
      "metadata": {
        "id": "84IeaSup6PqQ",
        "colab": {
          "base_uri": "https://localhost:8080/"
        },
        "outputId": "be9afe76-942c-4e9d-d25f-194851e46ff3"
      },
      "source": [
        "model_all.save('model_all.h5')"
      ],
      "execution_count": null,
      "outputs": [
        {
          "output_type": "stream",
          "name": "stderr",
          "text": [
            "/usr/local/lib/python3.7/dist-packages/keras/engine/functional.py:1410: CustomMaskWarning: Custom mask layers require a config and must override get_config. When loading, the custom mask layer must be passed to the custom_objects argument.\n",
            "  layer_config = serialize_layer_fn(layer)\n"
          ]
        }
      ]
    },
    {
      "cell_type": "code",
      "metadata": {
        "id": "4qYsA2yj6TRM",
        "colab": {
          "base_uri": "https://localhost:8080/"
        },
        "outputId": "0102c5bd-6578-49fb-d4ed-86160cb53c6a"
      },
      "source": [
        "model_loaded = tf.keras.models.load_model('model_all.h5')\n",
        "test_loss, test_acc = model_loaded.evaluate(X_test, y_test_labels, verbose=2)"
      ],
      "execution_count": null,
      "outputs": [
        {
          "output_type": "stream",
          "name": "stdout",
          "text": [
            "WARNING:tensorflow:Error in loading the saved optimizer state. As a result, your model is starting with a freshly initialized optimizer.\n",
            "313/313 - 1s - loss: 2.2121 - accuracy: 0.8650 - 1s/epoch - 3ms/step\n"
          ]
        }
      ]
    },
    {
      "cell_type": "markdown",
      "metadata": {
        "id": "RY-X4hsB6zyc"
      },
      "source": [
        "Tensorflow - это про обработку нейросетей более сложным способом, с большей степенью интерактивности и воздействия на модель.\n",
        "\n",
        "Tensorflow позволяет обучать модели высокоуровнево, благодаря Keras, либо низкоуровнево через циклы, в которых нужно прописывать:\n",
        "1. Проход по батчу\n",
        "2. Предсказание модели на батче\n",
        "3. Подсчет ошибки\n",
        "4. Подсчет градиентов\n",
        "5. Обратный проход\n",
        "6. Логирование информации"
      ]
    },
    {
      "cell_type": "markdown",
      "metadata": {
        "id": "pZyy2UhoFzTB"
      },
      "source": [
        "## Домашнее задание\n",
        "\n",
        "  1. Постройте нейронную сеть (берем несложную полносвязную сеть, меняем число слоев, число нейронов, типы активации, тип оптимизатора) на датасете from sklearn.datasets import load_boston. \n",
        "  2. Постройте 10-15 вариантов разных нейронных сетей и сведите результаты их работы в таблицу.  Опишите, какого результата вы добились от нейросети? Что помогло вам улучшить ее точность?\n",
        "\n",
        "    "
      ]
    },
    {
      "cell_type": "markdown",
      "metadata": {
        "id": "oNZ6hZcMFzTE"
      },
      "source": [
        "## Дополнительные материалы\n",
        "\n",
        "1. https://www.tensorflow.org/api_docs - Документация\n",
        "2. https://www.tensorflow.org/tutorials/ - Туториалы"
      ]
    },
    {
      "cell_type": "markdown",
      "metadata": {
        "id": "Q64Z2Kr_FzTF"
      },
      "source": [
        "## Используемая литература \n",
        "\n",
        "Для подготовки данного методического пособия были использованы следующие ресурсы:\n",
        "<ol>\n",
        "    <li>https://www.tensorflow.org/</li>\n",
        "    <li>https://www.tensorflow.org/tutorials/keras/classification</li>\n",
        "    <li>Singh P., Manure A. - Learn TensorFlow 2.0 - 2020</li>\n",
        "    <li>Шакла Н. — Машинное обучение и TensorFlow 2019</li>\n",
        "    <li>Википедия</li>\n",
        "    \n",
        "</ol>"
      ]
    }
  ]
}