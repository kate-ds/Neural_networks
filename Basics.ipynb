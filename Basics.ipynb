{
  "nbformat": 4,
  "nbformat_minor": 0,
  "metadata": {
    "colab": {
      "name": "Basics.ipynb",
      "provenance": [],
      "collapsed_sections": [
        "TWX2iLhFxpTS",
        "IADnOuFBxpTS"
      ],
      "toc_visible": true
    },
    "kernelspec": {
      "display_name": "Python 3",
      "language": "python",
      "name": "python3"
    },
    "language_info": {
      "codemirror_mode": {
        "name": "ipython",
        "version": 3
      },
      "file_extension": ".py",
      "mimetype": "text/x-python",
      "name": "python",
      "nbconvert_exporter": "python",
      "pygments_lexer": "ipython3",
      "version": "3.6.8"
    }
  },
  "cells": [
    {
      "cell_type": "markdown",
      "metadata": {
        "id": "y1FWR90xxpSl"
      },
      "source": [
        "# Введение в искусственные нейронные сети\n",
        "# Урок 1. Основы обучения нейронных сетей"
      ]
    },
    {
      "cell_type": "markdown",
      "metadata": {
        "id": "VkHENMkcxpSm"
      },
      "source": [
        "## Содержание методического пособия:\n",
        "\n",
        "\n",
        "- [Общие сведения о искусственных нейронных сетях](#intro)\n",
        "- [Место искусственных нейронных сетей в современном мире](#place)\n",
        "- [История искусственных нейронных сетей](#history)\n",
        "- [Строение биологической нейронной сети](#bio)\n",
        "- [Общие сведения о том, как происходит обучение нейронных сетей](#train)\n",
        "- [Инициализация весов. Функции активации](#init)\n",
        "- [Обратное распространение ошибки и градиентный спуск](#backprop)\n",
        "- [Небольшой пример по обучению простой нейронной сети](#example)\n",
        "    - [Нейрон для повторения входа](#repeat)\n",
        "    - [Нейрон для регрессии](#reg)\n",
        "    - [Нейрон для многоклассовой классификации](#multiclass)\n",
        "- [Пример построения двухслойной нейронной сети на numpy](#example2)\n",
        "- [Домашнее задание](#hw)\n",
        "- [Определения](#def)"
      ]
    },
    {
      "cell_type": "markdown",
      "metadata": {
        "id": "2DOeMlEbxpSn"
      },
      "source": [
        "## Общие сведения об искусственных нейронных сетях <a class='anchor' id='intro'>\n",
        "\n",
        "В даннном разделе мы узнаем, что такое нейронные сети и из каких компонентов они состоят.\n",
        "\n",
        "Искусственнная нейронная сеть - это программная реализация математической модели биологической нейронной сети. Ее цель — извлечь пользу из переданных ей данных. Например, сказать, что на фотографии или сделать какой-либо прогноз.\n",
        "\n",
        "Нейронные сети состоят из входных, внутренних и внешних слоев. Внутренние слои ответственны за обучение. Входные слои позволяют ввести данные во внутренние слои, а внешние слои позволяют вывести полезный вывод из данных. Сами слои состоят из отдельных нейронов, которые связаны с другими нейронами и по определенным алгоритмам способны усиливать с ними связь.\n",
        "\n",
        "Через нейронные сети в процессе обучения многократно пропускают какие-либо данные, например изображения и указывают, что на них. За счет работы различных алгоритмов в нейронной сети вырабатывается такая система связей между нейронами, которая позволяет в последствии при переданных ей новых данных получить ответ, что на фотографии.\n",
        "\n",
        "Но распознавание объектов на фотографиях далеко не единственная сфера применения нейронных сетей. Существует множество видов различных нейронных сетей для разных задач. Основные из этих видов мы разберем в данном курсе. Детальное рассмотрение процесса обучения нейронной сети и базовые сведения об ее архитекутуре будут разобраны во второй половине данного методического пособия."
      ]
    },
    {
      "cell_type": "markdown",
      "metadata": {
        "id": "BpJkskTqxpSo"
      },
      "source": [
        "<img src='https://drive.google.com/uc?export=view&id=1RgW2rlqVFGNePU8RUiEGBfA4G5_tTqsb'>"
      ]
    },
    {
      "cell_type": "markdown",
      "metadata": {
        "id": "BEDTw0lGxpSp"
      },
      "source": [
        "## Место искусственных нейронных сетей в современном мире <a class='anchor' id='place'>\n",
        "\n",
        "В данном разделе мы разберем какие новшества принесли искусственные нейронные сети в современный мир. Долгое время создание искусственого интеллекта оставалось частью научной фантастики и несмотря на многие предсказания прошлого времени, что искусственный интеллект вот-вот будет создан,  искусственный интеллект был создан совсем не давно. По крайней мере люди стали говорить, что они пользуются искусственным интеллектом. Как минимум можно сказать, что искусственный интеллект создан с маркетинговой точки зрения. Тем не менее сейчас мы можем говорить только лишь о том, что создан специализированный искусственный интеллект, способный выполнять только определенные задачи, которые раньше было свойственно выполнять только человеку. Т.е. создан так называемый **узкий искусственный интеллект**. Создание **общего искусственного интеллекта**, т. е. программы, которая могла бы мыслить как человек, по прежнему остается фантастикой.\n",
        "\n",
        "<table><tr>\n",
        "<td> <img src='https://drive.google.com/uc?export=view&id=1uASIANBhuWuRP58bgs4nytR6nTtbewhM'> </td>\n",
        "<td> <img src='https://drive.google.com/uc?export=view&id=1hKXauR0O5jD5S9TnoCWX63KQvd_JbspA' style=\"width: 600px;\"> </td>\n",
        "</tr></table>"
      ]
    },
    {
      "cell_type": "markdown",
      "metadata": {
        "id": "07Hn-kj7LhgW"
      },
      "source": [
        "Искусственные нейронные сети, которые являются предметом изучения данного курса являются основой революции в области «узкого искусственного интеллекта» и являются одной из главных надежд для создания общего искусственного интеллекта в будущем. Однако искусственвенный интеллект может строиться не только на базе искусственных нейронных сетей. Более того как мы увидем в разделе посвященным истории, данных подход долгое время считался неперспективным. Так почему же революция совершена именно благодаря им, а не другим подходам? Дело в том, что компьютерные программы давно могут автоматизировать различную работу человека. Им можно дать определенный алгоритм работы и они будут его надежно выполнять. Программы как известно получают на вход данные, обрабатывают их с помощью определенного алгоритма и на выходе опять выдают данные.\n",
        "Но возьмем к примеру завод. На нем есть много труда, который можно было автоматизировать. Не трудно составить алгоритм, например, для промышленного манипулятора, который будет переносить определенные тяжелые предметы. С помощью технологий перевода данных обработанных процессором в движения манипулятора можно заставить его совершить определенную полезное работу. Но как ввести данные для обработки? Как дать понять манипулятору какой предмет ему нужно взять? Здесь на помощь может прийти камера. \n",
        "\n",
        "<img src='https://drive.google.com/uc?export=view&id=11oiOY9BICo__bqmhJkJ5RlkJVbfN4z5U'>\n",
        "\n",
        "Долгое время различные алгоритмы компьютерного зрения справлялись с определенными несложными задачами наподобее определения предметов через цвет или его геометрическую форму.\n",
        "Но что если нужно работать с предметами разного цвета и формы, но объеденных другими общими свойствами? Например сортировать яблоки и груши. Они могут быть разной формы и цвета, но тем не менее нужно отделить одно от другого. Человеку не трудно справиться с подобной задачей но для искусственного интеллекта долгое время это оставалось не посильной задачей. Однако с применением глубоких искусственных нейронных сетей начиная с 2012 года выполнение этой задачи стало реальностью. Но не только в сфере распознования образов важную роль сыграли нейронные сети. Также в сфере распознования речи. Так же сейчас есть нейронные сети которые могут создавать изображения и синтезировать голос. Также они применяются в многих других сферах.\n",
        "\n",
        "Подобный переворот случился благодаря тому, что нейронные сети стали повторять собою нейронные сети человеческого мозга, который как раз может легко справляться с подобной задачей."
      ]
    },
    {
      "cell_type": "markdown",
      "metadata": {
        "id": "FYr6ynG4xpSr"
      },
      "source": [
        "## Применение нейронных сетей  <a class='anchor' id='usage'>\n",
        "\n",
        "В нашем курсе мы будем проходить различные виды нейронных сетей и будем рассматривать в соотвествующих уроках применение каждого вида отдельно. Здесь же в общих чертах нарисуем картину их применения.\n",
        "\n",
        "Нейронные сети применяются в области **компьютерного зрения**. Начиная с обычных программ распознающих предметы в производстве или распознавание личности на телефоне, заканчивая крупными комплексами компьютерного зрения, которые применяются в беспилотных автомобилях.\n",
        "\n",
        "<table><tr>\n",
        "    <td><h3>Распознавание лица</h3><img src='https://drive.google.com/uc?export=view&id=1eVT_BJ-FlU_zF7uBkf9rDC4Cebv-H2M_' width=600>\n",
        "        </td>\n",
        "    <td><h3>Беспилотные автомобили</h3>\n",
        "        <img src='https://drive.google.com/uc?export=view&id=1iW_oqruyLDRnvNoA6PcUBmzbjnZwlntd'>\n",
        "        </td>\n",
        "</tr></table>"
      ]
    },
    {
      "cell_type": "markdown",
      "metadata": {
        "id": "keyNC6rrxpSs"
      },
      "source": [
        "Комбинация из нескольких нейронных сетей позволяет описать содержание фотографии.\n",
        "Нейронные сети применяются в медицине — для анализа снимков и заключений о болезни человека в некоторых областях лучше, чем человек.\n",
        "\n",
        "Нейронные сети также применяются для анализа поведения покупателей, а также на бирже. Находят они применения также в прогнозах погоды.\n",
        "\n",
        "<table><tr>\n",
        "\n",
        "<td><h3>Анализ поведения покупателей</h3>\n",
        "<img src='https://drive.google.com/uc?export=view&id=1iDISC_aqPS2x-OS534s8J9cYXCNV9ZIj'></td>\n",
        "<td><h3>Сегментация клеток в медицине</h3>\n",
        "    <img src='https://drive.google.com/uc?export=view&id=1XRxNqtW7AUcGuZqAOV3wcO1Kryb5Cooi'>\n",
        "        </td>\n",
        "</tr></table>\n",
        "\n",
        "Нейронные сети находят также применение для творчества. Уже сейчас есть художники, которые продают картины, которые рисуют нейронные сети.\n",
        "\n",
        "Есть и другие интересные области применения нейронных сетей. Например они используются для придания цвета старым фотографиям или фильмам. В улучшении качества изображений. Для чтения по губам. Для генерации фотографий и много другого.\n",
        "\n",
        "Нейронные сети применяются для **распознавания голоса** — Siri, Google помощник, Alexa, Алиса и прочие голосовые помощники распознают голос человек с помощью нейронных сетей. Их применение не ограничивается только лишь распознаванием голоса. В последние годы достигнут существенный прогресс в синтезе голоса. Применяются они также в области машинного перевода. Прогресс в этой области как раз связан с ними. "
      ]
    },
    {
      "cell_type": "markdown",
      "metadata": {
        "id": "pSFTDXayxpSt"
      },
      "source": [
        "## История искусственных нейронных сетей <a class='anchor' id='history'>\n",
        "\n",
        "\n",
        "Представление о нейронных сетях как главном способе создания искусственного интеллекта сложилось далеко не сразу и в данном разделе мы осветим основные вехи этой технологии.\n",
        "\n",
        "Математическую модель искусственного нейрона была предложена У. Маккалоком и У. Питтсом  в 50-х годах 20 века.\n",
        "\n",
        "В виде компьютерной системы нейронная сеть была впервые реализована  Фрэнком Розенблаттом в 1960 году. Фрэнк Розенблат создал «Марк-1», который являлся программно-аппаратным комлексом и воплащал в себе простую нейронную сеть в один слой. Можно отметить, что современные сети включают в себя 50 — 150 слоев, а экспериментальные достигают размера более 1000 слоев.\n",
        "\n",
        "Однако волна энтузиазма 60-х годов в отношении искусственных нейронных сетей сменилась скепсисом в отношении них из-за трудностей в совершении определенных логических операций и невозможности получать практические результаты. Доминирующим подходом для создания искусственного интеллекта стали экспертные системы. Они являлись по сути продвинутой энциклопедией знаний в той или иной сфере.\n",
        "\n",
        "Однако в 2012 г. появились глубокие нейронные сети. Т.е. сети с количеством внутренних слоев больше одного. Сначала кол-во слоев таких нейронных сетях было примерно 3-10. Но в силу эффективности подхода по увеличению кол-ва слоев, быстро появились нейронные сети кол-во слоев которых стало исчисляться десятками."
      ]
    },
    {
      "cell_type": "markdown",
      "metadata": {
        "id": "w_WWt-XcxpSw"
      },
      "source": [
        "\n",
        "<img src='https://drive.google.com/uc?export=view&id=1cHOT6sfmhHi9cTsIz-bMIyYr6tZNfAf4' width=1100px>"
      ]
    },
    {
      "cell_type": "markdown",
      "metadata": {
        "id": "9UMBwjLqxpSw"
      },
      "source": [
        "Именно с 2012 г. нейросети стали считаться доминирующим способом в решении многих задач искусственного интеллекта. Стоит задаться вопросом: почему именно в этот период? Прорыв был обеспечен более продвинутой архитектурой, возросшими количеством хранимых компьютерами данных для тренировки нейронных сетей, а также возросшей вычислительной мощностью компьютеров. Также можно отметить появления в эту пору возможности использовать видеокарты (GPU) для тренировки нейронных сетей, которые оказались лучше приспособленными для решения этих задач чем классические CPU. \n",
        "\n",
        " <table>\n",
        "   <tr>\n",
        "    <td rowspan=\"2\"><img src='https://drive.google.com/uc?export=view&id=1AV8Jz_MhXy0x_BUE6CyuA4Hu63RWaoUN' width=1500></td>\n",
        "    <th colspan=\"2\"><img src='https://drive.google.com/uc?export=view&id=1Zv_5TDpHp-A98ZrxJval42s_dgZwsUFb'></th>\n",
        "\n",
        "   </tr>\n",
        "      <tr align=\"center\">\n",
        "    <td><img src='https://drive.google.com/uc?export=view&id=1aPfCx4zwHgNbNnoZh-PCJpjIt9URTjrz'></td>\n",
        "   </tr>\n",
        "  </table>"
      ]
    },
    {
      "cell_type": "markdown",
      "metadata": {
        "id": "nA2ciSUxxpSx"
      },
      "source": [
        "## Строение биологической нейронной сети <a class='anchor' id='bio'>\n",
        "\n",
        "Термин «Нейрон» был  введен Г. В. Вальдейером в 1891 г. Что из себя предствляет человечекий нейрон? Часто можно услышать его сравнение с транизистором. Однаком более убедительным является точка зрения нейрофизиологов утверждающих, что нейрон это полноценный компьютер. Человеческий нейрон также как и компьютер призван обрабатывать сигналы. \n",
        "То, что человеческое сознание является результатом работы нейронов было впервые отмечено в работах Александра Бейна (1873) и Уильяма Джеймса (1890). В работах Бейна впервые акт запоминания был сформулирован как акт укрепление нейронных связей.\n",
        "\n",
        "В нейронах мозга есть аксоны, через которые в него попадают сигналы,  у искусственных нейронов также есть подобные входы. У нейронов мозга есть выходной компонент дендрит и искуственных нейронов также есть выходные компоненты. У нейронов человеческого мозга насчитывается порядка 10 000 связей с другими нейронами у искусственных нейронов их также может быть много. И биологической нейронной сети и в искусственной в случае если сумма поступающих сигналов в нейрон превышает определенный порог то сигнал передается следующему нейрону.\n",
        "\n",
        "\n",
        "<img src='https://drive.google.com/uc?export=view&id=1ETe3FLpW_YeBFzSXee7qJWUQ1ju91vV8' width=800px>\n",
        "\n",
        "Искусственные нейронные сети работают подобно биологическим — через них пропускаются данные и те связи, которые ведут к нужным результатам укрепляются. Но если в человеческом мозге происходит засчет утолщения этих связей, то в программных нейронных сетях это происходит за счет увеличение чисел символизирующих эти связи.\n",
        "\n",
        "\n",
        "<img src='https://drive.google.com/uc?export=view&id=1RdXFm7HGZKhgNor3099il9_MudFM7WoY'>"
      ]
    },
    {
      "cell_type": "markdown",
      "metadata": {
        "id": "Gfsqj22IxpSy"
      },
      "source": [
        "<img src='https://drive.google.com/uc?export=view&id=1xchAwxcsAg8JnKRZ4vzCRlefiDwDeU3m'>"
      ]
    },
    {
      "cell_type": "markdown",
      "metadata": {
        "id": "tk9kK9-JxpSz"
      },
      "source": [
        "## Общие сведения о том, как происходит обучение нейронных сетей <a class='anchor' id='train'>"
      ]
    },
    {
      "cell_type": "markdown",
      "metadata": {
        "id": "aFMW-GSCxpSz"
      },
      "source": [
        "Давайте возьмем какую-нибудь типичную задачу для нейросети и попробуем разобрать как она могла бы ее решить. В качества примера задачи можем взять типичный пример — определить на фотографии находится кот или собака. \n",
        "\n",
        "Сначала давайте подумаем как это данная задача решалась бы без нейронной сети. Вспомним, что фотография это набор пикселей. Пиксели в компьютере репрезентуются матрицей чисел. У кота очень много отличительных черт как и у собаки. Перечесление этих уникальных свойств займет долгое время. Но стоит учесть вот какое обстоятельство - усики и лапки и шерстка есть у многих животных. И скорее всего все что нам остается делать это описывать размеры этих усиков, лапок и т. д. Изучать их угла наклона и т. д. Попытки делать это вручную были, как раз до эпохи нейронных сетей. Но результаты были не высокие. Как вы понимаете объем признаков слишком большой. \n",
        "\n",
        "<img src='https://drive.google.com/uc?export=view&id=1ELlQJBZrmg_qcQBnawkH1KjI2GajZqkk' width=500px>\n",
        "\n",
        "Таким образом задача нейронной сети содержать в себе необходимый набор признаков которые позволяет ей отличить один объект от другого. \n",
        "Но встает вопрос как поместить в нейронную сеть необходимый набор признаков? Ответ на этот вопрос будет даваться в течении всего данного курса и всеравно не будет исчерпывающим. Поскольку для это придется обучать нейронную сеть, а ее обучение порой преобретает характер искусства нежели набор предписаний.\n",
        "Тем не менее в процессе обучения всегда нужно пройти ряд этапов, которые будут общими для любого процесса обучения.\n",
        "\n",
        "\n",
        "Нам определиться с архитектурой нейронной сети. От удачно выбранной архитектуры будет зависеть насколько быстро мы сможем обучить нейронную сеть, насколько точной она будет, а также сможем ли мы ее обучить в принципе. \n",
        "Архитектура нейронной сети как вы догадываетесь зависит от задачи. В зависимости от задачи нам нужно будет выбрать:\n",
        "\n",
        "- Количество слоев из которых будет состоять нейронная сеть\n",
        "- Сколько будет нейронов в этих слоях\n",
        "\n",
        "\n",
        "Кроме этого нам нужно будет подобрать верным образом компоненты, за счет которых будет обучаться нейронная сеть (подробнее о них можно будет узнать в следующих разделах данного мет. пособия)\n",
        "\n",
        "- Систему инициализации весов нейронов \n",
        "- Функцию активации весов нейронов\n",
        "- Алгоритм корректировки весов нейронов\n",
        "\n",
        "Это безусловно список самых общих компонентов с которыми нам нужно будет определиться, но на данной стадии обучения надо полагать нам их будет достаточно. \n",
        "Архитектуры нейронных сетей мы будем изучать на отдельных уроках этого курса. В этом же уроке мы разберем следующие неотъемлимые компоненты обучения нейронной сети любой архитектуры — инициализация весов, их корректировка, рассмотрим виды функций активации весов нейронной сети, разберем, что такое градиентный спуск и метод обратного распространения ошибки."
      ]
    },
    {
      "cell_type": "markdown",
      "metadata": {
        "id": "P1jA-VRmxpS0"
      },
      "source": [
        "## Инициализация весов. Функции активации <a class='anchor' id='init'>"
      ]
    },
    {
      "cell_type": "markdown",
      "metadata": {
        "id": "dK_ARl9CxpS0"
      },
      "source": [
        "<img src='https://drive.google.com/uc?export=view&id=1XmympDj-QuN6VBWDGM69rzJHxB3-kBCX'>"
      ]
    },
    {
      "cell_type": "markdown",
      "metadata": {
        "id": "T2gn4-CYxpS0"
      },
      "source": [
        "Мы с вами выяснили, что в процессе обучения нейронной сети в ней должны вырабататься признаки по которым она сможет определять, что на фотографии. Но как эти признаки будут репрезентованы в нейронной сети? Все эти признаки будут составлять определенную сложную матрицу чисел. Настолько сложную, что человеку не под силу ее проанализировать. Какие это будут признаки? Это тоже неизвестно. Их может быть так много и они могут быть такими специфическими, что и описать их будет трудно. Для этого и нужны нейросети, они берут на себя содержание и описание в себе этих признаков.\n",
        "\n",
        "Однако все эти признаки записываются через систему весов нейронов. Веса нейрона отражают толщину связи этого нейрона с др. нейроном. Из совокупности  этих связей и состоят признаки. Т.е. другими словами обучить нейронную сеть значит найти нужные веса для ее нейронов. \n",
        "\n",
        "Первоначально веса можно задать случайными числами. И в процессе обучения они будут все больше и больше подходить под решения задачи. Программно это можно показать на примере следующего фрагмента кода."
      ]
    },
    {
      "cell_type": "code",
      "metadata": {
        "colab": {
          "base_uri": "https://localhost:8080/"
        },
        "id": "Pt9eda5yxpS1",
        "outputId": "490b69bf-d590-4a83-d791-d7c41e80c4af"
      },
      "source": [
        "import numpy as np\n",
        "import random\n",
        "import matplotlib.pyplot as plt\n",
        "\n",
        "# генерации случайных чисел для инициализации весов\n",
        "np.random.seed(1)\n",
        "weights = np.random.random((3, 1))\n",
        "\n",
        "weights"
      ],
      "execution_count": 3,
      "outputs": [
        {
          "output_type": "execute_result",
          "data": {
            "text/plain": [
              "array([[4.17022005e-01],\n",
              "       [7.20324493e-01],\n",
              "       [1.14374817e-04]])"
            ]
          },
          "metadata": {},
          "execution_count": 3
        }
      ]
    },
    {
      "cell_type": "markdown",
      "metadata": {
        "id": "wTjPmZMAxpS3"
      },
      "source": [
        "Но мало просто присвоить определенные веса нейронам. Необходимо также определить функцию по которой будет активироваться нейроны. Выбранная функция активация будет одинаковой для всех нейронов. С помощью нее можно определять с какой силой нужно подействовать на нейрон, чтобы он  активировался и передал сигнал дальше."
      ]
    },
    {
      "cell_type": "markdown",
      "metadata": {
        "id": "GV9opmrRxpS3"
      },
      "source": [
        "$$Y = \\sum{weights * X} + bias$$"
      ]
    },
    {
      "cell_type": "markdown",
      "metadata": {
        "id": "Ki8oqV5xxpS3"
      },
      "source": [
        "Выше показан нейрон в виде формулы. Активация его как говорилась зависит от входных данных, его весов и некоего порогого значения.\n",
        "\n",
        "Функций таких существует очень много - сигмоида, линейная, ступенчатая, ReLU, tahn и т. д."
      ]
    },
    {
      "cell_type": "markdown",
      "metadata": {
        "id": "8VWpZMxnxpS4"
      },
      "source": [
        "<img src='https://drive.google.com/uc?export=view&id=1jFJKMuRoaYExj5-lG-UXJ64wlFpo6RDB'>"
      ]
    },
    {
      "cell_type": "markdown",
      "metadata": {
        "id": "vFGbLroCxpS4"
      },
      "source": [
        "В данном фрагменте кода мы можем посмотреть как программно реализовать функцию сигмоид -"
      ]
    },
    {
      "cell_type": "code",
      "metadata": {
        "id": "1nxx7rKUxpS4"
      },
      "source": [
        "# вычисление сигмоид функции\n",
        "\n",
        "def sigmoid(x):\n",
        "    return 1 / (1 + np.exp(-x))"
      ],
      "execution_count": 4,
      "outputs": []
    },
    {
      "cell_type": "code",
      "metadata": {
        "colab": {
          "base_uri": "https://localhost:8080/",
          "height": 279
        },
        "id": "FBF5k8OsxpS5",
        "outputId": "d32fd8d0-e23b-438e-816d-48927748a3c2"
      },
      "source": [
        "# для картинки\n",
        "D = 10\n",
        "\n",
        "X = np.linspace(0-D, 0+D, 20)\n",
        "Y = sigmoid(X)\n",
        "\n",
        "plt.plot(X, Y, '-g', label='сигмоид')\n",
        "plt.legend()\n",
        "plt.xlabel('X')\n",
        "plt.ylabel('Y')\n",
        "plt.show()"
      ],
      "execution_count": 5,
      "outputs": [
        {
          "output_type": "display_data",
          "data": {
            "image/png": "[encoded data removed]",
            "text/plain": [
              "<Figure size 432x288 with 1 Axes>"
            ]
          },
          "metadata": {
            "needs_background": "light"
          }
        }
      ]
    },
    {
      "cell_type": "markdown",
      "metadata": {
        "id": "sRkvW44SxpS5"
      },
      "source": [
        "А вот, как например на Python, можно реализовать упомянутую выше функцию активации Relu - "
      ]
    },
    {
      "cell_type": "code",
      "metadata": {
        "id": "5r2NvzpVxpS6"
      },
      "source": [
        "# вычисление Relu функции\n",
        "\n",
        "def ReLU(x):\n",
        "    return x * (x > 0)"
      ],
      "execution_count": 6,
      "outputs": []
    },
    {
      "cell_type": "code",
      "metadata": {
        "id": "14r5RO-tZv5E"
      },
      "source": [
        "def ReLU_deriv(x):\n",
        "    return 1 if x >= 0 else 0"
      ],
      "execution_count": 7,
      "outputs": []
    },
    {
      "cell_type": "code",
      "metadata": {
        "colab": {
          "base_uri": "https://localhost:8080/",
          "height": 279
        },
        "id": "9omDu9MExpS6",
        "outputId": "590dd5bd-e528-41e7-9e11-a2eb34e02c3d"
      },
      "source": [
        "# для картинки\n",
        "D = 10\n",
        "\n",
        "X = np.linspace(0-D, 0+D, 21)\n",
        "Y = ReLU(X)\n",
        "\n",
        "plt.plot(X, Y, '-g', label='ReLU')\n",
        "plt.legend()\n",
        "plt.xlabel('X')\n",
        "plt.ylabel('Y')\n",
        "plt.show()"
      ],
      "execution_count": 8,
      "outputs": [
        {
          "output_type": "display_data",
          "data": {
            "image/png": "[encoded data removed]",
            "text/plain": [
              "<Figure size 432x288 with 1 Axes>"
            ]
          },
          "metadata": {
            "needs_background": "light"
          }
        }
      ]
    },
    {
      "cell_type": "markdown",
      "metadata": {
        "id": "mVy3nvVhxpS7"
      },
      "source": [
        "## Обратное распространение ошибки и градиентный спуск <a class='anchor' id='backprop'>"
      ]
    },
    {
      "cell_type": "markdown",
      "metadata": {
        "id": "fwaD-rcGxpS7"
      },
      "source": [
        "Давайте прежде чем начнем разбирать обратное распространение и градиентный спуск, скажем несколько слов о тех типах архитектур нейронной сети, которые будут использованы в данном уроке. Это простые нейронные сети. С точки зрения архитектуры их можно отнести к полносвязным нейронным сетям так как все нейроны связаны между собой. С другой стороны их можно отнести к нейронным сетям прямого распространения (feed forward). Сети прямого распространения подразумевает распространения сигналы от вход к выходу, в отличии от реккурентных нейронных сетей, где во внутренних слоях сигналы могут ходить по циклу. О плюсах и минусах сетей полносвязных мы поговорим в уроке посвященном Сверточным нейронным сетям, поскольку данные нейронные сети отошли от этого подхода и нам нужно будет выяснить почему.\n",
        "\n",
        "После того как на выходе нейронной сети мы получили определенное цифровое значение нам нужно сравнить его с искомым. Мы можем посчитать насколько в количественом выражение ошиблась нейросеть. Задача обратного распространения ошибки пройтись от выхода ко входу и скорректировать веса нейронов. Это процесс происходит множество раз в процесс обучения.\n",
        "\n",
        "<img src='https://drive.google.com/uc?export=view&id=1XmympDj-QuN6VBWDGM69rzJHxB3-kBCX'>\n",
        "\n",
        "Можно сказать что процесс обучения нейронной сети это попытка оптимизировать веса нейронной сети до тех пор пока не будет достигнута минимальная степень ошибки. Для этого хорошо подходит такой алгоритм как градиентный спуск. Суть данного метода заключается в том, чтобы искать такие числовые параметры, при которых значение ошибки достигнет нуля.\n",
        "\n",
        "Обратите внимание на следующий график, из него видно, что есть определенное число по шкале весов, которому соотсвествует минимальное значение по шкале Error. Это число и нужно находить в процессе обучения нейронных сетей."
      ]
    },
    {
      "cell_type": "markdown",
      "metadata": {
        "id": "XpNyshdfxpS8"
      },
      "source": [
        "<img src='https://drive.google.com/uc?export=view&id=1bLmRgk-GiWyD3NKMIiAsIBUO-2uDkIW6'>"
      ]
    },
    {
      "cell_type": "markdown",
      "metadata": {
        "id": "iSHnElKexpS8"
      },
      "source": [
        "1. Инициализация w\n",
        "\n",
        "2. Цикл по k = 1,2,3,...:\n",
        "\n",
        "- $ w^{k} = w^{k-1} - \\eta\\nabla Q(w^{k-1}, X) $\n",
        "\n",
        "- Если $||w^{k} - w^{k-1}|| < \\epsilon$, то завершить.\n"
      ]
    },
    {
      "cell_type": "markdown",
      "metadata": {
        "id": "K88irooYxpS9"
      },
      "source": [
        "Давайте попробуем реализовать программного градиентный спуск, чтобы лучше понять как он работает."
      ]
    },
    {
      "cell_type": "code",
      "metadata": {
        "id": "nrM5GLhBxpS9"
      },
      "source": [
        "# первоначальное точка\n",
        "start_point = 5\n",
        "\n",
        "# размер шага (learning rate)\n",
        "learning_rate = 0.1\n",
        "\n",
        "# установка минимального значения, на которое должны изменяться веса\n",
        "eps = 0.0001\n",
        "\n",
        "func = lambda x: 2 * x ** 2\n",
        "# функция градиента для y = 2 * X**2\n",
        "gr_func = lambda x: 4 * x\n",
        "\n",
        "# для картинки\n",
        "D = 5\n",
        "\n",
        "X = np.linspace(-D, +D, 20)\n",
        "Y = func(X)\n",
        "\n",
        "# начальная точка\n",
        "next_point = start_point\n",
        "\n",
        "n_iter = 0\n",
        "\n",
        "x = []\n",
        "x.append(next_point)"
      ],
      "execution_count": 9,
      "outputs": []
    },
    {
      "cell_type": "code",
      "metadata": {
        "colab": {
          "base_uri": "https://localhost:8080/",
          "height": 698
        },
        "id": "_NNkJ82txpS-",
        "outputId": "a479d6ed-8a21-467c-8321-7761b418a127"
      },
      "source": [
        "plt.figure(figsize=(16, 2))\n",
        "plt.plot(X, Y, 'r', label='Y(X)')\n",
        "\n",
        "# количество итерация \n",
        "n = 10\n",
        "for i in range(n):\n",
        "    current_point = next_point\n",
        "\n",
        "    # движение в негативную сторону вычисляемого градиента\n",
        "    next_point = current_point - learning_rate * gr_func(current_point)\n",
        "    x.append(next_point)\n",
        "    # print(next_point)                                     \n",
        "\n",
        "    n_iter += 1\n",
        "\n",
        "    # остановка когда достигнута необходимая степень точности\n",
        "    print(f\"Итерация: {n_iter}\")\n",
        "    print(f\"Текущая точка {current_point}| Следующаяя точка {next_point}\")\n",
        "    print(\"--------------------------------------------------------\")\n",
        "    \n",
        "    \n",
        "    if(abs(current_point - next_point) <= eps):\n",
        "        break\n",
        "\n",
        "print(f\"минимум {next_point}, количество затраченных итераций: {n_iter}\") \n",
        "X_grad = np.array(x)\n",
        "plt.plot(X_grad, func(X_grad), '-*g', label = 'GD')\n",
        "plt.legend()\n",
        "plt.xlabel('X')\n",
        "plt.ylabel('Y')\n",
        "plt.show()"
      ],
      "execution_count": 10,
      "outputs": [
        {
          "output_type": "stream",
          "name": "stdout",
          "text": [
            "Итерация: 1\n",
            "Текущая точка 5| Следующаяя точка 3.0\n",
            "--------------------------------------------------------\n",
            "Итерация: 2\n",
            "Текущая точка 3.0| Следующаяя точка 1.7999999999999998\n",
            "--------------------------------------------------------\n",
            "Итерация: 3\n",
            "Текущая точка 1.7999999999999998| Следующаяя точка 1.0799999999999998\n",
            "--------------------------------------------------------\n",
            "Итерация: 4\n",
            "Текущая точка 1.0799999999999998| Следующаяя точка 0.6479999999999999\n",
            "--------------------------------------------------------\n",
            "Итерация: 5\n",
            "Текущая точка 0.6479999999999999| Следующаяя точка 0.3887999999999999\n",
            "--------------------------------------------------------\n",
            "Итерация: 6\n",
            "Текущая точка 0.3887999999999999| Следующаяя точка 0.23327999999999993\n",
            "--------------------------------------------------------\n",
            "Итерация: 7\n",
            "Текущая точка 0.23327999999999993| Следующаяя точка 0.13996799999999995\n",
            "--------------------------------------------------------\n",
            "Итерация: 8\n",
            "Текущая точка 0.13996799999999995| Следующаяя точка 0.08398079999999997\n",
            "--------------------------------------------------------\n",
            "Итерация: 9\n",
            "Текущая точка 0.08398079999999997| Следующаяя точка 0.05038847999999998\n",
            "--------------------------------------------------------\n",
            "Итерация: 10\n",
            "Текущая точка 0.05038847999999998| Следующаяя точка 0.030233087999999984\n",
            "--------------------------------------------------------\n",
            "минимум 0.030233087999999984, количество затраченных итераций: 10\n"
          ]
        },
        {
          "output_type": "display_data",
          "data": {
            "image/png": "[encoded data removed]",
            "text/plain": [
              "<Figure size 1152x144 with 1 Axes>"
            ]
          },
          "metadata": {
            "needs_background": "light"
          }
        }
      ]
    },
    {
      "cell_type": "markdown",
      "metadata": {
        "id": "js1pu68S_Pn6"
      },
      "source": [
        "### Метод обратного распространения ошибки (backpropagation)\n",
        "\n",
        "<img src='https://drive.google.com/uc?export=view&id=1HyKXUNjUD80-Wk458JW7ZCqgH0HhX6-m'>"
      ]
    },
    {
      "cell_type": "markdown",
      "metadata": {
        "id": "OnaUBAX7Zazp"
      },
      "source": [
        "## Небольшой пример по обучению простой нейронной сети <a class='anchor' id='example'>\n",
        "\n",
        "\n",
        "Рассмотрим создание простой нейронной сети. Данная нейронная сеть будет обучаться предсказывать 3 число на основании первых двух. Для этого мы ей передадим обучающую набор данных из двух последовательностей чисел.\n",
        "\n",
        "Этот пример позволяет создать и запустить простейшую нейронную сеть, но уже  в этом примере присутсвуют все необходимые атрибуты создания нейронных сетей: \n",
        "- подготовка данных для обучения модели\n",
        "- конфигурация модели\n",
        "- запуск модели.\n",
        "\n",
        "Дальше мы разберем, что такое функция активации, обратное распространение, внутренние слои нейронной сети и прочие аспекты создания нейронных сетей.\n",
        "Обратите внимание, что здесь используется библиотека numpy для получения дополнительных команд при работе с массивами."
      ]
    },
    {
      "cell_type": "markdown",
      "metadata": {
        "id": "kbHLAHXX5OSF"
      },
      "source": [
        "### Нейрон для повторения входа <a class='anchor' id='repeat'>"
      ]
    },
    {
      "cell_type": "markdown",
      "metadata": {
        "id": "8HIfWUM8xpTI"
      },
      "source": [
        "**Производная сигмоиды**\n",
        "\n",
        "$$\\sigma(z) = \\frac{1}{1 + exp(-z)}$$\n",
        "\n",
        "$$\\frac{d\\sigma(z)}{dz} = -\\frac{1}{(1 + exp(-z))^2}(-exp(-z)) = \\frac{exp(-z)}{(1 + exp(-z))^2} \\text{(*)} = \\frac{1}{1 + exp(-z)}(1-\\frac{1}{1 + exp(-z)}) = \\sigma(1-\\sigma)$$\n",
        "\n",
        "$ (*)\\frac{exp(-z) +1-1}{(1 + exp(-z))^2} = \\frac{1 + exp(-z) -1}{(1 + exp(-z))^2}= \\frac{1 + exp(-z)}{(1 + exp(-z))^2} - \\frac{1}{(1 + exp(-z))^2}=$\n",
        "\n",
        "$ = \\frac{1}{(1 + exp(-z))} - \\frac{1}{(1 + exp(-z))}\\frac{1}{(1 + exp(-z))} = \\frac{1}{(1 + exp(-z))}(1- \\frac{1}{(1 + exp(-z))}) $"
      ]
    },
    {
      "cell_type": "code",
      "metadata": {
        "id": "shMVcQDelkhP"
      },
      "source": [
        "import numpy as np\n",
        "import matplotlib.pyplot as plt\n",
        "\n",
        "\n",
        "# вычисление сигмоид функции\n",
        "def sigmoid(x):\n",
        "    return 1 / (1 + np.exp(-x))\n",
        "\n",
        "# вычисление производной от сигмоид функции\n",
        "def sigmoid_deriv(x):\n",
        "    return sigmoid(x) * (1 - sigmoid(x))"
      ],
      "execution_count": 11,
      "outputs": []
    },
    {
      "cell_type": "code",
      "metadata": {
        "id": "JG_4MLpcvRBL",
        "colab": {
          "base_uri": "https://localhost:8080/",
          "height": 279
        },
        "outputId": "1021e67a-e36e-40aa-c138-2132646a3f93"
      },
      "source": [
        "# для картинки\n",
        "D  = 10\n",
        "\n",
        "X = np.linspace(0-D, 0+D, 200)\n",
        "Y = sigmoid(X)\n",
        "Y_deriv = sigmoid_deriv(X)\n",
        "\n",
        "plt.plot(X, Y, '-g', label='сигмоид')\n",
        "plt.plot(X, Y_deriv, '-r', label='производная сигмоиды')\n",
        "\n",
        "plt.legend()\n",
        "plt.xlabel('X')\n",
        "plt.ylabel('Y')\n",
        "plt.show()"
      ],
      "execution_count": 12,
      "outputs": [
        {
          "output_type": "display_data",
          "data": {
            "image/png": "[encoded data removed]",
            "text/plain": [
              "<Figure size 432x288 with 1 Axes>"
            ]
          },
          "metadata": {
            "needs_background": "light"
          }
        }
      ]
    },
    {
      "cell_type": "code",
      "metadata": {
        "colab": {
          "base_uri": "https://localhost:8080/",
          "height": 51
        },
        "id": "0SD974ixZazx",
        "outputId": "8cf13183-ca11-4438-eb47-3dbe90cd8f34"
      },
      "source": [
        "# создание данных для обучения\n",
        "X = np.array([[1]])\n",
        "y = np.array([[1]]).T\n",
        "\n",
        "# генерации случайных чисел для инициализации весов\n",
        "np.random.seed(1)\n",
        "weights = np.random.random((X.shape[1], 1))\n",
        "bias = np.random.random((1, 1))\n",
        "\n",
        "display(weights, bias)"
      ],
      "execution_count": 13,
      "outputs": [
        {
          "output_type": "display_data",
          "data": {
            "text/plain": [
              "array([[0.417022]])"
            ]
          },
          "metadata": {}
        },
        {
          "output_type": "display_data",
          "data": {
            "text/plain": [
              "array([[0.72032449]])"
            ]
          },
          "metadata": {}
        }
      ]
    },
    {
      "cell_type": "markdown",
      "metadata": {
        "id": "jZcr2ibicKgu"
      },
      "source": [
        "forward"
      ]
    },
    {
      "cell_type": "code",
      "metadata": {
        "colab": {
          "base_uri": "https://localhost:8080/"
        },
        "id": "d8k3tq4kbT-1",
        "outputId": "194d1811-88b1-428f-8bb2-bbf94fb2b57c"
      },
      "source": [
        "# сделаем предсказание\n",
        "output = X * weights + bias\n",
        "pred = sigmoid(output)\n",
        "pred"
      ],
      "execution_count": 14,
      "outputs": [
        {
          "output_type": "execute_result",
          "data": {
            "text/plain": [
              "array([[0.75719212]])"
            ]
          },
          "metadata": {},
          "execution_count": 14
        }
      ]
    },
    {
      "cell_type": "code",
      "metadata": {
        "colab": {
          "base_uri": "https://localhost:8080/"
        },
        "id": "uBaHFx3EbsbZ",
        "outputId": "de9dac80-d102-4978-a681-b8b9c8e5758a"
      },
      "source": [
        "# ошибка\n",
        "(y - pred) ** 2"
      ],
      "execution_count": 15,
      "outputs": [
        {
          "output_type": "execute_result",
          "data": {
            "text/plain": [
              "array([[0.05895567]])"
            ]
          },
          "metadata": {},
          "execution_count": 15
        }
      ]
    },
    {
      "cell_type": "markdown",
      "metadata": {
        "id": "pbcKYkBYcL6k"
      },
      "source": [
        "Backward\n",
        "\n",
        "[Ссылка](https://docs.google.com/presentation/d/1Sfj8l91QFkFA6kMCe4CStCRDH5-pmfnZc8AEe8ujudg/edit?usp=sharing) на презентацию.\n",
        "\n",
        "**dL/dL**\n",
        "\n",
        "$\\frac{dL}{dL} = 1$\n",
        "\n",
        "**dL/dsigma**\n",
        "\n",
        "$Loss = (y - \\sigma)^2$\n",
        "\n",
        "<h3>$\\frac{dL}{\\sigma} = 2*\\frac{dL}{dL}\\frac{dL}{d\\sigma} = 2 * (\\sigma - y) = 2 *(0.757 - 1) = -0.484$</h3>\n",
        "\n",
        "\n",
        "**dL/db**\n",
        "\n",
        "$y_{pred} = \\sigma(output)$\n",
        "\n",
        "<h3>$\\frac{dL}{db} = \\frac{dL}{d\\sigma}\\frac{d\\sigma}{db} = -0.484 * (0.757 * (1-0.757)) = -0.089$</h3>\n",
        "\n",
        "**dL/da**\n",
        "\n",
        "$b = w_0 + a$\n",
        "\n",
        "<h3>$\\frac{dL}{da} = \\frac{dL}{db}\\frac{db}{da} = -0.089 * 1$</h3>\n",
        "\n",
        "**dL/dw0**\n",
        "\n",
        "$b = w_0 + a$\n",
        "\n",
        "<h3>$\\frac{dL}{dw_0} = \\frac{dL}{db}\\frac{db}{dw_0} = -0.089 * 1$</h3>\n",
        "\n",
        "**dL/dw1**\n",
        "\n",
        "$a = w_1*x$\n",
        "\n",
        "<h3>$\\frac{dL}{dw_1} = \\frac{dL}{da}\\frac{da}{dw_1} = -0.089 * x = -0.089 * 1$</h3>\n",
        "\n"
      ]
    },
    {
      "cell_type": "code",
      "metadata": {
        "colab": {
          "base_uri": "https://localhost:8080/"
        },
        "id": "d0TKc_pKcNtR",
        "outputId": "b6b6d717-bd9d-47cb-b6ff-da0b6cc78b7c"
      },
      "source": [
        "# сделаем backprop\n",
        "# dloss/dloss = 1\n",
        "dsigm = 2 * (pred - y)\n",
        "dsigm\n",
        "db = dsigm * sigmoid_deriv(output)\n",
        "db\n",
        "da = 1 * db\n",
        "da\n",
        "dw0 = 1 * db\n",
        "dw0\n",
        "dw1 = da * X\n",
        "dw1"
      ],
      "execution_count": 16,
      "outputs": [
        {
          "output_type": "execute_result",
          "data": {
            "text/plain": [
              "array([[-0.08928153]])"
            ]
          },
          "metadata": {},
          "execution_count": 16
        }
      ]
    },
    {
      "cell_type": "code",
      "metadata": {
        "id": "OcyWYrlevPfZ"
      },
      "source": [
        "# обновим параметры\n",
        "bias -= dw0\n",
        "weights -= dw1"
      ],
      "execution_count": 17,
      "outputs": []
    },
    {
      "cell_type": "code",
      "metadata": {
        "colab": {
          "base_uri": "https://localhost:8080/"
        },
        "id": "o235htk3vefB",
        "outputId": "f903c1de-97b9-4845-8487-1e967bcf2396"
      },
      "source": [
        "sigmoid(np.dot(X, weights) + bias)"
      ],
      "execution_count": 18,
      "outputs": [
        {
          "output_type": "execute_result",
          "data": {
            "text/plain": [
              "array([[0.78850036]])"
            ]
          },
          "metadata": {},
          "execution_count": 18
        }
      ]
    },
    {
      "cell_type": "markdown",
      "metadata": {
        "id": "urUkYJggwZaP"
      },
      "source": [
        "#### Обучение на большем количестве объектов"
      ]
    },
    {
      "cell_type": "code",
      "metadata": {
        "colab": {
          "base_uri": "https://localhost:8080/",
          "height": 51
        },
        "id": "-vyI2DShwb1i",
        "outputId": "e0f78470-0247-4c93-97b4-9ba9a16f136e"
      },
      "source": [
        "# создание данных для обучения\n",
        "X = np.array([[0], [1]])\n",
        "y = np.array([[0, 1]]).T\n",
        "\n",
        "# генерации случайных чисел для инициализации весов\n",
        "np.random.seed(1)\n",
        "weights = np.random.random((X.shape[1], 1))\n",
        "bias = np.random.random((1, 1))\n",
        "\n",
        "display(weights, bias)"
      ],
      "execution_count": 19,
      "outputs": [
        {
          "output_type": "display_data",
          "data": {
            "text/plain": [
              "array([[0.417022]])"
            ]
          },
          "metadata": {}
        },
        {
          "output_type": "display_data",
          "data": {
            "text/plain": [
              "array([[0.72032449]])"
            ]
          },
          "metadata": {}
        }
      ]
    },
    {
      "cell_type": "markdown",
      "metadata": {
        "id": "7vx5tge-wi2g"
      },
      "source": [
        "Forward"
      ]
    },
    {
      "cell_type": "code",
      "metadata": {
        "colab": {
          "base_uri": "https://localhost:8080/"
        },
        "id": "xdTuxZWgwgjh",
        "outputId": "0adf1562-ba15-494a-b48e-deb869dedf4d"
      },
      "source": [
        "# сделаем предсказание\n",
        "output = X * weights + bias\n",
        "pred = sigmoid(output)\n",
        "pred"
      ],
      "execution_count": 20,
      "outputs": [
        {
          "output_type": "execute_result",
          "data": {
            "text/plain": [
              "array([[0.67267847],\n",
              "       [0.75719212]])"
            ]
          },
          "metadata": {},
          "execution_count": 20
        }
      ]
    },
    {
      "cell_type": "code",
      "metadata": {
        "colab": {
          "base_uri": "https://localhost:8080/"
        },
        "id": "fUSwP3WywmyI",
        "outputId": "e326b3fa-10c0-4e0a-8076-c82fcee93c25"
      },
      "source": [
        "# ошибка\n",
        "np.mean((y - pred) ** 2)"
      ],
      "execution_count": 21,
      "outputs": [
        {
          "output_type": "execute_result",
          "data": {
            "text/plain": [
              "0.2557259944893541"
            ]
          },
          "metadata": {},
          "execution_count": 21
        }
      ]
    },
    {
      "cell_type": "markdown",
      "metadata": {
        "id": "2HzkMaQywpGU"
      },
      "source": [
        "Backward"
      ]
    },
    {
      "cell_type": "code",
      "metadata": {
        "colab": {
          "base_uri": "https://localhost:8080/"
        },
        "id": "snGcmlFBwq2Y",
        "outputId": "98894d4b-23ed-4673-ce0c-cd6095744541"
      },
      "source": [
        "# сделаем backprop\n",
        "# dloss/dloss = 1\n",
        "dsigm = (pred - y)\n",
        "print(dsigm)\n",
        "db = dsigm * sigmoid_deriv(output)\n",
        "print(db)\n",
        "da = 1 * db\n",
        "print(da)\n",
        "dw0 = np.ones((X.shape[0])) @ db\n",
        "print(dw0)\n",
        "dw1 = np.ones((X.shape[0])) @ (da * X)\n",
        "# dw1 = da.T @ X\n",
        "print(dw1)"
      ],
      "execution_count": 22,
      "outputs": [
        {
          "output_type": "stream",
          "name": "stdout",
          "text": [
            "[[ 0.67267847]\n",
            " [-0.24280788]]\n",
            "[[ 0.14811179]\n",
            " [-0.04464077]]\n",
            "[[ 0.14811179]\n",
            " [-0.04464077]]\n",
            "[0.10347102]\n",
            "[-0.04464077]\n"
          ]
        }
      ]
    },
    {
      "cell_type": "code",
      "metadata": {
        "id": "p_0suX4Eww5g"
      },
      "source": [
        "# обновим параметры\n",
        "bias -= dw0\n",
        "weights -= dw1"
      ],
      "execution_count": 23,
      "outputs": []
    },
    {
      "cell_type": "code",
      "metadata": {
        "colab": {
          "base_uri": "https://localhost:8080/"
        },
        "id": "EN5L1dbr0Ttk",
        "outputId": "5156d350-44b4-4ac0-8eda-6cf373fbc5fa"
      },
      "source": [
        "# сделаем предсказания\n",
        "sigmoid(np.dot(X, weights) + bias)"
      ],
      "execution_count": 24,
      "outputs": [
        {
          "output_type": "execute_result",
          "data": {
            "text/plain": [
              "array([[0.64950258],\n",
              "       [0.74621309]])"
            ]
          },
          "metadata": {},
          "execution_count": 24
        }
      ]
    },
    {
      "cell_type": "code",
      "metadata": {
        "id": "TnLqhNBsZazy"
      },
      "source": [
        "# тренировка нейронной сети\n",
        "def train_nn(X, y, num_iters):\n",
        "    global weights, bias\n",
        "    for n_iter in range(num_iters):\n",
        "        # проход данных через нейрон\n",
        "        output = run_nn(X)\n",
        "\n",
        "        # вычисление ошибки через обратное распространение back-propagation\n",
        "        error = output - y\n",
        "            \n",
        "        # выполнение корректировки весов\n",
        "        grad = np.dot(X.T, error * sigmoid_deriv(output))\n",
        "        grad_bias = np.sum(error * sigmoid_deriv(output), keepdims=1)\n",
        "        weights -= grad\n",
        "        bias -= grad_bias\n",
        "\n",
        "\n",
        "# пропускание входных данных через нейрон и получение предсказания\n",
        "# конвертация значений во floats\n",
        "def run_nn(inputs):\n",
        "    global weights, bias\n",
        "    inputs = inputs.astype(float)\n",
        "    output = sigmoid(np.dot(inputs, weights) + bias)\n",
        "    return output"
      ],
      "execution_count": 25,
      "outputs": []
    },
    {
      "cell_type": "code",
      "metadata": {
        "colab": {
          "base_uri": "https://localhost:8080/"
        },
        "id": "7Po8MkWVZaz0",
        "outputId": "cc18a0fb-c4a1-455c-8fc0-0a8fee52f3fb"
      },
      "source": [
        "# генерации случайных чисел для инициализации весов\n",
        "np.random.seed(1)\n",
        "weights = np.random.random((X.shape[1], 1))\n",
        "bias = np.random.random((1, 1))\n",
        "print(\"веса до обучения: \")\n",
        "print(weights, bias)\n",
        "\n",
        "# запуск тренировки нейронной сети \n",
        "train_nn(X, y, 100000)\n",
        "print(\"веса после завершения обучения: \")\n",
        "print(weights, bias)"
      ],
      "execution_count": 26,
      "outputs": [
        {
          "output_type": "stream",
          "name": "stdout",
          "text": [
            "веса до обучения: \n",
            "[[0.417022]] [[0.72032449]]\n",
            "веса после завершения обучения: \n",
            "[[18.21983522]] [[-9.02726036]]\n"
          ]
        }
      ]
    },
    {
      "cell_type": "code",
      "metadata": {
        "colab": {
          "base_uri": "https://localhost:8080/"
        },
        "id": "FYuewRwUZaz0",
        "outputId": "ceaa7b7e-b059-4c93-aae7-4d02e849e702"
      },
      "source": [
        "user_inp1, user_inp2 = 0, 1\n",
        "print(f\"Проверка на новых данных: {user_inp1} {user_inp2}\")\n",
        "print(\"Предсказание нейронной сети: \")\n",
        "print(run_nn(np.array([[user_inp1], [user_inp2]])))"
      ],
      "execution_count": 27,
      "outputs": [
        {
          "output_type": "stream",
          "name": "stdout",
          "text": [
            "Проверка на новых данных: 0 1\n",
            "Предсказание нейронной сети: \n",
            "[[1.20076629e-04]\n",
            " [9.99898218e-01]]\n"
          ]
        }
      ]
    },
    {
      "cell_type": "markdown",
      "metadata": {
        "id": "UbPEzBco35nQ"
      },
      "source": [
        "### Нейрон для регрессии <a class='anchor' id='reg'>"
      ]
    },
    {
      "cell_type": "code",
      "metadata": {
        "id": "6pW0jGfCZ6ju"
      },
      "source": [
        "# вычисление ReLU функции\n",
        "\n",
        "def ReLU(x):\n",
        "    return x * (x > 0)"
      ],
      "execution_count": 28,
      "outputs": []
    },
    {
      "cell_type": "code",
      "metadata": {
        "id": "V_T3b8k1Z6ju"
      },
      "source": [
        "def ReLU_deriv(x):\n",
        "    return np.where(x >= 0, 1, 0)"
      ],
      "execution_count": 29,
      "outputs": []
    },
    {
      "cell_type": "code",
      "metadata": {
        "colab": {
          "base_uri": "https://localhost:8080/",
          "height": 279
        },
        "id": "7n-QyZxWZ6ju",
        "outputId": "ba00035a-f456-48c3-e77e-03387df0dc7e"
      },
      "source": [
        "# для картинки\n",
        "D = 10\n",
        "\n",
        "X = np.linspace(0-D, 0+D, 200)\n",
        "Y = ReLU(X)\n",
        "dY = ReLU_deriv(X)\n",
        "\n",
        "plt.plot(X, Y, '-g', label='ReLU')\n",
        "plt.plot(X, dY, '-r', label='d ReLU')\n",
        "plt.legend()\n",
        "plt.xlabel('X')\n",
        "plt.ylabel('Y')\n",
        "plt.show()"
      ],
      "execution_count": 30,
      "outputs": [
        {
          "output_type": "display_data",
          "data": {
            "image/png": "[encoded data removed]",
            "text/plain": [
              "<Figure size 432x288 with 1 Axes>"
            ]
          },
          "metadata": {
            "needs_background": "light"
          }
        }
      ]
    },
    {
      "cell_type": "code",
      "metadata": {
        "id": "wTg32_0936kb"
      },
      "source": [
        "# тренировка нейронной сети\n",
        "def train_nn(X, y, num_iters):\n",
        "    global weights, bias\n",
        "    for n_iter in range(num_iters):\n",
        "        # проход данных через нейрон\n",
        "        output = run_nn(X)\n",
        "\n",
        "        # вычисление ошибки через обратное распространение back-propagation\n",
        "        error = output - y\n",
        "            \n",
        "        # выполнение корректировки весов\n",
        "        grad = np.dot(X.T, error * ReLU_deriv(output))\n",
        "        grad_bias = np.sum(error * ReLU_deriv(output), keepdims=1)\n",
        "        weights -= 0.01 * grad\n",
        "        bias -= 0.01 * grad_bias\n",
        "\n",
        "\n",
        "# пропускание входных данных через нейрон и получение предсказания\n",
        "# конвертация значений во floats\n",
        "def run_nn(inputs):\n",
        "    global weights, bias\n",
        "    inputs = inputs.astype(float)\n",
        "    output = ReLU(np.dot(inputs, weights) + bias)\n",
        "    return output"
      ],
      "execution_count": 31,
      "outputs": []
    },
    {
      "cell_type": "code",
      "metadata": {
        "colab": {
          "base_uri": "https://localhost:8080/"
        },
        "id": "mZKjT7RK4H3j",
        "outputId": "0b638ddd-8060-4aa5-eb92-e70efb685374"
      },
      "source": [
        "# создание данных для обучения\n",
        "X = np.array([[1], [3], [2], [4], [7]])\n",
        "y = np.array([[3, 9, 6, 12, 21]]).T\n",
        "\n",
        "# генерации случайных чисел для инициализации весов\n",
        "np.random.seed(1)\n",
        "weights = np.random.random((X.shape[1], 1))\n",
        "bias = np.random.random((1, 1))\n",
        "print(\"веса до обучения: \")\n",
        "print(weights, bias)\n",
        "\n",
        "# запуск тренировки нейронной сети \n",
        "train_nn(X, y, 10000)\n",
        "print(\"веса после завершения обучения: \")\n",
        "print(weights, bias)"
      ],
      "execution_count": 32,
      "outputs": [
        {
          "output_type": "stream",
          "name": "stdout",
          "text": [
            "веса до обучения: \n",
            "[[0.417022]] [[0.72032449]]\n",
            "веса после завершения обучения: \n",
            "[[3.]] [[3.10711067e-15]]\n"
          ]
        }
      ]
    },
    {
      "cell_type": "code",
      "metadata": {
        "id": "UfhmtnzL9FBr",
        "colab": {
          "base_uri": "https://localhost:8080/"
        },
        "outputId": "2f54943b-17a0-40a9-fc7d-f871aedfa29f"
      },
      "source": [
        "user_inp1, user_inp2 = 5, 9\n",
        "print(f\"Проверка на новых данных: {user_inp1} {user_inp2}\")\n",
        "print(\"Предсказание нейронной сети: \")\n",
        "print(run_nn(np.array([[user_inp1], [user_inp2]])))"
      ],
      "execution_count": 33,
      "outputs": [
        {
          "output_type": "stream",
          "name": "stdout",
          "text": [
            "Проверка на новых данных: 5 9\n",
            "Предсказание нейронной сети: \n",
            "[[15.]\n",
            " [27.]]\n"
          ]
        }
      ]
    },
    {
      "cell_type": "markdown",
      "metadata": {
        "id": "_WeS0wye5iDR"
      },
      "source": [
        "### Нейрон для многоклассовой классификации <a class='acnhor' id='multiclass'>"
      ]
    },
    {
      "cell_type": "code",
      "metadata": {
        "id": "ozb9OSh3xpTI"
      },
      "source": [
        "import numpy as np\n",
        "import matplotlib.pyplot as plt\n",
        "\n",
        "\n",
        "# вычисление сигмоид функции\n",
        "def sigmoid(x):\n",
        "    x = np.clip(x, a_min=-500, a_max=500)\n",
        "    return 1 / (1 + np.exp(-x))\n",
        "\n",
        "# вычисление производной от сигмоид функции\n",
        "def sigmoid_deriv(x):\n",
        "    return sigmoid(x) * (1 - sigmoid(x))"
      ],
      "execution_count": 34,
      "outputs": []
    },
    {
      "cell_type": "code",
      "metadata": {
        "colab": {
          "base_uri": "https://localhost:8080/",
          "height": 279
        },
        "id": "PIC7jBXIxpTI",
        "outputId": "e54d5d37-e136-49f3-eff2-68343866666d"
      },
      "source": [
        "# для картинки\n",
        "D = 10\n",
        "\n",
        "X = np.linspace(0-D, 0+D, 200)\n",
        "Y = sigmoid(X)\n",
        "dY = sigmoid_deriv(X)\n",
        "\n",
        "plt.plot(X, Y, '-g', label='сигмоид')\n",
        "plt.plot(X, dY, '-r', label='d сигмоид')\n",
        "plt.legend()\n",
        "plt.xlabel('X')\n",
        "plt.ylabel('Y')\n",
        "plt.show()"
      ],
      "execution_count": 35,
      "outputs": [
        {
          "output_type": "display_data",
          "data": {
            "image/png": "[encoded data removed]",
            "text/plain": [
              "<Figure size 432x288 with 1 Axes>"
            ]
          },
          "metadata": {
            "needs_background": "light"
          }
        }
      ]
    },
    {
      "cell_type": "code",
      "metadata": {
        "colab": {
          "base_uri": "https://localhost:8080/",
          "height": 391
        },
        "id": "z_KsqbZ3xpTJ",
        "outputId": "41e8635f-477e-4a9b-eafb-298a964da003"
      },
      "source": [
        "from sklearn.datasets import load_digits\n",
        "from sklearn.preprocessing import MinMaxScaler\n",
        "import matplotlib.pyplot as plt\n",
        "\n",
        "\n",
        "# Подготовка тренировочных данных\n",
        "X, y = load_digits(return_X_y=True)\n",
        "print(X.shape) # расскоментируйте, чтобы размер данных\n",
        "\n",
        "# репрезентация данных\n",
        "plt.figure(figsize=(16, 6))\n",
        "for i in range(10):\n",
        "    plt.subplot(2, 5, i + 1)\n",
        "    plt.imshow(X[i,:].reshape([8, 8]))"
      ],
      "execution_count": 36,
      "outputs": [
        {
          "output_type": "stream",
          "name": "stdout",
          "text": [
            "(1797, 64)\n"
          ]
        },
        {
          "output_type": "display_data",
          "data": {
            "image/png": "[encoded data removed]",
            "text/plain": [
              "<Figure size 1152x432 with 10 Axes>"
            ]
          },
          "metadata": {
            "needs_background": "light"
          }
        }
      ]
    },
    {
      "cell_type": "code",
      "metadata": {
        "colab": {
          "base_uri": "https://localhost:8080/"
        },
        "id": "_Z1QSqQ0H-C4",
        "outputId": "346a654b-8041-4e88-a345-bfcfe1a77214"
      },
      "source": [
        "y"
      ],
      "execution_count": 37,
      "outputs": [
        {
          "output_type": "execute_result",
          "data": {
            "text/plain": [
              "array([0, 1, 2, ..., 8, 9, 8])"
            ]
          },
          "metadata": {},
          "execution_count": 37
        }
      ]
    },
    {
      "cell_type": "code",
      "metadata": {
        "id": "B-KVdVdVxpTJ"
      },
      "source": [
        "def to_one_hot(Y):\n",
        "    n_col = np.max(Y) + 1\n",
        "    binarized = np.zeros((len(Y), n_col))\n",
        "    for i in range(len(Y)):\n",
        "        binarized[i, Y[i]] = 1\n",
        "    return binarized"
      ],
      "execution_count": 38,
      "outputs": []
    },
    {
      "cell_type": "code",
      "metadata": {
        "colab": {
          "base_uri": "https://localhost:8080/",
          "height": 153
        },
        "id": "oNJY5ADWxpTK",
        "outputId": "71ed0771-8b0b-4701-a364-b123a93ee5ee"
      },
      "source": [
        "# формирование входных данных\n",
        "scaler = MinMaxScaler()\n",
        "X = scaler.fit_transform(X)\n",
        "\n",
        "# формирование выходных данных(результатов)\n",
        "y = y.flatten()\n",
        "y = to_one_hot(y)\n",
        "display(y, y.shape)"
      ],
      "execution_count": 39,
      "outputs": [
        {
          "output_type": "display_data",
          "data": {
            "text/plain": [
              "array([[1., 0., 0., ..., 0., 0., 0.],\n",
              "       [0., 1., 0., ..., 0., 0., 0.],\n",
              "       [0., 0., 1., ..., 0., 0., 0.],\n",
              "       ...,\n",
              "       [0., 0., 0., ..., 0., 1., 0.],\n",
              "       [0., 0., 0., ..., 0., 0., 1.],\n",
              "       [0., 0., 0., ..., 0., 1., 0.]])"
            ]
          },
          "metadata": {}
        },
        {
          "output_type": "display_data",
          "data": {
            "text/plain": [
              "(1797, 10)"
            ]
          },
          "metadata": {}
        }
      ]
    },
    {
      "cell_type": "code",
      "metadata": {
        "colab": {
          "base_uri": "https://localhost:8080/"
        },
        "id": "bBJi_H1LxpTL",
        "outputId": "92e9363e-d640-4c0a-d797-30dcc20057a7"
      },
      "source": [
        "from sklearn.model_selection import train_test_split\n",
        "\n",
        "# Разделение данных на тренировочные и тестовые\n",
        "X_train, X_test, y_train, y_test = train_test_split(X, y, test_size=0.33)\n",
        "X_train.shape, X_test.shape"
      ],
      "execution_count": 40,
      "outputs": [
        {
          "output_type": "execute_result",
          "data": {
            "text/plain": [
              "((1203, 64), (594, 64))"
            ]
          },
          "metadata": {},
          "execution_count": 40
        }
      ]
    },
    {
      "cell_type": "code",
      "metadata": {
        "id": "xLsP8t1kxpTM"
      },
      "source": [
        "# тренировка нейронной сети\n",
        "def train_nn(X, y, num_iters):\n",
        "    global weights\n",
        "    for n_iter in range(num_iters):\n",
        "        # проход данных через нейрон\n",
        "        output = run_nn(X)\n",
        "\n",
        "        # вычисление ошибки через обратное распространение back-propagation\n",
        "        error = output - y\n",
        "        \n",
        "        # выполнение корректировки весов\n",
        "        grad = np.dot(X.T, error * sigmoid_deriv(output))\n",
        "\n",
        "        weights -= 0.01 * grad\n",
        "        \n",
        "        \n",
        "        error = np.mean(np.abs(error))\n",
        "        errors.append(error)\n",
        "        \n",
        "        # получение метрики качества\n",
        "        preds = np.argmax(output, axis=1)\n",
        "        labels = np.argmax(y, axis=1)\n",
        "        accuracy = (preds == labels).sum() * 100 / len(labels)\n",
        "        metrics.append(accuracy)\n",
        "\n",
        "# пропускание входных данных через нейрон и получение предсказания\n",
        "# конвертация значений во floats\n",
        "def run_nn(inputs):\n",
        "    global weights\n",
        "    inputs = inputs.astype(float)\n",
        "    output = sigmoid(np.dot(inputs, weights))\n",
        "    return output"
      ],
      "execution_count": 41,
      "outputs": []
    },
    {
      "cell_type": "code",
      "metadata": {
        "id": "ZTz8-KLDxpTM"
      },
      "source": [
        "# генерации случайных чисел для инициализации весов\n",
        "np.random.seed(1)\n",
        "weights = np.random.random((X_train.shape[1], 10))\n",
        "errors = []\n",
        "metrics = []"
      ],
      "execution_count": 42,
      "outputs": []
    },
    {
      "cell_type": "code",
      "metadata": {
        "colab": {
          "base_uri": "https://localhost:8080/"
        },
        "id": "EzvSfZzzN_yM",
        "outputId": "6fc81dce-9309-4905-c9bc-233871fe79bf"
      },
      "source": [
        "weights.size"
      ],
      "execution_count": 43,
      "outputs": [
        {
          "output_type": "execute_result",
          "data": {
            "text/plain": [
              "640"
            ]
          },
          "metadata": {},
          "execution_count": 43
        }
      ]
    },
    {
      "cell_type": "markdown",
      "metadata": {
        "id": "BtO0umdhxpTM"
      },
      "source": [
        "Пример нашей нейронной сети\n",
        "\n",
        "\n",
        "<img src=\"https://drive.google.com/uc?export=view&id=1WVFYOM5vIl8ooYzyB5kFhBrRLc4su7_K\" width=200px />"
      ]
    },
    {
      "cell_type": "code",
      "metadata": {
        "id": "elDc_085xpTM"
      },
      "source": [
        "# запуск тренировки нейронной сети \n",
        "epochs = 20\n",
        "train_nn(X_train, y_train, epochs)"
      ],
      "execution_count": 44,
      "outputs": []
    },
    {
      "cell_type": "code",
      "metadata": {
        "colab": {
          "base_uri": "https://localhost:8080/",
          "height": 137
        },
        "id": "EG4m6LJVxpTN",
        "outputId": "b91253bf-e853-44b4-a3e5-aa332191843a"
      },
      "source": [
        "ind = np.random.randint(0, X_test.shape[0])\n",
        "test_img = X_test[ind]\n",
        "plt.figure(figsize=(1, 1))\n",
        "plt.imshow(test_img.reshape([8,8]))\n",
        "\n",
        "print(\"Предсказание нейронной сети: \")\n",
        "print(np.argmax(run_nn(X_test[ind])))"
      ],
      "execution_count": 45,
      "outputs": [
        {
          "output_type": "stream",
          "name": "stdout",
          "text": [
            "Предсказание нейронной сети: \n",
            "2\n"
          ]
        },
        {
          "output_type": "display_data",
          "data": {
            "image/png": "[encoded data removed]",
            "text/plain": [
              "<Figure size 72x72 with 1 Axes>"
            ]
          },
          "metadata": {
            "needs_background": "light"
          }
        }
      ]
    },
    {
      "cell_type": "code",
      "metadata": {
        "colab": {
          "base_uri": "https://localhost:8080/"
        },
        "id": "o6fckJQrJHGF",
        "outputId": "f9aab96c-5935-446a-cc52-3005a8382dc9"
      },
      "source": [
        "run_nn(X_test[ind])"
      ],
      "execution_count": 46,
      "outputs": [
        {
          "output_type": "execute_result",
          "data": {
            "text/plain": [
              "array([0.00141616, 0.13769793, 0.93216512, 0.02312001, 0.00229921,\n",
              "       0.02337297, 0.00431845, 0.00625284, 0.06007353, 0.01673659])"
            ]
          },
          "metadata": {},
          "execution_count": 46
        }
      ]
    },
    {
      "cell_type": "code",
      "metadata": {
        "colab": {
          "base_uri": "https://localhost:8080/",
          "height": 334
        },
        "id": "9F8GM5tPxpTN",
        "outputId": "68b51f03-1e7a-4f87-f500-3a1a282d9911"
      },
      "source": [
        "plt.figure(figsize=(16, 5))\n",
        "plt.plot(errors)\n",
        "plt.xlabel('Количество итераций')\n",
        "plt.ylabel('Ошибка')\n",
        "plt.show()"
      ],
      "execution_count": 47,
      "outputs": [
        {
          "output_type": "display_data",
          "data": {
            "image/png": "[encoded data removed]",
            "text/plain": [
              "<Figure size 1152x360 with 1 Axes>"
            ]
          },
          "metadata": {
            "needs_background": "light"
          }
        }
      ]
    },
    {
      "cell_type": "code",
      "metadata": {
        "colab": {
          "base_uri": "https://localhost:8080/",
          "height": 334
        },
        "id": "cqpQ4QiuxpTO",
        "outputId": "62618639-f507-493d-88df-50bfabc2e3c1"
      },
      "source": [
        "plt.figure(figsize=(16, 5))\n",
        "plt.plot(metrics)\n",
        "plt.xlabel('Количество итераций')\n",
        "plt.ylabel('Accuracy')\n",
        "plt.show()"
      ],
      "execution_count": 48,
      "outputs": [
        {
          "output_type": "display_data",
          "data": {
            "image/png": "[encoded data removed]",
            "text/plain": [
              "<Figure size 1152x360 with 1 Axes>"
            ]
          },
          "metadata": {
            "needs_background": "light"
          }
        }
      ]
    },
    {
      "cell_type": "code",
      "metadata": {
        "colab": {
          "base_uri": "https://localhost:8080/"
        },
        "id": "Fqz-vAKmxpTO",
        "outputId": "667c1d00-4dfe-486e-d837-4c61d1c26f1d"
      },
      "source": [
        "test_preds = np.argmax(run_nn(X_test), axis=1)\n",
        "test_labels = np.argmax(y_test, axis=1)\n",
        "\n",
        "test_accuracy = (test_preds == test_labels).sum() * 100 / len(test_labels)\n",
        "print(f'Accuracy на тесте {test_accuracy:.2f}%')"
      ],
      "execution_count": 49,
      "outputs": [
        {
          "output_type": "stream",
          "name": "stdout",
          "text": [
            "Accuracy на тесте 88.05%\n"
          ]
        }
      ]
    },
    {
      "cell_type": "markdown",
      "metadata": {
        "id": "4j0g47JcxpTO"
      },
      "source": [
        "## Пример построения  двухслойной нейронной сети на numpy <a class='anchor' id='example2'>"
      ]
    },
    {
      "cell_type": "code",
      "metadata": {
        "id": "0eNNvaYgxpTP"
      },
      "source": [
        "import numpy as np\n",
        "import pandas as pd\n",
        "import seaborn as sns\n",
        "import matplotlib.pyplot as plt\n",
        "\n",
        "import warnings\n",
        "warnings.filterwarnings('ignore')\n",
        "\n",
        "from sklearn.model_selection import train_test_split"
      ],
      "execution_count": null,
      "outputs": []
    },
    {
      "cell_type": "code",
      "metadata": {
        "id": "RIeYUSovxpTP"
      },
      "source": [
        "# Обучение нейронной сети\n",
        "\n",
        "# определим число нейронов скрытого слоя\n",
        "neuron_numb = 5\n",
        "\n",
        "# присваивание случайных весов\n",
        "np.random.seed(1)\n",
        "w0 = np.random.random((64, neuron_numb))  # для входного слоя    - 64 входа, neuron_numb выходов\n",
        "w1 = np.random.random((neuron_numb, 10))  # для внутреннего слоя - neuron_numb входов, 10 выходов\n",
        "\n",
        "# скорость обучения (learning rate)\n",
        "learning_rate = 0.1\n",
        "\n",
        "# количество итераций\n",
        "num_epochs = 100\n",
        "\n",
        "# массив для ошибок, чтобы потом построить график\n",
        "errors = []\n",
        "metrics = []\n",
        "\n",
        "# процесс обучения\n",
        "for i in range(num_epochs):\n",
        "\n",
        "    # прямое распространение(feed forward)\n",
        "    layer0 = X_train\n",
        "    layer1 = sigmoid(np.dot(layer0, w0))\n",
        "    layer2 = sigmoid(np.dot(layer1, w1))\n",
        "\n",
        "    # обратное распространение (back propagation)\n",
        "    # с использованием градиентного спуска\n",
        "    layer2_error = layer2 - y_train  # производная функции потерь\n",
        "    layer2_grad = layer2_error * sigmoid_deriv(layer2)\n",
        "    \n",
        "    layer1_error = layer2_grad.dot(w1.T)\n",
        "    layer1_grad = layer1_error * sigmoid_deriv(layer1)\n",
        "    \n",
        "    w1 -= layer1.T.dot(layer2_grad) * learning_rate\n",
        "    w0 -= layer0.T.dot(layer1_grad) * learning_rate\n",
        "    \n",
        "    # ошибка модели\n",
        "    error = np.mean(np.abs(layer2_error))\n",
        "    errors.append(error)\n",
        "    \n",
        "    # метрики качества\n",
        "    preds = np.argmax(layer2, axis=1)\n",
        "    labels = np.argmax(y_train, axis=1)\n",
        "    accuracy = (preds == labels).sum() * 100 / len(labels)\n",
        "    metrics.append(accuracy)"
      ],
      "execution_count": null,
      "outputs": []
    },
    {
      "cell_type": "code",
      "metadata": {
        "colab": {
          "base_uri": "https://localhost:8080/",
          "height": 651
        },
        "id": "-RGS2X4FxpTQ",
        "outputId": "a7248aea-a6c5-48ab-a833-64f07ec63627"
      },
      "source": [
        "# Демонстрация полученных результатов\n",
        "# Диаграмма точности в зависимости от обучения\n",
        "plt.figure(figsize=(16, 5))\n",
        "plt.plot(errors)\n",
        "plt.xlabel('Обучение')\n",
        "plt.ylabel('Ошибка')\n",
        "plt.show()\n",
        "\n",
        "plt.figure(figsize=(16, 5))\n",
        "plt.plot(metrics)\n",
        "plt.xlabel('Количество итераций')\n",
        "plt.ylabel('Accuracy')\n",
        "plt.show()"
      ],
      "execution_count": null,
      "outputs": [
        {
          "output_type": "display_data",
          "data": {
            "image/png": "[encoded data removed]",
            "text/plain": [
              "<Figure size 1152x360 with 1 Axes>"
            ]
          },
          "metadata": {
            "needs_background": "light"
          }
        },
        {
          "output_type": "display_data",
          "data": {
            "image/png": "[encoded data removed]",
            "text/plain": [
              "<Figure size 1152x360 with 1 Axes>"
            ]
          },
          "metadata": {
            "needs_background": "light"
          }
        }
      ]
    },
    {
      "cell_type": "code",
      "metadata": {
        "colab": {
          "base_uri": "https://localhost:8080/"
        },
        "id": "fQ0KZZepPxh2",
        "outputId": "cbbfc877-1afb-46b5-9117-efa8258d11b2"
      },
      "source": [
        "y_train[:10]"
      ],
      "execution_count": null,
      "outputs": [
        {
          "output_type": "execute_result",
          "data": {
            "text/plain": [
              "array([[0., 0., 1., 0., 0., 0., 0., 0., 0., 0.],\n",
              "       [0., 0., 0., 1., 0., 0., 0., 0., 0., 0.],\n",
              "       [0., 0., 0., 0., 1., 0., 0., 0., 0., 0.],\n",
              "       [0., 0., 1., 0., 0., 0., 0., 0., 0., 0.],\n",
              "       [0., 0., 0., 0., 1., 0., 0., 0., 0., 0.],\n",
              "       [0., 0., 0., 1., 0., 0., 0., 0., 0., 0.],\n",
              "       [0., 0., 0., 0., 1., 0., 0., 0., 0., 0.],\n",
              "       [1., 0., 0., 0., 0., 0., 0., 0., 0., 0.],\n",
              "       [0., 1., 0., 0., 0., 0., 0., 0., 0., 0.],\n",
              "       [0., 0., 0., 0., 0., 0., 0., 0., 0., 1.]])"
            ]
          },
          "metadata": {},
          "execution_count": 61
        }
      ]
    },
    {
      "cell_type": "code",
      "metadata": {
        "id": "buD3QL6dLhg8",
        "colab": {
          "base_uri": "https://localhost:8080/",
          "height": 352
        },
        "outputId": "1d7407d7-f2f0-4993-ea03-0173fe8a13a9"
      },
      "source": [
        "N = 10\n",
        "label = 2\n",
        "plt.figure(figsize=(16, 5))\n",
        "plt.plot(layer2[:N, label], 'r', label='y pred')\n",
        "plt.plot(y_train[:N, label],'g', label='y train')\n",
        "plt.xticks(np.arange(N))\n",
        "plt.xlabel('№ примера')\n",
        "plt.ylabel('выход сети и целевой')\n",
        "plt.legend()\n",
        "plt.show()\n",
        "        \n",
        "print(f\"accuracy на обучении {accuracy:.2f}%\")"
      ],
      "execution_count": null,
      "outputs": [
        {
          "output_type": "display_data",
          "data": {
            "image/png": "[encoded data removed]",
            "text/plain": [
              "<Figure size 1152x360 with 1 Axes>"
            ]
          },
          "metadata": {
            "needs_background": "light"
          }
        },
        {
          "output_type": "stream",
          "name": "stdout",
          "text": [
            "accuracy на обучении 52.54%\n"
          ]
        }
      ]
    },
    {
      "cell_type": "code",
      "metadata": {
        "colab": {
          "base_uri": "https://localhost:8080/",
          "height": 352
        },
        "id": "lRmoi3hzxpTQ",
        "outputId": "a6d2ddd7-8903-4240-9bf8-0ab2f306539d"
      },
      "source": [
        "# прямое распространение(feed forward)\n",
        "layer0_test = X_test\n",
        "layer1_test = sigmoid(np.dot(layer0_test, w0))\n",
        "layer2_test = sigmoid(np.dot(layer1_test, w1))\n",
        "    \n",
        "    \n",
        "N = 20\n",
        "plt.figure(figsize=(16, 5))\n",
        "plt.plot(layer2_test[:N, 1], 'r', label='y pred')\n",
        "plt.plot(y_test[:N, 1], 'g', label='y test')\n",
        "plt.xticks(np.arange(N))\n",
        "plt.xlabel('№ примера')\n",
        "plt.ylabel('выход сети и целевой')\n",
        "plt.legend()\n",
        "plt.show()\n",
        "\n",
        "# метрика модели\n",
        "preds_test = np.argmax(layer2_test, axis=1)\n",
        "labels_test = np.argmax(y_test, axis=1)\n",
        "accuracy_test = (preds_test == labels_test).sum() * 100 / len(labels_test)\n",
        "\n",
        "print(f\"accuracy на тесте {accuracy_test:.2f}%\")"
      ],
      "execution_count": null,
      "outputs": [
        {
          "output_type": "display_data",
          "data": {
            "image/png": "[encoded data removed]",
            "text/plain": [
              "<Figure size 1152x360 with 1 Axes>"
            ]
          },
          "metadata": {
            "needs_background": "light"
          }
        },
        {
          "output_type": "stream",
          "name": "stdout",
          "text": [
            "accuracy на тесте 41.41%\n"
          ]
        }
      ]
    },
    {
      "cell_type": "markdown",
      "metadata": {
        "id": "-s2i6Hz1xpTR"
      },
      "source": [
        "В этом уроке мы с вами рассматривали, как сделать простые нейронные сети без использования специальных фреймворков и библиотек для этого. В следующих уроках мы с вами познакомимся, как делать нейронные сети с помощью Keras и TensorFlow."
      ]
    },
    {
      "cell_type": "markdown",
      "metadata": {
        "id": "5S8aG2KqxpTR"
      },
      "source": [
        "## Домашнее задание <a class='anchor' id='hw'>\n",
        "\n",
        "1. Попробуйте видоизменить параметры разобранной на уроке двухслойной нейронной сети таким образом, чтобы улучшить ее точность.\n",
        "2. Проведите анализ — что приводит к ухудшению точности нейронной сети?\n",
        "3. Что приводит к увеличению ее точности?"
      ]
    },
    {
      "cell_type": "markdown",
      "metadata": {
        "id": "TWX2iLhFxpTS"
      },
      "source": [
        "## Дополнительные материалы\n",
        "\n",
        "1. [Machine Learning News and Articles](https://medium.com/topic/machine-learning)\n",
        "2. [Neural Net from scratch](https://towardsai.net/p/machine-learning/nothing-but-numpy-understanding-creating-neural-networks-with-computational-graphs-from-scratch-6299901091b0)\n",
        "3. [Let’s code a Neural Network in plain NumPy](https://towardsdatascience.com/lets-code-a-neural-network-in-plain-numpy-ae7e74410795)"
      ]
    },
    {
      "cell_type": "markdown",
      "metadata": {
        "id": "IADnOuFBxpTS"
      },
      "source": [
        "## Используемая литература \n",
        "\n",
        "Для подготовки данного методического пособия были использованы следующие ресурсы:\n",
        "<ol>\n",
        "    <li>Глубокое обучение — Николенко С. И., Кадурин 2018</li>\n",
        "    <li>Шакла Н. — Машинное обучение и TensorFlow 2019</li>\n",
        "    <li>Asifullah Khan, Anabia Sohail, Umme Zahoora, Aqsa Saeed Qureshi - A Survey of the Recent Architectures of Deep Convolutional Neural Networks 2019</li>\n",
        "    <li>A direct adaptive method for faster backpropagation learning: the RPROP algorithm - Neural Networks, 1993</li>\n",
        "    <li>Википедия</li>\n",
        "    \n",
        "</ol>"
      ]
    },
    {
      "cell_type": "markdown",
      "metadata": {
        "id": "cVpwCI_WLhg-"
      },
      "source": [
        "## Определения <a class='anchor' id='def'>\n",
        "\n",
        "*Общее*\n",
        "\n",
        "**Узкий (слабый) искусственный интеллект** — это ИИ, который запрограммирован на выполнение одной задачи — будь то мониторинг погоды, игра в шахматы или анализ данных для написания журналистских репортажей.\n",
        "\n",
        "**Общий (сильный) искусственный интеллект** — этот ИИ схож с человеческим интеллектом, иными словами, он может успешно выполнять любые умственные задачи, которые под силу людям.\n",
        "\n",
        "**Компьютерное зрение (Computer Vision, CV)** — это область искусственного интеллекта, связанная с анализом изображений и видео.\n",
        "\n",
        "**Обработка естественного языка (Natural Language Processing, NLP)** — это область искусственного интеллекта, связанная с использованием компьютеров для анализа естественных языков, к которой относятся такие дисциплины, как распознавание и обработка речи, выделение смысловых отношений, категоризация документов, а также аннотирование текста.\n",
        "\n",
        "___________\n",
        "\n",
        "*Обучение нейронной сети*\n",
        "\n",
        "**Искусственный нейрон** — узел искусственной нейронной сети, являющийся упрощённой моделью естественного нейрона.\n",
        "\n",
        "**Искусственнная нейронная сеть (ИНС)** — это программная реализация математической модели биологической нейронной сети.\n",
        "\n",
        "**Метод обратного распространения ошибки** — метод вычисления градиента, который используется при обновлении весов нейронной сети.\n",
        "\n",
        "**Градиентный спуск** — метод нахождения локального экстремума функции (минимума или максимума) с помощью движения вдоль градиента.\n",
        "\n",
        "**Функция активации нейрона** — функция, определяющая выходной сигнал, который определяется входным сигналом или набором входных сигналов. "
      ]
    }
  ]
}