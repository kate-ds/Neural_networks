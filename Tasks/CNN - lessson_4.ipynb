{
  "nbformat": 4,
  "nbformat_minor": 0,
  "metadata": {
    "colab": {
      "name": "Untitled4.ipynb",
      "provenance": []
    },
    "kernelspec": {
      "name": "python3",
      "display_name": "Python 3"
    },
    "language_info": {
      "name": "python"
    }
  },
  "cells": [
    {
      "cell_type": "markdown",
      "source": [
        "## Домашнее задание\n",
        "\n",
        "1. обучить рукописную сверточную нейронную сеть (с падением размера ядра свертки и последовательностью блоков свертка-пулинг (conv-pool)-(conv-pool)-...) на датасете cifar-10\n",
        "2. оценить рост точности при увеличении ширины сети (больше фильтров)\n",
        "3. оценить рост точности при увеличении глубины сети (больше слоев)\n",
        "4. *сравнить с точностью полносвязной сети для этой выборки\n"
      ],
      "metadata": {
        "id": "G20uOv4xfZn0"
      }
    },
    {
      "cell_type": "code",
      "source": [
        "import numpy as np\n",
        "import matplotlib.pyplot as plt\n",
        "from tensorflow.keras.datasets import cifar10\n",
        "from tensorflow.keras.preprocessing.image import ImageDataGenerator\n",
        "from tensorflow.keras.utils import to_categorical\n",
        "from tensorflow.keras.models import Sequential\n",
        "from tensorflow.keras.layers import Dense, Dropout, Activation, Flatten\n",
        "from tensorflow.keras.layers import Conv2D, MaxPooling2D"
      ],
      "metadata": {
        "id": "cZ0Ox9Hvf5TD"
      },
      "execution_count": 1,
      "outputs": []
    },
    {
      "cell_type": "code",
      "execution_count": 3,
      "metadata": {
        "colab": {
          "base_uri": "https://localhost:8080/"
        },
        "id": "OoV44bbmfYFr",
        "outputId": "96cd6299-f761-4f06-a5b3-d92fab2edbf7"
      },
      "outputs": [
        {
          "output_type": "stream",
          "name": "stdout",
          "text": [
            "X_train shape: (50000, 32, 32, 3)\n",
            "50000 тренировочные примеры\n",
            "10000 тестовые примеры\n"
          ]
        }
      ],
      "source": [
        "# разделение тренировочной и тестовой выборки\n",
        "(X_train, y_train), (X_test, y_test) = cifar10.load_data()\n",
        "classes = ['самолет', 'автомобиль', 'птица', 'кот', 'олень', 'собака', 'лягушка', 'лошадь', 'корабль', 'грузовик']\n",
        "\n",
        "print('X_train shape:', X_train.shape)\n",
        "print(X_train.shape[0], 'тренировочные примеры')\n",
        "print(X_test.shape[0], 'тестовые примеры')\n",
        "\n",
        "# установка параметров нейросети\n",
        "batch_size = 1000\n",
        "num_classes = 10\n",
        "epochs = 5\n",
        "\n",
        "# преобразование матрицы чисел 0-9 в бинарную матрицу чисел 0-1\n",
        "y_train = to_categorical(y_train, num_classes)\n",
        "y_test = to_categorical(y_test, num_classes)\n",
        "\n",
        "\n",
        "X_train = X_train / 255.0\n",
        "X_test = X_test / 255.0"
      ]
    },
    {
      "cell_type": "code",
      "source": [
        "N = 42\n",
        "plt.imshow(X_test[N])\n",
        "plt.title(classes[np.argmax(y_test[N,:])])\n",
        "plt.show()"
      ],
      "metadata": {
        "colab": {
          "base_uri": "https://localhost:8080/",
          "height": 281
        },
        "id": "aPMqKCgl0gVO",
        "outputId": "cca4a6ef-6222-49f3-945b-7d6fcfe4478e"
      },
      "execution_count": 4,
      "outputs": [
        {
          "output_type": "display_data",
          "data": {
            "image/png": "[encoded data removed]",
            "text/plain": [
              "<Figure size 432x288 with 1 Axes>"
            ]
          },
          "metadata": {
            "needs_background": "light"
          }
        }
      ]
    },
    {
      "cell_type": "code",
      "source": [
        "# конфигурирование слоев нейросети\n",
        "model = Sequential()\n",
        "\n",
        "# слои нейросети отвественные за свертку и max-pooling\n",
        "model.add(Conv2D(32, (25, 25), padding='same', input_shape=X_train.shape[1:]))\n",
        "model.add(Activation('relu'))\n",
        "model.add(Conv2D(32, (20, 20)))\n",
        "model.add(Activation('relu'))\n",
        "model.add(MaxPooling2D(pool_size=(13, 13)))\n",
        "model.add(Dropout(0.25))\n",
        "\n",
        "# полносвязные слои нейронной сети\n",
        "model.add(Flatten())\n",
        "model.add(Dense(512))\n",
        "model.add(Activation('relu'))\n",
        "model.add(Dropout(0.5))\n",
        "model.add(Dense(num_classes))\n",
        "model.add(Activation('softmax'))\n",
        "\n",
        "model.summary()\n",
        "\n",
        "# компиляция модели\n",
        "model.compile(loss='categorical_crossentropy',\n",
        "              optimizer='adam',\n",
        "              metrics=['accuracy'])"
      ],
      "metadata": {
        "colab": {
          "base_uri": "https://localhost:8080/"
        },
        "id": "zL3o7DZ-fyjF",
        "outputId": "e216ba20-8dca-4468-dc10-6885f07c65af"
      },
      "execution_count": 5,
      "outputs": [
        {
          "output_type": "stream",
          "name": "stdout",
          "text": [
            "Model: \"sequential\"\n",
            "_________________________________________________________________\n",
            " Layer (type)                Output Shape              Param #   \n",
            "=================================================================\n",
            " conv2d (Conv2D)             (None, 32, 32, 32)        60032     \n",
            "                                                                 \n",
            " activation (Activation)     (None, 32, 32, 32)        0         \n",
            "                                                                 \n",
            " conv2d_1 (Conv2D)           (None, 13, 13, 32)        409632    \n",
            "                                                                 \n",
            " activation_1 (Activation)   (None, 13, 13, 32)        0         \n",
            "                                                                 \n",
            " max_pooling2d (MaxPooling2D  (None, 1, 1, 32)         0         \n",
            " )                                                               \n",
            "                                                                 \n",
            " dropout (Dropout)           (None, 1, 1, 32)          0         \n",
            "                                                                 \n",
            " flatten (Flatten)           (None, 32)                0         \n",
            "                                                                 \n",
            " dense (Dense)               (None, 512)               16896     \n",
            "                                                                 \n",
            " activation_2 (Activation)   (None, 512)               0         \n",
            "                                                                 \n",
            " dropout_1 (Dropout)         (None, 512)               0         \n",
            "                                                                 \n",
            " dense_1 (Dense)             (None, 10)                5130      \n",
            "                                                                 \n",
            " activation_3 (Activation)   (None, 10)                0         \n",
            "                                                                 \n",
            "=================================================================\n",
            "Total params: 491,690\n",
            "Trainable params: 491,690\n",
            "Non-trainable params: 0\n",
            "_________________________________________________________________\n"
          ]
        }
      ]
    },
    {
      "cell_type": "code",
      "source": [
        "model.fit(X_train, y_train,\n",
        "          batch_size=batch_size,\n",
        "          epochs=epochs,\n",
        "          validation_data=(X_test, y_test), \n",
        "          workers=-1)"
      ],
      "metadata": {
        "id": "NxY4KQJ17agt",
        "colab": {
          "base_uri": "https://localhost:8080/"
        },
        "outputId": "734461bd-f41e-48f4-ad44-dc3203d9f3b7"
      },
      "execution_count": 13,
      "outputs": [
        {
          "output_type": "stream",
          "name": "stdout",
          "text": [
            "Epoch 1/5\n",
            "50/50 [==============================] - 1645s 33s/step - loss: 2.1408 - accuracy: 0.1853 - val_loss: 1.9716 - val_accuracy: 0.2725\n",
            "Epoch 2/5\n",
            "50/50 [==============================] - 1658s 33s/step - loss: 1.9703 - accuracy: 0.2561 - val_loss: 1.8427 - val_accuracy: 0.3210\n",
            "Epoch 3/5\n",
            "50/50 [==============================] - 1664s 33s/step - loss: 1.8826 - accuracy: 0.2951 - val_loss: 1.7481 - val_accuracy: 0.3585\n",
            "Epoch 4/5\n",
            "50/50 [==============================] - 1663s 33s/step - loss: 1.8052 - accuracy: 0.3321 - val_loss: 1.7014 - val_accuracy: 0.3816\n",
            "Epoch 5/5\n",
            "50/50 [==============================] - 1661s 33s/step - loss: 1.7565 - accuracy: 0.3489 - val_loss: 1.6549 - val_accuracy: 0.3953\n"
          ]
        },
        {
          "output_type": "execute_result",
          "data": {
            "text/plain": [
              "<keras.callbacks.History at 0x7f512b096490>"
            ]
          },
          "metadata": {},
          "execution_count": 13
        }
      ]
    },
    {
      "cell_type": "markdown",
      "source": [
        "2. оценить рост точности при увеличении ширины сети (больше фильтров)\n",
        "\n",
        "Добавим больше фильтров в предыдущую модель, вместо 32 возьмем 50 в каждой свертке."
      ],
      "metadata": {
        "id": "ZiHbc5iJvQQ3"
      }
    },
    {
      "cell_type": "code",
      "source": [
        "# больше фильтров\n",
        "model_2 = Sequential()\n",
        "\n",
        "# слои нейросети отвественные за свертку и max-pooling\n",
        "model_2.add(Conv2D(50, (25, 25), padding='same', input_shape=X_train.shape[1:]))\n",
        "model_2.add(Activation('relu'))\n",
        "model_2.add(Conv2D(50, (20, 20)))\n",
        "model_2.add(Activation('relu'))\n",
        "model_2.add(MaxPooling2D(pool_size=(13, 13)))\n",
        "model_2.add(Dropout(0.25))\n",
        "\n",
        "# полносвязные слои нейронной сети\n",
        "model_2.add(Flatten())\n",
        "model_2.add(Dense(512))\n",
        "model_2.add(Activation('relu'))\n",
        "model_2.add(Dropout(0.5))\n",
        "model_2.add(Dense(num_classes))\n",
        "model_2.add(Activation('softmax'))\n",
        "\n",
        "model_2.summary()\n",
        "\n",
        "# компиляция модели\n",
        "model_2.compile(loss='categorical_crossentropy',\n",
        "              optimizer='adam',\n",
        "              metrics=['accuracy'])"
      ],
      "metadata": {
        "id": "Mmdq46amRBDf",
        "colab": {
          "base_uri": "https://localhost:8080/"
        },
        "outputId": "d61bb2fa-c01a-4fda-a07c-2987e91ac7a6"
      },
      "execution_count": 14,
      "outputs": [
        {
          "output_type": "stream",
          "name": "stdout",
          "text": [
            "Model: \"sequential_7\"\n",
            "_________________________________________________________________\n",
            " Layer (type)                Output Shape              Param #   \n",
            "=================================================================\n",
            " conv2d_20 (Conv2D)          (None, 32, 32, 50)        93800     \n",
            "                                                                 \n",
            " activation_22 (Activation)  (None, 32, 32, 50)        0         \n",
            "                                                                 \n",
            " conv2d_21 (Conv2D)          (None, 13, 13, 50)        1000050   \n",
            "                                                                 \n",
            " activation_23 (Activation)  (None, 13, 13, 50)        0         \n",
            "                                                                 \n",
            " max_pooling2d_8 (MaxPooling  (None, 1, 1, 50)         0         \n",
            " 2D)                                                             \n",
            "                                                                 \n",
            " dropout_11 (Dropout)        (None, 1, 1, 50)          0         \n",
            "                                                                 \n",
            " flatten_3 (Flatten)         (None, 50)                0         \n",
            "                                                                 \n",
            " dense_6 (Dense)             (None, 512)               26112     \n",
            "                                                                 \n",
            " activation_24 (Activation)  (None, 512)               0         \n",
            "                                                                 \n",
            " dropout_12 (Dropout)        (None, 512)               0         \n",
            "                                                                 \n",
            " dense_7 (Dense)             (None, 10)                5130      \n",
            "                                                                 \n",
            " activation_25 (Activation)  (None, 10)                0         \n",
            "                                                                 \n",
            "=================================================================\n",
            "Total params: 1,125,092\n",
            "Trainable params: 1,125,092\n",
            "Non-trainable params: 0\n",
            "_________________________________________________________________\n"
          ]
        }
      ]
    },
    {
      "cell_type": "code",
      "source": [
        "model_2.fit(X_train, y_train,\n",
        "          batch_size=batch_size,\n",
        "          epochs=epochs,\n",
        "          validation_data=(X_test, y_test),\n",
        "          workers=4)"
      ],
      "metadata": {
        "id": "ZdlRYcyoSRnZ",
        "colab": {
          "base_uri": "https://localhost:8080/"
        },
        "outputId": "493c7e2c-2116-4d3e-9c42-9b856fc25b73"
      },
      "execution_count": 15,
      "outputs": [
        {
          "output_type": "stream",
          "name": "stdout",
          "text": [
            "Epoch 1/5\n",
            "50/50 [==============================] - 2758s 55s/step - loss: 2.1445 - accuracy: 0.1866 - val_loss: 1.9590 - val_accuracy: 0.2758\n",
            "Epoch 2/5\n",
            "50/50 [==============================] - 2762s 55s/step - loss: 1.8912 - accuracy: 0.3033 - val_loss: 1.7610 - val_accuracy: 0.3664\n",
            "Epoch 3/5\n",
            "50/50 [==============================] - 2729s 55s/step - loss: 1.7684 - accuracy: 0.3551 - val_loss: 1.6430 - val_accuracy: 0.4056\n",
            "Epoch 4/5\n",
            "50/50 [==============================] - 2695s 54s/step - loss: 1.6991 - accuracy: 0.3835 - val_loss: 1.6097 - val_accuracy: 0.4132\n",
            "Epoch 5/5\n",
            "50/50 [==============================] - 2699s 54s/step - loss: 1.6409 - accuracy: 0.4085 - val_loss: 1.5489 - val_accuracy: 0.4405\n"
          ]
        },
        {
          "output_type": "execute_result",
          "data": {
            "text/plain": [
              "<keras.callbacks.History at 0x7f512576e110>"
            ]
          },
          "metadata": {},
          "execution_count": 15
        }
      ]
    },
    {
      "cell_type": "markdown",
      "source": [
        "Качество модели немного выросло, по сравнению с предыдующей моделью\n",
        "\n",
        "3. оценить рост точности при увеличении глубины сети (больше слоев). \n",
        "\n",
        "Теперь в самую первую модель добавим еще один сверточный слой и пуллинг"
      ],
      "metadata": {
        "id": "vVnEe8FHwN2_"
      }
    },
    {
      "cell_type": "code",
      "source": [
        "# больше слоев\n",
        "model_3 = Sequential()\n",
        "\n",
        "# слои нейросети отвественные за свертку и max-pooling\n",
        "model_3.add(Conv2D(32, (25, 25), padding='same', input_shape=X_train.shape[1:]))\n",
        "model_3.add(Activation('relu'))\n",
        "model_3.add(Conv2D(32, (20, 20)))\n",
        "model_3.add(Activation('relu'))\n",
        "model_3.add(MaxPooling2D(pool_size=(2, 2)))\n",
        "model_3.add(Dropout(0.25))\n",
        "\n",
        "model_3.add(Conv2D(16, (3, 3)))\n",
        "model_3.add(Activation('relu'))\n",
        "model_3.add(MaxPooling2D(pool_size=(2, 2)))\n",
        "model_3.add(Dropout(0.25))\n",
        "\n",
        "# полносвязные слои нейронной сети\n",
        "model_3.add(Flatten())\n",
        "model_3.add(Dense(512))\n",
        "model_3.add(Activation('relu'))\n",
        "model_3.add(Dropout(0.5))\n",
        "model_3.add(Dense(num_classes))\n",
        "model_3.add(Activation('softmax'))\n",
        "\n",
        "model_3.summary()\n",
        "\n",
        "# компиляция модели\n",
        "model_3.compile(loss='categorical_crossentropy',\n",
        "              optimizer='adam',\n",
        "              metrics=['accuracy'])"
      ],
      "metadata": {
        "colab": {
          "base_uri": "https://localhost:8080/"
        },
        "id": "idlXqCd6bIcm",
        "outputId": "1c8113c2-79ad-4866-b414-b9512a6ac91b"
      },
      "execution_count": 16,
      "outputs": [
        {
          "output_type": "stream",
          "name": "stdout",
          "text": [
            "Model: \"sequential_8\"\n",
            "_________________________________________________________________\n",
            " Layer (type)                Output Shape              Param #   \n",
            "=================================================================\n",
            " conv2d_22 (Conv2D)          (None, 32, 32, 32)        60032     \n",
            "                                                                 \n",
            " activation_26 (Activation)  (None, 32, 32, 32)        0         \n",
            "                                                                 \n",
            " conv2d_23 (Conv2D)          (None, 13, 13, 32)        409632    \n",
            "                                                                 \n",
            " activation_27 (Activation)  (None, 13, 13, 32)        0         \n",
            "                                                                 \n",
            " max_pooling2d_9 (MaxPooling  (None, 6, 6, 32)         0         \n",
            " 2D)                                                             \n",
            "                                                                 \n",
            " dropout_13 (Dropout)        (None, 6, 6, 32)          0         \n",
            "                                                                 \n",
            " conv2d_24 (Conv2D)          (None, 4, 4, 16)          4624      \n",
            "                                                                 \n",
            " activation_28 (Activation)  (None, 4, 4, 16)          0         \n",
            "                                                                 \n",
            " max_pooling2d_10 (MaxPoolin  (None, 2, 2, 16)         0         \n",
            " g2D)                                                            \n",
            "                                                                 \n",
            " dropout_14 (Dropout)        (None, 2, 2, 16)          0         \n",
            "                                                                 \n",
            " flatten_4 (Flatten)         (None, 64)                0         \n",
            "                                                                 \n",
            " dense_8 (Dense)             (None, 512)               33280     \n",
            "                                                                 \n",
            " activation_29 (Activation)  (None, 512)               0         \n",
            "                                                                 \n",
            " dropout_15 (Dropout)        (None, 512)               0         \n",
            "                                                                 \n",
            " dense_9 (Dense)             (None, 10)                5130      \n",
            "                                                                 \n",
            " activation_30 (Activation)  (None, 10)                0         \n",
            "                                                                 \n",
            "=================================================================\n",
            "Total params: 512,698\n",
            "Trainable params: 512,698\n",
            "Non-trainable params: 0\n",
            "_________________________________________________________________\n"
          ]
        }
      ]
    },
    {
      "cell_type": "code",
      "source": [
        "model_3.fit(X_train, y_train,\n",
        "            batch_size=batch_size,\n",
        "            epochs=epochs,\n",
        "            validation_data=(X_test, y_test),\n",
        "            workers=-1)"
      ],
      "metadata": {
        "id": "niTItI5hSbNW",
        "colab": {
          "base_uri": "https://localhost:8080/"
        },
        "outputId": "7ade1c21-1b97-4e3e-af82-59e2633a010d"
      },
      "execution_count": 17,
      "outputs": [
        {
          "output_type": "stream",
          "name": "stdout",
          "text": [
            "Epoch 1/5\n",
            "50/50 [==============================] - 1668s 33s/step - loss: 2.1819 - accuracy: 0.1664 - val_loss: 1.9845 - val_accuracy: 0.2777\n",
            "Epoch 2/5\n",
            "50/50 [==============================] - 1679s 34s/step - loss: 1.9398 - accuracy: 0.2794 - val_loss: 1.8916 - val_accuracy: 0.3211\n",
            "Epoch 3/5\n",
            "50/50 [==============================] - 1678s 34s/step - loss: 1.8561 - accuracy: 0.3162 - val_loss: 1.7725 - val_accuracy: 0.3553\n",
            "Epoch 4/5\n",
            "50/50 [==============================] - 1677s 34s/step - loss: 1.7986 - accuracy: 0.3410 - val_loss: 1.7469 - val_accuracy: 0.3670\n",
            "Epoch 5/5\n",
            "50/50 [==============================] - 1670s 33s/step - loss: 1.7581 - accuracy: 0.3600 - val_loss: 1.6906 - val_accuracy: 0.3930\n"
          ]
        },
        {
          "output_type": "execute_result",
          "data": {
            "text/plain": [
              "<keras.callbacks.History at 0x7f512af2fb50>"
            ]
          },
          "metadata": {},
          "execution_count": 17
        }
      ]
    },
    {
      "cell_type": "markdown",
      "source": [
        "Видно, что качество на обучении немного выросло по сравнению с предыдущей моделью, но примерно такой же результат на тесте, то есть у более глубокой сети уменьшился разрыв на обучении и тесте, соответмтвенно, переобучение немного уменьшилось. Теперь добавим аугментацию"
      ],
      "metadata": {
        "id": "Y1izwcWQwfay"
      }
    },
    {
      "cell_type": "code",
      "source": [
        "# с аугментацией\n",
        "\n",
        "# установка параметров нейросети\n",
        "batch_size = 500\n",
        "num_classes = 10\n",
        "epochs = 5\n",
        "data_augmentation = True\n",
        "\n",
        "if not data_augmentation:\n",
        "    print('Не используется data augmentation')\n",
        "    model_3.fit(X_train, y_train,\n",
        "              batch_size=batch_size,\n",
        "              epochs=epochs,\n",
        "              validation_data=(X_test, y_test),\n",
        "              shuffle=True)\n",
        "else:\n",
        "    print('Использование data augmentation')\n",
        "    # Препроцессинг и data augmentation в реальном времени:\n",
        "    datagen = ImageDataGenerator(\n",
        "        featurewise_center=False,\n",
        "        samplewise_center=False,\n",
        "        featurewise_std_normalization=False,\n",
        "        samplewise_std_normalization=False,\n",
        "        zca_whitening=False, \n",
        "        zca_epsilon=1e-06, \n",
        "        rotation_range=10, \n",
        "        width_shift_range=0.1,\n",
        "        height_shift_range=0.1,\n",
        "        shear_range=0., \n",
        "        zoom_range=0.2, \n",
        "        channel_shift_range=0.,\n",
        "        fill_mode='nearest',\n",
        "        cval=0.,\n",
        "        horizontal_flip=True,\n",
        "        vertical_flip=False,\n",
        "        rescale=None,\n",
        "        preprocessing_function=None,\n",
        "        data_format=None,\n",
        "        validation_split=0.0)\n",
        "\n",
        "\n",
        "    train_gen = datagen.flow(X_train, \n",
        "                             y_train,\n",
        "                             batch_size=batch_size)\n",
        "    \n",
        "    # запуск data augmentation через fit_generator\n",
        "    model_3.fit(train_gen,\n",
        "              batch_size=batch_size,\n",
        "              epochs=epochs,\n",
        "              validation_data=(X_test, y_test),\n",
        "              workers=-1)"
      ],
      "metadata": {
        "id": "McwxoIHWSf3h",
        "colab": {
          "base_uri": "https://localhost:8080/"
        },
        "outputId": "312901e2-9ad6-4a81-8c9e-1898bd869c1b"
      },
      "execution_count": 18,
      "outputs": [
        {
          "output_type": "stream",
          "name": "stdout",
          "text": [
            "Использование data augmentation\n",
            "Epoch 1/5\n",
            "100/100 [==============================] - 1673s 17s/step - loss: 1.8270 - accuracy: 0.3337 - val_loss: 1.6974 - val_accuracy: 0.3859\n",
            "Epoch 2/5\n",
            "100/100 [==============================] - 1678s 17s/step - loss: 1.7742 - accuracy: 0.3510 - val_loss: 1.6957 - val_accuracy: 0.4062\n",
            "Epoch 3/5\n",
            "100/100 [==============================] - 1672s 17s/step - loss: 1.7483 - accuracy: 0.3643 - val_loss: 1.6304 - val_accuracy: 0.4205\n",
            "Epoch 4/5\n",
            "100/100 [==============================] - 1675s 17s/step - loss: 1.7163 - accuracy: 0.3775 - val_loss: 1.5763 - val_accuracy: 0.4357\n",
            "Epoch 5/5\n",
            "100/100 [==============================] - 1679s 17s/step - loss: 1.6947 - accuracy: 0.3840 - val_loss: 1.5721 - val_accuracy: 0.4304\n"
          ]
        }
      ]
    },
    {
      "cell_type": "markdown",
      "source": [
        "Видно, что добавление аугментации приводит к улучшению качества модели"
      ],
      "metadata": {
        "id": "5P29BlmwxD9X"
      }
    }
  ]
}