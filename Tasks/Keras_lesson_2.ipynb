{
  "nbformat": 4,
  "nbformat_minor": 0,
  "metadata": {
    "colab": {
      "name": "Untitled3.ipynb",
      "provenance": []
    },
    "kernelspec": {
      "name": "python3",
      "display_name": "Python 3"
    },
    "language_info": {
      "name": "python"
    }
  },
  "cells": [
    {
      "cell_type": "markdown",
      "source": [
        "Используем набор примеров fashion-MNIST\n",
        "1. Опишите - какой результат нейросети получен в зависимости от:\n",
        "  - числа нейронов в слое (для 2-х слойной сети), \n",
        "  - числа слоев (2, 3, 5, 10) при близких размерах сети (близкое число тренируемых параметров).\n",
        "  - фиксируйте для тренировочного и тестового набора метрики accuracy."
      ],
      "metadata": {
        "id": "khbcwh646iQ4"
      }
    },
    {
      "cell_type": "code",
      "source": [
        "import keras\n",
        "from keras.datasets import fashion_mnist\n",
        "from keras.layers import Dense\n",
        "from keras.models import Sequential\n",
        "from keras.utils.np_utils import to_categorical\n",
        "\n",
        "import numpy as np\n",
        "import matplotlib.pyplot as plt\n",
        "from sklearn.metrics import confusion_matrix, classification_report"
      ],
      "metadata": {
        "id": "wwJfduzt6sdV"
      },
      "execution_count": 54,
      "outputs": []
    },
    {
      "cell_type": "code",
      "source": [
        "(X_train, y_train_labels), (X_test, y_test_labels) = fashion_mnist.load_data()\n",
        "\n",
        "print(X_train.shape, X_test.shape)\n",
        "print(y_train_labels.shape)"
      ],
      "metadata": {
        "colab": {
          "base_uri": "https://localhost:8080/"
        },
        "id": "oKeMCWhR7OEW",
        "outputId": "e426e9cb-2cfc-4c37-b3b3-9f3a6d8735d4"
      },
      "execution_count": 55,
      "outputs": [
        {
          "output_type": "stream",
          "name": "stdout",
          "text": [
            "(60000, 28, 28) (10000, 28, 28)\n",
            "(60000,)\n"
          ]
        }
      ]
    },
    {
      "cell_type": "code",
      "source": [
        "classes = {'0': 'T-shirt/top',\n",
        "           '1': 'Trouser',\n",
        "           '2': 'Pullover',\n",
        "           '3': 'Dress',\n",
        "           '4': 'Coat',\n",
        "           '5': 'Sandal',\n",
        "           '6': 'Shirt',\n",
        "           '7': 'Sneaker',\n",
        "           '8': 'Bag',\n",
        "           '9': 'Ankle boot'}"
      ],
      "metadata": {
        "id": "fGftx12Tuioc"
      },
      "execution_count": 56,
      "outputs": []
    },
    {
      "cell_type": "code",
      "source": [
        "ind = np.random.randint(0, X_train.shape[0])\n",
        "plt.imshow(X_train[ind])\n",
        "print(f'Label is {y_train_labels[ind]}')"
      ],
      "metadata": {
        "colab": {
          "base_uri": "https://localhost:8080/",
          "height": 282
        },
        "id": "8HBADewI7vR3",
        "outputId": "e1e89a35-c74b-48ae-9615-08d393ece72a"
      },
      "execution_count": 57,
      "outputs": [
        {
          "output_type": "stream",
          "name": "stdout",
          "text": [
            "Label is 8\n"
          ]
        },
        {
          "output_type": "display_data",
          "data": {
            "image/png": "[encoded data removed]",
            "text/plain": [
              "<Figure size 432x288 with 1 Axes>"
            ]
          },
          "metadata": {
            "needs_background": "light"
          }
        }
      ]
    },
    {
      "cell_type": "code",
      "source": [
        "X_train.min(), X_train.max()"
      ],
      "metadata": {
        "colab": {
          "base_uri": "https://localhost:8080/"
        },
        "id": "ndIO5SmG75Vp",
        "outputId": "e5a25691-c895-43f1-f288-fdf9d24dce28"
      },
      "execution_count": 5,
      "outputs": [
        {
          "output_type": "execute_result",
          "data": {
            "text/plain": [
              "(0, 255)"
            ]
          },
          "metadata": {},
          "execution_count": 5
        }
      ]
    },
    {
      "cell_type": "code",
      "source": [
        "# Data normalisation\n",
        "# Нам теперь нужно конверитировать значения пикселей из вида от 0 до 255 в набор значений от 0 до 1.\n",
        "\n",
        "X_train = X_train / 255.0\n",
        "X_test = X_test / 255.0\n",
        "X_train.min(), X_train.max()"
      ],
      "metadata": {
        "colab": {
          "base_uri": "https://localhost:8080/"
        },
        "id": "GTjS4kryAesD",
        "outputId": "05c58a03-df84-4a6e-ce96-956ac979583d"
      },
      "execution_count": 6,
      "outputs": [
        {
          "output_type": "execute_result",
          "data": {
            "text/plain": [
              "(0.0, 1.0)"
            ]
          },
          "metadata": {},
          "execution_count": 6
        }
      ]
    },
    {
      "cell_type": "code",
      "source": [
        "X_train = X_train.reshape((-1, 28 * 28))\n",
        "X_test = X_test.reshape((-1, 28 * 28))\n",
        "\n",
        "X_train.shape, X_test.shape"
      ],
      "metadata": {
        "colab": {
          "base_uri": "https://localhost:8080/"
        },
        "id": "PRZZMufPEJTW",
        "outputId": "81434219-c3b4-479f-a544-08e2f3d546df"
      },
      "execution_count": 7,
      "outputs": [
        {
          "output_type": "execute_result",
          "data": {
            "text/plain": [
              "((60000, 784), (10000, 784))"
            ]
          },
          "metadata": {},
          "execution_count": 7
        }
      ]
    },
    {
      "cell_type": "code",
      "source": [
        "X_train"
      ],
      "metadata": {
        "colab": {
          "base_uri": "https://localhost:8080/"
        },
        "id": "qRCB7l9IESLJ",
        "outputId": "5c486dca-1626-4640-a146-44527ec56df2"
      },
      "execution_count": 8,
      "outputs": [
        {
          "output_type": "execute_result",
          "data": {
            "text/plain": [
              "array([[0., 0., 0., ..., 0., 0., 0.],\n",
              "       [0., 0., 0., ..., 0., 0., 0.],\n",
              "       [0., 0., 0., ..., 0., 0., 0.],\n",
              "       ...,\n",
              "       [0., 0., 0., ..., 0., 0., 0.],\n",
              "       [0., 0., 0., ..., 0., 0., 0.],\n",
              "       [0., 0., 0., ..., 0., 0., 0.]])"
            ]
          },
          "metadata": {},
          "execution_count": 8
        }
      ]
    },
    {
      "cell_type": "code",
      "source": [
        "y_train_labels[:5]"
      ],
      "metadata": {
        "colab": {
          "base_uri": "https://localhost:8080/"
        },
        "id": "aVamR96mKuJC",
        "outputId": "0db339a7-d793-4956-f4a8-819efbf99ed6"
      },
      "execution_count": 9,
      "outputs": [
        {
          "output_type": "execute_result",
          "data": {
            "text/plain": [
              "array([9, 0, 0, 3, 0], dtype=uint8)"
            ]
          },
          "metadata": {},
          "execution_count": 9
        }
      ]
    },
    {
      "cell_type": "code",
      "source": [
        "# делаем one-hot-encoding таргета\n",
        "\n",
        "y_train = to_categorical(y_train_labels)\n",
        "y_test = to_categorical(y_test_labels)\n",
        "\n",
        "y_train[:5]"
      ],
      "metadata": {
        "colab": {
          "base_uri": "https://localhost:8080/"
        },
        "id": "oQNMFW2AKvSq",
        "outputId": "7f2bbdf1-b712-46c0-dc64-44be9d8039d1"
      },
      "execution_count": 10,
      "outputs": [
        {
          "output_type": "execute_result",
          "data": {
            "text/plain": [
              "array([[0., 0., 0., 0., 0., 0., 0., 0., 0., 1.],\n",
              "       [1., 0., 0., 0., 0., 0., 0., 0., 0., 0.],\n",
              "       [1., 0., 0., 0., 0., 0., 0., 0., 0., 0.],\n",
              "       [0., 0., 0., 1., 0., 0., 0., 0., 0., 0.],\n",
              "       [1., 0., 0., 0., 0., 0., 0., 0., 0., 0.]], dtype=float32)"
            ]
          },
          "metadata": {},
          "execution_count": 10
        }
      ]
    },
    {
      "cell_type": "code",
      "source": [
        "X_train.shape, y_train.shape"
      ],
      "metadata": {
        "colab": {
          "base_uri": "https://localhost:8080/"
        },
        "id": "KDrC38e0Hr6h",
        "outputId": "ea20587f-eac0-4e80-a158-513b3519e761"
      },
      "execution_count": 11,
      "outputs": [
        {
          "output_type": "execute_result",
          "data": {
            "text/plain": [
              "((60000, 784), (60000, 10))"
            ]
          },
          "metadata": {},
          "execution_count": 11
        }
      ]
    },
    {
      "cell_type": "code",
      "source": [
        "# define the keras model\n",
        "n_neurons = [5, 7, 10, 12, 15, 17, 20, 22, 25]\n",
        "results = {}\n",
        "\n",
        "for n in n_neurons: \n",
        "\n",
        "    model = Sequential([\n",
        "        Dense(n, input_shape=(28 * 28,), activation='relu'),\n",
        "        Dense(10, activation='sigmoid')\n",
        "    ])\n",
        "\n",
        "    model.compile(loss='categorical_crossentropy', optimizer='SGD', metrics=['accuracy'])\n",
        "\n",
        "    mod = model.fit(X_train, y_train,\n",
        "                      epochs=10,\n",
        "                      batch_size=500, \n",
        "                      verbose=1,\n",
        "                      validation_split=0.2)\n",
        "\n",
        "    results[f'model_{n}_neurons'] = mod.history"
      ],
      "metadata": {
        "colab": {
          "base_uri": "https://localhost:8080/"
        },
        "id": "5Umv_z2gGl6J",
        "outputId": "3b5335c9-09a0-4414-e8f0-4c5a790c58b8"
      },
      "execution_count": 12,
      "outputs": [
        {
          "output_type": "stream",
          "name": "stdout",
          "text": [
            "Epoch 1/10\n",
            "96/96 [==============================] - 1s 6ms/step - loss: 2.1877 - accuracy: 0.2137 - val_loss: 2.0679 - val_accuracy: 0.2929\n",
            "Epoch 2/10\n",
            "96/96 [==============================] - 0s 4ms/step - loss: 1.9865 - accuracy: 0.3015 - val_loss: 1.9153 - val_accuracy: 0.3106\n",
            "Epoch 3/10\n",
            "96/96 [==============================] - 0s 4ms/step - loss: 1.8568 - accuracy: 0.3093 - val_loss: 1.8059 - val_accuracy: 0.3203\n",
            "Epoch 4/10\n",
            "96/96 [==============================] - 0s 4ms/step - loss: 1.7660 - accuracy: 0.3299 - val_loss: 1.7299 - val_accuracy: 0.3406\n",
            "Epoch 5/10\n",
            "96/96 [==============================] - 0s 4ms/step - loss: 1.7011 - accuracy: 0.3480 - val_loss: 1.6733 - val_accuracy: 0.3618\n",
            "Epoch 6/10\n",
            "96/96 [==============================] - 0s 4ms/step - loss: 1.6511 - accuracy: 0.3600 - val_loss: 1.6281 - val_accuracy: 0.3682\n",
            "Epoch 7/10\n",
            "96/96 [==============================] - 0s 4ms/step - loss: 1.6103 - accuracy: 0.3656 - val_loss: 1.5907 - val_accuracy: 0.3713\n",
            "Epoch 8/10\n",
            "96/96 [==============================] - 0s 4ms/step - loss: 1.5760 - accuracy: 0.3696 - val_loss: 1.5590 - val_accuracy: 0.3769\n",
            "Epoch 9/10\n",
            "96/96 [==============================] - 0s 4ms/step - loss: 1.5466 - accuracy: 0.3744 - val_loss: 1.5316 - val_accuracy: 0.3809\n",
            "Epoch 10/10\n",
            "96/96 [==============================] - 0s 3ms/step - loss: 1.5210 - accuracy: 0.3785 - val_loss: 1.5077 - val_accuracy: 0.3872\n",
            "Epoch 1/10\n",
            "96/96 [==============================] - 1s 5ms/step - loss: 2.0918 - accuracy: 0.1962 - val_loss: 1.9469 - val_accuracy: 0.2028\n",
            "Epoch 2/10\n",
            "96/96 [==============================] - 0s 4ms/step - loss: 1.8317 - accuracy: 0.2461 - val_loss: 1.7125 - val_accuracy: 0.3647\n",
            "Epoch 3/10\n",
            "96/96 [==============================] - 0s 4ms/step - loss: 1.5923 - accuracy: 0.4649 - val_loss: 1.4660 - val_accuracy: 0.5508\n",
            "Epoch 4/10\n",
            "96/96 [==============================] - 0s 4ms/step - loss: 1.3707 - accuracy: 0.5770 - val_loss: 1.2729 - val_accuracy: 0.6063\n",
            "Epoch 5/10\n",
            "96/96 [==============================] - 0s 4ms/step - loss: 1.2149 - accuracy: 0.6106 - val_loss: 1.1474 - val_accuracy: 0.6242\n",
            "Epoch 6/10\n",
            "96/96 [==============================] - 0s 3ms/step - loss: 1.1111 - accuracy: 0.6332 - val_loss: 1.0602 - val_accuracy: 0.6476\n",
            "Epoch 7/10\n",
            "96/96 [==============================] - 0s 4ms/step - loss: 1.0371 - accuracy: 0.6555 - val_loss: 0.9967 - val_accuracy: 0.6727\n",
            "Epoch 8/10\n",
            "96/96 [==============================] - 0s 4ms/step - loss: 0.9812 - accuracy: 0.6756 - val_loss: 0.9471 - val_accuracy: 0.6895\n",
            "Epoch 9/10\n",
            "96/96 [==============================] - 0s 4ms/step - loss: 0.9363 - accuracy: 0.6910 - val_loss: 0.9068 - val_accuracy: 0.7013\n",
            "Epoch 10/10\n",
            "96/96 [==============================] - 0s 4ms/step - loss: 0.8986 - accuracy: 0.7042 - val_loss: 0.8725 - val_accuracy: 0.7137\n",
            "Epoch 1/10\n",
            "96/96 [==============================] - 1s 6ms/step - loss: 2.0700 - accuracy: 0.2504 - val_loss: 1.8842 - val_accuracy: 0.3494\n",
            "Epoch 2/10\n",
            "96/96 [==============================] - 0s 5ms/step - loss: 1.7638 - accuracy: 0.4443 - val_loss: 1.6304 - val_accuracy: 0.5198\n",
            "Epoch 3/10\n",
            "96/96 [==============================] - 0s 5ms/step - loss: 1.5419 - accuracy: 0.5505 - val_loss: 1.4346 - val_accuracy: 0.6145\n",
            "Epoch 4/10\n",
            "96/96 [==============================] - 0s 5ms/step - loss: 1.3616 - accuracy: 0.6296 - val_loss: 1.2670 - val_accuracy: 0.6529\n",
            "Epoch 5/10\n",
            "96/96 [==============================] - 0s 5ms/step - loss: 1.2072 - accuracy: 0.6591 - val_loss: 1.1246 - val_accuracy: 0.6710\n",
            "Epoch 6/10\n",
            "96/96 [==============================] - 0s 5ms/step - loss: 1.0798 - accuracy: 0.6731 - val_loss: 1.0138 - val_accuracy: 0.6884\n",
            "Epoch 7/10\n",
            "96/96 [==============================] - 0s 4ms/step - loss: 0.9839 - accuracy: 0.6900 - val_loss: 0.9321 - val_accuracy: 0.6998\n",
            "Epoch 8/10\n",
            "96/96 [==============================] - 0s 5ms/step - loss: 0.9116 - accuracy: 0.7050 - val_loss: 0.8690 - val_accuracy: 0.7185\n",
            "Epoch 9/10\n",
            "96/96 [==============================] - 0s 5ms/step - loss: 0.8552 - accuracy: 0.7217 - val_loss: 0.8195 - val_accuracy: 0.7337\n",
            "Epoch 10/10\n",
            "96/96 [==============================] - 0s 5ms/step - loss: 0.8105 - accuracy: 0.7344 - val_loss: 0.7803 - val_accuracy: 0.7411\n",
            "Epoch 1/10\n",
            "96/96 [==============================] - 1s 6ms/step - loss: 1.9856 - accuracy: 0.3233 - val_loss: 1.7505 - val_accuracy: 0.4883\n",
            "Epoch 2/10\n",
            "96/96 [==============================] - 0s 5ms/step - loss: 1.5539 - accuracy: 0.5789 - val_loss: 1.3735 - val_accuracy: 0.6248\n",
            "Epoch 3/10\n",
            "96/96 [==============================] - 0s 5ms/step - loss: 1.2513 - accuracy: 0.6518 - val_loss: 1.1386 - val_accuracy: 0.6784\n",
            "Epoch 4/10\n",
            "96/96 [==============================] - 0s 5ms/step - loss: 1.0687 - accuracy: 0.6930 - val_loss: 0.9976 - val_accuracy: 0.7120\n",
            "Epoch 5/10\n",
            "96/96 [==============================] - 0s 5ms/step - loss: 0.9554 - accuracy: 0.7135 - val_loss: 0.9064 - val_accuracy: 0.7233\n",
            "Epoch 6/10\n",
            "96/96 [==============================] - 0s 5ms/step - loss: 0.8802 - accuracy: 0.7254 - val_loss: 0.8447 - val_accuracy: 0.7295\n",
            "Epoch 7/10\n",
            "96/96 [==============================] - 0s 4ms/step - loss: 0.8272 - accuracy: 0.7330 - val_loss: 0.7987 - val_accuracy: 0.7362\n",
            "Epoch 8/10\n",
            "96/96 [==============================] - 0s 5ms/step - loss: 0.7875 - accuracy: 0.7410 - val_loss: 0.7651 - val_accuracy: 0.7433\n",
            "Epoch 9/10\n",
            "96/96 [==============================] - 0s 4ms/step - loss: 0.7567 - accuracy: 0.7461 - val_loss: 0.7398 - val_accuracy: 0.7426\n",
            "Epoch 10/10\n",
            "96/96 [==============================] - 0s 4ms/step - loss: 0.7322 - accuracy: 0.7503 - val_loss: 0.7168 - val_accuracy: 0.7534\n",
            "Epoch 1/10\n",
            "96/96 [==============================] - 1s 6ms/step - loss: 2.0274 - accuracy: 0.2736 - val_loss: 1.7510 - val_accuracy: 0.4245\n",
            "Epoch 2/10\n",
            "96/96 [==============================] - 0s 4ms/step - loss: 1.5480 - accuracy: 0.5067 - val_loss: 1.3353 - val_accuracy: 0.6058\n",
            "Epoch 3/10\n",
            "96/96 [==============================] - 0s 4ms/step - loss: 1.1992 - accuracy: 0.6595 - val_loss: 1.0712 - val_accuracy: 0.6947\n",
            "Epoch 4/10\n",
            "96/96 [==============================] - 0s 4ms/step - loss: 1.0020 - accuracy: 0.7056 - val_loss: 0.9265 - val_accuracy: 0.7218\n",
            "Epoch 5/10\n",
            "96/96 [==============================] - 0s 4ms/step - loss: 0.8898 - accuracy: 0.7271 - val_loss: 0.8398 - val_accuracy: 0.7437\n",
            "Epoch 6/10\n",
            "96/96 [==============================] - 0s 4ms/step - loss: 0.8178 - accuracy: 0.7473 - val_loss: 0.7807 - val_accuracy: 0.7553\n",
            "Epoch 7/10\n",
            "96/96 [==============================] - 0s 4ms/step - loss: 0.7672 - accuracy: 0.7593 - val_loss: 0.7386 - val_accuracy: 0.7650\n",
            "Epoch 8/10\n",
            "96/96 [==============================] - 0s 4ms/step - loss: 0.7293 - accuracy: 0.7699 - val_loss: 0.7054 - val_accuracy: 0.7737\n",
            "Epoch 9/10\n",
            "96/96 [==============================] - 0s 4ms/step - loss: 0.6990 - accuracy: 0.7790 - val_loss: 0.6799 - val_accuracy: 0.7792\n",
            "Epoch 10/10\n",
            "96/96 [==============================] - 0s 4ms/step - loss: 0.6748 - accuracy: 0.7863 - val_loss: 0.6579 - val_accuracy: 0.7877\n",
            "Epoch 1/10\n",
            "96/96 [==============================] - 1s 10ms/step - loss: 1.9715 - accuracy: 0.3261 - val_loss: 1.6493 - val_accuracy: 0.4942\n",
            "Epoch 2/10\n",
            "96/96 [==============================] - 0s 5ms/step - loss: 1.4125 - accuracy: 0.5959 - val_loss: 1.2048 - val_accuracy: 0.6723\n",
            "Epoch 3/10\n",
            "96/96 [==============================] - 1s 9ms/step - loss: 1.0987 - accuracy: 0.6816 - val_loss: 0.9947 - val_accuracy: 0.7014\n",
            "Epoch 4/10\n",
            "96/96 [==============================] - 0s 5ms/step - loss: 0.9470 - accuracy: 0.7065 - val_loss: 0.8862 - val_accuracy: 0.7241\n",
            "Epoch 5/10\n",
            "96/96 [==============================] - 1s 10ms/step - loss: 0.8617 - accuracy: 0.7258 - val_loss: 0.8208 - val_accuracy: 0.7372\n",
            "Epoch 6/10\n",
            "96/96 [==============================] - 0s 4ms/step - loss: 0.8062 - accuracy: 0.7380 - val_loss: 0.7751 - val_accuracy: 0.7447\n",
            "Epoch 7/10\n",
            "96/96 [==============================] - 0s 4ms/step - loss: 0.7667 - accuracy: 0.7483 - val_loss: 0.7424 - val_accuracy: 0.7563\n",
            "Epoch 8/10\n",
            "96/96 [==============================] - 0s 4ms/step - loss: 0.7362 - accuracy: 0.7562 - val_loss: 0.7162 - val_accuracy: 0.7638\n",
            "Epoch 9/10\n",
            "96/96 [==============================] - 0s 5ms/step - loss: 0.7117 - accuracy: 0.7644 - val_loss: 0.6945 - val_accuracy: 0.7703\n",
            "Epoch 10/10\n",
            "96/96 [==============================] - 0s 4ms/step - loss: 0.6912 - accuracy: 0.7699 - val_loss: 0.6761 - val_accuracy: 0.7744\n",
            "Epoch 1/10\n",
            "96/96 [==============================] - 1s 6ms/step - loss: 1.8850 - accuracy: 0.4006 - val_loss: 1.5447 - val_accuracy: 0.5755\n",
            "Epoch 2/10\n",
            "96/96 [==============================] - 0s 4ms/step - loss: 1.3394 - accuracy: 0.6066 - val_loss: 1.1617 - val_accuracy: 0.6352\n",
            "Epoch 3/10\n",
            "96/96 [==============================] - 0s 4ms/step - loss: 1.0767 - accuracy: 0.6486 - val_loss: 0.9854 - val_accuracy: 0.6770\n",
            "Epoch 4/10\n",
            "96/96 [==============================] - 0s 4ms/step - loss: 0.9459 - accuracy: 0.6843 - val_loss: 0.8895 - val_accuracy: 0.7017\n",
            "Epoch 5/10\n",
            "96/96 [==============================] - 0s 4ms/step - loss: 0.8686 - accuracy: 0.7099 - val_loss: 0.8264 - val_accuracy: 0.7238\n",
            "Epoch 6/10\n",
            "96/96 [==============================] - 0s 4ms/step - loss: 0.8151 - accuracy: 0.7287 - val_loss: 0.7820 - val_accuracy: 0.7387\n",
            "Epoch 7/10\n",
            "96/96 [==============================] - 0s 4ms/step - loss: 0.7749 - accuracy: 0.7423 - val_loss: 0.7475 - val_accuracy: 0.7521\n",
            "Epoch 8/10\n",
            "96/96 [==============================] - 0s 4ms/step - loss: 0.7426 - accuracy: 0.7534 - val_loss: 0.7185 - val_accuracy: 0.7579\n",
            "Epoch 9/10\n",
            "96/96 [==============================] - 0s 4ms/step - loss: 0.7160 - accuracy: 0.7607 - val_loss: 0.6953 - val_accuracy: 0.7678\n",
            "Epoch 10/10\n",
            "96/96 [==============================] - 0s 4ms/step - loss: 0.6936 - accuracy: 0.7691 - val_loss: 0.6750 - val_accuracy: 0.7734\n",
            "Epoch 1/10\n",
            "96/96 [==============================] - 1s 6ms/step - loss: 1.8269 - accuracy: 0.3660 - val_loss: 1.4717 - val_accuracy: 0.5221\n",
            "Epoch 2/10\n",
            "96/96 [==============================] - 0s 4ms/step - loss: 1.2942 - accuracy: 0.5987 - val_loss: 1.1439 - val_accuracy: 0.6440\n",
            "Epoch 3/10\n",
            "96/96 [==============================] - 0s 4ms/step - loss: 1.0715 - accuracy: 0.6610 - val_loss: 0.9914 - val_accuracy: 0.6852\n",
            "Epoch 4/10\n",
            "96/96 [==============================] - 0s 4ms/step - loss: 0.9559 - accuracy: 0.6896 - val_loss: 0.9019 - val_accuracy: 0.7095\n",
            "Epoch 5/10\n",
            "96/96 [==============================] - 0s 4ms/step - loss: 0.8811 - accuracy: 0.7138 - val_loss: 0.8389 - val_accuracy: 0.7269\n",
            "Epoch 6/10\n",
            "96/96 [==============================] - 0s 5ms/step - loss: 0.8264 - accuracy: 0.7296 - val_loss: 0.7922 - val_accuracy: 0.7440\n",
            "Epoch 7/10\n",
            "96/96 [==============================] - 0s 4ms/step - loss: 0.7834 - accuracy: 0.7451 - val_loss: 0.7544 - val_accuracy: 0.7538\n",
            "Epoch 8/10\n",
            "96/96 [==============================] - 0s 5ms/step - loss: 0.7486 - accuracy: 0.7555 - val_loss: 0.7232 - val_accuracy: 0.7599\n",
            "Epoch 9/10\n",
            "96/96 [==============================] - 0s 5ms/step - loss: 0.7201 - accuracy: 0.7641 - val_loss: 0.6979 - val_accuracy: 0.7688\n",
            "Epoch 10/10\n",
            "96/96 [==============================] - 0s 4ms/step - loss: 0.6963 - accuracy: 0.7718 - val_loss: 0.6774 - val_accuracy: 0.7752\n",
            "Epoch 1/10\n",
            "96/96 [==============================] - 1s 6ms/step - loss: 1.9248 - accuracy: 0.3405 - val_loss: 1.6019 - val_accuracy: 0.5123\n",
            "Epoch 2/10\n",
            "96/96 [==============================] - 0s 5ms/step - loss: 1.4035 - accuracy: 0.5853 - val_loss: 1.2134 - val_accuracy: 0.6558\n",
            "Epoch 3/10\n",
            "96/96 [==============================] - 0s 5ms/step - loss: 1.1115 - accuracy: 0.6773 - val_loss: 1.0039 - val_accuracy: 0.7054\n",
            "Epoch 4/10\n",
            "96/96 [==============================] - 0s 5ms/step - loss: 0.9537 - accuracy: 0.7124 - val_loss: 0.8884 - val_accuracy: 0.7313\n",
            "Epoch 5/10\n",
            "96/96 [==============================] - 0s 5ms/step - loss: 0.8613 - accuracy: 0.7350 - val_loss: 0.8156 - val_accuracy: 0.7473\n",
            "Epoch 6/10\n",
            "96/96 [==============================] - 0s 5ms/step - loss: 0.8003 - accuracy: 0.7510 - val_loss: 0.7658 - val_accuracy: 0.7595\n",
            "Epoch 7/10\n",
            "96/96 [==============================] - 0s 4ms/step - loss: 0.7565 - accuracy: 0.7624 - val_loss: 0.7287 - val_accuracy: 0.7680\n",
            "Epoch 8/10\n",
            "96/96 [==============================] - 0s 5ms/step - loss: 0.7229 - accuracy: 0.7713 - val_loss: 0.6995 - val_accuracy: 0.7742\n",
            "Epoch 9/10\n",
            "96/96 [==============================] - 0s 4ms/step - loss: 0.6959 - accuracy: 0.7784 - val_loss: 0.6758 - val_accuracy: 0.7807\n",
            "Epoch 10/10\n",
            "96/96 [==============================] - 0s 4ms/step - loss: 0.6734 - accuracy: 0.7840 - val_loss: 0.6568 - val_accuracy: 0.7874\n"
          ]
        }
      ]
    },
    {
      "cell_type": "code",
      "source": [
        "res_train = [results[model]['accuracy'][9] for model in results]\n",
        "res_test = [results[model]['val_accuracy'][9] for model in results]\n",
        "\n",
        "plt.figure(figsize=(16, 8))\n",
        "plt.plot(n_neurons, res_train, label='train', c='#0CA4A5')\n",
        "plt.plot(n_neurons, res_test, label='test', c='#F46036')\n",
        "\n",
        "plt.title('Зависимость accurasy от числа нейронов в скрытом слое', size=20)\n",
        "plt.xlabel('n neurons')\n",
        "plt.ylabel('accuracy')\n",
        "plt.legend()\n",
        "plt.show()\n"
      ],
      "metadata": {
        "colab": {
          "base_uri": "https://localhost:8080/",
          "height": 518
        },
        "id": "pjD3B9pmHaF0",
        "outputId": "7322a307-3f88-4f6a-9ff4-c403899c7ce9"
      },
      "execution_count": 13,
      "outputs": [
        {
          "output_type": "display_data",
          "data": {
            "image/png": "[encoded data removed]",
            "text/plain": [
              "<Figure size 1152x576 with 1 Axes>"
            ]
          },
          "metadata": {
            "needs_background": "light"
          }
        }
      ]
    },
    {
      "cell_type": "markdown",
      "source": [
        "Водно, что с увеличением числа нейронов в скрытом слое двухслойной нейросети качество модели улучшается"
      ],
      "metadata": {
        "id": "Lckq-2On7o_b"
      }
    },
    {
      "cell_type": "code",
      "source": [
        "# (2, 3, 5, 10) - кол-во слоев\n",
        "results_2 = {}\n",
        "\n",
        "# двухслойная модель\n",
        "model_2 = Sequential([\n",
        "    Dense(20, input_shape=(28 * 28,), activation='relu'),\n",
        "    Dense(10, activation='sigmoid')\n",
        "])\n",
        "\n",
        "model_2.compile(loss='categorical_crossentropy', optimizer='SGD', metrics=['accuracy'])\n",
        "\n",
        "mod_2 = model_2.fit(X_train, y_train,\n",
        "                  epochs=10,\n",
        "                  batch_size=500, \n",
        "                  verbose=1,\n",
        "                  validation_split=0.2)\n",
        "\n",
        "results_2['model_2'] = mod_2.history\n",
        "\n",
        "# трехслойная модель\n",
        "model_3 = Sequential([\n",
        "    Dense(21, input_shape=(28 * 28,), activation='relu'),                  \n",
        "    Dense(20, activation='relu'),\n",
        "    Dense(10, activation='sigmoid')\n",
        "])\n",
        "\n",
        "model_3.compile(loss='categorical_crossentropy', optimizer='SGD', metrics=['accuracy'])\n",
        "\n",
        "mod_3 = model_3.fit(X_train, y_train,\n",
        "                  epochs=10,\n",
        "                  batch_size=500, \n",
        "                  verbose=1,\n",
        "                  validation_split=0.2)\n",
        "\n",
        "results_2['model_3'] = mod_3.history\n",
        "\n",
        "# пятислойная модель\n",
        "model_5 = Sequential([\n",
        "    Dense(23, input_shape=(28 * 28,), activation='relu'),                  \n",
        "    Dense(21, activation='relu'),\n",
        "    Dense(20, activation='relu'),\n",
        "    Dense(19, activation='relu'),\n",
        "    Dense(10, activation='sigmoid')\n",
        "])\n",
        "\n",
        "model_5.compile(loss='categorical_crossentropy', optimizer='SGD', metrics=['accuracy'])\n",
        "\n",
        "mod_5 = model_5.fit(X_train, y_train,\n",
        "                  epochs=10,\n",
        "                  batch_size=500, \n",
        "                  verbose=1,\n",
        "                  validation_split=0.2)\n",
        "\n",
        "results_2['model_5'] = mod_5.history\n",
        "\n",
        "# десятислойная модель\n",
        "model_10 = Sequential([\n",
        "    Dense(25, input_shape=(28 * 28,), activation='relu'),                  \n",
        "    Dense(24, activation='relu'),\n",
        "    Dense(23, activation='relu'),\n",
        "    Dense(22, activation='relu'),\n",
        "    Dense(21, activation='relu'),\n",
        "    Dense(20, activation='relu'),\n",
        "    Dense(19, activation='relu'),\n",
        "    Dense(20, activation='relu'),\n",
        "    Dense(20, activation='relu'),\n",
        "    Dense(10, activation='sigmoid')\n",
        "])\n",
        "\n",
        "model_10.compile(loss='categorical_crossentropy', optimizer='SGD', metrics=['accuracy'])\n",
        "\n",
        "mod_10 = model_10.fit(X_train, y_train,\n",
        "                  epochs=10,\n",
        "                  batch_size=500, \n",
        "                  verbose=1,\n",
        "                  validation_split=0.2)\n",
        "\n",
        "results_2['model_10'] = mod_10.history"
      ],
      "metadata": {
        "id": "8itaKzn8NTj6"
      },
      "execution_count": null,
      "outputs": []
    },
    {
      "cell_type": "code",
      "source": [
        "n_layers = [2, 3, 5, 10]\n",
        "res_train = [results_2[model]['accuracy'][9] for model in results_2]\n",
        "res_test = [results_2[model]['val_accuracy'][9] for model in results_2]\n",
        "\n",
        "plt.figure(figsize=(16, 8))\n",
        "plt.plot(n_layers, res_train, label='train', c='#0CA4A5')\n",
        "plt.plot(n_layers, res_test, label='test', c='#F46036')\n",
        "\n",
        "plt.title('Зависимость accurasy от числа слоев с близкими параметрами', size=20)\n",
        "plt.xlabel('n_layers')\n",
        "plt.ylabel('accuracy')\n",
        "plt.legend()\n",
        "plt.show()"
      ],
      "metadata": {
        "colab": {
          "base_uri": "https://localhost:8080/",
          "height": 519
        },
        "id": "bRjQ0UiURRPB",
        "outputId": "addd6e52-0111-4282-8038-e2198c52c211"
      },
      "execution_count": 15,
      "outputs": [
        {
          "output_type": "display_data",
          "data": {
            "image/png": "[encoded data removed]",
            "text/plain": [
              "<Figure size 1152x576 with 1 Axes>"
            ]
          },
          "metadata": {
            "needs_background": "light"
          }
        }
      ]
    },
    {
      "cell_type": "markdown",
      "source": [
        "А с увеличением числа скрытых слоев с похожими параметрами метрика сильно уменьшается"
      ],
      "metadata": {
        "id": "60sIp10P8HF3"
      }
    },
    {
      "cell_type": "markdown",
      "source": [
        "2.  Проверьте работу разных оптимизаторов (SGD, Adam, RMSProp) для одной из моделей п.1. Фиксируйте для тренировочного и тестового набора метрики accuracy.\n"
      ],
      "metadata": {
        "id": "uEkhxe1X1yPZ"
      }
    },
    {
      "cell_type": "code",
      "source": [
        "results_3 = {}\n",
        "\n",
        "for i, optimizer_ in enumerate([keras.optimizers.gradient_descent_v2.SGD(),\n",
        "                             keras.optimizers.adagrad_v2.Adagrad(),\n",
        "                             keras.optimizers.rmsprop_v2.RMSprop(),\n",
        "                             keras.optimizers.adam_v2.Adam()]):\n",
        "\n",
        "    model_2 = Sequential([\n",
        "        Dense(20, input_shape=(28 * 28,), activation='relu'),\n",
        "        Dense(10, activation='sigmoid')\n",
        "    ])\n",
        "    model_2.compile(loss='categorical_crossentropy', \n",
        "                    optimizer=optimizer_, \n",
        "                    metrics=['accuracy'])\n",
        "\n",
        "    mod_2 = model_2.fit(X_train, y_train,\n",
        "                      epochs=10,\n",
        "                      batch_size=500, \n",
        "                      verbose=1,\n",
        "                      validation_split=0.2)\n",
        "\n",
        "    results_3[f'model_{i}'] = mod_2.history"
      ],
      "metadata": {
        "id": "jQUkuUulUhox"
      },
      "execution_count": null,
      "outputs": []
    },
    {
      "cell_type": "code",
      "source": [
        "optimizers = ['SGD', 'Adagrad', 'RMSprop', 'Adam']\n",
        "res_train = [results_3[model]['accuracy'][9] for model in results_3]\n",
        "res_test = [results_3[model]['val_accuracy'][9] for model in results_3]\n",
        "\n",
        "plt.figure(figsize=(16, 8))\n",
        "\n",
        "plt.barh(optimizers, res_test, label='test', color='#F46036', height=0.4)\n",
        "plt.barh(optimizers, res_train, label='train', color='#0CA4A5', height=0.4, align='edge')\n",
        "\n",
        "plt.title('Зависимость accurasy от числа слоев с близкими параметрами', size=20)\n",
        "plt.xlabel('optimizer')\n",
        "plt.ylabel('accuracy')\n",
        "plt.legend()\n",
        "plt.show()"
      ],
      "metadata": {
        "colab": {
          "base_uri": "https://localhost:8080/",
          "height": 518
        },
        "id": "-JzJUjWQJZBb",
        "outputId": "c2b85709-e1f8-47de-ecfa-c0377bf937f5"
      },
      "execution_count": 17,
      "outputs": [
        {
          "output_type": "display_data",
          "data": {
            "image/png": "[encoded data removed]",
            "text/plain": [
              "<Figure size 1152x576 with 1 Axes>"
            ]
          },
          "metadata": {
            "needs_background": "light"
          }
        }
      ]
    },
    {
      "cell_type": "markdown",
      "source": [
        "Самый лучший результат при одинаковых параметрах модели показывает Adam оптимизатор, очень близкое к нему качество показывает RMSprop"
      ],
      "metadata": {
        "id": "LJEZTl0h8Lfn"
      }
    },
    {
      "cell_type": "markdown",
      "source": [
        "3. Сделайте вывод - что помогло вам улучшить качество классификации в нейросети на тестовом наборе? \n",
        "\n",
        "  - Для того, чтобы улучшить модель, я увеличила число нейронов, увеличила число эпох и уменьшила размер батчей. Лучшая модель будет использована для предсказания ниже.\n",
        "\n",
        "4. Для одного варианта сети сформируйте матрицу ошибок по классам. Оцените качество модели по каждому классу отдельно (полнота, точность)."
      ],
      "metadata": {
        "id": "pXbDvXr18gYu"
      }
    },
    {
      "cell_type": "code",
      "source": [
        "model_fin = Sequential([\n",
        "    Dense(30, input_shape=(28 * 28,), activation='tanh'),\n",
        "    Dense(10, activation='sigmoid')\n",
        "])\n",
        "model_fin.compile(loss='categorical_crossentropy', \n",
        "                optimizer='Adam', \n",
        "                metrics=['accuracy'])\n",
        "\n",
        "mod = model_fin.fit(X_train, y_train,\n",
        "                  epochs=40,\n",
        "                  batch_size=100, \n",
        "                  verbose=1,\n",
        "                  validation_split=0.2)\n",
        "\n",
        "mod.history"
      ],
      "metadata": {
        "id": "bjzfunjRKkwz"
      },
      "execution_count": null,
      "outputs": []
    },
    {
      "cell_type": "code",
      "source": [
        "print(f\"Метрика на train: {max(mod.history['accuracy'])}\", \n",
        "      f\"Метрика на test: {max(mod.history['val_accuracy'])}\", sep=\"\\n\")"
      ],
      "metadata": {
        "colab": {
          "base_uri": "https://localhost:8080/"
        },
        "id": "99fY7Bljk1-N",
        "outputId": "8b1421ca-4db8-4340-896a-90e62f5c713e"
      },
      "execution_count": 36,
      "outputs": [
        {
          "output_type": "stream",
          "name": "stdout",
          "text": [
            "Метрика на train: 0.9248958230018616\n",
            "Метрика на test: 0.8840000033378601\n"
          ]
        }
      ]
    },
    {
      "cell_type": "code",
      "source": [
        "N = 5\n",
        "y_pred = model_fin.predict(X_test)\n",
        "y_pred_class = np.argmax(y_pred, axis=1)\n",
        "plt.figure(figsize=(3 * 5, 5))\n",
        "\n",
        "for i in range(N):\n",
        "  plt.subplot(1, N, i+1)\n",
        "  plt.imshow(X_test[i,:].reshape(28, 28))\n",
        "  plt.xlabel(classes[str(y_pred_class[i])])\n",
        "plt.show()  "
      ],
      "metadata": {
        "colab": {
          "base_uri": "https://localhost:8080/",
          "height": 208
        },
        "id": "HydyETSxrt-6",
        "outputId": "bf66c12d-5597-4a03-fea3-3e6742577ffc"
      },
      "execution_count": 39,
      "outputs": [
        {
          "output_type": "display_data",
          "data": {
            "image/png": "[encoded data removed]",
            "text/plain": [
              "<Figure size 1080x360 with 5 Axes>"
            ]
          },
          "metadata": {
            "needs_background": "light"
          }
        }
      ]
    },
    {
      "cell_type": "code",
      "source": [
        "y_pred_class[:5], y_test_labels[:5] "
      ],
      "metadata": {
        "colab": {
          "base_uri": "https://localhost:8080/"
        },
        "id": "nmim4v09tFF9",
        "outputId": "739752d9-d761-44bb-f458-3ab78df83b68"
      },
      "execution_count": 43,
      "outputs": [
        {
          "output_type": "execute_result",
          "data": {
            "text/plain": [
              "(array([9, 2, 1, 1, 6]), array([9, 2, 1, 1, 6], dtype=uint8))"
            ]
          },
          "metadata": {},
          "execution_count": 43
        }
      ]
    },
    {
      "cell_type": "code",
      "source": [
        "confusion_matrix(y_test_labels, y_pred_class)\n"
      ],
      "metadata": {
        "colab": {
          "base_uri": "https://localhost:8080/"
        },
        "id": "VzINN7kJu_KE",
        "outputId": "9b332e03-679e-40cd-aa3a-671024b5cfd4"
      },
      "execution_count": 45,
      "outputs": [
        {
          "output_type": "execute_result",
          "data": {
            "text/plain": [
              "array([[840,   1,  16,  28,   4,   1, 104,   0,   6,   0],\n",
              "       [  8, 965,   6,  16,   3,   0,   2,   0,   0,   0],\n",
              "       [ 16,   1, 826,  12,  77,   0,  68,   0,   0,   0],\n",
              "       [ 35,  13,  17, 872,  25,   1,  33,   0,   4,   0],\n",
              "       [  1,   1, 135,  37, 754,   0,  65,   1,   6,   0],\n",
              "       [  1,   0,   0,   1,   0, 946,   0,  26,   3,  23],\n",
              "       [160,   1, 107,  19,  55,   1, 648,   0,   9,   0],\n",
              "       [  0,   0,   0,   0,   0,  29,   0, 942,   1,  28],\n",
              "       [ 10,   0,  10,   4,   7,   6,   8,   6, 949,   0],\n",
              "       [  0,   0,   0,   0,   0,  15,   0,  32,   1, 952]])"
            ]
          },
          "metadata": {},
          "execution_count": 45
        }
      ]
    },
    {
      "cell_type": "code",
      "source": [
        "classification_report(y_test_labels, y_pred_class, \n",
        "                      output_dict=True, \n",
        "                      target_names=classes.values())"
      ],
      "metadata": {
        "colab": {
          "base_uri": "https://localhost:8080/"
        },
        "id": "RPJi8Yc4wYX_",
        "outputId": "24018651-273e-49b7-eab3-f51c54d95c52"
      },
      "execution_count": 52,
      "outputs": [
        {
          "output_type": "execute_result",
          "data": {
            "text/plain": [
              "{'Ankle boot': {'f1-score': 0.9505741387918122,\n",
              "  'precision': 0.9491525423728814,\n",
              "  'recall': 0.952,\n",
              "  'support': 1000},\n",
              " 'Bag': {'f1-score': 0.9590702374936836,\n",
              "  'precision': 0.9693564862104188,\n",
              "  'recall': 0.949,\n",
              "  'support': 1000},\n",
              " 'Coat': {'f1-score': 0.7833766233766234,\n",
              "  'precision': 0.8151351351351351,\n",
              "  'recall': 0.754,\n",
              "  'support': 1000},\n",
              " 'Dress': {'f1-score': 0.8768225238813474,\n",
              "  'precision': 0.8816986855409504,\n",
              "  'recall': 0.872,\n",
              "  'support': 1000},\n",
              " 'Pullover': {'f1-score': 0.7803495512517713,\n",
              "  'precision': 0.7394807520143241,\n",
              "  'recall': 0.826,\n",
              "  'support': 1000},\n",
              " 'Sandal': {'f1-score': 0.9464732366183091,\n",
              "  'precision': 0.9469469469469469,\n",
              "  'recall': 0.946,\n",
              "  'support': 1000},\n",
              " 'Shirt': {'f1-score': 0.6721991701244814,\n",
              "  'precision': 0.6982758620689655,\n",
              "  'recall': 0.648,\n",
              "  'support': 1000},\n",
              " 'Sneaker': {'f1-score': 0.9387144992526159,\n",
              "  'precision': 0.9354518371400199,\n",
              "  'recall': 0.942,\n",
              "  'support': 1000},\n",
              " 'T-shirt/top': {'f1-score': 0.8112023177209078,\n",
              "  'precision': 0.7843137254901961,\n",
              "  'recall': 0.84,\n",
              "  'support': 1000},\n",
              " 'Trouser': {'f1-score': 0.9737638748738648,\n",
              "  'precision': 0.9826883910386965,\n",
              "  'recall': 0.965,\n",
              "  'support': 1000},\n",
              " 'accuracy': 0.8694,\n",
              " 'macro avg': {'f1-score': 0.8692546173385416,\n",
              "  'precision': 0.8702500363958533,\n",
              "  'recall': 0.8694,\n",
              "  'support': 10000},\n",
              " 'weighted avg': {'f1-score': 0.8692546173385417,\n",
              "  'precision': 0.8702500363958534,\n",
              "  'recall': 0.8694,\n",
              "  'support': 10000}}"
            ]
          },
          "metadata": {},
          "execution_count": 52
        }
      ]
    },
    {
      "cell_type": "markdown",
      "source": [
        "Видно, что модель дает неплохой результат на большинстве классов. Немного хуже модель определяет шорты, футболки, пулловеры и плащи"
      ],
      "metadata": {
        "id": "Xd0yO-e4980T"
      }
    },
    {
      "cell_type": "code",
      "source": [
        ""
      ],
      "metadata": {
        "id": "MC0FdCiTwyoF"
      },
      "execution_count": null,
      "outputs": []
    }
  ]
}