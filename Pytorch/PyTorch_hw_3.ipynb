{
  "nbformat": 4,
  "nbformat_minor": 0,
  "metadata": {
    "colab": {
      "name": "PyTorch_hw-3.ipynb",
      "provenance": []
    },
    "kernelspec": {
      "name": "python3",
      "display_name": "Python 3"
    },
    "language_info": {
      "name": "python"
    }
  },
  "cells": [
    {
      "cell_type": "markdown",
      "source": [
        "# Домашнее задание\n",
        "\n",
        "Будем практиковаться на датасете недвижимости (sklearn.datasets.fetch_california_housing)\n",
        "\n",
        "Ваша задача:\n",
        "1. Создать Dataset для загрузки данных\n",
        "2. Обернуть его в Dataloader\n",
        "3. Написать архитектуру сети, которая предсказывает стоимость недвижимости. Сеть должна включать BatchNorm слои и Dropout (или НЕ включать, но нужно обосновать)\n",
        "4. Сравните сходимость Adam, RMSProp и SGD, сделайте вывод по качеству работы модели\n",
        "\n",
        "train-test разделение нужно сделать с помощью sklearn random_state=13, test_size = 0.25"
      ],
      "metadata": {
        "id": "LWyw-83FPBRv"
      }
    },
    {
      "cell_type": "code",
      "source": [
        "import pandas as pd\n",
        "import numpy as np\n",
        "import torch\n",
        "import torch.nn.functional as F\n",
        "import torch.nn as nn\n",
        "import matplotlib.pyplot as plt\n",
        "\n",
        "from sklearn.datasets import fetch_california_housing\n",
        "from sklearn.preprocessing import MinMaxScaler\n",
        "from sklearn.model_selection import train_test_split"
      ],
      "metadata": {
        "id": "KFe3uB0iQZGU"
      },
      "execution_count": 1,
      "outputs": []
    },
    {
      "cell_type": "code",
      "source": [
        "houses = fetch_california_housing()\n",
        "\n",
        "X = houses.data\n",
        "y = houses.target\n",
        "\n",
        "X_train, X_test, y_train, y_test = train_test_split(X, y, random_state=13, test_size = 0.25)\n",
        "X_train.shape, y_train.shape, X_test.shape, y_test.shape"
      ],
      "metadata": {
        "colab": {
          "base_uri": "https://localhost:8080/"
        },
        "id": "N_758HwBWvs0",
        "outputId": "d5a26918-030b-4a17-c926-93ce21f06be1"
      },
      "execution_count": 17,
      "outputs": [
        {
          "output_type": "execute_result",
          "data": {
            "text/plain": [
              "((15480, 8), (15480,), (5160, 8), (5160,))"
            ]
          },
          "metadata": {},
          "execution_count": 17
        }
      ]
    },
    {
      "cell_type": "code",
      "source": [
        "scaler = MinMaxScaler()\n",
        "scaler.fit(X_train)\n",
        "X_train = scaler.transform(X_train)\n",
        "X_test = scaler.transform(X_test)"
      ],
      "metadata": {
        "id": "4KKPxEnUu3Ov"
      },
      "execution_count": 18,
      "outputs": []
    },
    {
      "cell_type": "code",
      "execution_count": 19,
      "metadata": {
        "id": "xH2jEjxCO_vM"
      },
      "outputs": [],
      "source": [
        "class MyHousing(torch.utils.data.Dataset):\n",
        "   \n",
        "    def __init__(self, data, answers):\n",
        "        self.data = torch.FloatTensor(data)\n",
        "        self.answers = torch.FloatTensor(answers)\n",
        "\n",
        "    def __len__(self):\n",
        "        return len(self.data)\n",
        "\n",
        "    def __getitem__(self, idx):\n",
        "        data, lbl = self.data[idx], self.answers[idx]\n",
        "\n",
        "        return data, lbl"
      ]
    },
    {
      "cell_type": "code",
      "source": [
        "train_dataset = MyHousing(X_train, y_train)\n",
        "test_dataset = MyHousing(X_test, y_test)\n",
        "print(f\"Train: {len(train_dataset)}, test: {len(test_dataset)}\")"
      ],
      "metadata": {
        "colab": {
          "base_uri": "https://localhost:8080/"
        },
        "id": "HD4ABx6Yfuz1",
        "outputId": "45b0d3df-9a73-4737-a6d6-fc78fc389da0"
      },
      "execution_count": 20,
      "outputs": [
        {
          "output_type": "stream",
          "name": "stdout",
          "text": [
            "Train: 15480, test: 5160\n"
          ]
        }
      ]
    },
    {
      "cell_type": "code",
      "source": [
        "test_dataset[5]"
      ],
      "metadata": {
        "colab": {
          "base_uri": "https://localhost:8080/"
        },
        "id": "SLO72bMGhCzq",
        "outputId": "edd8c827-79c1-4078-da4b-32d000dd1aff"
      },
      "execution_count": 6,
      "outputs": [
        {
          "output_type": "execute_result",
          "data": {
            "text/plain": [
              "(tensor([0.3461, 0.4706, 0.0348, 0.0203, 0.0466, 0.0024, 0.2019, 0.4442]),\n",
              " tensor(2.6830))"
            ]
          },
          "metadata": {},
          "execution_count": 6
        }
      ]
    },
    {
      "cell_type": "code",
      "source": [
        "train_loader = torch.utils.data.DataLoader(train_dataset, batch_size=40, shuffle=True,\n",
        "                                          num_workers=2, drop_last=True)\n",
        "test_loader = torch.utils.data.DataLoader(test_dataset, batch_size=40,\n",
        "                                          shuffle=False)\n",
        "print(f\"Train: {len(train_loader)}, test: {len(test_loader)}\")"
      ],
      "metadata": {
        "colab": {
          "base_uri": "https://localhost:8080/"
        },
        "id": "ptAyo3xxgSsy",
        "outputId": "50542227-3296-4451-d534-ae451d92ef7e"
      },
      "execution_count": 21,
      "outputs": [
        {
          "output_type": "stream",
          "name": "stdout",
          "text": [
            "Train: 387, test: 129\n"
          ]
        }
      ]
    },
    {
      "cell_type": "code",
      "source": [
        "class Perceptron(nn.Module):\n",
        "    def __init__(self, input_dim, output_dim, activation=\"relu\"):\n",
        "        super().__init__()\n",
        "        self.fc = nn.Linear(input_dim, output_dim)\n",
        "        self.activation = activation\n",
        "        \n",
        "    def forward(self, x):\n",
        "        x = self.fc(x)\n",
        "        if self.activation == \"relu\":\n",
        "            return F.relu(x)\n",
        "        if self.activation == \"leaky_relu\":\n",
        "            return F.leaky_relu(x)\n",
        "        raise RuntimeError\n",
        "        \n",
        "\n",
        "class FeedForward(nn.Module):\n",
        "    def __init__(self, input_dim, hidden_dim):\n",
        "        super().__init__()\n",
        "        self.fc1 = Perceptron(input_dim, 2*hidden_dim)\n",
        "        self.bn1 = nn.BatchNorm1d(2*hidden_dim)\n",
        "        self.dp1 = nn.Dropout(0.25)\n",
        "\n",
        "        self.fc2 = Perceptron(2*hidden_dim, hidden_dim, \"relu\")\n",
        "        self.bn2 = nn.BatchNorm1d(hidden_dim)\n",
        "        self.dp2 = nn.Dropout(0.5)\n",
        "\n",
        "        self.fc3 = Perceptron(hidden_dim, 1, \"relu\")\n",
        "        \n",
        "    def forward(self, x):\n",
        "        x = self.fc1(x)\n",
        "        x = self.dp1(x)\n",
        "        x = self.bn1(x)\n",
        "\n",
        "        x = self.fc2(x)\n",
        "        x = self.dp2(x)\n",
        "        x = self.bn2(x)\n",
        "\n",
        "        x = self.fc3(x)\n",
        "\n",
        "        return x"
      ],
      "metadata": {
        "id": "i1VqijhQh85e"
      },
      "execution_count": 22,
      "outputs": []
    },
    {
      "cell_type": "markdown",
      "source": [
        "### Adam"
      ],
      "metadata": {
        "id": "jtj5fahWav6N"
      }
    },
    {
      "cell_type": "code",
      "source": [
        "model_1 = FeedForward(8, 387)\n",
        "\n",
        "name = 'Adam'\n",
        "optimizer = torch.optim.Adam(model_1.parameters(), lr=0.01)\n",
        "criterion = nn.MSELoss()"
      ],
      "metadata": {
        "id": "WMa9s7ZIj1vX"
      },
      "execution_count": 13,
      "outputs": []
    },
    {
      "cell_type": "code",
      "source": [
        "?torch.optim.Adam"
      ],
      "metadata": {
        "id": "z2in8odToHuz"
      },
      "execution_count": 25,
      "outputs": []
    },
    {
      "cell_type": "code",
      "source": [
        "# сохраняем метрику трейна и теста для каждого оптимизатора\n",
        "adam_train = []\n",
        "adam_test = []\n",
        "\n",
        "print(f\"{20*'*'} Optimizer {name} {20*'*'}\")\n",
        "\n",
        "num_epochs = 10\n",
        "\n",
        "for epoch in range(num_epochs):  \n",
        "    running_loss, running_items, running_right = 0.0, 0.0, 0.0\n",
        "    for i, data in enumerate(train_loader):\n",
        "        inputs, answers = data[0], data[1]\n",
        "\n",
        "        # обнуляем градиент\n",
        "        optimizer.zero_grad()\n",
        "\n",
        "        outputs = model_1(inputs)\n",
        "        loss = criterion(outputs, answers)\n",
        "        # loss = loss.float()\n",
        "        loss.backward()\n",
        "        optimizer.step()\n",
        "\n",
        "        # выводим статистику о процессе обучения\n",
        "        true_variance = torch.var(answers)\n",
        "        running_loss += loss.item()\n",
        "        running_items += len(answers)\n",
        "        # running_right += (answers == torch.max(outputs, 1)[1]).sum()\n",
        "        \n",
        "        # выводим статистику о процессе обучения\n",
        "        if i % 150 == 0:    # печатаем каждые 300 mini-batches\n",
        "            model_1.eval()\n",
        "            MSE = running_loss / running_items\n",
        "            R2 = 1 - MSE/true_variance\n",
        "            adam_train.append(MSE)\n",
        "            \n",
        "            print(f'Epoch [{epoch + 1}/{num_epochs}]. ' \\\n",
        "                  f'Step [{i + 1}/{len(train_loader)}]. ' \\\n",
        "                  f'MSE: {MSE:.3f}. ' \\\n",
        "                  f'R2: {R2:.3f}', end='. ')\n",
        "\n",
        "            running_loss, running_items, running_right = 0.0, 0.0, 0.0\n",
        "            test_running_right, test_running_total, loss_test = 0.0, 0.0, 0.0\n",
        "\n",
        "            for i, data in enumerate(test_loader):\n",
        "\n",
        "                inputs_test, answers_test = data[0], data[1]\n",
        "\n",
        "                test_outputs = model_1(inputs_test)\n",
        "                loss_test += criterion(test_outputs.squeeze(), answers_test).item()\n",
        "                test_running_total += len(answers_test)\n",
        "\n",
        "                MSE_test = loss_test / test_running_total\n",
        "                true_variance_test = torch.var(answers_test)\n",
        "\n",
        "                R2_test = 1 - MSE_test/true_variance_test\n",
        "\n",
        "            print(f'Test MSE: {MSE_test:.3f} Test R2: {R2_test:.3f}')\n",
        "            # print(f'')\n",
        "            adam_test.append(MSE_test)\n",
        "            model_1.train()\n",
        "    \n",
        "print('Training is finished!')"
      ],
      "metadata": {
        "id": "pgMcL1-Uj2Y6",
        "colab": {
          "base_uri": "https://localhost:8080/"
        },
        "outputId": "fc2c6a81-2ce2-47c4-b0e3-2152b143558c"
      },
      "execution_count": 14,
      "outputs": [
        {
          "output_type": "stream",
          "name": "stdout",
          "text": [
            "******************** Optimizer Adam ********************\n",
            "Epoch [1/10]. Step [1/387]. MSE: 0.138. R2: 0.917. "
          ]
        },
        {
          "output_type": "stream",
          "name": "stderr",
          "text": [
            "/usr/local/lib/python3.7/dist-packages/torch/nn/modules/loss.py:520: UserWarning: Using a target size (torch.Size([40])) that is different to the input size (torch.Size([40, 1])). This will likely lead to incorrect results due to broadcasting. Please ensure they have the same size.\n",
            "  return F.mse_loss(input, target, reduction=self.reduction)\n"
          ]
        },
        {
          "output_type": "stream",
          "name": "stdout",
          "text": [
            "Test MSE: 0.141 Test R2: 0.900\n",
            "Epoch [1/10]. Step [151/387]. MSE: 0.043. R2: 0.973. Test MSE: 0.053 Test R2: 0.963\n",
            "Epoch [1/10]. Step [301/387]. MSE: 0.034. R2: 0.978. Test MSE: 0.518 Test R2: 0.634\n",
            "Epoch [2/10]. Step [1/387]. MSE: 0.029. R2: 0.970. Test MSE: 0.303 Test R2: 0.786\n",
            "Epoch [2/10]. Step [151/387]. MSE: 0.034. R2: 0.979. Test MSE: 0.260 Test R2: 0.816\n",
            "Epoch [2/10]. Step [301/387]. MSE: 0.033. R2: 0.976. Test MSE: 0.074 Test R2: 0.947\n",
            "Epoch [3/10]. Step [1/387]. MSE: 0.025. R2: 0.975. Test MSE: 0.109 Test R2: 0.923\n",
            "Epoch [3/10]. Step [151/387]. MSE: 0.034. R2: 0.977. Test MSE: 0.040 Test R2: 0.971\n",
            "Epoch [3/10]. Step [301/387]. MSE: 0.033. R2: 0.978. Test MSE: 0.034 Test R2: 0.976\n",
            "Epoch [4/10]. Step [1/387]. MSE: 0.029. R2: 0.976. Test MSE: 0.035 Test R2: 0.975\n",
            "Epoch [4/10]. Step [151/387]. MSE: 0.033. R2: 0.961. Test MSE: 0.034 Test R2: 0.976\n",
            "Epoch [4/10]. Step [301/387]. MSE: 0.033. R2: 0.982. Test MSE: 0.034 Test R2: 0.976\n",
            "Epoch [5/10]. Step [1/387]. MSE: 0.028. R2: 0.976. Test MSE: 0.033 Test R2: 0.976\n",
            "Epoch [5/10]. Step [151/387]. MSE: 0.032. R2: 0.971. Test MSE: 0.034 Test R2: 0.976\n",
            "Epoch [5/10]. Step [301/387]. MSE: 0.034. R2: 0.971. Test MSE: 0.034 Test R2: 0.976\n",
            "Epoch [6/10]. Step [1/387]. MSE: 0.027. R2: 0.973. Test MSE: 0.035 Test R2: 0.976\n",
            "Epoch [6/10]. Step [151/387]. MSE: 0.033. R2: 0.977. Test MSE: 0.034 Test R2: 0.976\n",
            "Epoch [6/10]. Step [301/387]. MSE: 0.034. R2: 0.968. Test MSE: 0.034 Test R2: 0.976\n",
            "Epoch [7/10]. Step [1/387]. MSE: 0.031. R2: 0.976. Test MSE: 0.035 Test R2: 0.976\n",
            "Epoch [7/10]. Step [151/387]. MSE: 0.034. R2: 0.972. Test MSE: 0.034 Test R2: 0.976\n",
            "Epoch [7/10]. Step [301/387]. MSE: 0.033. R2: 0.967. Test MSE: 0.034 Test R2: 0.976\n",
            "Epoch [8/10]. Step [1/387]. MSE: 0.038. R2: 0.976. Test MSE: 0.035 Test R2: 0.975\n",
            "Epoch [8/10]. Step [151/387]. MSE: 0.033. R2: 0.969. Test MSE: 0.034 Test R2: 0.976\n",
            "Epoch [8/10]. Step [301/387]. MSE: 0.033. R2: 0.979. Test MSE: 0.034 Test R2: 0.976\n",
            "Epoch [9/10]. Step [1/387]. MSE: 0.035. R2: 0.974. Test MSE: 0.034 Test R2: 0.976\n",
            "Epoch [9/10]. Step [151/387]. MSE: 0.033. R2: 0.976. Test MSE: 0.034 Test R2: 0.976\n",
            "Epoch [9/10]. Step [301/387]. MSE: 0.033. R2: 0.959. Test MSE: 0.034 Test R2: 0.976\n",
            "Epoch [10/10]. Step [1/387]. MSE: 0.037. R2: 0.975. Test MSE: 0.034 Test R2: 0.976\n",
            "Epoch [10/10]. Step [151/387]. MSE: 0.034. R2: 0.961. Test MSE: 0.036 Test R2: 0.975\n",
            "Epoch [10/10]. Step [301/387]. MSE: 0.033. R2: 0.980. Test MSE: 0.050 Test R2: 0.965\n",
            "Training is finished!\n"
          ]
        }
      ]
    },
    {
      "cell_type": "markdown",
      "source": [
        "### RMSProp"
      ],
      "metadata": {
        "id": "OlwVWr5Mku_f"
      }
    },
    {
      "cell_type": "code",
      "source": [
        "model_2 = FeedForward(8, 387)\n",
        "\n",
        "name = 'RMSProp'\n",
        "optimizer = torch.optim.RMSprop(model_2.parameters(), lr=0.009, alpha=0.99)\n",
        "criterion = nn.MSELoss()"
      ],
      "metadata": {
        "id": "wWMC4JprcT5Y"
      },
      "execution_count": 31,
      "outputs": []
    },
    {
      "cell_type": "code",
      "source": [
        "# сохраняем метрику трейна и теста для каждого оптимизатора\n",
        "RMSProp_train = []\n",
        "RMSProp_test = []\n",
        "\n",
        "print(f\"{20*'*'} Optimizer {name} {20*'*'}\")\n",
        "\n",
        "num_epochs = 10\n",
        "\n",
        "for epoch in range(num_epochs):  \n",
        "    running_loss, running_items, running_right = 0.0, 0.0, 0.0\n",
        "    for i, data in enumerate(train_loader):\n",
        "        inputs, answers = data[0], data[1]\n",
        "\n",
        "        # обнуляем градиент\n",
        "        optimizer.zero_grad()\n",
        "\n",
        "        outputs = model_2(inputs)\n",
        "        loss = criterion(outputs, answers)\n",
        "        # loss = loss.float()\n",
        "        loss.backward()\n",
        "        optimizer.step()\n",
        "\n",
        "        # выводим статистику о процессе обучения\n",
        "        true_variance = torch.var(answers)\n",
        "        running_loss += loss.item()\n",
        "        running_items += len(answers)\n",
        "        # running_right += (answers == torch.max(outputs, 1)[1]).sum()\n",
        "        \n",
        "        # выводим статистику о процессе обучения\n",
        "        if i % 150 == 0:    # печатаем каждые 300 mini-batches\n",
        "            model_2.eval()\n",
        "            MSE = running_loss / running_items\n",
        "            R2 = 1 - MSE/true_variance\n",
        "            RMSProp_train.append(MSE)\n",
        "            \n",
        "            print(f'Epoch [{epoch + 1}/{num_epochs}]. ' \\\n",
        "                  f'Step [{i + 1}/{len(train_loader)}]. ' \\\n",
        "                  f'MSE: {MSE:.3f}. ' \\\n",
        "                  f'R2: {R2:.3f}', end='. ')\n",
        "\n",
        "            running_loss, running_items, running_right = 0.0, 0.0, 0.0\n",
        "            test_running_right, test_running_total, loss_test = 0.0, 0.0, 0.0\n",
        "\n",
        "            for i, data in enumerate(test_loader):\n",
        "\n",
        "                inputs_test, answers_test = data[0], data[1]\n",
        "\n",
        "                test_outputs = model_2(inputs_test)\n",
        "                loss_test += criterion(test_outputs.squeeze(), answers_test).item()\n",
        "                test_running_total += len(answers_test)\n",
        "\n",
        "                MSE_test = loss_test / test_running_total\n",
        "                true_variance_test = torch.var(answers_test)\n",
        "\n",
        "                R2_test = 1 - MSE_test/true_variance_test\n",
        "\n",
        "            print(f'Test MSE: {MSE_test:.3f} Test R2: {R2_test:.3f}')\n",
        "            # print(f'')\n",
        "            RMSProp_test.append(MSE_test)\n",
        "            model_2.train()\n",
        "    \n",
        "print('Training is finished!')"
      ],
      "metadata": {
        "colab": {
          "base_uri": "https://localhost:8080/"
        },
        "id": "rKo__ZfZKvr7",
        "outputId": "b4246a9f-c547-4c01-b8c1-b22049dbb555"
      },
      "execution_count": 27,
      "outputs": [
        {
          "output_type": "stream",
          "name": "stdout",
          "text": [
            "******************** Optimizer RMSProp ********************\n",
            "Epoch [1/10]. Step [1/387]. MSE: 0.108. R2: 0.904. "
          ]
        },
        {
          "output_type": "stream",
          "name": "stderr",
          "text": [
            "/usr/local/lib/python3.7/dist-packages/torch/nn/modules/loss.py:520: UserWarning: Using a target size (torch.Size([40])) that is different to the input size (torch.Size([40, 1])). This will likely lead to incorrect results due to broadcasting. Please ensure they have the same size.\n",
            "  return F.mse_loss(input, target, reduction=self.reduction)\n"
          ]
        },
        {
          "output_type": "stream",
          "name": "stdout",
          "text": [
            "Test MSE: 0.195 Test R2: 0.862\n",
            "Epoch [1/10]. Step [151/387]. MSE: 0.142. R2: 0.903. Test MSE: 0.133 Test R2: 0.906\n",
            "Epoch [1/10]. Step [301/387]. MSE: 0.052. R2: 0.917. Test MSE: 0.203 Test R2: 0.857\n",
            "Epoch [2/10]. Step [1/387]. MSE: 0.050. R2: 0.969. Test MSE: 0.822 Test R2: 0.419\n",
            "Epoch [2/10]. Step [151/387]. MSE: 0.034. R2: 0.960. Test MSE: 0.247 Test R2: 0.825\n",
            "Epoch [2/10]. Step [301/387]. MSE: 0.034. R2: 0.963. Test MSE: 0.156 Test R2: 0.890\n",
            "Epoch [3/10]. Step [1/387]. MSE: 0.042. R2: 0.970. Test MSE: 10.161 Test R2: -6.186\n",
            "Epoch [3/10]. Step [151/387]. MSE: 0.034. R2: 0.964. Test MSE: 0.037 Test R2: 0.974\n",
            "Epoch [3/10]. Step [301/387]. MSE: 0.034. R2: 0.976. Test MSE: 0.048 Test R2: 0.966\n",
            "Epoch [4/10]. Step [1/387]. MSE: 0.036. R2: 0.976. Test MSE: 0.346 Test R2: 0.756\n",
            "Epoch [4/10]. Step [151/387]. MSE: 0.034. R2: 0.977. Test MSE: 0.034 Test R2: 0.976\n",
            "Epoch [4/10]. Step [301/387]. MSE: 0.033. R2: 0.980. Test MSE: 0.556 Test R2: 0.606\n",
            "Epoch [5/10]. Step [1/387]. MSE: 0.038. R2: 0.976. Test MSE: 0.257 Test R2: 0.818\n",
            "Epoch [5/10]. Step [151/387]. MSE: 0.034. R2: 0.983. Test MSE: 0.035 Test R2: 0.975\n",
            "Epoch [5/10]. Step [301/387]. MSE: 0.034. R2: 0.976. Test MSE: 0.048 Test R2: 0.966\n",
            "Epoch [6/10]. Step [1/387]. MSE: 0.031. R2: 0.974. Test MSE: 0.034 Test R2: 0.976\n",
            "Epoch [6/10]. Step [151/387]. MSE: 0.034. R2: 0.982. Test MSE: 0.034 Test R2: 0.976\n",
            "Epoch [6/10]. Step [301/387]. MSE: 0.033. R2: 0.974. Test MSE: 0.040 Test R2: 0.972\n",
            "Epoch [7/10]. Step [1/387]. MSE: 0.041. R2: 0.975. Test MSE: 0.034 Test R2: 0.976\n",
            "Epoch [7/10]. Step [151/387]. MSE: 0.033. R2: 0.971. Test MSE: 0.036 Test R2: 0.975\n",
            "Epoch [7/10]. Step [301/387]. MSE: 0.033. R2: 0.977. Test MSE: 0.034 Test R2: 0.976\n",
            "Epoch [8/10]. Step [1/387]. MSE: 0.047. R2: 0.972. Test MSE: 0.034 Test R2: 0.976\n",
            "Epoch [8/10]. Step [151/387]. MSE: 0.033. R2: 0.977. Test MSE: 0.034 Test R2: 0.976\n",
            "Epoch [8/10]. Step [301/387]. MSE: 0.035. R2: 0.967. Test MSE: 0.034 Test R2: 0.976\n",
            "Epoch [9/10]. Step [1/387]. MSE: 0.033. R2: 0.976. Test MSE: 0.034 Test R2: 0.976\n",
            "Epoch [9/10]. Step [151/387]. MSE: 0.033. R2: 0.976. Test MSE: 0.061 Test R2: 0.957\n",
            "Epoch [9/10]. Step [301/387]. MSE: 0.034. R2: 0.982. Test MSE: 0.034 Test R2: 0.976\n",
            "Epoch [10/10]. Step [1/387]. MSE: 0.046. R2: 0.975. Test MSE: 0.035 Test R2: 0.976\n",
            "Epoch [10/10]. Step [151/387]. MSE: 0.032. R2: 0.982. Test MSE: 0.034 Test R2: 0.976\n",
            "Epoch [10/10]. Step [301/387]. MSE: 0.034. R2: 0.969. Test MSE: 0.034 Test R2: 0.976\n",
            "Training is finished!\n"
          ]
        }
      ]
    },
    {
      "cell_type": "markdown",
      "source": [
        "### SGD"
      ],
      "metadata": {
        "id": "cP5bPrz_qJh4"
      }
    },
    {
      "cell_type": "code",
      "source": [
        "model_3 = FeedForward(8, 387)\n",
        "\n",
        "name = 'SGD'\n",
        "optimizer = torch.optim.SGD(model_3.parameters(), lr=0.01)\n",
        "criterion = nn.MSELoss()"
      ],
      "metadata": {
        "id": "Rq9J9YoalKMl"
      },
      "execution_count": 28,
      "outputs": []
    },
    {
      "cell_type": "code",
      "source": [
        "# сохраняем метрику трейна и теста для каждого оптимизатора\n",
        "SGD_train = []\n",
        "SGD_test = []\n",
        "\n",
        "print(f\"{20*'*'} Optimizer {name} {20*'*'}\")\n",
        "\n",
        "num_epochs = 10\n",
        "\n",
        "for epoch in range(num_epochs):  \n",
        "    running_loss, running_items, running_right = 0.0, 0.0, 0.0\n",
        "    for i, data in enumerate(train_loader):\n",
        "        inputs, answers = data[0], data[1]\n",
        "\n",
        "        # обнуляем градиент\n",
        "        optimizer.zero_grad()\n",
        "\n",
        "        outputs = model_3(inputs)\n",
        "        loss = criterion(outputs, answers)\n",
        "        # loss = loss.float()\n",
        "        loss.backward()\n",
        "        optimizer.step()\n",
        "\n",
        "        # выводим статистику о процессе обучения\n",
        "        true_variance = torch.var(answers)\n",
        "        running_loss += loss.item()\n",
        "        running_items += len(answers)\n",
        "        # running_right += (answers == torch.max(outputs, 1)[1]).sum()\n",
        "        \n",
        "        # выводим статистику о процессе обучения\n",
        "        if i % 150 == 0:    # печатаем каждые 300 mini-batches\n",
        "            model_3.eval()\n",
        "            MSE = running_loss / running_items\n",
        "            R2 = 1 - MSE/true_variance\n",
        "            SGD_train.append(MSE)\n",
        "            \n",
        "            print(f'Epoch [{epoch + 1}/{num_epochs}]. ' \\\n",
        "                  f'Step [{i + 1}/{len(train_loader)}]. ' \\\n",
        "                  f'MSE: {MSE:.3f}. ' \\\n",
        "                  f'R2: {R2:.3f}', end='. ')\n",
        "\n",
        "            running_loss, running_items, running_right = 0.0, 0.0, 0.0\n",
        "            test_running_right, test_running_total, loss_test = 0.0, 0.0, 0.0\n",
        "\n",
        "            for i, data in enumerate(test_loader):\n",
        "\n",
        "                inputs_test, answers_test = data[0], data[1]\n",
        "\n",
        "                test_outputs = model_3(inputs_test)\n",
        "                loss_test += criterion(test_outputs.squeeze(), answers_test).item()\n",
        "                test_running_total += len(answers_test)\n",
        "\n",
        "                MSE_test = loss_test / test_running_total\n",
        "                true_variance_test = torch.var(answers_test)\n",
        "\n",
        "                R2_test = 1 - MSE_test/true_variance_test\n",
        "\n",
        "            print(f'Test MSE: {MSE_test:.3f} Test R2: {R2_test:.3f}')\n",
        "            # print(f'')\n",
        "            SGD_test.append(MSE_test)\n",
        "            model_2.train()\n",
        "    \n",
        "print('Training is finished!')"
      ],
      "metadata": {
        "colab": {
          "base_uri": "https://localhost:8080/"
        },
        "id": "lbgm1N7zK90r",
        "outputId": "8da2e05c-2f02-44d6-e32c-d6b068965bca"
      },
      "execution_count": 29,
      "outputs": [
        {
          "output_type": "stream",
          "name": "stdout",
          "text": [
            "******************** Optimizer SGD ********************\n",
            "Epoch [1/10]. Step [1/387]. MSE: 0.107. R2: 0.917. "
          ]
        },
        {
          "output_type": "stream",
          "name": "stderr",
          "text": [
            "/usr/local/lib/python3.7/dist-packages/torch/nn/modules/loss.py:520: UserWarning: Using a target size (torch.Size([40])) that is different to the input size (torch.Size([40, 1])). This will likely lead to incorrect results due to broadcasting. Please ensure they have the same size.\n",
            "  return F.mse_loss(input, target, reduction=self.reduction)\n"
          ]
        },
        {
          "output_type": "stream",
          "name": "stdout",
          "text": [
            "Test MSE: 0.136 Test R2: 0.904\n",
            "Epoch [1/10]. Step [151/387]. MSE: 0.035. R2: 0.977. Test MSE: 0.033 Test R2: 0.976\n",
            "Epoch [1/10]. Step [301/387]. MSE: 0.034. R2: 0.975. Test MSE: 0.033 Test R2: 0.976\n",
            "Epoch [2/10]. Step [1/387]. MSE: 0.044. R2: 0.975. Test MSE: 0.033 Test R2: 0.976\n",
            "Epoch [2/10]. Step [151/387]. MSE: 0.034. R2: 0.973. Test MSE: 0.033 Test R2: 0.976\n",
            "Epoch [2/10]. Step [301/387]. MSE: 0.034. R2: 0.979. Test MSE: 0.033 Test R2: 0.976\n",
            "Epoch [3/10]. Step [1/387]. MSE: 0.041. R2: 0.976. Test MSE: 0.033 Test R2: 0.976\n",
            "Epoch [3/10]. Step [151/387]. MSE: 0.033. R2: 0.976. Test MSE: 0.034 Test R2: 0.976\n",
            "Epoch [3/10]. Step [301/387]. MSE: 0.033. R2: 0.956. Test MSE: 0.033 Test R2: 0.976\n",
            "Epoch [4/10]. Step [1/387]. MSE: 0.027. R2: 0.974. Test MSE: 0.033 Test R2: 0.977\n",
            "Epoch [4/10]. Step [151/387]. MSE: 0.033. R2: 0.970. Test MSE: 0.033 Test R2: 0.976\n",
            "Epoch [4/10]. Step [301/387]. MSE: 0.034. R2: 0.967. Test MSE: 0.033 Test R2: 0.976\n",
            "Epoch [5/10]. Step [1/387]. MSE: 0.046. R2: 0.975. Test MSE: 0.033 Test R2: 0.977\n",
            "Epoch [5/10]. Step [151/387]. MSE: 0.033. R2: 0.970. Test MSE: 0.033 Test R2: 0.976\n",
            "Epoch [5/10]. Step [301/387]. MSE: 0.033. R2: 0.973. Test MSE: 0.033 Test R2: 0.976\n",
            "Epoch [6/10]. Step [1/387]. MSE: 0.039. R2: 0.975. Test MSE: 0.033 Test R2: 0.977\n",
            "Epoch [6/10]. Step [151/387]. MSE: 0.034. R2: 0.973. Test MSE: 0.033 Test R2: 0.977\n",
            "Epoch [6/10]. Step [301/387]. MSE: 0.033. R2: 0.975. Test MSE: 0.033 Test R2: 0.977\n",
            "Epoch [7/10]. Step [1/387]. MSE: 0.026. R2: 0.973. Test MSE: 0.034 Test R2: 0.976\n",
            "Epoch [7/10]. Step [151/387]. MSE: 0.033. R2: 0.979. Test MSE: 0.033 Test R2: 0.977\n",
            "Epoch [7/10]. Step [301/387]. MSE: 0.033. R2: 0.983. Test MSE: 0.033 Test R2: 0.977\n",
            "Epoch [8/10]. Step [1/387]. MSE: 0.030. R2: 0.975. Test MSE: 0.034 Test R2: 0.976\n",
            "Epoch [8/10]. Step [151/387]. MSE: 0.033. R2: 0.973. Test MSE: 0.033 Test R2: 0.977\n",
            "Epoch [8/10]. Step [301/387]. MSE: 0.035. R2: 0.983. Test MSE: 0.033 Test R2: 0.977\n",
            "Epoch [9/10]. Step [1/387]. MSE: 0.020. R2: 0.970. Test MSE: 0.033 Test R2: 0.976\n",
            "Epoch [9/10]. Step [151/387]. MSE: 0.032. R2: 0.973. Test MSE: 0.033 Test R2: 0.977\n",
            "Epoch [9/10]. Step [301/387]. MSE: 0.035. R2: 0.979. Test MSE: 0.035 Test R2: 0.975\n",
            "Epoch [10/10]. Step [1/387]. MSE: 0.041. R2: 0.975. Test MSE: 0.033 Test R2: 0.977\n",
            "Epoch [10/10]. Step [151/387]. MSE: 0.033. R2: 0.976. Test MSE: 0.033 Test R2: 0.977\n",
            "Epoch [10/10]. Step [301/387]. MSE: 0.034. R2: 0.981. Test MSE: 0.033 Test R2: 0.977\n",
            "Training is finished!\n"
          ]
        }
      ]
    },
    {
      "cell_type": "code",
      "source": [
        "plt.figure(figsize=(20,12))\n",
        "\n",
        "x_train = np.arange(len(adam_train))\n",
        "x_test = np.arange(len(adam_test))\n",
        "\n",
        "plt.plot(x_train, adam_train, linestyle='-' , color='#0CA4A5', label='Adam_train')\n",
        "plt.plot(x_test, adam_test, linestyle='--' , color='#0CA4A5', label='Adam_test')\n",
        "\n",
        "plt.plot(x_train[7:], RMSProp_train[7:], linestyle='-' , color='#414770', label='RMSProp_train')\n",
        "plt.plot(x_test[7:], RMSProp_test[7:], linestyle='--' , color='#414770', label='RMSProp_test')\n",
        "\n",
        "plt.plot(x_train, SGD_train, linestyle='-' , color='#F46036', label='SGD_train')\n",
        "plt.plot(x_test, SGD_test, linestyle='--' , color='#F46036', label='SGD_test')\n",
        "\n",
        "plt.legend()\n",
        "\n",
        "plt.plot()"
      ],
      "metadata": {
        "colab": {
          "base_uri": "https://localhost:8080/",
          "height": 717
        },
        "id": "c2hA1E6xU1W9",
        "outputId": "087d77b8-cabe-4801-b76b-de588ba4b516"
      },
      "execution_count": 36,
      "outputs": [
        {
          "output_type": "execute_result",
          "data": {
            "text/plain": [
              "[]"
            ]
          },
          "metadata": {},
          "execution_count": 36
        },
        {
          "output_type": "display_data",
          "data": {
            "text/plain": [
              "<Figure size 1440x864 with 1 Axes>"
            ],
            "image/png": "[encoded data removed]"
          },
          "metadata": {
            "needs_background": "light"
          }
        }
      ]
    },
    {
      "cell_type": "markdown",
      "source": [
        "В целом, все оптимизаторы показывают хороший результат на данном датасете, но SGD быстрее сошелся, у RMSprop и Adam иногда ошибка зашкаливает"
      ],
      "metadata": {
        "id": "yV0FLHu6sJ6u"
      }
    },
    {
      "cell_type": "code",
      "source": [
        ""
      ],
      "metadata": {
        "id": "Jhs3w8w2LPNn"
      },
      "execution_count": null,
      "outputs": []
    }
  ]
}