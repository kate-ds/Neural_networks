{
  "cells": [
    {
      "cell_type": "code",
      "execution_count": 1,
      "metadata": {
        "id": "_CNZn_3CofVO"
      },
      "outputs": [],
      "source": [
        "import torch"
      ]
    },
    {
      "cell_type": "code",
      "execution_count": 2,
      "metadata": {
        "id": "QGYTKAxeofVR",
        "outputId": "16c50416-be70-4a2a-ba1f-07ac052047c9",
        "colab": {
          "base_uri": "https://localhost:8080/"
        }
      },
      "outputs": [
        {
          "output_type": "execute_result",
          "data": {
            "text/plain": [
              "tensor([[[ 0,  8,  9, 21,  7],\n",
              "         [11, 22,  6, 13, 19],\n",
              "         [ 3,  3, 16, 21, 18],\n",
              "         [22, 19,  9, 18, 17]],\n",
              "\n",
              "        [[ 9,  8,  8, 20,  1],\n",
              "         [20, 14, 10,  5,  9],\n",
              "         [12,  7, 22,  8, 19],\n",
              "         [ 3, 22,  9, 14, 12]],\n",
              "\n",
              "        [[ 6, 11,  5, 15, 13],\n",
              "         [11, 11,  1, 11, 20],\n",
              "         [ 1,  2, 20, 11, 12],\n",
              "         [18, 20,  2, 16,  4]]])"
            ]
          },
          "metadata": {},
          "execution_count": 2
        }
      ],
      "source": [
        "# 1. Создайте случайный FloatTensor размера 3x4x5\n",
        "a = torch.randint(25, size=(3,4,5))\n",
        "a"
      ]
    },
    {
      "cell_type": "code",
      "execution_count": 3,
      "metadata": {
        "id": "7GV_q8DdofVV",
        "outputId": "d0d72e3f-560f-4aee-c198-5753989be091",
        "colab": {
          "base_uri": "https://localhost:8080/"
        }
      },
      "outputs": [
        {
          "output_type": "execute_result",
          "data": {
            "text/plain": [
              "torch.Size([3, 4, 5])"
            ]
          },
          "metadata": {},
          "execution_count": 3
        }
      ],
      "source": [
        "# 2. Выведите его форму (shape)\n",
        "a.shape"
      ]
    },
    {
      "cell_type": "code",
      "execution_count": 4,
      "metadata": {
        "id": "f1OTy65FofVX",
        "outputId": "4f4d0487-09e6-4b71-b7db-ee90355b77e6",
        "colab": {
          "base_uri": "https://localhost:8080/"
        }
      },
      "outputs": [
        {
          "output_type": "execute_result",
          "data": {
            "text/plain": [
              "tensor([[ 0,  8,  9, 21,  7, 11, 22,  6, 13, 19],\n",
              "        [ 3,  3, 16, 21, 18, 22, 19,  9, 18, 17],\n",
              "        [ 9,  8,  8, 20,  1, 20, 14, 10,  5,  9],\n",
              "        [12,  7, 22,  8, 19,  3, 22,  9, 14, 12],\n",
              "        [ 6, 11,  5, 15, 13, 11, 11,  1, 11, 20],\n",
              "        [ 1,  2, 20, 11, 12, 18, 20,  2, 16,  4]])"
            ]
          },
          "metadata": {},
          "execution_count": 4
        }
      ],
      "source": [
        "# 3. Приведите его к форме 6х10\n",
        "a = a.reshape(6,10)\n",
        "a"
      ]
    },
    {
      "cell_type": "code",
      "execution_count": 5,
      "metadata": {
        "id": "BEVOv9_TofVe",
        "outputId": "419cb7e3-688d-4813-d9ed-b7007c7720db",
        "colab": {
          "base_uri": "https://localhost:8080/"
        }
      },
      "outputs": [
        {
          "output_type": "execute_result",
          "data": {
            "text/plain": [
              "tensor([ 5, 26,  5, 40, 48, 23, 37,  2, 25,  4])"
            ]
          },
          "metadata": {},
          "execution_count": 5
        }
      ],
      "source": [
        "# 4. Создайте случайный IntTensor размера 10\n",
        "b = torch.randint(50, size=(10,))\n",
        "b"
      ]
    },
    {
      "cell_type": "code",
      "source": [
        "# 5. Умножьте созданный FloatTensor на созданный IntTensor поэлементно\n",
        "\n",
        "c = a * b\n",
        "c"
      ],
      "metadata": {
        "id": "TAX3DUiSa07K",
        "outputId": "6a9d9ac4-122a-4976-f5bf-2de0c98fd12a",
        "colab": {
          "base_uri": "https://localhost:8080/"
        }
      },
      "execution_count": 6,
      "outputs": [
        {
          "output_type": "execute_result",
          "data": {
            "text/plain": [
              "tensor([[  0, 208,  45, 840, 336, 253, 814,  12, 325,  76],\n",
              "        [ 15,  78,  80, 840, 864, 506, 703,  18, 450,  68],\n",
              "        [ 45, 208,  40, 800,  48, 460, 518,  20, 125,  36],\n",
              "        [ 60, 182, 110, 320, 912,  69, 814,  18, 350,  48],\n",
              "        [ 30, 286,  25, 600, 624, 253, 407,   2, 275,  80],\n",
              "        [  5,  52, 100, 440, 576, 414, 740,   4, 400,  16]])"
            ]
          },
          "metadata": {},
          "execution_count": 6
        }
      ]
    },
    {
      "cell_type": "code",
      "execution_count": 7,
      "metadata": {
        "id": "eUxdWlQZofVi",
        "outputId": "b7eabb9b-62a9-43ec-db13-61b602d9d5e5",
        "colab": {
          "base_uri": "https://localhost:8080/"
        }
      },
      "outputs": [
        {
          "output_type": "execute_result",
          "data": {
            "text/plain": [
              "tensor([[1701935, 1867622, 1314825, 1415705, 1265063, 1416818],\n",
              "        [1867622, 2422498, 1389543, 1848908, 1611259, 1790259],\n",
              "        [1314825, 1389543, 1186438,  843962,  936291, 1019105],\n",
              "        [1415705, 1848908,  843962, 1775453, 1266571, 1458642],\n",
              "        [1265063, 1611259,  936291, 1266571, 1144384, 1158156],\n",
              "        [1416818, 1790259, 1019105, 1458642, 1158156, 1417373]])"
            ]
          },
          "metadata": {},
          "execution_count": 7
        }
      ],
      "source": [
        "# 6. Умножьте тензор матрично на себя, чтобы результат был размерности 6x6\n",
        "# Подсказка: .dot может не подойти\n",
        "\n",
        "d = c.matmul(c.T)\n",
        "d"
      ]
    },
    {
      "cell_type": "code",
      "execution_count": 12,
      "metadata": {
        "id": "u3V6CsNkofVj",
        "outputId": "d57b4707-e4ea-41fb-fde2-83b5439add0a",
        "colab": {
          "base_uri": "https://localhost:8080/"
        }
      },
      "outputs": [
        {
          "output_type": "execute_result",
          "data": {
            "text/plain": [
              "tensor([0.0333], grad_fn=<DivBackward0>)"
            ]
          },
          "metadata": {},
          "execution_count": 12
        }
      ],
      "source": [
        "# 7. Посчитайте производную функции y = x**3 + z - 75t в точке (1, 0.5, 2)\n",
        "\n",
        "x = torch.tensor([1.], requires_grad=True)\n",
        "y = torch.tensor([0.5], requires_grad=True)\n",
        "z = torch.tensor([2.], requires_grad=True)\n",
        "\n",
        "t =  (x**3 + z - y) / 75\n",
        "t"
      ]
    },
    {
      "cell_type": "code",
      "execution_count": 10,
      "metadata": {
        "id": "FzH6QkyxofVm",
        "outputId": "2b23f1eb-cd63-402c-d6a8-c1c5068ce1e7",
        "colab": {
          "base_uri": "https://localhost:8080/"
        }
      },
      "outputs": [
        {
          "output_type": "execute_result",
          "data": {
            "text/plain": [
              "tensor([[1., 1., 1., 1., 1., 1.],\n",
              "        [1., 1., 1., 1., 1., 1.],\n",
              "        [1., 1., 1., 1., 1., 1.],\n",
              "        [1., 1., 1., 1., 1., 1.],\n",
              "        [1., 1., 1., 1., 1., 1.]])"
            ]
          },
          "metadata": {},
          "execution_count": 10
        }
      ],
      "source": [
        "# 8. Создайте единичный тензор размера 5x6\n",
        "\n",
        "ones = torch.ones((5,6))\n",
        "ones"
      ]
    },
    {
      "cell_type": "code",
      "execution_count": 14,
      "metadata": {
        "id": "z49ttvWPofVo",
        "outputId": "e4c9c6fb-5a7d-4b30-bb82-f2e208da350b",
        "colab": {
          "base_uri": "https://localhost:8080/"
        }
      },
      "outputs": [
        {
          "output_type": "execute_result",
          "data": {
            "text/plain": [
              "array([[1., 1., 1., 1., 1., 1.],\n",
              "       [1., 1., 1., 1., 1., 1.],\n",
              "       [1., 1., 1., 1., 1., 1.],\n",
              "       [1., 1., 1., 1., 1., 1.],\n",
              "       [1., 1., 1., 1., 1., 1.]], dtype=float32)"
            ]
          },
          "metadata": {},
          "execution_count": 14
        }
      ],
      "source": [
        "# 9. Переведите его в формат numpy\n",
        "\n",
        "np_ones = ones.numpy()\n",
        "np_ones"
      ]
    },
    {
      "cell_type": "code",
      "source": [
        ""
      ],
      "metadata": {
        "id": "EcrhUQIqlo4s"
      },
      "execution_count": null,
      "outputs": []
    }
  ],
  "metadata": {
    "kernelspec": {
      "display_name": "Python 3",
      "language": "python",
      "name": "python3"
    },
    "language_info": {
      "codemirror_mode": {
        "name": "ipython",
        "version": 3
      },
      "file_extension": ".py",
      "mimetype": "text/x-python",
      "name": "python",
      "nbconvert_exporter": "python",
      "pygments_lexer": "ipython3",
      "version": "3.7.4"
    },
    "colab": {
      "name": "HW_1.ipynb",
      "provenance": [],
      "collapsed_sections": []
    }
  },
  "nbformat": 4,
  "nbformat_minor": 0
}